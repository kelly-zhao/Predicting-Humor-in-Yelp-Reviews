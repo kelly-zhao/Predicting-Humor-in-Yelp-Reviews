{
 "cells": [
  {
   "cell_type": "code",
   "execution_count": 67,
   "metadata": {},
   "outputs": [],
   "source": [
    "import pandas as pd\n",
    "import numpy as np\n",
    "import matplotlib.pyplot as plt\n",
    "\n",
    "import string\n",
    "import unicodedata\n",
    "\n",
    "import nltk\n",
    "\n",
    "from nltk.tokenize import sent_tokenize\n",
    "from nltk.tokenize import word_tokenize\n",
    "from nltk.corpus import stopwords\n",
    "from nltk.stem.porter import PorterStemmer\n",
    "from nltk.stem.snowball import SnowballStemmer\n",
    "from nltk.util import ngrams\n",
    "from nltk import pos_tag\n",
    "from nltk import RegexpParser\n",
    "\n",
    "from sklearn.preprocessing import StandardScaler"
   ]
  },
  {
   "cell_type": "code",
   "execution_count": 6,
   "metadata": {},
   "outputs": [
    {
     "name": "stdout",
     "output_type": "stream",
     "text": [
      "\u001b[34mdataset-examples\u001b[m\u001b[m      spark capstone2.ipynb \u001b[34myelp_dataset\u001b[m\u001b[m\r\n",
      "sarc_09-12.csv        viewing data.ipynb\r\n"
     ]
    }
   ],
   "source": [
    "! ls"
   ]
  },
  {
   "cell_type": "markdown",
   "metadata": {},
   "source": [
    "## Load and convert data ##"
   ]
  },
  {
   "cell_type": "code",
   "execution_count": 7,
   "metadata": {},
   "outputs": [],
   "source": [
    "# read in Yelp Reviews\n",
    "  \n",
    "import json\n",
    "\n",
    "data = [json.loads(line) for line in open('yelp_dataset/yelp_academic_dataset_review.json', 'r')]"
   ]
  },
  {
   "cell_type": "code",
   "execution_count": 91,
   "metadata": {},
   "outputs": [],
   "source": [
    "reviews_df = pd.DataFrame(data)"
   ]
  },
  {
   "cell_type": "code",
   "execution_count": 92,
   "metadata": {},
   "outputs": [
    {
     "data": {
      "text/html": [
       "<div>\n",
       "<style scoped>\n",
       "    .dataframe tbody tr th:only-of-type {\n",
       "        vertical-align: middle;\n",
       "    }\n",
       "\n",
       "    .dataframe tbody tr th {\n",
       "        vertical-align: top;\n",
       "    }\n",
       "\n",
       "    .dataframe thead th {\n",
       "        text-align: right;\n",
       "    }\n",
       "</style>\n",
       "<table border=\"1\" class=\"dataframe\">\n",
       "  <thead>\n",
       "    <tr style=\"text-align: right;\">\n",
       "      <th></th>\n",
       "      <th>review_id</th>\n",
       "      <th>user_id</th>\n",
       "      <th>business_id</th>\n",
       "      <th>stars</th>\n",
       "      <th>useful</th>\n",
       "      <th>funny</th>\n",
       "      <th>cool</th>\n",
       "      <th>text</th>\n",
       "      <th>date</th>\n",
       "    </tr>\n",
       "  </thead>\n",
       "  <tbody>\n",
       "    <tr>\n",
       "      <th>0</th>\n",
       "      <td>lWC-xP3rd6obsecCYsGZRg</td>\n",
       "      <td>ak0TdVmGKo4pwqdJSTLwWw</td>\n",
       "      <td>buF9druCkbuXLX526sGELQ</td>\n",
       "      <td>4.0</td>\n",
       "      <td>3</td>\n",
       "      <td>1</td>\n",
       "      <td>1</td>\n",
       "      <td>Apparently Prides Osteria had a rough summer a...</td>\n",
       "      <td>2014-10-11 03:34:02</td>\n",
       "    </tr>\n",
       "    <tr>\n",
       "      <th>1</th>\n",
       "      <td>8bFej1QE5LXp4O05qjGqXA</td>\n",
       "      <td>YoVfDbnISlW0f7abNQACIg</td>\n",
       "      <td>RA4V8pr014UyUbDvI-LW2A</td>\n",
       "      <td>4.0</td>\n",
       "      <td>1</td>\n",
       "      <td>0</td>\n",
       "      <td>0</td>\n",
       "      <td>This store is pretty good. Not as great as Wal...</td>\n",
       "      <td>2015-07-03 20:38:25</td>\n",
       "    </tr>\n",
       "    <tr>\n",
       "      <th>2</th>\n",
       "      <td>NDhkzczKjLshODbqDoNLSg</td>\n",
       "      <td>eC5evKn1TWDyHCyQAwguUw</td>\n",
       "      <td>_sS2LBIGNT5NQb6PD1Vtjw</td>\n",
       "      <td>5.0</td>\n",
       "      <td>0</td>\n",
       "      <td>0</td>\n",
       "      <td>0</td>\n",
       "      <td>I called WVM on the recommendation of a couple...</td>\n",
       "      <td>2013-05-28 20:38:06</td>\n",
       "    </tr>\n",
       "    <tr>\n",
       "      <th>3</th>\n",
       "      <td>T5fAqjjFooT4V0OeZyuk1w</td>\n",
       "      <td>SFQ1jcnGguO0LYWnbbftAA</td>\n",
       "      <td>0AzLzHfOJgL7ROwhdww2ew</td>\n",
       "      <td>2.0</td>\n",
       "      <td>1</td>\n",
       "      <td>1</td>\n",
       "      <td>1</td>\n",
       "      <td>I've stayed at many Marriott and Renaissance M...</td>\n",
       "      <td>2010-01-08 02:29:15</td>\n",
       "    </tr>\n",
       "    <tr>\n",
       "      <th>4</th>\n",
       "      <td>sjm_uUcQVxab_EeLCqsYLg</td>\n",
       "      <td>0kA0PAJ8QFMeveQWHFqz2A</td>\n",
       "      <td>8zehGz9jnxPqXtOc7KaJxA</td>\n",
       "      <td>4.0</td>\n",
       "      <td>0</td>\n",
       "      <td>0</td>\n",
       "      <td>0</td>\n",
       "      <td>The food is always great here. The service fro...</td>\n",
       "      <td>2011-07-28 18:05:01</td>\n",
       "    </tr>\n",
       "  </tbody>\n",
       "</table>\n",
       "</div>"
      ],
      "text/plain": [
       "                review_id                 user_id             business_id  \\\n",
       "0  lWC-xP3rd6obsecCYsGZRg  ak0TdVmGKo4pwqdJSTLwWw  buF9druCkbuXLX526sGELQ   \n",
       "1  8bFej1QE5LXp4O05qjGqXA  YoVfDbnISlW0f7abNQACIg  RA4V8pr014UyUbDvI-LW2A   \n",
       "2  NDhkzczKjLshODbqDoNLSg  eC5evKn1TWDyHCyQAwguUw  _sS2LBIGNT5NQb6PD1Vtjw   \n",
       "3  T5fAqjjFooT4V0OeZyuk1w  SFQ1jcnGguO0LYWnbbftAA  0AzLzHfOJgL7ROwhdww2ew   \n",
       "4  sjm_uUcQVxab_EeLCqsYLg  0kA0PAJ8QFMeveQWHFqz2A  8zehGz9jnxPqXtOc7KaJxA   \n",
       "\n",
       "   stars  useful  funny  cool  \\\n",
       "0    4.0       3      1     1   \n",
       "1    4.0       1      0     0   \n",
       "2    5.0       0      0     0   \n",
       "3    2.0       1      1     1   \n",
       "4    4.0       0      0     0   \n",
       "\n",
       "                                                text                 date  \n",
       "0  Apparently Prides Osteria had a rough summer a...  2014-10-11 03:34:02  \n",
       "1  This store is pretty good. Not as great as Wal...  2015-07-03 20:38:25  \n",
       "2  I called WVM on the recommendation of a couple...  2013-05-28 20:38:06  \n",
       "3  I've stayed at many Marriott and Renaissance M...  2010-01-08 02:29:15  \n",
       "4  The food is always great here. The service fro...  2011-07-28 18:05:01  "
      ]
     },
     "execution_count": 92,
     "metadata": {},
     "output_type": "execute_result"
    }
   ],
   "source": [
    "reviews_df.head()"
   ]
  },
  {
   "cell_type": "code",
   "execution_count": 93,
   "metadata": {},
   "outputs": [
    {
     "data": {
      "text/plain": [
       "8635403"
      ]
     },
     "execution_count": 93,
     "metadata": {},
     "output_type": "execute_result"
    }
   ],
   "source": [
    "len(reviews_df)"
   ]
  },
  {
   "cell_type": "code",
   "execution_count": 95,
   "metadata": {},
   "outputs": [
    {
     "data": {
      "text/plain": [
       "340864"
      ]
     },
     "execution_count": 95,
     "metadata": {},
     "output_type": "execute_result"
    }
   ],
   "source": [
    "# get 200k toy dataframe of balanced funny/not funny reviews\n",
    "\n",
    "len(reviews_df[reviews_df.funny >= 3])"
   ]
  },
  {
   "cell_type": "code",
   "execution_count": 97,
   "metadata": {},
   "outputs": [],
   "source": [
    "funny_df = reviews_df[reviews_df.funny >= 3].sample(n=100000, random_state=1)\n",
    "not_funny_df = reviews_df[reviews_df.funny == 0].sample(n=100000, random_state=1)"
   ]
  },
  {
   "cell_type": "code",
   "execution_count": 98,
   "metadata": {},
   "outputs": [],
   "source": [
    "# save toy datasets to csv\n",
    "\n",
    "funny_df.to_csv('funny.csv')\n",
    "not_funny_df.to_csv('notfunny.csv')"
   ]
  },
  {
   "cell_type": "code",
   "execution_count": 99,
   "metadata": {},
   "outputs": [
    {
     "data": {
      "text/plain": [
       "(200000, 10)"
      ]
     },
     "execution_count": 99,
     "metadata": {},
     "output_type": "execute_result"
    }
   ],
   "source": [
    "# read in and concatenate\n",
    "\n",
    "funny_df = pd.read_csv('funny.csv')\n",
    "not_funny_df = pd.read_csv('notfunny.csv')\n",
    "\n",
    "df = pd.concat([funny_df, not_funny_df]).drop_duplicates('review_id')\n",
    "df.shape"
   ]
  },
  {
   "cell_type": "code",
   "execution_count": 100,
   "metadata": {},
   "outputs": [],
   "source": [
    "df = df.drop(['Unnamed: 0'], axis = 1)"
   ]
  },
  {
   "cell_type": "code",
   "execution_count": 101,
   "metadata": {
    "scrolled": true
   },
   "outputs": [
    {
     "data": {
      "text/html": [
       "<div>\n",
       "<style scoped>\n",
       "    .dataframe tbody tr th:only-of-type {\n",
       "        vertical-align: middle;\n",
       "    }\n",
       "\n",
       "    .dataframe tbody tr th {\n",
       "        vertical-align: top;\n",
       "    }\n",
       "\n",
       "    .dataframe thead th {\n",
       "        text-align: right;\n",
       "    }\n",
       "</style>\n",
       "<table border=\"1\" class=\"dataframe\">\n",
       "  <thead>\n",
       "    <tr style=\"text-align: right;\">\n",
       "      <th></th>\n",
       "      <th>review_id</th>\n",
       "      <th>user_id</th>\n",
       "      <th>business_id</th>\n",
       "      <th>stars</th>\n",
       "      <th>useful</th>\n",
       "      <th>funny</th>\n",
       "      <th>cool</th>\n",
       "      <th>text</th>\n",
       "      <th>date</th>\n",
       "    </tr>\n",
       "  </thead>\n",
       "  <tbody>\n",
       "    <tr>\n",
       "      <th>0</th>\n",
       "      <td>DEECPhn5tNBKbuaOeIcd2w</td>\n",
       "      <td>CwBh8Fmr07jFYBKZ2p6Mqg</td>\n",
       "      <td>iNsMwBxFXcP7QvB3994mgA</td>\n",
       "      <td>5.0</td>\n",
       "      <td>3</td>\n",
       "      <td>4</td>\n",
       "      <td>4</td>\n",
       "      <td>A scavenger hunt was hosted by the Paramount r...</td>\n",
       "      <td>2009-07-31 02:33:55</td>\n",
       "    </tr>\n",
       "    <tr>\n",
       "      <th>1</th>\n",
       "      <td>Ja7ZM1i_gYFXmxrkJPEPlA</td>\n",
       "      <td>ncIHRw4Vx3Wh9mZhLZxB7g</td>\n",
       "      <td>dgprzdonZcF7PPt-hkUkag</td>\n",
       "      <td>5.0</td>\n",
       "      <td>15</td>\n",
       "      <td>3</td>\n",
       "      <td>6</td>\n",
       "      <td>The Pretty Kitty has 20 locations throughout t...</td>\n",
       "      <td>2015-08-04 00:01:50</td>\n",
       "    </tr>\n",
       "    <tr>\n",
       "      <th>2</th>\n",
       "      <td>9E8ZAppLWtL0oJYRbFmOFQ</td>\n",
       "      <td>mdP18-vCtV9nu8DT2Bk6lA</td>\n",
       "      <td>gYuTx4cB_5UutuWIGusmUQ</td>\n",
       "      <td>5.0</td>\n",
       "      <td>14</td>\n",
       "      <td>6</td>\n",
       "      <td>9</td>\n",
       "      <td>After a very productive business meeting this ...</td>\n",
       "      <td>2018-10-15 13:49:54</td>\n",
       "    </tr>\n",
       "    <tr>\n",
       "      <th>3</th>\n",
       "      <td>MHBTWs3E8bKR80SOpcelWw</td>\n",
       "      <td>fV4Y0rKuJaahlNfjCH3vfw</td>\n",
       "      <td>ZM3Y7pPuKu67Q_FOLqGx7A</td>\n",
       "      <td>4.0</td>\n",
       "      <td>1</td>\n",
       "      <td>4</td>\n",
       "      <td>0</td>\n",
       "      <td>I called in advance to be sure that they had t...</td>\n",
       "      <td>2012-08-25 01:39:58</td>\n",
       "    </tr>\n",
       "    <tr>\n",
       "      <th>4</th>\n",
       "      <td>EcvcH3hHuzlXqG79nIag0w</td>\n",
       "      <td>ys3M-lvO7wCYkhCbqSVCfA</td>\n",
       "      <td>p8ohzzGvGRCHnJKnyO7exA</td>\n",
       "      <td>4.0</td>\n",
       "      <td>0</td>\n",
       "      <td>4</td>\n",
       "      <td>0</td>\n",
       "      <td>Eastern Standard reminds me of that scene in S...</td>\n",
       "      <td>2014-11-08 23:22:35</td>\n",
       "    </tr>\n",
       "    <tr>\n",
       "      <th>...</th>\n",
       "      <td>...</td>\n",
       "      <td>...</td>\n",
       "      <td>...</td>\n",
       "      <td>...</td>\n",
       "      <td>...</td>\n",
       "      <td>...</td>\n",
       "      <td>...</td>\n",
       "      <td>...</td>\n",
       "      <td>...</td>\n",
       "    </tr>\n",
       "    <tr>\n",
       "      <th>199995</th>\n",
       "      <td>IT0R9rk2Z2CzV0bFQw8Owg</td>\n",
       "      <td>eVILQOWgDcJ-Fj-YbGKUnQ</td>\n",
       "      <td>YQGPI7PvX01FUgjlLbpMuw</td>\n",
       "      <td>5.0</td>\n",
       "      <td>0</td>\n",
       "      <td>0</td>\n",
       "      <td>0</td>\n",
       "      <td>This restaurant is AMAZING! The food, the serv...</td>\n",
       "      <td>2021-01-19 01:33:29</td>\n",
       "    </tr>\n",
       "    <tr>\n",
       "      <th>199996</th>\n",
       "      <td>7LN9HbMsl50uB3idG0cq2A</td>\n",
       "      <td>8O6M8da54DRiXczteMNkUw</td>\n",
       "      <td>f08CbQMvYX2TMmYND7rMHA</td>\n",
       "      <td>5.0</td>\n",
       "      <td>0</td>\n",
       "      <td>0</td>\n",
       "      <td>0</td>\n",
       "      <td>Look. If you want a place that is decent with ...</td>\n",
       "      <td>2020-05-31 01:51:47</td>\n",
       "    </tr>\n",
       "    <tr>\n",
       "      <th>199997</th>\n",
       "      <td>nSBxAx1l6oCbjAR8dVnV7A</td>\n",
       "      <td>FaDFbRDYL3f4vLc7ALhX-g</td>\n",
       "      <td>drmZouioJ13G_vGcpdmOwg</td>\n",
       "      <td>4.0</td>\n",
       "      <td>0</td>\n",
       "      <td>0</td>\n",
       "      <td>0</td>\n",
       "      <td>Newsflash: A nearly once-in-a-lifetime event i...</td>\n",
       "      <td>2017-07-01 22:15:27</td>\n",
       "    </tr>\n",
       "    <tr>\n",
       "      <th>199998</th>\n",
       "      <td>lJwInWxgS8fcN61v06yjdg</td>\n",
       "      <td>00E-ktOYmjPdE8owupjC8A</td>\n",
       "      <td>4U2bhcleBtWAWNNt9jhjbA</td>\n",
       "      <td>5.0</td>\n",
       "      <td>1</td>\n",
       "      <td>0</td>\n",
       "      <td>1</td>\n",
       "      <td>Nick Dew deserves 5 stars! One of the best wai...</td>\n",
       "      <td>2019-01-05 00:56:06</td>\n",
       "    </tr>\n",
       "    <tr>\n",
       "      <th>199999</th>\n",
       "      <td>-vHc19q1bZR7u0vNYIhTxg</td>\n",
       "      <td>20NcpGeuAf-lWLdRVSWI1Q</td>\n",
       "      <td>eEl12LtY6uhEKex1xeAb8w</td>\n",
       "      <td>5.0</td>\n",
       "      <td>0</td>\n",
       "      <td>0</td>\n",
       "      <td>0</td>\n",
       "      <td>Very clean facility very nice staff listen to ...</td>\n",
       "      <td>2018-05-09 00:22:50</td>\n",
       "    </tr>\n",
       "  </tbody>\n",
       "</table>\n",
       "<p>200000 rows × 9 columns</p>\n",
       "</div>"
      ],
      "text/plain": [
       "                     review_id                 user_id  \\\n",
       "0       DEECPhn5tNBKbuaOeIcd2w  CwBh8Fmr07jFYBKZ2p6Mqg   \n",
       "1       Ja7ZM1i_gYFXmxrkJPEPlA  ncIHRw4Vx3Wh9mZhLZxB7g   \n",
       "2       9E8ZAppLWtL0oJYRbFmOFQ  mdP18-vCtV9nu8DT2Bk6lA   \n",
       "3       MHBTWs3E8bKR80SOpcelWw  fV4Y0rKuJaahlNfjCH3vfw   \n",
       "4       EcvcH3hHuzlXqG79nIag0w  ys3M-lvO7wCYkhCbqSVCfA   \n",
       "...                        ...                     ...   \n",
       "199995  IT0R9rk2Z2CzV0bFQw8Owg  eVILQOWgDcJ-Fj-YbGKUnQ   \n",
       "199996  7LN9HbMsl50uB3idG0cq2A  8O6M8da54DRiXczteMNkUw   \n",
       "199997  nSBxAx1l6oCbjAR8dVnV7A  FaDFbRDYL3f4vLc7ALhX-g   \n",
       "199998  lJwInWxgS8fcN61v06yjdg  00E-ktOYmjPdE8owupjC8A   \n",
       "199999  -vHc19q1bZR7u0vNYIhTxg  20NcpGeuAf-lWLdRVSWI1Q   \n",
       "\n",
       "                   business_id  stars  useful  funny  cool  \\\n",
       "0       iNsMwBxFXcP7QvB3994mgA    5.0       3      4     4   \n",
       "1       dgprzdonZcF7PPt-hkUkag    5.0      15      3     6   \n",
       "2       gYuTx4cB_5UutuWIGusmUQ    5.0      14      6     9   \n",
       "3       ZM3Y7pPuKu67Q_FOLqGx7A    4.0       1      4     0   \n",
       "4       p8ohzzGvGRCHnJKnyO7exA    4.0       0      4     0   \n",
       "...                        ...    ...     ...    ...   ...   \n",
       "199995  YQGPI7PvX01FUgjlLbpMuw    5.0       0      0     0   \n",
       "199996  f08CbQMvYX2TMmYND7rMHA    5.0       0      0     0   \n",
       "199997  drmZouioJ13G_vGcpdmOwg    4.0       0      0     0   \n",
       "199998  4U2bhcleBtWAWNNt9jhjbA    5.0       1      0     1   \n",
       "199999  eEl12LtY6uhEKex1xeAb8w    5.0       0      0     0   \n",
       "\n",
       "                                                     text                 date  \n",
       "0       A scavenger hunt was hosted by the Paramount r...  2009-07-31 02:33:55  \n",
       "1       The Pretty Kitty has 20 locations throughout t...  2015-08-04 00:01:50  \n",
       "2       After a very productive business meeting this ...  2018-10-15 13:49:54  \n",
       "3       I called in advance to be sure that they had t...  2012-08-25 01:39:58  \n",
       "4       Eastern Standard reminds me of that scene in S...  2014-11-08 23:22:35  \n",
       "...                                                   ...                  ...  \n",
       "199995  This restaurant is AMAZING! The food, the serv...  2021-01-19 01:33:29  \n",
       "199996  Look. If you want a place that is decent with ...  2020-05-31 01:51:47  \n",
       "199997  Newsflash: A nearly once-in-a-lifetime event i...  2017-07-01 22:15:27  \n",
       "199998  Nick Dew deserves 5 stars! One of the best wai...  2019-01-05 00:56:06  \n",
       "199999  Very clean facility very nice staff listen to ...  2018-05-09 00:22:50  \n",
       "\n",
       "[200000 rows x 9 columns]"
      ]
     },
     "execution_count": 101,
     "metadata": {},
     "output_type": "execute_result"
    }
   ],
   "source": [
    "df.reset_index(drop=True)"
   ]
  },
  {
   "cell_type": "code",
   "execution_count": 69,
   "metadata": {},
   "outputs": [
    {
     "name": "stdout",
     "output_type": "stream",
     "text": [
      "{'review_id': 'lWC-xP3rd6obsecCYsGZRg', 'user_id': 'ak0TdVmGKo4pwqdJSTLwWw', 'business_id': 'buF9druCkbuXLX526sGELQ', 'stars': 4.0, 'useful': 3, 'funny': 1, 'cool': 1, 'text': \"Apparently Prides Osteria had a rough summer as evidenced by the almost empty dining room at 6:30 on a Friday night. However new blood in the kitchen seems to have revitalized the food from other customers recent visits. Waitstaff was warm but unobtrusive. By 8 pm or so when we left the bar was full and the dining room was much more lively than it had been. Perhaps Beverly residents prefer a later seating. \\n\\nAfter reading the mixed reviews of late I was a little tentative over our choice but luckily there was nothing to worry about in the food department. We started with the fried dough, burrata and prosciutto which were all lovely. Then although they don't offer half portions of pasta we each ordered the entree size and split them. We chose the tagliatelle bolognese and a four cheese filled pasta in a creamy sauce with bacon, asparagus and grana frita. Both were very good. We split a secondi which was the special Berkshire pork secreto, which was described as a pork skirt steak with garlic potato purée and romanesco broccoli (incorrectly described as a romanesco sauce). Some tables received bread before the meal but for some reason we did not. \\n\\nManagement also seems capable for when the tenants in the apartment above began playing basketball she intervened and also comped the tables a dessert. We ordered the apple dumpling with gelato and it was also quite tasty. Portions are not huge which I particularly like because I prefer to order courses. If you are someone who orders just a meal you may leave hungry depending on you appetite. Dining room was mostly younger crowd while the bar was definitely the over 40 set. Would recommend that the naysayers return to see the improvement although I personally don't know the former glory to be able to compare. Easy access to downtown Salem without the crowds on this month of October.\", 'date': '2014-10-11 03:34:02'}\n",
      "\n",
      "Total reviews: 8635403\n",
      "Funny reviews: 340864\n",
      "Normal reviews: 8294539\n"
     ]
    }
   ],
   "source": [
    "## another way without using dataframe\n",
    "## filtering for reviews where at least 3 funny votes\n",
    "\n",
    "total = 0\n",
    "num_funny = 0\n",
    "funny_threshold = 3\n",
    "\n",
    "with open('yelp_dataset/yelp_academic_dataset_review.json') as f:\n",
    "    for line in f:\n",
    "        total += 1\n",
    "        reviews = json.loads(line)\n",
    "        if total == 1:\n",
    "            # Let's print the very first review, just to see what it looks like\n",
    "            print(reviews)\n",
    "        if reviews['funny'] >= funny_threshold:\n",
    "            num_funny += 1\n",
    "            \n",
    "print('\\nTotal reviews: %d\\nFunny reviews: %d\\nNormal reviews: %d' % (total, num_funny, total - num_funny))"
   ]
  },
  {
   "cell_type": "code",
   "execution_count": 81,
   "metadata": {},
   "outputs": [],
   "source": [
    "## change count to more if time\n",
    "\n",
    "funny = []\n",
    "not_funny = []\n",
    "\n",
    "count = 100000\n",
    "funny_threshold = 3\n",
    "raw_data_path = 'yelp_dataset/yelp_academic_dataset_review.json'\n",
    "\n",
    "with open(raw_data_path) as file:\n",
    "    for line in file:\n",
    "        # Break when we've created a balanced dataset with count reviews in each category\n",
    "        if len(funny) == count and len(not_funny) == count:\n",
    "            break\n",
    "                    \n",
    "        sample = {}\n",
    "        reviews = json.loads(line)\n",
    "        sample['text'] = reviews['text']\n",
    "                    \n",
    "        if reviews['funny'] >= funny_threshold and len(funny) < count:\n",
    "            sample['label'] = 1\n",
    "            funny.append(sample)\n",
    "        elif reviews['funny'] < funny_threshold and len(not_funny) < count:\n",
    "            sample['label'] = 0\n",
    "            not_funny.append(sample)\n",
    "                    "
   ]
  },
  {
   "cell_type": "code",
   "execution_count": 82,
   "metadata": {},
   "outputs": [],
   "source": [
    "reviews = funny + not_funny"
   ]
  },
  {
   "cell_type": "code",
   "execution_count": 89,
   "metadata": {},
   "outputs": [
    {
     "data": {
      "text/plain": [
       "list"
      ]
     },
     "execution_count": 89,
     "metadata": {},
     "output_type": "execute_result"
    }
   ],
   "source": [
    "type(reviews)"
   ]
  },
  {
   "cell_type": "markdown",
   "metadata": {},
   "source": [
    "## Text Processing Pipeline ##"
   ]
  },
  {
   "cell_type": "code",
   "execution_count": 61,
   "metadata": {},
   "outputs": [],
   "source": [
    "# Defining Humor\n",
    "# First pass we define a review as funny if it has at least 1 funny vote. May want to revisit this to see\n",
    "# if reviews are actually funny or not\n",
    "\n",
    "from nltk.tokenize import word_tokenize\n",
    "import spacy\n"
   ]
  },
  {
   "cell_type": "code",
   "execution_count": 63,
   "metadata": {},
   "outputs": [
    {
     "name": "stderr",
     "output_type": "stream",
     "text": [
      "<ipython-input-63-2e77e8e88f66>:4: SettingWithCopyWarning: \n",
      "A value is trying to be set on a copy of a slice from a DataFrame.\n",
      "Try using .loc[row_indexer,col_indexer] = value instead\n",
      "\n",
      "See the caveats in the documentation: https://pandas.pydata.org/pandas-docs/stable/user_guide/indexing.html#returning-a-view-versus-a-copy\n",
      "  new_df['funny or not'] = (df.funny != 0).astype(int)\n"
     ]
    }
   ],
   "source": [
    "# new df\n",
    "\n",
    "new_df = df[['text', 'funny']]\n",
    "new_df['funny or not'] = (df.funny != 0).astype(int)\n"
   ]
  },
  {
   "cell_type": "code",
   "execution_count": 64,
   "metadata": {},
   "outputs": [],
   "source": [
    "new_df = new_df.drop(columns='funny')"
   ]
  },
  {
   "cell_type": "code",
   "execution_count": null,
   "metadata": {},
   "outputs": [],
   "source": []
  },
  {
   "cell_type": "code",
   "execution_count": null,
   "metadata": {},
   "outputs": [],
   "source": [
    "# Tokenization (don't filter stopwords or punctuation as these may contribute to humor)\n",
    "\n",
    "# remove accents and lowercase\n",
    "\n",
    "\n",
    "\n",
    "tokens_lower = [[word.lower() for word in sent]\n",
    "                 for sent in tokens]"
   ]
  },
  {
   "cell_type": "code",
   "execution_count": null,
   "metadata": {},
   "outputs": [],
   "source": [
    "# lemmatization\n",
    "\n"
   ]
  },
  {
   "cell_type": "code",
   "execution_count": null,
   "metadata": {},
   "outputs": [],
   "source": [
    "# normalize data\n"
   ]
  },
  {
   "cell_type": "code",
   "execution_count": null,
   "metadata": {},
   "outputs": [],
   "source": [
    "# bag of words, max features 500\n",
    "\n"
   ]
  },
  {
   "cell_type": "code",
   "execution_count": null,
   "metadata": {},
   "outputs": [],
   "source": [
    "# count vectorization, TF-IDF\n",
    "\n"
   ]
  },
  {
   "cell_type": "code",
   "execution_count": null,
   "metadata": {},
   "outputs": [],
   "source": [
    "# latent semantic analysis\n"
   ]
  },
  {
   "cell_type": "markdown",
   "metadata": {},
   "source": [
    "## Exploratory Data Analysis ##"
   ]
  },
  {
   "cell_type": "code",
   "execution_count": null,
   "metadata": {},
   "outputs": [],
   "source": []
  },
  {
   "cell_type": "markdown",
   "metadata": {},
   "source": [
    "## Modeling ##"
   ]
  },
  {
   "cell_type": "code",
   "execution_count": null,
   "metadata": {},
   "outputs": [],
   "source": [
    "# Recurrent Neural Network\n",
    "\n"
   ]
  }
 ],
 "metadata": {
  "kernelspec": {
   "display_name": "Python 3",
   "language": "python",
   "name": "python3"
  },
  "language_info": {
   "codemirror_mode": {
    "name": "ipython",
    "version": 3
   },
   "file_extension": ".py",
   "mimetype": "text/x-python",
   "name": "python",
   "nbconvert_exporter": "python",
   "pygments_lexer": "ipython3",
   "version": "3.8.5"
  }
 },
 "nbformat": 4,
 "nbformat_minor": 4
}
