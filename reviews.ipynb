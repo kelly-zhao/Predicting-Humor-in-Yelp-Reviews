{
 "cells": [
  {
   "cell_type": "code",
   "execution_count": 697,
   "metadata": {},
   "outputs": [],
   "source": [
    "import pandas as pd\n",
    "import numpy as np\n",
    "import matplotlib.pyplot as plt\n",
    "import seaborn as sns\n",
    "plt.style.use(\"ggplot\")\n",
    "%matplotlib inline\n",
    "\n",
    "import string\n",
    "import unicodedata\n",
    "\n",
    "import json\n",
    "import nltk\n",
    "from collections import Counter\n",
    "\n",
    "from nltk.tokenize import sent_tokenize\n",
    "from nltk.tokenize import word_tokenize\n",
    "from nltk.corpus import stopwords\n",
    "from nltk.stem.porter import PorterStemmer\n",
    "from nltk.stem.snowball import SnowballStemmer\n",
    "from nltk.util import ngrams\n",
    "from nltk import pos_tag\n",
    "from nltk import RegexpParser\n",
    "\n",
    "from sklearn.model_selection import train_test_split, KFold\n",
    "from sklearn.preprocessing import StandardScaler\n",
    "from sklearn.feature_extraction.text import CountVectorizer, TfidfVectorizer\n",
    "from sklearn.linear_model import LogisticRegression\n",
    "from sklearn.ensemble import RandomForestClassifier, GradientBoostingClassifier\n",
    "from sklearn.naive_bayes import MultinomialNB\n",
    "from sklearn.metrics import confusion_matrix, precision_score, recall_score, accuracy_score, roc_curve, auc"
   ]
  },
  {
   "cell_type": "code",
   "execution_count": 623,
   "metadata": {},
   "outputs": [
    {
     "name": "stdout",
     "output_type": "stream",
     "text": [
      "README.md             mymodels.py           spark capstone2.ipynb\r\n",
      "\u001b[34m__pycache__\u001b[m\u001b[m           notfunny.csv          unused.py\r\n",
      "funny.csv             reviews.ipynb         \u001b[34myelp_dataset\u001b[m\u001b[m\r\n",
      "funnyhist.png         roc_curve.py\r\n"
     ]
    }
   ],
   "source": [
    "! ls"
   ]
  },
  {
   "cell_type": "markdown",
   "metadata": {},
   "source": [
    "## Load and convert data ##"
   ]
  },
  {
   "cell_type": "code",
   "execution_count": 491,
   "metadata": {},
   "outputs": [],
   "source": [
    "# read in Yelp Reviews\n",
    "  \n",
    "data = [json.loads(line) for line in open('yelp_dataset/yelp_academic_dataset_review.json', 'r')]"
   ]
  },
  {
   "cell_type": "code",
   "execution_count": 493,
   "metadata": {},
   "outputs": [],
   "source": [
    "reviews_df = pd.DataFrame(data)"
   ]
  },
  {
   "cell_type": "code",
   "execution_count": 494,
   "metadata": {},
   "outputs": [
    {
     "data": {
      "text/html": [
       "<div>\n",
       "<style scoped>\n",
       "    .dataframe tbody tr th:only-of-type {\n",
       "        vertical-align: middle;\n",
       "    }\n",
       "\n",
       "    .dataframe tbody tr th {\n",
       "        vertical-align: top;\n",
       "    }\n",
       "\n",
       "    .dataframe thead th {\n",
       "        text-align: right;\n",
       "    }\n",
       "</style>\n",
       "<table border=\"1\" class=\"dataframe\">\n",
       "  <thead>\n",
       "    <tr style=\"text-align: right;\">\n",
       "      <th></th>\n",
       "      <th>review_id</th>\n",
       "      <th>user_id</th>\n",
       "      <th>business_id</th>\n",
       "      <th>stars</th>\n",
       "      <th>useful</th>\n",
       "      <th>funny</th>\n",
       "      <th>cool</th>\n",
       "      <th>text</th>\n",
       "      <th>date</th>\n",
       "    </tr>\n",
       "  </thead>\n",
       "  <tbody>\n",
       "    <tr>\n",
       "      <th>0</th>\n",
       "      <td>lWC-xP3rd6obsecCYsGZRg</td>\n",
       "      <td>ak0TdVmGKo4pwqdJSTLwWw</td>\n",
       "      <td>buF9druCkbuXLX526sGELQ</td>\n",
       "      <td>4.0</td>\n",
       "      <td>3</td>\n",
       "      <td>1</td>\n",
       "      <td>1</td>\n",
       "      <td>Apparently Prides Osteria had a rough summer a...</td>\n",
       "      <td>2014-10-11 03:34:02</td>\n",
       "    </tr>\n",
       "    <tr>\n",
       "      <th>1</th>\n",
       "      <td>8bFej1QE5LXp4O05qjGqXA</td>\n",
       "      <td>YoVfDbnISlW0f7abNQACIg</td>\n",
       "      <td>RA4V8pr014UyUbDvI-LW2A</td>\n",
       "      <td>4.0</td>\n",
       "      <td>1</td>\n",
       "      <td>0</td>\n",
       "      <td>0</td>\n",
       "      <td>This store is pretty good. Not as great as Wal...</td>\n",
       "      <td>2015-07-03 20:38:25</td>\n",
       "    </tr>\n",
       "    <tr>\n",
       "      <th>2</th>\n",
       "      <td>NDhkzczKjLshODbqDoNLSg</td>\n",
       "      <td>eC5evKn1TWDyHCyQAwguUw</td>\n",
       "      <td>_sS2LBIGNT5NQb6PD1Vtjw</td>\n",
       "      <td>5.0</td>\n",
       "      <td>0</td>\n",
       "      <td>0</td>\n",
       "      <td>0</td>\n",
       "      <td>I called WVM on the recommendation of a couple...</td>\n",
       "      <td>2013-05-28 20:38:06</td>\n",
       "    </tr>\n",
       "    <tr>\n",
       "      <th>3</th>\n",
       "      <td>T5fAqjjFooT4V0OeZyuk1w</td>\n",
       "      <td>SFQ1jcnGguO0LYWnbbftAA</td>\n",
       "      <td>0AzLzHfOJgL7ROwhdww2ew</td>\n",
       "      <td>2.0</td>\n",
       "      <td>1</td>\n",
       "      <td>1</td>\n",
       "      <td>1</td>\n",
       "      <td>I've stayed at many Marriott and Renaissance M...</td>\n",
       "      <td>2010-01-08 02:29:15</td>\n",
       "    </tr>\n",
       "    <tr>\n",
       "      <th>4</th>\n",
       "      <td>sjm_uUcQVxab_EeLCqsYLg</td>\n",
       "      <td>0kA0PAJ8QFMeveQWHFqz2A</td>\n",
       "      <td>8zehGz9jnxPqXtOc7KaJxA</td>\n",
       "      <td>4.0</td>\n",
       "      <td>0</td>\n",
       "      <td>0</td>\n",
       "      <td>0</td>\n",
       "      <td>The food is always great here. The service fro...</td>\n",
       "      <td>2011-07-28 18:05:01</td>\n",
       "    </tr>\n",
       "  </tbody>\n",
       "</table>\n",
       "</div>"
      ],
      "text/plain": [
       "                review_id                 user_id             business_id  \\\n",
       "0  lWC-xP3rd6obsecCYsGZRg  ak0TdVmGKo4pwqdJSTLwWw  buF9druCkbuXLX526sGELQ   \n",
       "1  8bFej1QE5LXp4O05qjGqXA  YoVfDbnISlW0f7abNQACIg  RA4V8pr014UyUbDvI-LW2A   \n",
       "2  NDhkzczKjLshODbqDoNLSg  eC5evKn1TWDyHCyQAwguUw  _sS2LBIGNT5NQb6PD1Vtjw   \n",
       "3  T5fAqjjFooT4V0OeZyuk1w  SFQ1jcnGguO0LYWnbbftAA  0AzLzHfOJgL7ROwhdww2ew   \n",
       "4  sjm_uUcQVxab_EeLCqsYLg  0kA0PAJ8QFMeveQWHFqz2A  8zehGz9jnxPqXtOc7KaJxA   \n",
       "\n",
       "   stars  useful  funny  cool  \\\n",
       "0    4.0       3      1     1   \n",
       "1    4.0       1      0     0   \n",
       "2    5.0       0      0     0   \n",
       "3    2.0       1      1     1   \n",
       "4    4.0       0      0     0   \n",
       "\n",
       "                                                text                 date  \n",
       "0  Apparently Prides Osteria had a rough summer a...  2014-10-11 03:34:02  \n",
       "1  This store is pretty good. Not as great as Wal...  2015-07-03 20:38:25  \n",
       "2  I called WVM on the recommendation of a couple...  2013-05-28 20:38:06  \n",
       "3  I've stayed at many Marriott and Renaissance M...  2010-01-08 02:29:15  \n",
       "4  The food is always great here. The service fro...  2011-07-28 18:05:01  "
      ]
     },
     "execution_count": 494,
     "metadata": {},
     "output_type": "execute_result"
    }
   ],
   "source": [
    "reviews_df.head()"
   ]
  },
  {
   "cell_type": "code",
   "execution_count": 495,
   "metadata": {},
   "outputs": [
    {
     "data": {
      "text/plain": [
       "8635403"
      ]
     },
     "execution_count": 495,
     "metadata": {},
     "output_type": "execute_result"
    }
   ],
   "source": [
    "len(reviews_df)"
   ]
  },
  {
   "cell_type": "code",
   "execution_count": 496,
   "metadata": {},
   "outputs": [
    {
     "data": {
      "text/plain": [
       "340864"
      ]
     },
     "execution_count": 496,
     "metadata": {},
     "output_type": "execute_result"
    }
   ],
   "source": [
    "# get 200k dataframe of balanced funny/not funny reviews\n",
    "\n",
    "len(reviews_df[reviews_df.funny >= 3])"
   ]
  },
  {
   "cell_type": "code",
   "execution_count": 497,
   "metadata": {},
   "outputs": [],
   "source": [
    "funny_df = reviews_df[reviews_df.funny >= 3].sample(n=100000, random_state=1)\n",
    "not_funny_df = reviews_df[reviews_df.funny < 3].sample(n=100000, random_state=1)"
   ]
  },
  {
   "cell_type": "code",
   "execution_count": 498,
   "metadata": {},
   "outputs": [],
   "source": [
    "# save datasets to csv\n",
    "\n",
    "funny_df.to_csv('funny.csv')\n",
    "not_funny_df.to_csv('notfunny.csv')"
   ]
  },
  {
   "cell_type": "code",
   "execution_count": 499,
   "metadata": {},
   "outputs": [
    {
     "data": {
      "text/plain": [
       "(200000, 10)"
      ]
     },
     "execution_count": 499,
     "metadata": {},
     "output_type": "execute_result"
    }
   ],
   "source": [
    "# read in and concatenate\n",
    "\n",
    "funny_df = pd.read_csv('funny.csv')\n",
    "not_funny_df = pd.read_csv('notfunny.csv')\n",
    "\n",
    "df = pd.concat([funny_df, not_funny_df]).drop_duplicates('review_id')\n",
    "df.shape"
   ]
  },
  {
   "cell_type": "code",
   "execution_count": 500,
   "metadata": {},
   "outputs": [],
   "source": [
    "df = df.drop(['Unnamed: 0'], axis = 1)"
   ]
  },
  {
   "cell_type": "code",
   "execution_count": 501,
   "metadata": {
    "scrolled": true
   },
   "outputs": [],
   "source": [
    "df = df.reset_index(drop=True)"
   ]
  },
  {
   "cell_type": "code",
   "execution_count": 502,
   "metadata": {},
   "outputs": [
    {
     "data": {
      "text/plain": [
       "0         A scavenger hunt was hosted by the Paramount r...\n",
       "1         The Pretty Kitty has 20 locations throughout t...\n",
       "2         After a very productive business meeting this ...\n",
       "3         I called in advance to be sure that they had t...\n",
       "4         Eastern Standard reminds me of that scene in S...\n",
       "                                ...                        \n",
       "199995    Very mediocre korean food but great if you're ...\n",
       "199996    Horrible, I sat at the drive up ordering thing...\n",
       "199997    COULDN'T BE HAPPIER!  I just got my second tat...\n",
       "199998    Pizza that's a commodity. They make a certain ...\n",
       "199999    Very consistent the best coffee good sandwiche...\n",
       "Name: text, Length: 200000, dtype: object"
      ]
     },
     "execution_count": 502,
     "metadata": {},
     "output_type": "execute_result"
    }
   ],
   "source": [
    "df.text"
   ]
  },
  {
   "cell_type": "code",
   "execution_count": 7,
   "metadata": {},
   "outputs": [
    {
     "data": {
      "text/html": [
       "<div>\n",
       "<style scoped>\n",
       "    .dataframe tbody tr th:only-of-type {\n",
       "        vertical-align: middle;\n",
       "    }\n",
       "\n",
       "    .dataframe tbody tr th {\n",
       "        vertical-align: top;\n",
       "    }\n",
       "\n",
       "    .dataframe thead th {\n",
       "        text-align: right;\n",
       "    }\n",
       "</style>\n",
       "<table border=\"1\" class=\"dataframe\">\n",
       "  <thead>\n",
       "    <tr style=\"text-align: right;\">\n",
       "      <th></th>\n",
       "      <th>review_id</th>\n",
       "      <th>user_id</th>\n",
       "      <th>business_id</th>\n",
       "      <th>stars</th>\n",
       "      <th>useful</th>\n",
       "      <th>funny</th>\n",
       "      <th>cool</th>\n",
       "      <th>text</th>\n",
       "      <th>date</th>\n",
       "    </tr>\n",
       "  </thead>\n",
       "  <tbody>\n",
       "    <tr>\n",
       "      <th>0</th>\n",
       "      <td>DEECPhn5tNBKbuaOeIcd2w</td>\n",
       "      <td>CwBh8Fmr07jFYBKZ2p6Mqg</td>\n",
       "      <td>iNsMwBxFXcP7QvB3994mgA</td>\n",
       "      <td>5.0</td>\n",
       "      <td>3</td>\n",
       "      <td>4</td>\n",
       "      <td>4</td>\n",
       "      <td>A scavenger hunt was hosted by the Paramount r...</td>\n",
       "      <td>2009-07-31 02:33:55</td>\n",
       "    </tr>\n",
       "    <tr>\n",
       "      <th>1</th>\n",
       "      <td>Ja7ZM1i_gYFXmxrkJPEPlA</td>\n",
       "      <td>ncIHRw4Vx3Wh9mZhLZxB7g</td>\n",
       "      <td>dgprzdonZcF7PPt-hkUkag</td>\n",
       "      <td>5.0</td>\n",
       "      <td>15</td>\n",
       "      <td>3</td>\n",
       "      <td>6</td>\n",
       "      <td>The Pretty Kitty has 20 locations throughout t...</td>\n",
       "      <td>2015-08-04 00:01:50</td>\n",
       "    </tr>\n",
       "    <tr>\n",
       "      <th>2</th>\n",
       "      <td>9E8ZAppLWtL0oJYRbFmOFQ</td>\n",
       "      <td>mdP18-vCtV9nu8DT2Bk6lA</td>\n",
       "      <td>gYuTx4cB_5UutuWIGusmUQ</td>\n",
       "      <td>5.0</td>\n",
       "      <td>14</td>\n",
       "      <td>6</td>\n",
       "      <td>9</td>\n",
       "      <td>After a very productive business meeting this ...</td>\n",
       "      <td>2018-10-15 13:49:54</td>\n",
       "    </tr>\n",
       "    <tr>\n",
       "      <th>3</th>\n",
       "      <td>MHBTWs3E8bKR80SOpcelWw</td>\n",
       "      <td>fV4Y0rKuJaahlNfjCH3vfw</td>\n",
       "      <td>ZM3Y7pPuKu67Q_FOLqGx7A</td>\n",
       "      <td>4.0</td>\n",
       "      <td>1</td>\n",
       "      <td>4</td>\n",
       "      <td>0</td>\n",
       "      <td>I called in advance to be sure that they had t...</td>\n",
       "      <td>2012-08-25 01:39:58</td>\n",
       "    </tr>\n",
       "    <tr>\n",
       "      <th>4</th>\n",
       "      <td>EcvcH3hHuzlXqG79nIag0w</td>\n",
       "      <td>ys3M-lvO7wCYkhCbqSVCfA</td>\n",
       "      <td>p8ohzzGvGRCHnJKnyO7exA</td>\n",
       "      <td>4.0</td>\n",
       "      <td>0</td>\n",
       "      <td>4</td>\n",
       "      <td>0</td>\n",
       "      <td>Eastern Standard reminds me of that scene in S...</td>\n",
       "      <td>2014-11-08 23:22:35</td>\n",
       "    </tr>\n",
       "  </tbody>\n",
       "</table>\n",
       "</div>"
      ],
      "text/plain": [
       "                review_id                 user_id             business_id  \\\n",
       "0  DEECPhn5tNBKbuaOeIcd2w  CwBh8Fmr07jFYBKZ2p6Mqg  iNsMwBxFXcP7QvB3994mgA   \n",
       "1  Ja7ZM1i_gYFXmxrkJPEPlA  ncIHRw4Vx3Wh9mZhLZxB7g  dgprzdonZcF7PPt-hkUkag   \n",
       "2  9E8ZAppLWtL0oJYRbFmOFQ  mdP18-vCtV9nu8DT2Bk6lA  gYuTx4cB_5UutuWIGusmUQ   \n",
       "3  MHBTWs3E8bKR80SOpcelWw  fV4Y0rKuJaahlNfjCH3vfw  ZM3Y7pPuKu67Q_FOLqGx7A   \n",
       "4  EcvcH3hHuzlXqG79nIag0w  ys3M-lvO7wCYkhCbqSVCfA  p8ohzzGvGRCHnJKnyO7exA   \n",
       "\n",
       "   stars  useful  funny  cool  \\\n",
       "0    5.0       3      4     4   \n",
       "1    5.0      15      3     6   \n",
       "2    5.0      14      6     9   \n",
       "3    4.0       1      4     0   \n",
       "4    4.0       0      4     0   \n",
       "\n",
       "                                                text                 date  \n",
       "0  A scavenger hunt was hosted by the Paramount r...  2009-07-31 02:33:55  \n",
       "1  The Pretty Kitty has 20 locations throughout t...  2015-08-04 00:01:50  \n",
       "2  After a very productive business meeting this ...  2018-10-15 13:49:54  \n",
       "3  I called in advance to be sure that they had t...  2012-08-25 01:39:58  \n",
       "4  Eastern Standard reminds me of that scene in S...  2014-11-08 23:22:35  "
      ]
     },
     "execution_count": 7,
     "metadata": {},
     "output_type": "execute_result"
    }
   ],
   "source": [
    "df.head()"
   ]
  },
  {
   "cell_type": "code",
   "execution_count": 509,
   "metadata": {},
   "outputs": [
    {
     "data": {
      "text/plain": [
       "610"
      ]
     },
     "execution_count": 509,
     "metadata": {},
     "output_type": "execute_result"
    }
   ],
   "source": [
    "max(df.funny)"
   ]
  },
  {
   "cell_type": "code",
   "execution_count": 512,
   "metadata": {},
   "outputs": [
    {
     "data": {
      "text/plain": [
       "199999"
      ]
     },
     "execution_count": 512,
     "metadata": {},
     "output_type": "execute_result"
    }
   ],
   "source": [
    "len(df[df.funny != 610])"
   ]
  },
  {
   "cell_type": "code",
   "execution_count": 528,
   "metadata": {},
   "outputs": [
    {
     "data": {
      "text/plain": [
       "100000"
      ]
     },
     "execution_count": 528,
     "metadata": {},
     "output_type": "execute_result"
    }
   ],
   "source": [
    "len(df[df.funny < 3])"
   ]
  },
  {
   "cell_type": "code",
   "execution_count": 567,
   "metadata": {},
   "outputs": [
    {
     "data": {
      "text/plain": [
       "'Let\\'s say I marry a nice lass. Soon, she\\'s showing the bump and nine months later, we\\'re in Dave\\'s Fresh Pasta and she looks at me and says \"It\\'s time.\" I try to keep my cool but I freak out and we rush to the hospital. I\\'ve got the video camera (which I think is creepy, but her mom wants all the magic recorded) and my scrubs, she\\'s in a gurney on her back flawlessly executing on all the Lamaze training we\\'ve gone through. The docs and nurses are hovered around her and she\\'s at the point of sweating where her hair is all pasted to her wincing face. And then, everything goes quiet except for one nurse who gasps, \"Oh my...\"\\n\\nAnd the doc turns around to show me my baby Dave\\'s Cuban Sandwich. Everyone\\'s embarassed, she\\'s looking at me with the \"I\\'m so sorry\" face, and I\\'m in a little shock but you know what? I\\'m not mad. With the crusty chewy bread, thick slices of pork loin, ham, fresh pickles, swiss and that amazing chipotle aioli, I know how irresistable it can be.\\n\\nAbsolutely, undeniably five stars.\\n\\nSample everything. Always three cheeses, two olive oils and at least one kind of marinated olive out on the pasta counter. There isn\\'t a low quality item in this joint.'"
      ]
     },
     "execution_count": 567,
     "metadata": {},
     "output_type": "execute_result"
    }
   ],
   "source": [
    "# get review with 3 funny votes\n",
    "df[df.funny == 100].iloc[1].text"
   ]
  },
  {
   "cell_type": "code",
   "execution_count": 554,
   "metadata": {},
   "outputs": [
    {
     "data": {
      "text/plain": [
       "'Although there may be plenty of tourists, the large array of shops and restaurants make it a pleasurable place to spend your time here. Not pleasurable if you are driving though because you probably won\\'t find parking here. The cobblestone streets are cool, but I got lost here! Thank goodness I had my Iphone, and used the GPS. The square often attracts activists, street dwellers, goth subcultures, street performers, conservatives, tourists you name it! They have it.\\n\\nA cool thing to do is to check out \"The Garage\". It\\'s a small shopping mall that used to be a parking garage.\\n\\nI\\'m not a fan of the national chains in the square though like Urban Outfitters (See my review and find out why) and corporate banks like Bank of America. I would rather support the small locally-run businesses with unique styles. It\\'s one of the reasons why I dislike gentrification.\\n\\nBecause of high rent, the small, independent mom & pop stores suffer, and it changes the culturally heterogeneous character of the neighborhood. This is the reason why I have to give the place 3.5 stars.'"
      ]
     },
     "execution_count": 554,
     "metadata": {},
     "output_type": "execute_result"
    }
   ],
   "source": [
    "df[df.funny == 2].iloc[15].text"
   ]
  },
  {
   "cell_type": "code",
   "execution_count": 562,
   "metadata": {},
   "outputs": [
    {
     "data": {
      "image/png": "[encoded data removed]",
      "text/plain": [
       "<Figure size 576x432 with 1 Axes>"
      ]
     },
     "metadata": {},
     "output_type": "display_data"
    }
   ],
   "source": [
    "# Histogram of funny column to show class imbalances\n",
    "\n",
    "fig, ax = plt.subplots(figsize = (8,6))\n",
    "\n",
    "ax.hist(df[df.funny < 50].funny, bins = 20, color = 'skyblue')\n",
    "ax.set_title('Distribution of Funny Votes')\n",
    "ax.set_xlabel('# votes')\n",
    "ax.set_ylabel('frequency')\n",
    "plt.savefig('funnyhist.png')"
   ]
  },
  {
   "cell_type": "code",
   "execution_count": 55,
   "metadata": {},
   "outputs": [
    {
     "data": {
      "image/png": "[encoded data removed]",
      "text/plain": [
       "<Figure size 432x288 with 1 Axes>"
      ]
     },
     "metadata": {
      "needs_background": "light"
     },
     "output_type": "display_data"
    }
   ],
   "source": [
    "# Barchart of funny vs not funny\n",
    "\n",
    "fig, ax = plt.subplots()\n"
   ]
  },
  {
   "cell_type": "code",
   "execution_count": 41,
   "metadata": {},
   "outputs": [
    {
     "data": {
      "text/plain": [
       "610"
      ]
     },
     "execution_count": 41,
     "metadata": {},
     "output_type": "execute_result"
    }
   ],
   "source": [
    "max(df.funny)"
   ]
  },
  {
   "cell_type": "code",
   "execution_count": 30,
   "metadata": {},
   "outputs": [
    {
     "data": {
      "text/plain": [
       "\"I loved everything about this place. I've only been once but I keep meaning to go back as it was so great (just a bit out of my way). \\n\\nI went with a fairly large group so we'd all ordered something different (back when it was $6 for everything, it looks like they've changed that now). At the time I got the chickpea fries, which were delicious but watch out for the fiber because I had to sit out of an entire board game. The board game selection was great, and I love that they serve mead (though I didn't get any at 12 pm haha).  The molten lava chocolate cake was so, so good. Seriously.\\n\\nThe real topping to the experience (other than the great service and the fact that they put lemons in their complimentary ice water) was that they were playing Siouxsie and the Banshees in the background! That + board games + good food + mead = I'm a fan forever.\""
      ]
     },
     "execution_count": 30,
     "metadata": {},
     "output_type": "execute_result"
    }
   ],
   "source": [
    "(reviews[0]['text'])"
   ]
  },
  {
   "cell_type": "markdown",
   "metadata": {},
   "source": [
    "## Text Processing Pipeline ##"
   ]
  },
  {
   "cell_type": "code",
   "execution_count": 9,
   "metadata": {},
   "outputs": [],
   "source": [
    "# create new df of just text and label\n",
    "\n",
    "new_df = pd.concat([df.text, df.funny], axis=1)\n"
   ]
  },
  {
   "cell_type": "code",
   "execution_count": 10,
   "metadata": {},
   "outputs": [],
   "source": [
    "new_df['funny or not'] = (new_df.funny >= 3).astype(int)\n"
   ]
  },
  {
   "cell_type": "code",
   "execution_count": 11,
   "metadata": {},
   "outputs": [],
   "source": [
    "new_df = new_df.drop(columns ='funny')\n"
   ]
  },
  {
   "cell_type": "code",
   "execution_count": 696,
   "metadata": {},
   "outputs": [
    {
     "data": {
      "text/html": [
       "<div>\n",
       "<style scoped>\n",
       "    .dataframe tbody tr th:only-of-type {\n",
       "        vertical-align: middle;\n",
       "    }\n",
       "\n",
       "    .dataframe tbody tr th {\n",
       "        vertical-align: top;\n",
       "    }\n",
       "\n",
       "    .dataframe thead th {\n",
       "        text-align: right;\n",
       "    }\n",
       "</style>\n",
       "<table border=\"1\" class=\"dataframe\">\n",
       "  <thead>\n",
       "    <tr style=\"text-align: right;\">\n",
       "      <th></th>\n",
       "      <th>text</th>\n",
       "      <th>funny or not</th>\n",
       "    </tr>\n",
       "  </thead>\n",
       "  <tbody>\n",
       "    <tr>\n",
       "      <th>0</th>\n",
       "      <td>A scavenger hunt was hosted by the Paramount r...</td>\n",
       "      <td>1</td>\n",
       "    </tr>\n",
       "    <tr>\n",
       "      <th>1</th>\n",
       "      <td>The Pretty Kitty has 20 locations throughout t...</td>\n",
       "      <td>1</td>\n",
       "    </tr>\n",
       "    <tr>\n",
       "      <th>2</th>\n",
       "      <td>After a very productive business meeting this ...</td>\n",
       "      <td>1</td>\n",
       "    </tr>\n",
       "    <tr>\n",
       "      <th>3</th>\n",
       "      <td>I called in advance to be sure that they had t...</td>\n",
       "      <td>1</td>\n",
       "    </tr>\n",
       "    <tr>\n",
       "      <th>4</th>\n",
       "      <td>Eastern Standard reminds me of that scene in S...</td>\n",
       "      <td>1</td>\n",
       "    </tr>\n",
       "  </tbody>\n",
       "</table>\n",
       "</div>"
      ],
      "text/plain": [
       "                                                text  funny or not\n",
       "0  A scavenger hunt was hosted by the Paramount r...             1\n",
       "1  The Pretty Kitty has 20 locations throughout t...             1\n",
       "2  After a very productive business meeting this ...             1\n",
       "3  I called in advance to be sure that they had t...             1\n",
       "4  Eastern Standard reminds me of that scene in S...             1"
      ]
     },
     "execution_count": 696,
     "metadata": {},
     "output_type": "execute_result"
    }
   ],
   "source": [
    "new_df.head()\n"
   ]
  },
  {
   "cell_type": "code",
   "execution_count": 15,
   "metadata": {},
   "outputs": [],
   "source": [
    "# create toy df for faster processing\n"
   ]
  },
  {
   "cell_type": "code",
   "execution_count": 48,
   "metadata": {},
   "outputs": [],
   "source": [
    "toy_funny = funny_df.sample(n=10000, random_state=1)\n",
    "toy_notfunny = not_funny_df.sample(n=10000, random_state=1)\n",
    "\n",
    "toy_df = pd.concat([toy_funny, toy_notfunny]).drop_duplicates('review_id')\n",
    "toy_df = toy_df.drop(['Unnamed: 0'], axis = 1)\n"
   ]
  },
  {
   "cell_type": "code",
   "execution_count": 51,
   "metadata": {
    "scrolled": true
   },
   "outputs": [
    {
     "data": {
      "text/plain": [
       "43660     4\n",
       "87278     3\n",
       "14317     3\n",
       "81932     3\n",
       "95321    21\n",
       "         ..\n",
       "59828     0\n",
       "47957     0\n",
       "42429     0\n",
       "76505     0\n",
       "49578     0\n",
       "Name: funny, Length: 20000, dtype: int64"
      ]
     },
     "execution_count": 51,
     "metadata": {},
     "output_type": "execute_result"
    }
   ],
   "source": [
    "toy_df.funny"
   ]
  },
  {
   "cell_type": "code",
   "execution_count": 52,
   "metadata": {},
   "outputs": [],
   "source": [
    "toy = pd.concat([toy_df.text, toy_df.funny], axis=1)\n",
    "\n",
    "toy['funny or not'] = (toy.funny >= 3).astype(int)\n",
    "toy = toy.drop(columns ='funny')\n"
   ]
  },
  {
   "cell_type": "code",
   "execution_count": null,
   "metadata": {},
   "outputs": [],
   "source": [
    "# gensim library for word vectors - come back if time\n"
   ]
  },
  {
   "cell_type": "code",
   "execution_count": 254,
   "metadata": {},
   "outputs": [],
   "source": [
    "# Tokenization (don't filter stopwords or punctuation as these may contribute to humor)\n",
    "\n",
    "from nltk.tokenize import word_tokenize\n",
    "from nltk.corpus import stopwords\n",
    "\n",
    "#tokens = review_text.map(word_tokenize)\n",
    "\n",
    "#tokenized = [word_tokenize(review_text.lower()) for review in review_text]\n",
    "\n",
    "# lowercase and tokenize\n",
    "toy_df['tokens'] = toy_df['text'].str.lower().map(word_tokenize)\n"
   ]
  },
  {
   "cell_type": "code",
   "execution_count": 175,
   "metadata": {},
   "outputs": [
    {
     "data": {
      "text/plain": [
       "pandas.core.frame.DataFrame"
      ]
     },
     "execution_count": 175,
     "metadata": {},
     "output_type": "execute_result"
    }
   ],
   "source": [
    "type(toy_df)\n"
   ]
  },
  {
   "cell_type": "code",
   "execution_count": 676,
   "metadata": {},
   "outputs": [],
   "source": [
    "# stemming/lemmatization\n",
    "\n",
    "from nltk.stem.porter import PorterStemmer\n",
    "from nltk.stem.snowball import SnowballStemmer\n",
    "from nltk.stem.wordnet import WordNetLemmatizer\n",
    "\n",
    "porter = PorterStemmer()\n",
    "snowball = SnowballStemmer('english')\n",
    "wordnet = WordNetLemmatizer()\n",
    "\n",
    "# docs_porter = [[porter.stem(word) for word in words]\n",
    "#                for doc in toy_tokens]\n",
    "# docs_snowball = [[snowball.stem(word) for word in words]\n",
    "#                  for doc in toy_tokens]\n",
    "# docs_wordnet = [[wordnet.lemmatize(word) for word in words]\n",
    "#                 for doc in toy_tokens]\n",
    "\n",
    "# tokens_porter = [list(map(porter.stem, doc)) for doc in toy_df['tokens']]\n",
    "\n",
    "# tokens_snowball = [list(map(snowball.stem, doc)) for doc in toy_df['tokens']]\n",
    "\n",
    "# tokens_wordnet = [list(map(wordnet.lemmatize, doc)) for doc in toy_df['tokens']]\n"
   ]
  },
  {
   "cell_type": "code",
   "execution_count": 191,
   "metadata": {},
   "outputs": [
    {
     "data": {
      "text/plain": [
       "list"
      ]
     },
     "execution_count": 191,
     "metadata": {},
     "output_type": "execute_result"
    }
   ],
   "source": [
    "# stem/lemmatize within dataframe\n",
    "\n",
    "type(tokens_porter)\n"
   ]
  },
  {
   "cell_type": "code",
   "execution_count": 194,
   "metadata": {
    "scrolled": true
   },
   "outputs": [
    {
     "data": {
      "text/plain": [
       "186"
      ]
     },
     "execution_count": 194,
     "metadata": {},
     "output_type": "execute_result"
    }
   ],
   "source": [
    "len(tokens_wordnet[0])\n"
   ]
  },
  {
   "cell_type": "code",
   "execution_count": 195,
   "metadata": {},
   "outputs": [
    {
     "name": "stdout",
     "output_type": "stream",
     "text": [
      "            word           porter         snowball       lemmatizer\n",
      "       scavenger          scaveng          scaveng        scavenger\n",
      "             was               wa              was               wa\n",
      "          hosted             host             host           hosted\n",
      "        recently           recent           recent         recently\n",
      "            plus              plu             plus             plus\n",
      "         running              run              run          running\n",
      "             was               wa              was               wa\n",
      "         totally            total            total          totally\n",
      "        watching            watch            watch         watching\n",
      "      afterwards        afterward        afterward       afterwards\n",
      "          lovely             love             love           lovely\n",
      "         sitting              sit              sit          sitting\n",
      "        charming            charm            charm         charming\n",
      "        marveled           marvel           marvel         marveled\n",
      "         awesome           awesom           awesom          awesome\n",
      "            many             mani             mani             many\n",
      "          people            peopl            peopl           people\n",
      "      appreciate          appreci          appreci       appreciate\n",
      "      structures         structur         structur        structure\n",
      "            this              thi             this             this\n",
      "     resemblance          resembl          resembl      resemblance\n",
      "            used              use              use             used\n",
      "          during             dure             dure           during\n",
      "       thrilling           thrill           thrill        thrilling\n",
      "           every            everi            everi            every\n",
      "         another            anoth            anoth          another\n",
      "       mezzanine         mezzanin         mezzanin        mezzanine\n",
      "     opportunity         opportun         opportun      opportunity\n",
      "          admire            admir            admir           admire\n",
      "         ceiling             ceil             ceil          ceiling\n",
      "         finally            final            final          finally\n",
      "          thanks            thank            thank           thanks\n",
      "      investment           invest           invest       investment\n",
      "         keeping             keep             keep          keeping\n",
      "           alive             aliv             aliv            alive\n",
      "         fitting              fit              fit          fitting\n",
      "         royalty          royalti          royalti          royalty\n"
     ]
    }
   ],
   "source": [
    "## Print the stemmed and lemmatized words from the first review for each method\n",
    "print(\"%16s %16s %16s %16s\" % (\"word\", \"porter\", \"snowball\", \"lemmatizer\"))\n",
    "\n",
    "for i in range(min(len(tokens_porter[0]), len(tokens_snowball[0]), len(tokens_wordnet[0]))):\n",
    "    p, s, w = tokens_porter[0][i], tokens_snowball[0][i], tokens_wordnet[0][i]\n",
    "    if len(set((p, s, w))) != 1:\n",
    "        print(\"%16s %16s %16s %16s\" % (toy_df['tokens'][0][i], p, s, w))\n"
   ]
  },
  {
   "cell_type": "code",
   "execution_count": 673,
   "metadata": {},
   "outputs": [],
   "source": [
    "# bag of words, max features 3000\n",
    "# TF-IDF\n",
    "# will go with lemmatizer to preserve as much of the original word as possible\n",
    "\n",
    "from sklearn.feature_extraction.text import TfidfVectorizer\n",
    "\n",
    "def remove_accents(input_str):\n",
    "    nfkd_form = unicodedata.normalize('NFKD', input_str)\n",
    "    only_ascii = nfkd_form.encode('ASCII', 'ignore')\n",
    "    return only_ascii.decode()\n",
    "\n",
    "def tokenize(doc):\n",
    "    '''\n",
    "    INPUT: string\n",
    "    OUTPUT: list of strings\n",
    "\n",
    "    Remove accents, tokenize, and lemmatize the document.\n",
    "    '''\n",
    "    doc = remove_accents(doc)\n",
    "    return [wordnet.lemmatize(word) for word in word_tokenize(doc)]\n",
    "\n",
    "\n",
    "#tfidfvect = TfidfVectorizer(tokenizer=tokenize)\n",
    "\n",
    "# features\n",
    "#tfidf_vectorized = tfidfvect.fit_transform(toy_df.text)\n",
    "\n"
   ]
  },
  {
   "cell_type": "code",
   "execution_count": null,
   "metadata": {},
   "outputs": [],
   "source": [
    "# latent semantic analysis - capstone 3\n"
   ]
  },
  {
   "cell_type": "markdown",
   "metadata": {},
   "source": [
    "## TF-IDF Vectorization / EDA ##"
   ]
  },
  {
   "cell_type": "code",
   "execution_count": 22,
   "metadata": {},
   "outputs": [],
   "source": [
    "# baseline models on top of bag-of-words\n",
    "\n",
    "# split into train and test sets\n",
    "\n",
    "X_train, X_test, y_train, y_test = train_test_split(new_df['text'], new_df['funny or not'], test_size=0.2)\n"
   ]
  },
  {
   "cell_type": "code",
   "execution_count": 679,
   "metadata": {},
   "outputs": [],
   "source": [
    "# vectorize train data/transform test data\n",
    "\n",
    "tfidfvect = TfidfVectorizer(max_features = 3000, \n",
    "                            sublinear_tf=True, \n",
    "                            min_df=5, norm='l2', \n",
    "                            encoding='latin-1', \n",
    "                            ngram_range=(1, 3))\n",
    "\n",
    "X_train_tfidf = tfidfvect.fit_transform(X_train)\n",
    "X_test_tfidf = tfidfvect.transform(X_test)\n",
    "\n",
    "# get vocab\n",
    "words = tfidfvect.get_feature_names()\n",
    "\n",
    "# try max features 3000, 10000 etc. to see if improving\n",
    "# n-grams: 1, 2, 3\n",
    "# stopwords \n",
    "# stemming, lemma etc."
   ]
  },
  {
   "cell_type": "code",
   "execution_count": 680,
   "metadata": {},
   "outputs": [
    {
     "data": {
      "text/plain": [
       "((160000, 3000), (40000, 3000))"
      ]
     },
     "execution_count": 680,
     "metadata": {},
     "output_type": "execute_result"
    }
   ],
   "source": [
    "X_train_tfidf.shape, X_test_tfidf.shape\n"
   ]
  },
  {
   "cell_type": "code",
   "execution_count": 681,
   "metadata": {},
   "outputs": [
    {
     "data": {
      "text/plain": [
       "{'the': 2265,\n",
       " 'brown': 374,\n",
       " 'lounge': 1386,\n",
       " 'is': 1188,\n",
       " 'located': 1360,\n",
       " 'just': 1279,\n",
       " 'outside': 1723,\n",
       " 'of': 1601,\n",
       " 'and': 88,\n",
       " 'offers': 1632,\n",
       " 'smaller': 2084,\n",
       " 'compared': 528,\n",
       " 'to': 2505,\n",
       " 'that': 2237,\n",
       " 'larger': 1313,\n",
       " 'restaurant': 1924,\n",
       " 'my': 1509,\n",
       " 'wife': 2879,\n",
       " 'usually': 2667,\n",
       " 'eat': 700,\n",
       " 'here': 1070,\n",
       " 'because': 308,\n",
       " 'we': 2781,\n",
       " 'overpriced': 1731,\n",
       " 'hot': 1102,\n",
       " 'dogs': 646,\n",
       " 'are': 198,\n",
       " 'offered': 1631,\n",
       " 'everywhere': 749,\n",
       " 'else': 708,\n",
       " 'in': 1142,\n",
       " 'park': 1744,\n",
       " 'food': 829,\n",
       " 'actually': 36,\n",
       " 'really': 1896,\n",
       " 'good': 966,\n",
       " 'seating': 1995,\n",
       " 'perfect': 1773,\n",
       " 'for': 838,\n",
       " 'star': 2148,\n",
       " 'show': 2054,\n",
       " 'they': 2431,\n",
       " 'onto': 1676,\n",
       " 'chinese': 480,\n",
       " 'theater': 2407,\n",
       " 'yes': 2957,\n",
       " 'bit': 343,\n",
       " 'pricey': 1850,\n",
       " 'but': 388,\n",
       " 'what': 2843,\n",
       " 'did': 612,\n",
       " 'you': 2960,\n",
       " 'expect': 756,\n",
       " 'from': 891,\n",
       " 'disney': 634,\n",
       " 'it': 1222,\n",
       " 'definitely': 600,\n",
       " 'better': 334,\n",
       " 'than': 2232,\n",
       " 'lot': 1381,\n",
       " 'other': 1699,\n",
       " 'around': 213,\n",
       " 'get': 917,\n",
       " 'great': 981,\n",
       " 'see': 2000,\n",
       " 'some': 2106,\n",
       " 'area': 209,\n",
       " 'of the': 1614,\n",
       " 'compared to': 529,\n",
       " 'my wife': 1530,\n",
       " 'wife and': 2880,\n",
       " 'eat here': 701,\n",
       " 'because we': 315,\n",
       " 'that are': 2238,\n",
       " 'in the': 1161,\n",
       " 'the park': 2349,\n",
       " 'because the': 313,\n",
       " 'the food': 2306,\n",
       " 'here is': 1077,\n",
       " 'really good': 1897,\n",
       " 'good and': 967,\n",
       " 'and the': 153,\n",
       " 'for the': 855,\n",
       " 'that they': 2255,\n",
       " 'food is': 833,\n",
       " 'but it': 394,\n",
       " 'better than': 335,\n",
       " 'lot of': 1382,\n",
       " 'the other': 2345,\n",
       " 'around the': 215,\n",
       " 'and you': 178,\n",
       " 'you get': 2968,\n",
       " 'to see': 2548,\n",
       " 'some of': 2107,\n",
       " 'the area': 2266,\n",
       " 'the food is': 2308,\n",
       " 'some of the': 2108,\n",
       " 'in the area': 1162,\n",
       " 'walked': 2712,\n",
       " 'up': 2644,\n",
       " 'at': 244,\n",
       " 'exactly': 750,\n",
       " 'ready': 1891,\n",
       " 'two': 2632,\n",
       " 'sorry': 2118,\n",
       " 'won': 2917,\n",
       " 'close': 497,\n",
       " 'so': 2088,\n",
       " 'our': 1704,\n",
       " 'back': 274,\n",
       " 'can': 430,\n",
       " 'pay': 1762,\n",
       " 'hour': 1105,\n",
       " 'bring': 369,\n",
       " 'them': 2412,\n",
       " 'by': 413,\n",
       " 'no': 1563,\n",
       " 'problem': 1854,\n",
       " 'first': 813,\n",
       " 'all': 54,\n",
       " 'best': 333,\n",
       " 'hours': 1106,\n",
       " 'be': 298,\n",
       " 'out': 1711,\n",
       " 'on': 1643,\n",
       " 'water': 2777,\n",
       " 'end': 714,\n",
       " 'day': 588,\n",
       " 'austin': 263,\n",
       " 'nearly': 1538,\n",
       " 'will': 2881,\n",
       " 'summer': 2181,\n",
       " 'why': 2877,\n",
       " 'would': 2935,\n",
       " 'stop': 2162,\n",
       " 'your': 2993,\n",
       " 'simply': 2065,\n",
       " 'someone': 2110,\n",
       " 'who': 2873,\n",
       " 'way': 2778,\n",
       " 'down': 666,\n",
       " 'when': 2853,\n",
       " 'going': 959,\n",
       " 'same': 1969,\n",
       " 'time': 2493,\n",
       " 'as': 219,\n",
       " 'might': 1461,\n",
       " 'have': 1033,\n",
       " 'arrived': 217,\n",
       " 'earlier': 694,\n",
       " 'we walked': 2806,\n",
       " 'and in': 124,\n",
       " 'ready to': 1892,\n",
       " 'so we': 2100,\n",
       " 'we can': 2788,\n",
       " 'pay for': 1763,\n",
       " 'of all': 1602,\n",
       " 'all the': 62,\n",
       " 'the best': 2274,\n",
       " 'to be': 2508,\n",
       " 'out on': 1717,\n",
       " 'on the': 1652,\n",
       " 'the water': 2401,\n",
       " 'at the': 252,\n",
       " 'the end': 2295,\n",
       " 'end of': 715,\n",
       " 'the day': 2289,\n",
       " 'in austin': 1147,\n",
       " 'and will': 176,\n",
       " 'will be': 2882,\n",
       " 'get it': 919,\n",
       " 'the way': 2402,\n",
       " 'down to': 669,\n",
       " 'to the': 2558,\n",
       " 'when they': 2857,\n",
       " 'they are': 2434,\n",
       " 'going to': 962,\n",
       " 'to bring': 2510,\n",
       " 'it back': 1228,\n",
       " 'the same': 2375,\n",
       " 'at the end': 254,\n",
       " 'the end of': 2296,\n",
       " 'end of the': 716,\n",
       " 'kid': 1288,\n",
       " 'friendly': 885,\n",
       " 'while': 2869,\n",
       " 'go': 948,\n",
       " 'early': 695,\n",
       " 'if': 1123,\n",
       " 'dining': 625,\n",
       " 'without': 2914,\n",
       " 'this': 2465,\n",
       " 'place': 1794,\n",
       " 'with': 2897,\n",
       " 'kids': 1289,\n",
       " 'between': 336,\n",
       " 'great food': 984,\n",
       " 'to go': 2524,\n",
       " 'if you': 1131,\n",
       " 'you are': 2962,\n",
       " 'that this': 2256,\n",
       " 'this place': 2471,\n",
       " 'can be': 431,\n",
       " 'if you are': 1132,\n",
       " 'few': 797,\n",
       " 'years': 2953,\n",
       " 'lived': 1354,\n",
       " 'square': 2140,\n",
       " 'stopped': 2163,\n",
       " 'store': 2164,\n",
       " 'once': 1661,\n",
       " 'or': 1684,\n",
       " 'twice': 2631,\n",
       " 'was': 2724,\n",
       " 'not': 1575,\n",
       " 'impressed': 1141,\n",
       " 'prices': 1848,\n",
       " 'were': 2831,\n",
       " 'kinda': 1292,\n",
       " 'high': 1083,\n",
       " 'used': 2662,\n",
       " 'mostly': 1495,\n",
       " 'crap': 562,\n",
       " 'items': 1270,\n",
       " 'need': 1539,\n",
       " 'many': 1420,\n",
       " 'discount': 631,\n",
       " 'stores': 2165,\n",
       " 'baby': 273,\n",
       " 'five': 817,\n",
       " 'time to': 2498,\n",
       " 'in this': 1167,\n",
       " 'was not': 2752,\n",
       " 'not that': 1585,\n",
       " 'that would': 2262,\n",
       " 'would not': 2941,\n",
       " 'out of': 1715,\n",
       " 'of my': 1609,\n",
       " 'my way': 1529,\n",
       " 'for this': 860,\n",
       " 'this store': 2478,\n",
       " 'this is': 2466,\n",
       " 'is not': 1204,\n",
       " 'this is not': 2467,\n",
       " 'never': 1547,\n",
       " 'got': 974,\n",
       " 'came': 423,\n",
       " 'only': 1673,\n",
       " 'money': 1483,\n",
       " 'stars': 2150,\n",
       " 'instead': 1181,\n",
       " 'tasted': 2214,\n",
       " 'like': 1334,\n",
       " 'girlfriend': 932,\n",
       " 'pleasant': 1814,\n",
       " 'up in': 2647,\n",
       " 'and never': 135,\n",
       " 'came here': 425,\n",
       " 'and they': 160,\n",
       " 'not only': 1582,\n",
       " 'but my': 396,\n",
       " 'instead of': 1182,\n",
       " 'tasted like': 2215,\n",
       " 'mother': 1496,\n",
       " 'cafe': 416,\n",
       " 'garden': 908,\n",
       " 'idea': 1122,\n",
       " 'prefer': 1840,\n",
       " 'avoid': 268,\n",
       " 'taste': 2213,\n",
       " 'menu': 1453,\n",
       " 'meals': 1440,\n",
       " 'before': 326,\n",
       " 'check': 465,\n",
       " 'ran': 1876,\n",
       " 'tv': 2630,\n",
       " 'grocery': 994,\n",
       " 'closed': 499,\n",
       " '10': 1,\n",
       " 'pain': 1739,\n",
       " 'don': 650,\n",
       " 'know': 1296,\n",
       " 'difference': 621,\n",
       " 'bad': 281,\n",
       " 'music': 1507,\n",
       " 'people': 1766,\n",
       " 'order': 1690,\n",
       " 'light': 1332,\n",
       " 'which': 2865,\n",
       " 'didn': 614,\n",
       " 'yourself': 2996,\n",
       " 'above': 29,\n",
       " 've': 2674,\n",
       " 'come': 513,\n",
       " 'least': 1320,\n",
       " 'veggie': 2685,\n",
       " 'cheese': 470,\n",
       " 'black': 347,\n",
       " 'beans': 305,\n",
       " 'red': 1910,\n",
       " 'peppers': 1771,\n",
       " 'onions': 1671,\n",
       " 'rice': 1934,\n",
       " 'corn': 545,\n",
       " 'possibly': 1834,\n",
       " 'side': 2059,\n",
       " 'sour': 2124,\n",
       " 'cream': 565,\n",
       " 'lack': 1307,\n",
       " 'mention': 1451,\n",
       " 'there': 2419,\n",
       " 'none': 1568,\n",
       " 'drink': 674,\n",
       " 'options': 1683,\n",
       " 'over': 1725,\n",
       " 'priced': 1847,\n",
       " 'beer': 323,\n",
       " 'wine': 2893,\n",
       " 'iced': 1121,\n",
       " 'tea': 2220,\n",
       " 'drinks': 676,\n",
       " 'bother': 356,\n",
       " 'chips': 481,\n",
       " 'salsa': 1966,\n",
       " 'served': 2021,\n",
       " 'smile': 2086,\n",
       " 'style': 2174,\n",
       " 're': 1885,\n",
       " 'bland': 348,\n",
       " 'even': 735,\n",
       " 'last': 1314,\n",
       " 'note': 1591,\n",
       " '12': 5,\n",
       " '50': 17,\n",
       " 'tip': 2504,\n",
       " 'amount': 82,\n",
       " 'filling': 804,\n",
       " 'italian': 1268,\n",
       " 'portions': 1830,\n",
       " 'weren': 2841,\n",
       " 'made': 1402,\n",
       " 'is great': 1196,\n",
       " 'your food': 2994,\n",
       " 'is the': 1214,\n",
       " 'the only': 2342,\n",
       " 'on your': 1660,\n",
       " 'get the': 923,\n",
       " 'food and': 830,\n",
       " 'you don': 2967,\n",
       " 'don know': 654,\n",
       " 'know the': 1300,\n",
       " 'of people': 1612,\n",
       " 'didn know': 618,\n",
       " 'is so': 1210,\n",
       " 'to you': 2572,\n",
       " 'that you': 2263,\n",
       " 'you would': 2991,\n",
       " 'are in': 203,\n",
       " 'they ve': 2450,\n",
       " 'up with': 2653,\n",
       " 'with the': 2908,\n",
       " 'in all': 1143,\n",
       " 'all of': 58,\n",
       " 'rice and': 1935,\n",
       " 'side of': 2060,\n",
       " 'lack of': 1308,\n",
       " 'there are': 2421,\n",
       " 'beer and': 324,\n",
       " 'served with': 2022,\n",
       " 'they re': 2448,\n",
       " 'for what': 864,\n",
       " 'what it': 2845,\n",
       " 'it is': 1240,\n",
       " 'amount of': 83,\n",
       " 'one': 1662,\n",
       " 'had': 1004,\n",
       " 'boston': 354,\n",
       " 'service': 2026,\n",
       " 'top': 2594,\n",
       " 'notch': 1590,\n",
       " 'absolutely': 30,\n",
       " 'couldn': 552,\n",
       " 'asked': 239,\n",
       " 'polite': 1823,\n",
       " 'professional': 1859,\n",
       " 'happy': 1022,\n",
       " 'staff': 2141,\n",
       " 'hostess': 1101,\n",
       " 'glasses': 945,\n",
       " 'always': 74,\n",
       " 'filled': 802,\n",
       " 'generous': 916,\n",
       " 'fresh': 877,\n",
       " 'bread': 365,\n",
       " 'oil': 1637,\n",
       " 'quick': 1871,\n",
       " 'taking': 2208,\n",
       " 'orders': 1696,\n",
       " 'everything': 746,\n",
       " 'very': 2689,\n",
       " 'easy': 698,\n",
       " 'nearby': 1537,\n",
       " 'something': 2111,\n",
       " 'salad': 1959,\n",
       " 'bed': 318,\n",
       " 'delicious': 603,\n",
       " 'flavorful': 822,\n",
       " 'ever': 741,\n",
       " 'gotten': 977,\n",
       " 'think': 2458,\n",
       " 'wrong': 2948,\n",
       " 'quickly': 1872,\n",
       " 'mouth': 1497,\n",
       " 'us': 2656,\n",
       " 'lobster': 1358,\n",
       " 'roasted': 1942,\n",
       " 'cooked': 540,\n",
       " 'dessert': 610,\n",
       " 'chocolate': 482,\n",
       " 'cake': 417,\n",
       " 'friends': 888,\n",
       " 'said': 1955,\n",
       " 'nothing': 1592,\n",
       " 'special': 2128,\n",
       " 'pie': 1788,\n",
       " 'about': 22,\n",
       " 'loved': 1392,\n",
       " 'taken': 2206,\n",
       " 'pretty': 1842,\n",
       " 'enjoyed': 722,\n",
       " 'tasty': 2218,\n",
       " 'sometimes': 2112,\n",
       " 'overall': 1729,\n",
       " 'experience': 761,\n",
       " 'give': 934,\n",
       " 'save': 1979,\n",
       " 'places': 1806,\n",
       " 'mind': 1465,\n",
       " 'tiny': 2503,\n",
       " 'limited': 1345,\n",
       " 'aren': 212,\n",
       " 'seafood': 1991,\n",
       " 'person': 1777,\n",
       " 'me': 1428,\n",
       " 'this was': 2480,\n",
       " 'was one': 2755,\n",
       " 'one of': 1663,\n",
       " 've had': 2680,\n",
       " 'had in': 1008,\n",
       " 'in boston': 1148,\n",
       " 'was really': 2760,\n",
       " 'the service': 2379,\n",
       " 'service was': 2029,\n",
       " 'asked for': 240,\n",
       " 'from the': 893,\n",
       " 'the hostess': 2315,\n",
       " 'the staff': 2385,\n",
       " 'staff was': 2144,\n",
       " 'but they': 404,\n",
       " 'they didn': 2438,\n",
       " 'we got': 2794,\n",
       " 'got the': 975,\n",
       " 'it was': 1256,\n",
       " 'was on': 2754,\n",
       " 'the cheese': 2281,\n",
       " 'which was': 2867,\n",
       " 'was the': 2765,\n",
       " 've ever': 2677,\n",
       " 'but this': 405,\n",
       " 'in my': 1156,\n",
       " 'my mouth': 1523,\n",
       " 'of us': 1624,\n",
       " 'and got': 113,\n",
       " 'of it': 1607,\n",
       " 'was great': 2743,\n",
       " 'great the': 988,\n",
       " 'came out': 427,\n",
       " 'my friends': 1518,\n",
       " 'was good': 2741,\n",
       " 'at first': 246,\n",
       " 'because it': 309,\n",
       " 'used to': 2663,\n",
       " 'to it': 2531,\n",
       " 'it and': 1225,\n",
       " 'it the': 1251,\n",
       " 'great experience': 983,\n",
       " 'would definitely': 2937,\n",
       " 'go back': 949,\n",
       " 'give it': 935,\n",
       " 'great and': 982,\n",
       " 'the menu': 2329,\n",
       " 'menu is': 1455,\n",
       " 'one of the': 1665,\n",
       " 'the service was': 2381,\n",
       " 'the staff was': 2387,\n",
       " 'but it was': 395,\n",
       " 'restaurants': 1927,\n",
       " 'serving': 2031,\n",
       " 'authentic': 264,\n",
       " 'thai': 2231,\n",
       " 'pad': 1737,\n",
       " 'favorite': 787,\n",
       " 'dishes': 633,\n",
       " 'far': 783,\n",
       " 'literally': 1349,\n",
       " 'reasonably': 1901,\n",
       " 'again': 47,\n",
       " 'now': 1595,\n",
       " 'do': 635,\n",
       " 'man': 1416,\n",
       " 'especially': 732,\n",
       " 'weather': 2814,\n",
       " 'then': 2416,\n",
       " 'game': 906,\n",
       " 'wait': 2702,\n",
       " 'wasn': 2773,\n",
       " 'long': 1366,\n",
       " '15': 7,\n",
       " '20': 9,\n",
       " 'minutes': 1470,\n",
       " 'folks': 826,\n",
       " 'lots': 1383,\n",
       " 'street': 2168,\n",
       " 'parking': 1745,\n",
       " 'plenty': 1817,\n",
       " 'isn': 1219,\n",
       " 'thing': 2456,\n",
       " 'head': 1055,\n",
       " 'east': 697,\n",
       " 'across': 32,\n",
       " 'coming': 523,\n",
       " 'thank': 2234,\n",
       " 'future': 905,\n",
       " 'll': 1356,\n",
       " 'is one': 1206,\n",
       " 'my favorite': 1514,\n",
       " 'from my': 892,\n",
       " 'time in': 2496,\n",
       " 'and as': 95,\n",
       " 'and delicious': 100,\n",
       " 'delicious and': 604,\n",
       " 'to come': 2515,\n",
       " 'come back': 514,\n",
       " 'back for': 276,\n",
       " 'so good': 2090,\n",
       " 'if they': 1129,\n",
       " 'they do': 2439,\n",
       " 'over the': 1727,\n",
       " 'the wait': 2397,\n",
       " 'wait for': 2703,\n",
       " '20 minutes': 10,\n",
       " 'were very': 2840,\n",
       " 'about it': 24,\n",
       " 'lots of': 1384,\n",
       " 'area and': 210,\n",
       " 'plenty of': 1818,\n",
       " 'you like': 2974,\n",
       " 'like to': 1340,\n",
       " 'to get': 2521,\n",
       " 'get some': 922,\n",
       " 'drinks and': 677,\n",
       " 'across the': 33,\n",
       " 'the street': 2390,\n",
       " 'thank you': 2235,\n",
       " 'you ll': 2975,\n",
       " 'to me': 2538,\n",
       " 'is one of': 1207,\n",
       " 'one of my': 1664,\n",
       " 'of my favorite': 1610,\n",
       " 'to come back': 2516,\n",
       " 'if you like': 1135,\n",
       " 'across the street': 34,\n",
       " 'fast': 784,\n",
       " 'often': 1634,\n",
       " 'morning': 1491,\n",
       " 'cut': 580,\n",
       " 'cheap': 463,\n",
       " 'split': 2135,\n",
       " 'burger': 382,\n",
       " 'onion': 1670,\n",
       " 'an': 84,\n",
       " 'perfectly': 1775,\n",
       " 'crispy': 569,\n",
       " 'warm': 2723,\n",
       " 'ate': 257,\n",
       " 'car': 440,\n",
       " 'ride': 1937,\n",
       " 'home': 1092,\n",
       " 'covered': 559,\n",
       " 'sort': 2119,\n",
       " 'sauce': 1975,\n",
       " 'still': 2161,\n",
       " 'meat': 1443,\n",
       " 'nice': 1556,\n",
       " 'flavor': 821,\n",
       " 'but when': 408,\n",
       " 'do it': 637,\n",
       " 'and go': 111,\n",
       " 'it for': 1235,\n",
       " 'for me': 846,\n",
       " 'great place': 985,\n",
       " 'place to': 1803,\n",
       " 'to do': 2517,\n",
       " 'that it': 2247,\n",
       " 'and an': 93,\n",
       " 'the outside': 2346,\n",
       " 'the car': 2280,\n",
       " 'the burger': 2279,\n",
       " 'sort of': 2120,\n",
       " 'was still': 2762,\n",
       " 'pretty good': 1843,\n",
       " 'the meat': 2328,\n",
       " 'my only': 1525,\n",
       " 'is that': 1213,\n",
       " 'that we': 2258,\n",
       " 'we didn': 2793,\n",
       " 'didn get': 616,\n",
       " 'go with': 956,\n",
       " 'great place to': 986,\n",
       " 'after': 44,\n",
       " 'location': 1362,\n",
       " 'zero': 2999,\n",
       " 'called': 420,\n",
       " 'afternoon': 46,\n",
       " 'doing': 647,\n",
       " 'later': 1318,\n",
       " 'night': 1560,\n",
       " 'manager': 1418,\n",
       " 'been': 320,\n",
       " 'feel': 790,\n",
       " 'free': 875,\n",
       " 'busy': 387,\n",
       " 'new': 1550,\n",
       " 'he': 1050,\n",
       " 'hadn': 1014,\n",
       " 'received': 1902,\n",
       " 'call': 419,\n",
       " 'small': 2083,\n",
       " 'crowd': 570,\n",
       " 'lady': 1310,\n",
       " 'took': 2591,\n",
       " 'charge': 461,\n",
       " 'working': 2927,\n",
       " 'walk': 2710,\n",
       " 'double': 664,\n",
       " 'checked': 468,\n",
       " 'each': 692,\n",
       " 'item': 1269,\n",
       " 'entire': 727,\n",
       " 'team': 2221,\n",
       " 'clean': 492,\n",
       " 'customers': 579,\n",
       " 'seemed': 2006,\n",
       " 'must': 1508,\n",
       " 'strong': 2170,\n",
       " 'how': 1108,\n",
       " 'should': 2050,\n",
       " 'called the': 421,\n",
       " 'have been': 1036,\n",
       " 'and said': 146,\n",
       " 'come in': 516,\n",
       " 'in that': 1160,\n",
       " 'as they': 229,\n",
       " 'at that': 251,\n",
       " 'they were': 2451,\n",
       " 'on it': 1646,\n",
       " 'and some': 150,\n",
       " 'in one': 1157,\n",
       " 'on my': 1647,\n",
       " 'my order': 1527,\n",
       " 'order and': 1691,\n",
       " 'with my': 2903,\n",
       " 'check out': 467,\n",
       " 'the entire': 2297,\n",
       " 'was very': 2770,\n",
       " 'clean and': 493,\n",
       " 'here and': 1072,\n",
       " 'were great': 2834,\n",
       " 'should be': 2051,\n",
       " 'getting': 927,\n",
       " 'such': 2176,\n",
       " 'reviews': 1932,\n",
       " 'any': 182,\n",
       " 'more': 1487,\n",
       " 'want': 2717,\n",
       " 'classic': 491,\n",
       " 'general': 914,\n",
       " 'quality': 1867,\n",
       " 'food but': 831,\n",
       " 'but not': 397,\n",
       " 'more than': 1490,\n",
       " 'that if': 2245,\n",
       " 'you want': 2987,\n",
       " 'or something': 1686,\n",
       " 'you can': 2963,\n",
       " 'can get': 433,\n",
       " 'not the': 1586,\n",
       " 'the place': 2358,\n",
       " 'if you want': 1137,\n",
       " 'you can get': 2964,\n",
       " 'horrible': 1100,\n",
       " 'decent': 594,\n",
       " 'servers': 2025,\n",
       " 'attitude': 262,\n",
       " 'ask': 237,\n",
       " 'simple': 2064,\n",
       " 'questions': 1870,\n",
       " 'clearly': 496,\n",
       " 'understand': 2638,\n",
       " 'their': 2408,\n",
       " 'own': 1732,\n",
       " 'give you': 939,\n",
       " 'when you': 2860,\n",
       " 'their own': 2411,\n",
       " 'addition': 39,\n",
       " 'being': 330,\n",
       " 'also': 69,\n",
       " 'little': 1350,\n",
       " 'market': 1421,\n",
       " 'where': 2861,\n",
       " 'purchase': 1863,\n",
       " 'well': 2823,\n",
       " 'things': 2457,\n",
       " 'friend': 883,\n",
       " 'bought': 359,\n",
       " 'employees': 712,\n",
       " 'helpful': 1067,\n",
       " 'is pretty': 1208,\n",
       " 'addition to': 40,\n",
       " 'is also': 1189,\n",
       " 'where you': 2863,\n",
       " 'as well': 232,\n",
       " 'well as': 2824,\n",
       " 'my friend': 1517,\n",
       " 'the employees': 2294,\n",
       " 'really nice': 1898,\n",
       " 'nice and': 1557,\n",
       " 'and helpful': 120,\n",
       " 'you have': 2970,\n",
       " 'have any': 1035,\n",
       " 'as well as': 233,\n",
       " 'if you have': 1134,\n",
       " 'product': 1857,\n",
       " 'almost': 64,\n",
       " 'line': 1346,\n",
       " 'since': 2066,\n",
       " 'right': 1939,\n",
       " 'make': 1408,\n",
       " 'sure': 2188,\n",
       " 'try': 2619,\n",
       " 'takes': 2207,\n",
       " 'couple': 555,\n",
       " 'there is': 2423,\n",
       " 'since it': 2067,\n",
       " 'the top': 2394,\n",
       " 'top of': 2595,\n",
       " 'make sure': 1410,\n",
       " 'try to': 2622,\n",
       " 'to make': 2536,\n",
       " 'make it': 1409,\n",
       " 'it to': 1252,\n",
       " 'and it': 126,\n",
       " 'couple of': 556,\n",
       " 'minutes to': 1472,\n",
       " 'get my': 921,\n",
       " 'family': 778,\n",
       " 'visiting': 2699,\n",
       " 'wanted': 2719,\n",
       " 'suggested': 2180,\n",
       " 'parents': 1743,\n",
       " 'lines': 1347,\n",
       " 'weekend': 2818,\n",
       " 'during': 690,\n",
       " 'lunch': 1399,\n",
       " 'gets': 926,\n",
       " 'pick': 1783,\n",
       " 'different': 622,\n",
       " 'soup': 2123,\n",
       " 'sandwich': 1970,\n",
       " 'sandwiches': 1971,\n",
       " 'salads': 1961,\n",
       " 'willing': 2889,\n",
       " 'ordered': 1693,\n",
       " 'basic': 294,\n",
       " 'turkey': 2627,\n",
       " 'steak': 2158,\n",
       " 'blue': 349,\n",
       " 'tried': 2611,\n",
       " 'large': 1312,\n",
       " 'portion': 1829,\n",
       " 'share': 2036,\n",
       " 'choose': 485,\n",
       " 'either': 707,\n",
       " 'white': 2872,\n",
       " 'meal': 1439,\n",
       " 'knew': 1295,\n",
       " 'could': 548,\n",
       " 'question': 1869,\n",
       " 'though': 2482,\n",
       " 'near': 1535,\n",
       " 'already': 68,\n",
       " 'coffee': 505,\n",
       " 'boyfriend': 363,\n",
       " 'average': 266,\n",
       " 'let': 1327,\n",
       " 'finish': 810,\n",
       " 'my family': 1513,\n",
       " 'they have': 2443,\n",
       " 'willing to': 2890,\n",
       " 'to pay': 2543,\n",
       " 'the steak': 2388,\n",
       " 'the first': 2301,\n",
       " 'first time': 814,\n",
       " 'were not': 2836,\n",
       " 'or the': 1687,\n",
       " 'had to': 1013,\n",
       " 'to share': 2549,\n",
       " 'it with': 1265,\n",
       " 'like that': 1336,\n",
       " 'with your': 2912,\n",
       " 'you could': 2965,\n",
       " 'for my': 849,\n",
       " 'my boyfriend': 1510,\n",
       " 'was just': 2745,\n",
       " 'the wrong': 2406,\n",
       " 'let me': 1328,\n",
       " 'it was the': 1261,\n",
       " 'the first time': 2302,\n",
       " 'and it was': 127,\n",
       " 'that you can': 2264,\n",
       " 'de': 591,\n",
       " 'tell': 2222,\n",
       " 'chicken': 474,\n",
       " 'dish': 632,\n",
       " 'left': 1323,\n",
       " 'serve': 2020,\n",
       " 'baked': 283,\n",
       " 'appetizer': 193,\n",
       " 'ok': 1638,\n",
       " 'food was': 835,\n",
       " 'not good': 1580,\n",
       " 'the chicken': 2283,\n",
       " 'the dish': 2291,\n",
       " 'was ok': 2753,\n",
       " 'did not': 613,\n",
       " 'menu and': 1454,\n",
       " 'will not': 2887,\n",
       " 'the food was': 2309,\n",
       " 'sunday': 2182,\n",
       " 'breakfast': 367,\n",
       " 'ambiance': 80,\n",
       " 'outdoor': 1722,\n",
       " 'available': 265,\n",
       " 'although': 73,\n",
       " 'stuck': 2171,\n",
       " 'variety': 2671,\n",
       " 'recommend': 1905,\n",
       " 'off': 1628,\n",
       " 'sold': 2104,\n",
       " 'here for': 1075,\n",
       " 'variety of': 2672,\n",
       " 've never': 2681,\n",
       " 'never had': 1549,\n",
       " 'definitely be': 601,\n",
       " 'be back': 301,\n",
       " 'definitely be back': 602,\n",
       " 'has': 1028,\n",
       " 'awesome': 271,\n",
       " 'add': 37,\n",
       " 'sauces': 1977,\n",
       " 'put': 1865,\n",
       " 'bowl': 360,\n",
       " 'fish': 815,\n",
       " 'selection': 2011,\n",
       " 'salmon': 1964,\n",
       " 'shrimp': 2058,\n",
       " 'tuna': 2626,\n",
       " 'rolls': 1945,\n",
       " 'sushi': 2194,\n",
       " 'am': 76,\n",
       " 'glad': 943,\n",
       " 'gives': 941,\n",
       " 'everyone': 745,\n",
       " 'place has': 1798,\n",
       " 'to put': 2545,\n",
       " 'in your': 1170,\n",
       " 'the fish': 2303,\n",
       " 'selection of': 2012,\n",
       " 'and fresh': 108,\n",
       " 'this restaurant': 2476,\n",
       " 'other than': 1701,\n",
       " 'these': 2429,\n",
       " 'vegan': 2682,\n",
       " 'non': 1567,\n",
       " 'are so': 205,\n",
       " 'anyone': 186,\n",
       " 'looking': 1375,\n",
       " 'kind': 1290,\n",
       " 'provided': 1861,\n",
       " 'services': 2030,\n",
       " 'find': 806,\n",
       " 'beautiful': 307,\n",
       " 'work': 2924,\n",
       " 'anywhere': 189,\n",
       " 'every': 743,\n",
       " 'member': 1449,\n",
       " 'both': 355,\n",
       " 'truly': 2617,\n",
       " 'enough': 724,\n",
       " 'positive': 1832,\n",
       " 'say': 1982,\n",
       " 'recently': 1904,\n",
       " 'course': 557,\n",
       " 'leave': 1321,\n",
       " 'kind of': 1291,\n",
       " 'any of': 183,\n",
       " 'of their': 1617,\n",
       " 'staff is': 2143,\n",
       " 'to say': 2547,\n",
       " 'had the': 1012,\n",
       " 'of these': 1619,\n",
       " 'you to': 2985,\n",
       " 'to give': 2523,\n",
       " 'feel like': 791,\n",
       " 'of the best': 1615,\n",
       " 'spicy': 2133,\n",
       " 'etc': 734,\n",
       " 'recent': 1903,\n",
       " 'hope': 1098,\n",
       " 'anything': 187,\n",
       " 'crazy': 564,\n",
       " 'hungry': 1116,\n",
       " 'part': 1748,\n",
       " 'cheaper': 464,\n",
       " 'fancy': 781,\n",
       " 'ones': 1669,\n",
       " 'much': 1502,\n",
       " 'six': 2075,\n",
       " 'bites': 346,\n",
       " 'incredibly': 1174,\n",
       " 'pre': 1839,\n",
       " 'half': 1016,\n",
       " 'price': 1846,\n",
       " 'says': 1987,\n",
       " 'given': 940,\n",
       " 'ingredients': 1178,\n",
       " 'guess': 999,\n",
       " 'disappointed': 629,\n",
       " 'seen': 2010,\n",
       " 'ten': 2226,\n",
       " 'issue': 1220,\n",
       " 'returning': 1930,\n",
       " 'goes': 958,\n",
       " 'here in': 1076,\n",
       " 'the sushi': 2391,\n",
       " 'at least': 248,\n",
       " 'the prices': 2364,\n",
       " 'prices are': 1849,\n",
       " 'to try': 2563,\n",
       " 'have to': 1045,\n",
       " 'of food': 1605,\n",
       " 'not to': 1587,\n",
       " 'to mention': 2539,\n",
       " 'the price': 2363,\n",
       " 'and that': 152,\n",
       " 'don think': 656,\n",
       " 'think the': 2461,\n",
       " 'it wasn': 1263,\n",
       " 'me it': 1434,\n",
       " 'it just': 1242,\n",
       " 'looking for': 1377,\n",
       " 'much more': 1504,\n",
       " 'won be': 2918,\n",
       " 'the prices are': 2365,\n",
       " 'it was good': 1257,\n",
       " 'you have to': 2971,\n",
       " 'love': 1387,\n",
       " 'old': 1640,\n",
       " 'school': 1989,\n",
       " 'decor': 598,\n",
       " 'room': 1946,\n",
       " 'been here': 321,\n",
       " 'years and': 2955,\n",
       " 'and now': 138,\n",
       " 'it it': 1241,\n",
       " 'was so': 2761,\n",
       " 'and love': 130,\n",
       " 'love the': 1389,\n",
       " 'the old': 2340,\n",
       " 'loved it': 1393,\n",
       " 'it had': 1237,\n",
       " 'and would': 177,\n",
       " 'would recommend': 2942,\n",
       " 'for it': 844,\n",
       " 'we will': 2810,\n",
       " 'it was so': 1260,\n",
       " 'will be back': 2883,\n",
       " 'cool': 544,\n",
       " 'neighborhood': 1546,\n",
       " 'bar': 286,\n",
       " ...}"
      ]
     },
     "execution_count": 681,
     "metadata": {},
     "output_type": "execute_result"
    }
   ],
   "source": [
    "vocab_dict = tfidfvect.vocabulary_\n",
    "vocab_dict"
   ]
  },
  {
   "cell_type": "code",
   "execution_count": 682,
   "metadata": {},
   "outputs": [
    {
     "data": {
      "text/plain": [
       "{'zero': 2999,\n",
       " 'yummy': 2998,\n",
       " 'yum': 2997,\n",
       " 'yourself': 2996,\n",
       " 'your own': 2995,\n",
       " 'your food': 2994,\n",
       " 'your': 2993,\n",
       " 'young': 2992,\n",
       " 'you would': 2991,\n",
       " 'you won': 2990,\n",
       " 'you will': 2989,\n",
       " 'you want to': 2988,\n",
       " 'you want': 2987,\n",
       " 'you ve': 2986,\n",
       " 'you to': 2985,\n",
       " 'you the': 2984,\n",
       " 'you should': 2983,\n",
       " 'you re looking': 2982,\n",
       " 'you re in': 2981,\n",
       " 'you re': 2980,\n",
       " 'you need to': 2979,\n",
       " 'you need': 2978,\n",
       " 'you might': 2977,\n",
       " 'you may': 2976,\n",
       " 'you ll': 2975,\n",
       " 'you like': 2974,\n",
       " 'you know': 2973,\n",
       " 'you just': 2972,\n",
       " 'you have to': 2971,\n",
       " 'you have': 2970,\n",
       " 'you go': 2969,\n",
       " 'you get': 2968,\n",
       " 'you don': 2967,\n",
       " 'you do': 2966,\n",
       " 'you could': 2965,\n",
       " 'you can get': 2964,\n",
       " 'you can': 2963,\n",
       " 'you are': 2962,\n",
       " 'you and': 2961,\n",
       " 'you': 2960,\n",
       " 'yet': 2959,\n",
       " 'yesterday': 2958,\n",
       " 'yes': 2957,\n",
       " 'yelp': 2956,\n",
       " 'years and': 2955,\n",
       " 'years ago': 2954,\n",
       " 'years': 2953,\n",
       " 'year old': 2952,\n",
       " 'year': 2951,\n",
       " 'yeah': 2950}"
      ]
     },
     "execution_count": 682,
     "metadata": {},
     "output_type": "execute_result"
    }
   ],
   "source": [
    "from collections import Counter\n",
    "dict(Counter(vocab_dict).most_common(50))"
   ]
  },
  {
   "cell_type": "code",
   "execution_count": null,
   "metadata": {},
   "outputs": [],
   "source": [
    "# plot most common words\n",
    "\n",
    "data = dict(Counter(vocab_dict).most_common(50))\n",
    "pd.DataFrame.from_dict(data)\n"
   ]
  },
  {
   "cell_type": "markdown",
   "metadata": {},
   "source": [
    "## Modeling ##"
   ]
  },
  {
   "cell_type": "code",
   "execution_count": 637,
   "metadata": {},
   "outputs": [],
   "source": [
    "## modeling from py file\n",
    "import sys, importlib\n",
    "importlib.reload(sys.modules['mymodels'])\n",
    "from mymodels import *\n"
   ]
  },
  {
   "cell_type": "code",
   "execution_count": 638,
   "metadata": {},
   "outputs": [],
   "source": [
    "# logistic regression\n",
    "\n",
    "y_pred_lr, y_proba_lr = log_reg_model(X_train_tfidf, X_test_tfidf, y_train)\n",
    "\n"
   ]
  },
  {
   "cell_type": "code",
   "execution_count": 639,
   "metadata": {
    "scrolled": true
   },
   "outputs": [],
   "source": [
    "# naive bayes\n",
    "\n",
    "y_pred_nb, y_proba_nb = naive_bayes_model(X_train_tfidf, X_test_tfidf, y_train)"
   ]
  },
  {
   "cell_type": "code",
   "execution_count": 648,
   "metadata": {},
   "outputs": [],
   "source": [
    "# random forest\n",
    "\n",
    "y_pred_rf, y_proba_rf = random_forest_model(X_train_tfidf, X_test_tfidf, y_train)"
   ]
  },
  {
   "cell_type": "code",
   "execution_count": 653,
   "metadata": {},
   "outputs": [],
   "source": [
    "# gradient boosting\n",
    "# ran for > 1hr\n",
    "\n",
    "y_pred_gbc, y_proba_gbc = gradient_boosting_model(X_train_tfidf, X_test_tfidf, y_train)"
   ]
  },
  {
   "cell_type": "code",
   "execution_count": 654,
   "metadata": {},
   "outputs": [],
   "source": [
    "# calculate scores\n",
    "\n",
    "accuracy_scores = []\n",
    "precision_scores = []\n",
    "recall_scores = []\n",
    "\n",
    "y_preds = [y_pred_lr, y_pred_nb, y_pred_rf, y_pred_gbc]\n",
    "\n",
    "for y_pred in y_preds:\n",
    "    accuracy = accuracy_score(y_test, y_pred)\n",
    "    accuracy_scores.append(accuracy)\n",
    "    \n",
    "    precision = precision_score(y_test, y_pred)\n",
    "    precision_scores.append(precision)\n",
    "    \n",
    "    recall = recall_score(y_test, y_pred)\n",
    "    recall_scores.append(recall)\n",
    "    \n",
    "# print(\"Accuracy:\", accuracy_score(y_test, y_pred_lr_test))\n",
    "# print(\"Precision:\", precision_score(y_test, y_pred_lr_test))\n",
    "# print(\"Recall:\", recall_score(y_test, y_pred_lr_test))\n"
   ]
  },
  {
   "cell_type": "code",
   "execution_count": 655,
   "metadata": {},
   "outputs": [
    {
     "data": {
      "text/plain": [
       "[0.75895, 0.722275, 0.707, 0.7457]"
      ]
     },
     "execution_count": 655,
     "metadata": {},
     "output_type": "execute_result"
    }
   ],
   "source": [
    "accuracy_scores"
   ]
  },
  {
   "cell_type": "code",
   "execution_count": 656,
   "metadata": {},
   "outputs": [
    {
     "data": {
      "text/plain": [
       "[0.761493522987046, 0.7081486371781571, 0.7138173302107729, 0.748992809424244]"
      ]
     },
     "execution_count": 656,
     "metadata": {},
     "output_type": "execute_result"
    }
   ],
   "source": [
    "precision_scores"
   ]
  },
  {
   "cell_type": "code",
   "execution_count": 657,
   "metadata": {},
   "outputs": [
    {
     "data": {
      "text/plain": [
       "[0.7518683854140543, 0.753222651351758, 0.6879670963535136, 0.7366705121131565]"
      ]
     },
     "execution_count": 657,
     "metadata": {},
     "output_type": "execute_result"
    }
   ],
   "source": [
    "recall_scores"
   ]
  },
  {
   "cell_type": "code",
   "execution_count": 683,
   "metadata": {},
   "outputs": [],
   "source": [
    "def plot_ROC(ax, fpr, tpr):\n",
    "    ax.plot([1]+list(fpr), [1]+list(tpr), label=\"ROC\")\n",
    "    ax.plot([0,1],[0,1], 'k', label=\"random\")\n",
    "    ax.set_xlabel('fpr')\n",
    "    ax.set_xlabel('fpr')\n",
    "    ax.set_ylabel('tpr')\n",
    "    ax.set_title('ROC Curve')\n",
    "    ax.legend()"
   ]
  },
  {
   "cell_type": "code",
   "execution_count": 667,
   "metadata": {},
   "outputs": [
    {
     "name": "stdout",
     "output_type": "stream",
     "text": [
      "0.8378488873055842\n",
      "0.7962700897399655\n",
      "0.7751337275144112\n",
      "0.8266901765832771\n"
     ]
    },
    {
     "name": "stderr",
     "output_type": "stream",
     "text": [
      "<ipython-input-667-fb5df8d00f95>:26: MatplotlibDeprecationWarning: savefig() got unexpected keyword argument \"bbox\" which is no longer supported as of 3.3 and will become an error two minor releases later\n",
      "  plt.savefig('roccurves.png', bbox='tight')\n"
     ]
    },
    {
     "data": {
      "image/png": "[encoded data removed]",
      "text/plain": [
       "<Figure size 1152x1152 with 4 Axes>"
      ]
     },
     "metadata": {},
     "output_type": "display_data"
    }
   ],
   "source": [
    "# calculate AUC\n",
    "\n",
    "# ROC curves\n",
    "fig, ((ax0, ax1), (ax2, ax3)) = plt.subplots(2,2, figsize = (16,16))\n",
    "\n",
    "fpr0, tpr0, threshold0 = roc_curve(y_test, y_proba_lr)\n",
    "plot_ROC(ax0, fpr, tpr)\n",
    "ax0.title.set_text('ROC Logistic Regression')\n",
    "print(auc(fpr0, tpr0))\n",
    "\n",
    "fpr1, tpr1, threshold1 = roc_curve(y_test, y_proba_nb)\n",
    "plot_ROC(ax1, fpr1, tpr1)\n",
    "ax1.title.set_text('ROC Naive Bayes')\n",
    "print(auc(fpr1, tpr1))\n",
    "\n",
    "fpr2, tpr2, threshold2 = roc_curve(y_test, y_proba_rf)\n",
    "plot_ROC(ax2, fpr2, tpr2)\n",
    "ax2.title.set_text('ROC Random Forest')\n",
    "print(auc(fpr2, tpr2))\n",
    "\n",
    "fpr3, tpr3, threshold3 = roc_curve(y_test, y_proba_gbc)\n",
    "plot_ROC(ax3, fpr3, tpr3)\n",
    "ax3.title.set_text('ROC Gradient Boosting')\n",
    "print(auc(fpr3, tpr3))\n",
    "\n",
    "plt.savefig('roccurves.png', bbox='tight')"
   ]
  },
  {
   "cell_type": "markdown",
   "metadata": {},
   "source": [
    "### Logistic Regression ###"
   ]
  },
  {
   "cell_type": "code",
   "execution_count": 387,
   "metadata": {},
   "outputs": [
    {
     "name": "stdout",
     "output_type": "stream",
     "text": [
      "[0.76      0.7509375 0.751875  0.751875  0.7559375]\n"
     ]
    }
   ],
   "source": [
    "# Cross validation\n",
    "print(cross_val_score(lr, X_train_tfidf, y_train, cv=5))\n"
   ]
  },
  {
   "cell_type": "code",
   "execution_count": 694,
   "metadata": {},
   "outputs": [
    {
     "data": {
      "text/plain": [
       "array([[15368,  4695],\n",
       "       [ 4947, 14990]])"
      ]
     },
     "execution_count": 694,
     "metadata": {},
     "output_type": "execute_result"
    }
   ],
   "source": [
    "# confusion matrix\n",
    "\n",
    "confusion_matrix(y_test, y_pred_lr)\n",
    "# true positive, false negative\n",
    "# false positive, true negative"
   ]
  },
  {
   "cell_type": "code",
   "execution_count": 423,
   "metadata": {},
   "outputs": [
    {
     "data": {
      "text/plain": [
       "LogisticRegression(max_iter=500, random_state=0)"
      ]
     },
     "execution_count": 423,
     "metadata": {},
     "output_type": "execute_result"
    }
   ],
   "source": [
    "lr = LogisticRegression(random_state=0, max_iter = 500)\n",
    "lr.fit(X_train_tfidf, y_train)\n"
   ]
  },
  {
   "cell_type": "code",
   "execution_count": 424,
   "metadata": {},
   "outputs": [],
   "source": [
    "y_pred_lr_test = lr.predict(X_test_tfidf)\n",
    "y_proba_lr_test = lr.predict_proba(X_test_tfidf)[:,1]\n"
   ]
  },
  {
   "cell_type": "code",
   "execution_count": 452,
   "metadata": {},
   "outputs": [
    {
     "name": "stdout",
     "output_type": "stream",
     "text": [
      "Accuracy: 0.758575\n",
      "Precision: 0.7613382143583486\n",
      "Recall: 0.7510658574509705\n"
     ]
    }
   ],
   "source": [
    "print(\"Accuracy:\", accuracy_score(y_test, y_pred_lr_test))\n",
    "print(\"Precision:\", precision_score(y_test, y_pred_lr_test))\n",
    "print(\"Recall:\", recall_score(y_test, y_pred_lr_test))"
   ]
  },
  {
   "cell_type": "code",
   "execution_count": 684,
   "metadata": {},
   "outputs": [
    {
     "name": "stdout",
     "output_type": "stream",
     "text": [
      "0.8379697085044326\n"
     ]
    },
    {
     "data": {
      "image/png": "[encoded data removed]",
      "text/plain": [
       "<Figure size 576x576 with 1 Axes>"
      ]
     },
     "metadata": {},
     "output_type": "display_data"
    }
   ],
   "source": [
    "fig, ax = plt.subplots(figsize = (8,8))\n",
    "\n",
    "fpr, tpr, threshold = roc_curve(y_test, y_proba_lr_test)\n",
    "plot_ROC(ax, fpr, tpr)\n",
    "print(auc(fpr, tpr))"
   ]
  },
  {
   "cell_type": "code",
   "execution_count": 577,
   "metadata": {},
   "outputs": [
    {
     "data": {
      "text/plain": [
       "array([ 0.84734555, -0.06424313,  0.16434035, ..., -0.35452723,\n",
       "       -0.58568149,  0.89402857])"
      ]
     },
     "execution_count": 577,
     "metadata": {},
     "output_type": "execute_result"
    }
   ],
   "source": [
    "lr.coef_[0]\n"
   ]
  },
  {
   "cell_type": "markdown",
   "metadata": {},
   "source": [
    "## Feature Importance ##"
   ]
  },
  {
   "cell_type": "code",
   "execution_count": 686,
   "metadata": {},
   "outputs": [],
   "source": [
    "# words indices\n",
    "# logistic regression\n",
    "\n",
    "important_tokens = pd.DataFrame(\n",
    "    data=lr.coef_[0],\n",
    "    index=tfidfvect.get_feature_names(),\n",
    "    columns=['coefficient']\n",
    ").sort_values(by='coefficient', ascending=False)\n"
   ]
  },
  {
   "cell_type": "code",
   "execution_count": 687,
   "metadata": {},
   "outputs": [
    {
     "data": {
      "text/html": [
       "<div>\n",
       "<style scoped>\n",
       "    .dataframe tbody tr th:only-of-type {\n",
       "        vertical-align: middle;\n",
       "    }\n",
       "\n",
       "    .dataframe tbody tr th {\n",
       "        vertical-align: top;\n",
       "    }\n",
       "\n",
       "    .dataframe thead th {\n",
       "        text-align: right;\n",
       "    }\n",
       "</style>\n",
       "<table border=\"1\" class=\"dataframe\">\n",
       "  <thead>\n",
       "    <tr style=\"text-align: right;\">\n",
       "      <th></th>\n",
       "      <th>coefficient</th>\n",
       "    </tr>\n",
       "  </thead>\n",
       "  <tbody>\n",
       "    <tr>\n",
       "      <th>sign</th>\n",
       "      <td>4.815394</td>\n",
       "    </tr>\n",
       "    <tr>\n",
       "      <th>here in</th>\n",
       "      <td>4.413866</td>\n",
       "    </tr>\n",
       "    <tr>\n",
       "      <th>during</th>\n",
       "      <td>4.264290</td>\n",
       "    </tr>\n",
       "    <tr>\n",
       "      <th>ask</th>\n",
       "      <td>4.254569</td>\n",
       "    </tr>\n",
       "    <tr>\n",
       "      <th>of their</th>\n",
       "      <td>3.848449</td>\n",
       "    </tr>\n",
       "    <tr>\n",
       "      <th>each other</th>\n",
       "      <td>3.667882</td>\n",
       "    </tr>\n",
       "    <tr>\n",
       "      <th>the</th>\n",
       "      <td>3.581087</td>\n",
       "    </tr>\n",
       "    <tr>\n",
       "      <th>you and</th>\n",
       "      <td>3.429746</td>\n",
       "    </tr>\n",
       "    <tr>\n",
       "      <th>day</th>\n",
       "      <td>3.401221</td>\n",
       "    </tr>\n",
       "    <tr>\n",
       "      <th>you</th>\n",
       "      <td>3.289040</td>\n",
       "    </tr>\n",
       "    <tr>\n",
       "      <th>good as</th>\n",
       "      <td>3.284011</td>\n",
       "    </tr>\n",
       "    <tr>\n",
       "      <th>you can get</th>\n",
       "      <td>3.166157</td>\n",
       "    </tr>\n",
       "    <tr>\n",
       "      <th>long time</th>\n",
       "      <td>3.132983</td>\n",
       "    </tr>\n",
       "    <tr>\n",
       "      <th>cream</th>\n",
       "      <td>3.013785</td>\n",
       "    </tr>\n",
       "    <tr>\n",
       "      <th>if we</th>\n",
       "      <td>3.001910</td>\n",
       "    </tr>\n",
       "    <tr>\n",
       "      <th>or two</th>\n",
       "      <td>2.980694</td>\n",
       "    </tr>\n",
       "    <tr>\n",
       "      <th>room</th>\n",
       "      <td>2.912043</td>\n",
       "    </tr>\n",
       "    <tr>\n",
       "      <th>me the</th>\n",
       "      <td>2.879245</td>\n",
       "    </tr>\n",
       "    <tr>\n",
       "      <th>hidden</th>\n",
       "      <td>2.856358</td>\n",
       "    </tr>\n",
       "    <tr>\n",
       "      <th>like you</th>\n",
       "      <td>2.851151</td>\n",
       "    </tr>\n",
       "    <tr>\n",
       "      <th>have to</th>\n",
       "      <td>2.801540</td>\n",
       "    </tr>\n",
       "    <tr>\n",
       "      <th>on our</th>\n",
       "      <td>2.727922</td>\n",
       "    </tr>\n",
       "    <tr>\n",
       "      <th>she</th>\n",
       "      <td>2.668181</td>\n",
       "    </tr>\n",
       "    <tr>\n",
       "      <th>family</th>\n",
       "      <td>2.634175</td>\n",
       "    </tr>\n",
       "    <tr>\n",
       "      <th>years ago</th>\n",
       "      <td>2.614644</td>\n",
       "    </tr>\n",
       "    <tr>\n",
       "      <th>glad</th>\n",
       "      <td>2.608857</td>\n",
       "    </tr>\n",
       "    <tr>\n",
       "      <th>homemade</th>\n",
       "      <td>2.606366</td>\n",
       "    </tr>\n",
       "    <tr>\n",
       "      <th>mention</th>\n",
       "      <td>2.604652</td>\n",
       "    </tr>\n",
       "    <tr>\n",
       "      <th>this review</th>\n",
       "      <td>2.604060</td>\n",
       "    </tr>\n",
       "    <tr>\n",
       "      <th>you ve</th>\n",
       "      <td>2.551251</td>\n",
       "    </tr>\n",
       "    <tr>\n",
       "      <th>club</th>\n",
       "      <td>2.401836</td>\n",
       "    </tr>\n",
       "    <tr>\n",
       "      <th>made the</th>\n",
       "      <td>2.352035</td>\n",
       "    </tr>\n",
       "    <tr>\n",
       "      <th>wonderful</th>\n",
       "      <td>2.339958</td>\n",
       "    </tr>\n",
       "    <tr>\n",
       "      <th>anything</th>\n",
       "      <td>2.339865</td>\n",
       "    </tr>\n",
       "    <tr>\n",
       "      <th>dog</th>\n",
       "      <td>2.278718</td>\n",
       "    </tr>\n",
       "    <tr>\n",
       "      <th>of this</th>\n",
       "      <td>2.269901</td>\n",
       "    </tr>\n",
       "    <tr>\n",
       "      <th>this location</th>\n",
       "      <td>2.254636</td>\n",
       "    </tr>\n",
       "    <tr>\n",
       "      <th>feels</th>\n",
       "      <td>2.232906</td>\n",
       "    </tr>\n",
       "    <tr>\n",
       "      <th>working</th>\n",
       "      <td>2.228698</td>\n",
       "    </tr>\n",
       "    <tr>\n",
       "      <th>my husband</th>\n",
       "      <td>2.215790</td>\n",
       "    </tr>\n",
       "    <tr>\n",
       "      <th>in the back</th>\n",
       "      <td>2.212374</td>\n",
       "    </tr>\n",
       "    <tr>\n",
       "      <th>your</th>\n",
       "      <td>2.156533</td>\n",
       "    </tr>\n",
       "    <tr>\n",
       "      <th>may be</th>\n",
       "      <td>2.156154</td>\n",
       "    </tr>\n",
       "    <tr>\n",
       "      <th>fan of</th>\n",
       "      <td>2.154567</td>\n",
       "    </tr>\n",
       "    <tr>\n",
       "      <th>middle of</th>\n",
       "      <td>2.141250</td>\n",
       "    </tr>\n",
       "    <tr>\n",
       "      <th>style</th>\n",
       "      <td>2.139785</td>\n",
       "    </tr>\n",
       "    <tr>\n",
       "      <th>speak</th>\n",
       "      <td>2.106701</td>\n",
       "    </tr>\n",
       "    <tr>\n",
       "      <th>pretty</th>\n",
       "      <td>2.098562</td>\n",
       "    </tr>\n",
       "    <tr>\n",
       "      <th>day and</th>\n",
       "      <td>2.095175</td>\n",
       "    </tr>\n",
       "    <tr>\n",
       "      <th>years</th>\n",
       "      <td>2.086128</td>\n",
       "    </tr>\n",
       "  </tbody>\n",
       "</table>\n",
       "</div>"
      ],
      "text/plain": [
       "               coefficient\n",
       "sign              4.815394\n",
       "here in           4.413866\n",
       "during            4.264290\n",
       "ask               4.254569\n",
       "of their          3.848449\n",
       "each other        3.667882\n",
       "the               3.581087\n",
       "you and           3.429746\n",
       "day               3.401221\n",
       "you               3.289040\n",
       "good as           3.284011\n",
       "you can get       3.166157\n",
       "long time         3.132983\n",
       "cream             3.013785\n",
       "if we             3.001910\n",
       "or two            2.980694\n",
       "room              2.912043\n",
       "me the            2.879245\n",
       "hidden            2.856358\n",
       "like you          2.851151\n",
       "have to           2.801540\n",
       "on our            2.727922\n",
       "she               2.668181\n",
       "family            2.634175\n",
       "years ago         2.614644\n",
       "glad              2.608857\n",
       "homemade          2.606366\n",
       "mention           2.604652\n",
       "this review       2.604060\n",
       "you ve            2.551251\n",
       "club              2.401836\n",
       "made the          2.352035\n",
       "wonderful         2.339958\n",
       "anything          2.339865\n",
       "dog               2.278718\n",
       "of this           2.269901\n",
       "this location     2.254636\n",
       "feels             2.232906\n",
       "working           2.228698\n",
       "my husband        2.215790\n",
       "in the back       2.212374\n",
       "your              2.156533\n",
       "may be            2.156154\n",
       "fan of            2.154567\n",
       "middle of         2.141250\n",
       "style             2.139785\n",
       "speak             2.106701\n",
       "pretty            2.098562\n",
       "day and           2.095175\n",
       "years             2.086128"
      ]
     },
     "execution_count": 687,
     "metadata": {},
     "output_type": "execute_result"
    }
   ],
   "source": [
    "important_tokens.head(50)\n"
   ]
  },
  {
   "cell_type": "markdown",
   "metadata": {},
   "source": [
    "### Random Forest ###"
   ]
  },
  {
   "cell_type": "code",
   "execution_count": 689,
   "metadata": {},
   "outputs": [
    {
     "data": {
      "text/plain": [
       "array([[14564,  5499],\n",
       "       [ 6221, 13716]])"
      ]
     },
     "execution_count": 689,
     "metadata": {},
     "output_type": "execute_result"
    }
   ],
   "source": [
    "confusion_matrix(y_test, y_pred_rf)\n"
   ]
  },
  {
   "cell_type": "markdown",
   "metadata": {},
   "source": [
    "### Gradient Boosted Logistic Regression ###"
   ]
  },
  {
   "cell_type": "code",
   "execution_count": 688,
   "metadata": {},
   "outputs": [
    {
     "data": {
      "text/plain": [
       "array([[15141,  4922],\n",
       "       [ 5250, 14687]])"
      ]
     },
     "execution_count": 688,
     "metadata": {},
     "output_type": "execute_result"
    }
   ],
   "source": [
    "# confusion matrix\n",
    "\n",
    "confusion_matrix(y_test, y_pred_gbc)\n"
   ]
  },
  {
   "cell_type": "markdown",
   "metadata": {},
   "source": [
    "### Naive Bayes ###"
   ]
  },
  {
   "cell_type": "code",
   "execution_count": 690,
   "metadata": {},
   "outputs": [
    {
     "data": {
      "text/plain": [
       "array([[13874,  6189],\n",
       "       [ 4920, 15017]])"
      ]
     },
     "execution_count": 690,
     "metadata": {},
     "output_type": "execute_result"
    }
   ],
   "source": [
    "confusion_matrix(y_test, y_pred_nb)"
   ]
  },
  {
   "cell_type": "markdown",
   "metadata": {},
   "source": [
    "## Deep Learning (capstone 3) ##"
   ]
  },
  {
   "cell_type": "code",
   "execution_count": 347,
   "metadata": {},
   "outputs": [
    {
     "ename": "ModuleNotFoundError",
     "evalue": "No module named 'tensorflow'",
     "output_type": "error",
     "traceback": [
      "\u001b[0;31m---------------------------------------------------------------------------\u001b[0m",
      "\u001b[0;31mModuleNotFoundError\u001b[0m                       Traceback (most recent call last)",
      "\u001b[0;32m<ipython-input-347-0c279502ad9e>\u001b[0m in \u001b[0;36m<module>\u001b[0;34m\u001b[0m\n\u001b[1;32m      3\u001b[0m \u001b[0;34m\u001b[0m\u001b[0m\n\u001b[1;32m      4\u001b[0m \u001b[0;31m# need keras\u001b[0m\u001b[0;34m\u001b[0m\u001b[0;34m\u001b[0m\u001b[0;34m\u001b[0m\u001b[0m\n\u001b[0;32m----> 5\u001b[0;31m \u001b[0;32mimport\u001b[0m \u001b[0mtensorflow\u001b[0m \u001b[0;32mas\u001b[0m \u001b[0mtf\u001b[0m\u001b[0;34m\u001b[0m\u001b[0;34m\u001b[0m\u001b[0m\n\u001b[0m\u001b[1;32m      6\u001b[0m \u001b[0;32mfrom\u001b[0m \u001b[0mtensorflow\u001b[0m\u001b[0;34m.\u001b[0m\u001b[0mkeras\u001b[0m \u001b[0;32mimport\u001b[0m \u001b[0mlayers\u001b[0m\u001b[0;34m\u001b[0m\u001b[0;34m\u001b[0m\u001b[0m\n",
      "\u001b[0;31mModuleNotFoundError\u001b[0m: No module named 'tensorflow'"
     ]
    }
   ],
   "source": [
    "# Feedforward Networks/Multi-layer Perceptrons on top of BOW representation\n",
    "# 25 epochs, batch size 50?\n",
    "\n",
    "# need keras\n",
    "import tensorflow as tf\n",
    "from tensorflow.keras import layers\n",
    "keras = tf.keras\n",
    "\n",
    "from tensorflow.keras.models import Sequential\n",
    "from tensorflow.keras.layers import Dense, Dropout, Activation\n",
    "from tensorflow.keras.optimizers import SGD"
   ]
  },
  {
   "cell_type": "code",
   "execution_count": null,
   "metadata": {},
   "outputs": [],
   "source": [
    "nn = Sequential()\n",
    "\n",
    "n_samples, n_feats = X_train.shape\n",
    "\n",
    "denselayer = Dense(units=1,\n",
    "                input_dim=n_feats,\n",
    "                kernel_initializer='uniform',\n",
    "                activation='sigmoid')\n",
    "\n",
    "nn.add(denselayer)\n",
    "\n",
    "nn.compile(loss='log',\n",
    "           optimizer='sgd',\n",
    "           metrics=[Precision(), Recall(), 'accuracy'])\n",
    "\n",
    "nn.add(Activation(tf.nn.relu)) #vs sigmoid?\n",
    "\n",
    "nn.add(.Dropout(rate=0.5))"
   ]
  },
  {
   "cell_type": "code",
   "execution_count": null,
   "metadata": {},
   "outputs": [],
   "source": [
    "nn.fit(x_train, y_train, epochs=10, batch_size=32)"
   ]
  },
  {
   "cell_type": "code",
   "execution_count": null,
   "metadata": {},
   "outputs": [],
   "source": [
    "# Convolutional Network"
   ]
  }
 ],
 "metadata": {
  "kernelspec": {
   "display_name": "Python 3",
   "language": "python",
   "name": "python3"
  },
  "language_info": {
   "codemirror_mode": {
    "name": "ipython",
    "version": 3
   },
   "file_extension": ".py",
   "mimetype": "text/x-python",
   "name": "python",
   "nbconvert_exporter": "python",
   "pygments_lexer": "ipython3",
   "version": "3.8.5"
  }
 },
 "nbformat": 4,
 "nbformat_minor": 4
}
