{
 "cells": [
  {
   "cell_type": "code",
   "execution_count": 348,
   "metadata": {},
   "outputs": [],
   "source": [
    "import pandas as pd\n",
    "import numpy as np\n",
    "import matplotlib.pyplot as plt\n",
    "import seaborn as sns\n",
    "plt.style.use(\"ggplot\")\n",
    "%matplotlib inline\n",
    "\n",
    "import string\n",
    "import unicodedata\n",
    "\n",
    "import json\n",
    "import nltk\n",
    "from collections import Counter\n",
    "\n",
    "from nltk.tokenize import sent_tokenize\n",
    "from nltk.tokenize import word_tokenize\n",
    "from nltk.corpus import stopwords\n",
    "from nltk.stem.porter import PorterStemmer\n",
    "from nltk.stem.snowball import SnowballStemmer\n",
    "from nltk.util import ngrams\n",
    "from nltk import pos_tag\n",
    "from nltk import RegexpParser\n",
    "\n",
    "from sklearn.model_selection import train_test_split, KFold\n",
    "from sklearn.preprocessing import StandardScaler\n",
    "from sklearn.feature_extraction.text import CountVectorizer, TfidfVectorizer\n",
    "from sklearn.linear_model import LogisticRegression\n",
    "from sklearn.ensemble import RandomForestClassifier, GradientBoostingClassifier\n",
    "from sklearn.naive_bayes import MultinomialNB\n",
    "from sklearn.metrics import confusion_matrix, precision_score, recall_score, accuracy_score, roc_curve, auc\n",
    "\n",
    "import tensorflow as tf\n",
    "from tensorflow import keras\n",
    "from keras.preprocessing.text import Tokenizer\n",
    "from keras.preprocessing.sequence import pad_sequences\n",
    "from tensorflow.keras.models import Sequential\n",
    "from tensorflow.keras.layers import Dense, Embedding, LSTM, SpatialDropout1D\n",
    "from tensorflow.keras.callbacks import EarlyStopping"
   ]
  },
  {
   "cell_type": "code",
   "execution_count": 14,
   "metadata": {},
   "outputs": [
    {
     "name": "stdout",
     "output_type": "stream",
     "text": [
      "README.md             \u001b[34mimgs\u001b[m\u001b[m                  spark capstone2.ipynb\r\n",
      "\u001b[34m__pycache__\u001b[m\u001b[m           notfunny.csv          \u001b[34msrc\u001b[m\u001b[m\r\n",
      "\u001b[34mdata\u001b[m\u001b[m                  reviews.ipynb         unused.py\r\n",
      "funny.csv             roc_curve.py          \u001b[34myelp_dataset\u001b[m\u001b[m\r\n"
     ]
    }
   ],
   "source": [
    "! ls"
   ]
  },
  {
   "cell_type": "markdown",
   "metadata": {},
   "source": [
    "## Load and convert data ##"
   ]
  },
  {
   "cell_type": "code",
   "execution_count": 13,
   "metadata": {},
   "outputs": [],
   "source": [
    "# read in Yelp Reviews\n",
    "  \n",
    "data = [json.loads(line) for line in open('yelp_dataset/yelp_academic_dataset_review.json', 'r')]"
   ]
  },
  {
   "cell_type": "code",
   "execution_count": 18,
   "metadata": {},
   "outputs": [],
   "source": [
    "reviews_df = pd.DataFrame(data)"
   ]
  },
  {
   "cell_type": "code",
   "execution_count": 19,
   "metadata": {},
   "outputs": [
    {
     "data": {
      "text/html": [
       "<div>\n",
       "<style scoped>\n",
       "    .dataframe tbody tr th:only-of-type {\n",
       "        vertical-align: middle;\n",
       "    }\n",
       "\n",
       "    .dataframe tbody tr th {\n",
       "        vertical-align: top;\n",
       "    }\n",
       "\n",
       "    .dataframe thead th {\n",
       "        text-align: right;\n",
       "    }\n",
       "</style>\n",
       "<table border=\"1\" class=\"dataframe\">\n",
       "  <thead>\n",
       "    <tr style=\"text-align: right;\">\n",
       "      <th></th>\n",
       "      <th>review_id</th>\n",
       "      <th>user_id</th>\n",
       "      <th>business_id</th>\n",
       "      <th>stars</th>\n",
       "      <th>useful</th>\n",
       "      <th>funny</th>\n",
       "      <th>cool</th>\n",
       "      <th>text</th>\n",
       "      <th>date</th>\n",
       "    </tr>\n",
       "  </thead>\n",
       "  <tbody>\n",
       "    <tr>\n",
       "      <th>0</th>\n",
       "      <td>lWC-xP3rd6obsecCYsGZRg</td>\n",
       "      <td>ak0TdVmGKo4pwqdJSTLwWw</td>\n",
       "      <td>buF9druCkbuXLX526sGELQ</td>\n",
       "      <td>4.0</td>\n",
       "      <td>3</td>\n",
       "      <td>1</td>\n",
       "      <td>1</td>\n",
       "      <td>Apparently Prides Osteria had a rough summer a...</td>\n",
       "      <td>2014-10-11 03:34:02</td>\n",
       "    </tr>\n",
       "    <tr>\n",
       "      <th>1</th>\n",
       "      <td>8bFej1QE5LXp4O05qjGqXA</td>\n",
       "      <td>YoVfDbnISlW0f7abNQACIg</td>\n",
       "      <td>RA4V8pr014UyUbDvI-LW2A</td>\n",
       "      <td>4.0</td>\n",
       "      <td>1</td>\n",
       "      <td>0</td>\n",
       "      <td>0</td>\n",
       "      <td>This store is pretty good. Not as great as Wal...</td>\n",
       "      <td>2015-07-03 20:38:25</td>\n",
       "    </tr>\n",
       "    <tr>\n",
       "      <th>2</th>\n",
       "      <td>NDhkzczKjLshODbqDoNLSg</td>\n",
       "      <td>eC5evKn1TWDyHCyQAwguUw</td>\n",
       "      <td>_sS2LBIGNT5NQb6PD1Vtjw</td>\n",
       "      <td>5.0</td>\n",
       "      <td>0</td>\n",
       "      <td>0</td>\n",
       "      <td>0</td>\n",
       "      <td>I called WVM on the recommendation of a couple...</td>\n",
       "      <td>2013-05-28 20:38:06</td>\n",
       "    </tr>\n",
       "    <tr>\n",
       "      <th>3</th>\n",
       "      <td>T5fAqjjFooT4V0OeZyuk1w</td>\n",
       "      <td>SFQ1jcnGguO0LYWnbbftAA</td>\n",
       "      <td>0AzLzHfOJgL7ROwhdww2ew</td>\n",
       "      <td>2.0</td>\n",
       "      <td>1</td>\n",
       "      <td>1</td>\n",
       "      <td>1</td>\n",
       "      <td>I've stayed at many Marriott and Renaissance M...</td>\n",
       "      <td>2010-01-08 02:29:15</td>\n",
       "    </tr>\n",
       "    <tr>\n",
       "      <th>4</th>\n",
       "      <td>sjm_uUcQVxab_EeLCqsYLg</td>\n",
       "      <td>0kA0PAJ8QFMeveQWHFqz2A</td>\n",
       "      <td>8zehGz9jnxPqXtOc7KaJxA</td>\n",
       "      <td>4.0</td>\n",
       "      <td>0</td>\n",
       "      <td>0</td>\n",
       "      <td>0</td>\n",
       "      <td>The food is always great here. The service fro...</td>\n",
       "      <td>2011-07-28 18:05:01</td>\n",
       "    </tr>\n",
       "  </tbody>\n",
       "</table>\n",
       "</div>"
      ],
      "text/plain": [
       "                review_id                 user_id             business_id  \\\n",
       "0  lWC-xP3rd6obsecCYsGZRg  ak0TdVmGKo4pwqdJSTLwWw  buF9druCkbuXLX526sGELQ   \n",
       "1  8bFej1QE5LXp4O05qjGqXA  YoVfDbnISlW0f7abNQACIg  RA4V8pr014UyUbDvI-LW2A   \n",
       "2  NDhkzczKjLshODbqDoNLSg  eC5evKn1TWDyHCyQAwguUw  _sS2LBIGNT5NQb6PD1Vtjw   \n",
       "3  T5fAqjjFooT4V0OeZyuk1w  SFQ1jcnGguO0LYWnbbftAA  0AzLzHfOJgL7ROwhdww2ew   \n",
       "4  sjm_uUcQVxab_EeLCqsYLg  0kA0PAJ8QFMeveQWHFqz2A  8zehGz9jnxPqXtOc7KaJxA   \n",
       "\n",
       "   stars  useful  funny  cool  \\\n",
       "0    4.0       3      1     1   \n",
       "1    4.0       1      0     0   \n",
       "2    5.0       0      0     0   \n",
       "3    2.0       1      1     1   \n",
       "4    4.0       0      0     0   \n",
       "\n",
       "                                                text                 date  \n",
       "0  Apparently Prides Osteria had a rough summer a...  2014-10-11 03:34:02  \n",
       "1  This store is pretty good. Not as great as Wal...  2015-07-03 20:38:25  \n",
       "2  I called WVM on the recommendation of a couple...  2013-05-28 20:38:06  \n",
       "3  I've stayed at many Marriott and Renaissance M...  2010-01-08 02:29:15  \n",
       "4  The food is always great here. The service fro...  2011-07-28 18:05:01  "
      ]
     },
     "execution_count": 19,
     "metadata": {},
     "output_type": "execute_result"
    }
   ],
   "source": [
    "reviews_df.head()"
   ]
  },
  {
   "cell_type": "code",
   "execution_count": 20,
   "metadata": {},
   "outputs": [
    {
     "data": {
      "text/plain": [
       "8635403"
      ]
     },
     "execution_count": 20,
     "metadata": {},
     "output_type": "execute_result"
    }
   ],
   "source": [
    "len(reviews_df)"
   ]
  },
  {
   "cell_type": "code",
   "execution_count": 21,
   "metadata": {},
   "outputs": [
    {
     "data": {
      "text/html": [
       "<div>\n",
       "<style scoped>\n",
       "    .dataframe tbody tr th:only-of-type {\n",
       "        vertical-align: middle;\n",
       "    }\n",
       "\n",
       "    .dataframe tbody tr th {\n",
       "        vertical-align: top;\n",
       "    }\n",
       "\n",
       "    .dataframe thead th {\n",
       "        text-align: right;\n",
       "    }\n",
       "</style>\n",
       "<table border=\"1\" class=\"dataframe\">\n",
       "  <thead>\n",
       "    <tr style=\"text-align: right;\">\n",
       "      <th></th>\n",
       "      <th>review_id</th>\n",
       "      <th>user_id</th>\n",
       "      <th>business_id</th>\n",
       "      <th>stars</th>\n",
       "      <th>useful</th>\n",
       "      <th>funny</th>\n",
       "      <th>cool</th>\n",
       "      <th>text</th>\n",
       "      <th>date</th>\n",
       "    </tr>\n",
       "  </thead>\n",
       "  <tbody>\n",
       "    <tr>\n",
       "      <th>0</th>\n",
       "      <td>lWC-xP3rd6obsecCYsGZRg</td>\n",
       "      <td>ak0TdVmGKo4pwqdJSTLwWw</td>\n",
       "      <td>buF9druCkbuXLX526sGELQ</td>\n",
       "      <td>4.0</td>\n",
       "      <td>3</td>\n",
       "      <td>1</td>\n",
       "      <td>1</td>\n",
       "      <td>Apparently Prides Osteria had a rough summer a...</td>\n",
       "      <td>2014-10-11 03:34:02</td>\n",
       "    </tr>\n",
       "    <tr>\n",
       "      <th>1</th>\n",
       "      <td>8bFej1QE5LXp4O05qjGqXA</td>\n",
       "      <td>YoVfDbnISlW0f7abNQACIg</td>\n",
       "      <td>RA4V8pr014UyUbDvI-LW2A</td>\n",
       "      <td>4.0</td>\n",
       "      <td>1</td>\n",
       "      <td>0</td>\n",
       "      <td>0</td>\n",
       "      <td>This store is pretty good. Not as great as Wal...</td>\n",
       "      <td>2015-07-03 20:38:25</td>\n",
       "    </tr>\n",
       "    <tr>\n",
       "      <th>2</th>\n",
       "      <td>NDhkzczKjLshODbqDoNLSg</td>\n",
       "      <td>eC5evKn1TWDyHCyQAwguUw</td>\n",
       "      <td>_sS2LBIGNT5NQb6PD1Vtjw</td>\n",
       "      <td>5.0</td>\n",
       "      <td>0</td>\n",
       "      <td>0</td>\n",
       "      <td>0</td>\n",
       "      <td>I called WVM on the recommendation of a couple...</td>\n",
       "      <td>2013-05-28 20:38:06</td>\n",
       "    </tr>\n",
       "    <tr>\n",
       "      <th>3</th>\n",
       "      <td>T5fAqjjFooT4V0OeZyuk1w</td>\n",
       "      <td>SFQ1jcnGguO0LYWnbbftAA</td>\n",
       "      <td>0AzLzHfOJgL7ROwhdww2ew</td>\n",
       "      <td>2.0</td>\n",
       "      <td>1</td>\n",
       "      <td>1</td>\n",
       "      <td>1</td>\n",
       "      <td>I've stayed at many Marriott and Renaissance M...</td>\n",
       "      <td>2010-01-08 02:29:15</td>\n",
       "    </tr>\n",
       "    <tr>\n",
       "      <th>4</th>\n",
       "      <td>sjm_uUcQVxab_EeLCqsYLg</td>\n",
       "      <td>0kA0PAJ8QFMeveQWHFqz2A</td>\n",
       "      <td>8zehGz9jnxPqXtOc7KaJxA</td>\n",
       "      <td>4.0</td>\n",
       "      <td>0</td>\n",
       "      <td>0</td>\n",
       "      <td>0</td>\n",
       "      <td>The food is always great here. The service fro...</td>\n",
       "      <td>2011-07-28 18:05:01</td>\n",
       "    </tr>\n",
       "  </tbody>\n",
       "</table>\n",
       "</div>"
      ],
      "text/plain": [
       "                review_id                 user_id             business_id  \\\n",
       "0  lWC-xP3rd6obsecCYsGZRg  ak0TdVmGKo4pwqdJSTLwWw  buF9druCkbuXLX526sGELQ   \n",
       "1  8bFej1QE5LXp4O05qjGqXA  YoVfDbnISlW0f7abNQACIg  RA4V8pr014UyUbDvI-LW2A   \n",
       "2  NDhkzczKjLshODbqDoNLSg  eC5evKn1TWDyHCyQAwguUw  _sS2LBIGNT5NQb6PD1Vtjw   \n",
       "3  T5fAqjjFooT4V0OeZyuk1w  SFQ1jcnGguO0LYWnbbftAA  0AzLzHfOJgL7ROwhdww2ew   \n",
       "4  sjm_uUcQVxab_EeLCqsYLg  0kA0PAJ8QFMeveQWHFqz2A  8zehGz9jnxPqXtOc7KaJxA   \n",
       "\n",
       "   stars  useful  funny  cool  \\\n",
       "0    4.0       3      1     1   \n",
       "1    4.0       1      0     0   \n",
       "2    5.0       0      0     0   \n",
       "3    2.0       1      1     1   \n",
       "4    4.0       0      0     0   \n",
       "\n",
       "                                                text                 date  \n",
       "0  Apparently Prides Osteria had a rough summer a...  2014-10-11 03:34:02  \n",
       "1  This store is pretty good. Not as great as Wal...  2015-07-03 20:38:25  \n",
       "2  I called WVM on the recommendation of a couple...  2013-05-28 20:38:06  \n",
       "3  I've stayed at many Marriott and Renaissance M...  2010-01-08 02:29:15  \n",
       "4  The food is always great here. The service fro...  2011-07-28 18:05:01  "
      ]
     },
     "execution_count": 21,
     "metadata": {},
     "output_type": "execute_result"
    }
   ],
   "source": [
    "# pickle dataframe\n",
    "reviews_df.to_pickle(\"./data/reviews.pkl\")"
   ]
  },
  {
   "cell_type": "code",
   "execution_count": 22,
   "metadata": {},
   "outputs": [
    {
     "data": {
      "text/html": [
       "<div>\n",
       "<style scoped>\n",
       "    .dataframe tbody tr th:only-of-type {\n",
       "        vertical-align: middle;\n",
       "    }\n",
       "\n",
       "    .dataframe tbody tr th {\n",
       "        vertical-align: top;\n",
       "    }\n",
       "\n",
       "    .dataframe thead th {\n",
       "        text-align: right;\n",
       "    }\n",
       "</style>\n",
       "<table border=\"1\" class=\"dataframe\">\n",
       "  <thead>\n",
       "    <tr style=\"text-align: right;\">\n",
       "      <th></th>\n",
       "      <th>review_id</th>\n",
       "      <th>user_id</th>\n",
       "      <th>business_id</th>\n",
       "      <th>stars</th>\n",
       "      <th>useful</th>\n",
       "      <th>funny</th>\n",
       "      <th>cool</th>\n",
       "      <th>text</th>\n",
       "      <th>date</th>\n",
       "    </tr>\n",
       "  </thead>\n",
       "  <tbody>\n",
       "    <tr>\n",
       "      <th>0</th>\n",
       "      <td>lWC-xP3rd6obsecCYsGZRg</td>\n",
       "      <td>ak0TdVmGKo4pwqdJSTLwWw</td>\n",
       "      <td>buF9druCkbuXLX526sGELQ</td>\n",
       "      <td>4.0</td>\n",
       "      <td>3</td>\n",
       "      <td>1</td>\n",
       "      <td>1</td>\n",
       "      <td>Apparently Prides Osteria had a rough summer a...</td>\n",
       "      <td>2014-10-11 03:34:02</td>\n",
       "    </tr>\n",
       "    <tr>\n",
       "      <th>1</th>\n",
       "      <td>8bFej1QE5LXp4O05qjGqXA</td>\n",
       "      <td>YoVfDbnISlW0f7abNQACIg</td>\n",
       "      <td>RA4V8pr014UyUbDvI-LW2A</td>\n",
       "      <td>4.0</td>\n",
       "      <td>1</td>\n",
       "      <td>0</td>\n",
       "      <td>0</td>\n",
       "      <td>This store is pretty good. Not as great as Wal...</td>\n",
       "      <td>2015-07-03 20:38:25</td>\n",
       "    </tr>\n",
       "    <tr>\n",
       "      <th>2</th>\n",
       "      <td>NDhkzczKjLshODbqDoNLSg</td>\n",
       "      <td>eC5evKn1TWDyHCyQAwguUw</td>\n",
       "      <td>_sS2LBIGNT5NQb6PD1Vtjw</td>\n",
       "      <td>5.0</td>\n",
       "      <td>0</td>\n",
       "      <td>0</td>\n",
       "      <td>0</td>\n",
       "      <td>I called WVM on the recommendation of a couple...</td>\n",
       "      <td>2013-05-28 20:38:06</td>\n",
       "    </tr>\n",
       "    <tr>\n",
       "      <th>3</th>\n",
       "      <td>T5fAqjjFooT4V0OeZyuk1w</td>\n",
       "      <td>SFQ1jcnGguO0LYWnbbftAA</td>\n",
       "      <td>0AzLzHfOJgL7ROwhdww2ew</td>\n",
       "      <td>2.0</td>\n",
       "      <td>1</td>\n",
       "      <td>1</td>\n",
       "      <td>1</td>\n",
       "      <td>I've stayed at many Marriott and Renaissance M...</td>\n",
       "      <td>2010-01-08 02:29:15</td>\n",
       "    </tr>\n",
       "    <tr>\n",
       "      <th>4</th>\n",
       "      <td>sjm_uUcQVxab_EeLCqsYLg</td>\n",
       "      <td>0kA0PAJ8QFMeveQWHFqz2A</td>\n",
       "      <td>8zehGz9jnxPqXtOc7KaJxA</td>\n",
       "      <td>4.0</td>\n",
       "      <td>0</td>\n",
       "      <td>0</td>\n",
       "      <td>0</td>\n",
       "      <td>The food is always great here. The service fro...</td>\n",
       "      <td>2011-07-28 18:05:01</td>\n",
       "    </tr>\n",
       "  </tbody>\n",
       "</table>\n",
       "</div>"
      ],
      "text/plain": [
       "                review_id                 user_id             business_id  \\\n",
       "0  lWC-xP3rd6obsecCYsGZRg  ak0TdVmGKo4pwqdJSTLwWw  buF9druCkbuXLX526sGELQ   \n",
       "1  8bFej1QE5LXp4O05qjGqXA  YoVfDbnISlW0f7abNQACIg  RA4V8pr014UyUbDvI-LW2A   \n",
       "2  NDhkzczKjLshODbqDoNLSg  eC5evKn1TWDyHCyQAwguUw  _sS2LBIGNT5NQb6PD1Vtjw   \n",
       "3  T5fAqjjFooT4V0OeZyuk1w  SFQ1jcnGguO0LYWnbbftAA  0AzLzHfOJgL7ROwhdww2ew   \n",
       "4  sjm_uUcQVxab_EeLCqsYLg  0kA0PAJ8QFMeveQWHFqz2A  8zehGz9jnxPqXtOc7KaJxA   \n",
       "\n",
       "   stars  useful  funny  cool  \\\n",
       "0    4.0       3      1     1   \n",
       "1    4.0       1      0     0   \n",
       "2    5.0       0      0     0   \n",
       "3    2.0       1      1     1   \n",
       "4    4.0       0      0     0   \n",
       "\n",
       "                                                text                 date  \n",
       "0  Apparently Prides Osteria had a rough summer a...  2014-10-11 03:34:02  \n",
       "1  This store is pretty good. Not as great as Wal...  2015-07-03 20:38:25  \n",
       "2  I called WVM on the recommendation of a couple...  2013-05-28 20:38:06  \n",
       "3  I've stayed at many Marriott and Renaissance M...  2010-01-08 02:29:15  \n",
       "4  The food is always great here. The service fro...  2011-07-28 18:05:01  "
      ]
     },
     "execution_count": 22,
     "metadata": {},
     "output_type": "execute_result"
    }
   ],
   "source": [
    "reviews_df = pd.read_pickle(\"./data/reviews.pkl\")\n",
    "reviews_df.head()"
   ]
  },
  {
   "cell_type": "code",
   "execution_count": 358,
   "metadata": {},
   "outputs": [
    {
     "ename": "SyntaxError",
     "evalue": "unexpected EOF while parsing (<ipython-input-358-d7973bc971e5>, line 2)",
     "output_type": "error",
     "traceback": [
      "\u001b[0;36m  File \u001b[0;32m\"<ipython-input-358-d7973bc971e5>\"\u001b[0;36m, line \u001b[0;32m2\u001b[0m\n\u001b[0;31m    # myVar exists\u001b[0m\n\u001b[0m                  ^\u001b[0m\n\u001b[0;31mSyntaxError\u001b[0m\u001b[0;31m:\u001b[0m unexpected EOF while parsing\n"
     ]
    }
   ],
   "source": [
    "if 'reviews_df' in globals():\n",
    "  # myVar exists"
   ]
  },
  {
   "cell_type": "code",
   "execution_count": 25,
   "metadata": {},
   "outputs": [],
   "source": [
    "# train test split on unbalanced data\n",
    "# 340864/8635403 = 0.0395 \n",
    "\n",
    "# create 'funny or not' column\n",
    "\n",
    "reviews_df['funny or not'] = (reviews_df.funny >= 3).astype(int)\n",
    "#X_train, X_test, y_train, y_test = train_test_split(new_df['text'], new_df['funny or not'], test_size=0.2, random_state=0)\n"
   ]
  },
  {
   "cell_type": "code",
   "execution_count": 28,
   "metadata": {},
   "outputs": [
    {
     "data": {
      "text/plain": [
       "0    8294539\n",
       "1     340864\n",
       "Name: funny or not, dtype: int64"
      ]
     },
     "execution_count": 28,
     "metadata": {},
     "output_type": "execute_result"
    }
   ],
   "source": [
    "reviews_df['funny or not'].value_counts()"
   ]
  },
  {
   "cell_type": "code",
   "execution_count": 48,
   "metadata": {},
   "outputs": [],
   "source": [
    "X_train, X_test, y_train, y_test = train_test_split(reviews_df['text'], reviews_df['funny or not'], test_size=0.2, stratify = reviews_df['funny or not'], random_state=42)\n"
   ]
  },
  {
   "cell_type": "code",
   "execution_count": 49,
   "metadata": {},
   "outputs": [
    {
     "data": {
      "text/plain": [
       "0    1658908\n",
       "1      68173\n",
       "Name: funny or not, dtype: int64"
      ]
     },
     "execution_count": 49,
     "metadata": {},
     "output_type": "execute_result"
    }
   ],
   "source": [
    "y_test.value_counts()"
   ]
  },
  {
   "cell_type": "code",
   "execution_count": 50,
   "metadata": {},
   "outputs": [
    {
     "data": {
      "text/plain": [
       "0    6635631\n",
       "1     272691\n",
       "Name: funny or not, dtype: int64"
      ]
     },
     "execution_count": 50,
     "metadata": {},
     "output_type": "execute_result"
    }
   ],
   "source": [
    "y_train.value_counts()"
   ]
  },
  {
   "cell_type": "code",
   "execution_count": 54,
   "metadata": {},
   "outputs": [
    {
     "data": {
      "text/plain": [
       "4951245    This post office has failed to deliver, redeli...\n",
       "5801500    If you have ANY interest in food or the enviro...\n",
       "8323989    Family style no frills restaurant. Order at th...\n",
       "2893006    Surprise discovery after breakfast New Year's ...\n",
       "3275211    Whenever I'm in town, I make sure to stop by t...\n",
       "Name: text, dtype: object"
      ]
     },
     "execution_count": 54,
     "metadata": {},
     "output_type": "execute_result"
    }
   ],
   "source": [
    "X_train.head()"
   ]
  },
  {
   "cell_type": "code",
   "execution_count": 62,
   "metadata": {},
   "outputs": [
    {
     "data": {
      "text/plain": [
       "8156155    Don't listen to the other reviews who say that...\n",
       "5431618    Super authentic Korean food. Prices may seem s...\n",
       "1333214    Umlauf Garden is another magical hidden gem th...\n",
       "2831524    The place is hit or miss. Not best when crowde...\n",
       "5183817    Nice atmosphere definitely very friendly staff...\n",
       "4806181    Amazing. Unique flavors and all delicious! A l...\n",
       "2766356    My first visit was great.  Dr. Stamboly was fr...\n",
       "1152941    In my experience, it is a rarity indeed for an...\n",
       "6475480    Amanda is awesome! I decided to get a haircut ...\n",
       "5345419    This place was okay. We went directly upstairs...\n",
       "Name: text, dtype: object"
      ]
     },
     "execution_count": 62,
     "metadata": {},
     "output_type": "execute_result"
    }
   ],
   "source": [
    "X_train.sample(n=10, random_state=42)"
   ]
  },
  {
   "cell_type": "code",
   "execution_count": 63,
   "metadata": {},
   "outputs": [
    {
     "data": {
      "text/plain": [
       "8156155    1\n",
       "5431618    0\n",
       "1333214    0\n",
       "2831524    0\n",
       "5183817    0\n",
       "4806181    0\n",
       "2766356    0\n",
       "1152941    0\n",
       "6475480    0\n",
       "5345419    0\n",
       "Name: funny or not, dtype: int64"
      ]
     },
     "execution_count": 63,
     "metadata": {},
     "output_type": "execute_result"
    }
   ],
   "source": [
    "y_train.sample(n=10, random_state=42)"
   ]
  },
  {
   "cell_type": "code",
   "execution_count": 90,
   "metadata": {},
   "outputs": [
    {
     "data": {
      "text/plain": [
       "4951245    This post office has failed to deliver, redeli...\n",
       "5801500    If you have ANY interest in food or the enviro...\n",
       "8323989    Family style no frills restaurant. Order at th...\n",
       "2893006    Surprise discovery after breakfast New Year's ...\n",
       "3275211    Whenever I'm in town, I make sure to stop by t...\n",
       "                                 ...                        \n",
       "3932073                                                    1\n",
       "2795946                                                    1\n",
       "5027201                                                    1\n",
       "3351677                                                    1\n",
       "6176732                                                    1\n",
       "Length: 7181013, dtype: object"
      ]
     },
     "execution_count": 90,
     "metadata": {},
     "output_type": "execute_result"
    }
   ],
   "source": [
    "pd.concat([X_train,y_train[y_train == 1]])"
   ]
  },
  {
   "cell_type": "code",
   "execution_count": 100,
   "metadata": {},
   "outputs": [],
   "source": [
    "# balance train data\n",
    "X_train_funny = X_train[y_train == 1]\n",
    "X_train_not_funny = X_train[y_train == 0].sample(n=len(X_train_funny), random_state=42)\n",
    "\n",
    "y_train_funny = y_train[y_train == 1]\n",
    "y_train_not_funny = y_train[y_train == 0].sample(n=len(y_train_funny), random_state=42)"
   ]
  },
  {
   "cell_type": "code",
   "execution_count": 102,
   "metadata": {},
   "outputs": [
    {
     "data": {
      "text/plain": [
       "3727798    First time here by myself sitting at the bar. ...\n",
       "5418802    Love Cafeteria, love their patio & cocktail me...\n",
       "1873812    I'm a fan of One Line Coffee. If it weren't fo...\n",
       "5357040    Love their sushi and they always have friendly...\n",
       "8551334    A Japanese fusion restaurant with some influen...\n",
       "                                 ...                        \n",
       "34116      There's an older review that suggests going to...\n",
       "8319942    Excellent Bestbuy is the best place for all el...\n",
       "8378259    This is the only store I know in Austin that s...\n",
       "7472430    Ok, so I finally went to see what all the hub-...\n",
       "699022     The always work with me on price and outstandi...\n",
       "Name: text, Length: 272691, dtype: object"
      ]
     },
     "execution_count": 102,
     "metadata": {},
     "output_type": "execute_result"
    }
   ],
   "source": [
    "X_train_not_funny"
   ]
  },
  {
   "cell_type": "code",
   "execution_count": 105,
   "metadata": {},
   "outputs": [
    {
     "data": {
      "text/plain": [
       "5636821    2017's Yelp 100 Challenge 18/100\\n\\nWhat a fun...\n",
       "6543303    We recently leased a new car from here. We had...\n",
       "248221     If I could give this place one star I would. D...\n",
       "3163591    So I seriously considered trying to impress yo...\n",
       "4980874    I went here based off the reviews, and the fac...\n",
       "                                 ...                        \n",
       "3932073    Hands down my favorite restaurant in Portland....\n",
       "2795946    I got to Atlanta a 6:06 am on Sunday after tak...\n",
       "5027201    I had never heard of Donut King until almost t...\n",
       "3351677    My wife and I decided to refinance our home an...\n",
       "6176732    First off let me start by saying I loooooooooo...\n",
       "Name: text, Length: 272691, dtype: object"
      ]
     },
     "execution_count": 105,
     "metadata": {},
     "output_type": "execute_result"
    }
   ],
   "source": [
    "X_train_funny"
   ]
  },
  {
   "cell_type": "code",
   "execution_count": 104,
   "metadata": {},
   "outputs": [
    {
     "data": {
      "text/plain": [
       "5636821    1\n",
       "6543303    1\n",
       "248221     1\n",
       "3163591    1\n",
       "4980874    1\n",
       "          ..\n",
       "3932073    1\n",
       "2795946    1\n",
       "5027201    1\n",
       "3351677    1\n",
       "6176732    1\n",
       "Name: funny or not, Length: 272691, dtype: int64"
      ]
     },
     "execution_count": 104,
     "metadata": {},
     "output_type": "execute_result"
    }
   ],
   "source": [
    "y_train_funny"
   ]
  },
  {
   "cell_type": "code",
   "execution_count": 107,
   "metadata": {},
   "outputs": [],
   "source": [
    "X_train_balanced = pd.concat([X_train_funny, X_train_not_funny])"
   ]
  },
  {
   "cell_type": "code",
   "execution_count": 108,
   "metadata": {},
   "outputs": [],
   "source": [
    "y_train_balanced = pd.concat([y_train_funny, y_train_not_funny])"
   ]
  },
  {
   "cell_type": "code",
   "execution_count": 124,
   "metadata": {},
   "outputs": [],
   "source": [
    "X_train_balanced.to_csv('X_train_balanced.csv')"
   ]
  },
  {
   "cell_type": "code",
   "execution_count": 126,
   "metadata": {},
   "outputs": [],
   "source": [
    "y_train_balanced.to_csv('y_train_balanced.csv')"
   ]
  },
  {
   "cell_type": "code",
   "execution_count": 128,
   "metadata": {},
   "outputs": [
    {
     "data": {
      "text/plain": [
       "0    272691\n",
       "1    272691\n",
       "Name: funny or not, dtype: int64"
      ]
     },
     "execution_count": 128,
     "metadata": {},
     "output_type": "execute_result"
    }
   ],
   "source": [
    "y_train_balanced.value_counts()"
   ]
  },
  {
   "cell_type": "code",
   "execution_count": 129,
   "metadata": {},
   "outputs": [],
   "source": [
    "# read in data\n",
    "X_train_balanced_df = pd.read_csv('X_train_balanced.csv')\n",
    "y_train_balanced_df = pd.read_csv('y_train_balanced.csv')"
   ]
  },
  {
   "cell_type": "code",
   "execution_count": 133,
   "metadata": {},
   "outputs": [],
   "source": [
    "X_train_balanced_df = X_train_balanced_df.drop(['Unnamed: 0'], axis = 1)\n",
    "y_train_balanced_df = y_train_balanced_df.drop(['Unnamed: 0'], axis = 1)"
   ]
  },
  {
   "cell_type": "code",
   "execution_count": 134,
   "metadata": {},
   "outputs": [
    {
     "data": {
      "text/html": [
       "<div>\n",
       "<style scoped>\n",
       "    .dataframe tbody tr th:only-of-type {\n",
       "        vertical-align: middle;\n",
       "    }\n",
       "\n",
       "    .dataframe tbody tr th {\n",
       "        vertical-align: top;\n",
       "    }\n",
       "\n",
       "    .dataframe thead th {\n",
       "        text-align: right;\n",
       "    }\n",
       "</style>\n",
       "<table border=\"1\" class=\"dataframe\">\n",
       "  <thead>\n",
       "    <tr style=\"text-align: right;\">\n",
       "      <th></th>\n",
       "      <th>text</th>\n",
       "    </tr>\n",
       "  </thead>\n",
       "  <tbody>\n",
       "    <tr>\n",
       "      <th>0</th>\n",
       "      <td>2017's Yelp 100 Challenge 18/100\\n\\nWhat a fun...</td>\n",
       "    </tr>\n",
       "    <tr>\n",
       "      <th>1</th>\n",
       "      <td>We recently leased a new car from here. We had...</td>\n",
       "    </tr>\n",
       "    <tr>\n",
       "      <th>2</th>\n",
       "      <td>If I could give this place one star I would. D...</td>\n",
       "    </tr>\n",
       "    <tr>\n",
       "      <th>3</th>\n",
       "      <td>So I seriously considered trying to impress yo...</td>\n",
       "    </tr>\n",
       "    <tr>\n",
       "      <th>4</th>\n",
       "      <td>I went here based off the reviews, and the fac...</td>\n",
       "    </tr>\n",
       "    <tr>\n",
       "      <th>...</th>\n",
       "      <td>...</td>\n",
       "    </tr>\n",
       "    <tr>\n",
       "      <th>545377</th>\n",
       "      <td>There's an older review that suggests going to...</td>\n",
       "    </tr>\n",
       "    <tr>\n",
       "      <th>545378</th>\n",
       "      <td>Excellent Bestbuy is the best place for all el...</td>\n",
       "    </tr>\n",
       "    <tr>\n",
       "      <th>545379</th>\n",
       "      <td>This is the only store I know in Austin that s...</td>\n",
       "    </tr>\n",
       "    <tr>\n",
       "      <th>545380</th>\n",
       "      <td>Ok, so I finally went to see what all the hub-...</td>\n",
       "    </tr>\n",
       "    <tr>\n",
       "      <th>545381</th>\n",
       "      <td>The always work with me on price and outstandi...</td>\n",
       "    </tr>\n",
       "  </tbody>\n",
       "</table>\n",
       "<p>545382 rows × 1 columns</p>\n",
       "</div>"
      ],
      "text/plain": [
       "                                                     text\n",
       "0       2017's Yelp 100 Challenge 18/100\\n\\nWhat a fun...\n",
       "1       We recently leased a new car from here. We had...\n",
       "2       If I could give this place one star I would. D...\n",
       "3       So I seriously considered trying to impress yo...\n",
       "4       I went here based off the reviews, and the fac...\n",
       "...                                                   ...\n",
       "545377  There's an older review that suggests going to...\n",
       "545378  Excellent Bestbuy is the best place for all el...\n",
       "545379  This is the only store I know in Austin that s...\n",
       "545380  Ok, so I finally went to see what all the hub-...\n",
       "545381  The always work with me on price and outstandi...\n",
       "\n",
       "[545382 rows x 1 columns]"
      ]
     },
     "execution_count": 134,
     "metadata": {},
     "output_type": "execute_result"
    }
   ],
   "source": [
    "X_train_balanced_df"
   ]
  },
  {
   "cell_type": "code",
   "execution_count": 135,
   "metadata": {},
   "outputs": [
    {
     "data": {
      "text/html": [
       "<div>\n",
       "<style scoped>\n",
       "    .dataframe tbody tr th:only-of-type {\n",
       "        vertical-align: middle;\n",
       "    }\n",
       "\n",
       "    .dataframe tbody tr th {\n",
       "        vertical-align: top;\n",
       "    }\n",
       "\n",
       "    .dataframe thead th {\n",
       "        text-align: right;\n",
       "    }\n",
       "</style>\n",
       "<table border=\"1\" class=\"dataframe\">\n",
       "  <thead>\n",
       "    <tr style=\"text-align: right;\">\n",
       "      <th></th>\n",
       "      <th>funny or not</th>\n",
       "    </tr>\n",
       "  </thead>\n",
       "  <tbody>\n",
       "    <tr>\n",
       "      <th>0</th>\n",
       "      <td>1</td>\n",
       "    </tr>\n",
       "    <tr>\n",
       "      <th>1</th>\n",
       "      <td>1</td>\n",
       "    </tr>\n",
       "    <tr>\n",
       "      <th>2</th>\n",
       "      <td>1</td>\n",
       "    </tr>\n",
       "    <tr>\n",
       "      <th>3</th>\n",
       "      <td>1</td>\n",
       "    </tr>\n",
       "    <tr>\n",
       "      <th>4</th>\n",
       "      <td>1</td>\n",
       "    </tr>\n",
       "    <tr>\n",
       "      <th>...</th>\n",
       "      <td>...</td>\n",
       "    </tr>\n",
       "    <tr>\n",
       "      <th>545377</th>\n",
       "      <td>0</td>\n",
       "    </tr>\n",
       "    <tr>\n",
       "      <th>545378</th>\n",
       "      <td>0</td>\n",
       "    </tr>\n",
       "    <tr>\n",
       "      <th>545379</th>\n",
       "      <td>0</td>\n",
       "    </tr>\n",
       "    <tr>\n",
       "      <th>545380</th>\n",
       "      <td>0</td>\n",
       "    </tr>\n",
       "    <tr>\n",
       "      <th>545381</th>\n",
       "      <td>0</td>\n",
       "    </tr>\n",
       "  </tbody>\n",
       "</table>\n",
       "<p>545382 rows × 1 columns</p>\n",
       "</div>"
      ],
      "text/plain": [
       "        funny or not\n",
       "0                  1\n",
       "1                  1\n",
       "2                  1\n",
       "3                  1\n",
       "4                  1\n",
       "...              ...\n",
       "545377             0\n",
       "545378             0\n",
       "545379             0\n",
       "545380             0\n",
       "545381             0\n",
       "\n",
       "[545382 rows x 1 columns]"
      ]
     },
     "execution_count": 135,
     "metadata": {},
     "output_type": "execute_result"
    }
   ],
   "source": [
    "y_train_balanced_df"
   ]
  },
  {
   "cell_type": "code",
   "execution_count": 119,
   "metadata": {},
   "outputs": [
    {
     "data": {
      "text/plain": [
       "7938342    After a long night of shopping and not wanting...\n",
       "1022903    The Meatballer Calzone was amazing. The best p...\n",
       "1555583    I wish I would have taken a picture of what I'...\n",
       "2316906    The food is reasonable and tastes pretty fresh...\n",
       "8189224    Very good but kind of expensive.\\n\\nI really l...\n",
       "                                 ...                        \n",
       "8594701    I dunno what they be putting in their spicy sa...\n",
       "2833077    Finally got to come out and try this place, I ...\n",
       "5953231    We ordered King Bao for delivery the other nig...\n",
       "8464444    Super friendly staff and pretty good food! I l...\n",
       "8158227    Delicious soups, excellent lunch menu.... brin...\n",
       "Name: text, Length: 1727081, dtype: object"
      ]
     },
     "execution_count": 119,
     "metadata": {},
     "output_type": "execute_result"
    }
   ],
   "source": [
    "X_test"
   ]
  },
  {
   "cell_type": "code",
   "execution_count": 121,
   "metadata": {},
   "outputs": [
    {
     "data": {
      "text/plain": [
       "0    1658908\n",
       "1      68173\n",
       "Name: funny or not, dtype: int64"
      ]
     },
     "execution_count": 121,
     "metadata": {},
     "output_type": "execute_result"
    }
   ],
   "source": [
    "y_test.value_counts()"
   ]
  },
  {
   "cell_type": "code",
   "execution_count": 118,
   "metadata": {},
   "outputs": [
    {
     "data": {
      "text/html": [
       "<div>\n",
       "<style scoped>\n",
       "    .dataframe tbody tr th:only-of-type {\n",
       "        vertical-align: middle;\n",
       "    }\n",
       "\n",
       "    .dataframe tbody tr th {\n",
       "        vertical-align: top;\n",
       "    }\n",
       "\n",
       "    .dataframe thead th {\n",
       "        text-align: right;\n",
       "    }\n",
       "</style>\n",
       "<table border=\"1\" class=\"dataframe\">\n",
       "  <thead>\n",
       "    <tr style=\"text-align: right;\">\n",
       "      <th></th>\n",
       "      <th>text</th>\n",
       "    </tr>\n",
       "  </thead>\n",
       "  <tbody>\n",
       "    <tr>\n",
       "      <th>5636821</th>\n",
       "      <td>2017's Yelp 100 Challenge 18/100\\n\\nWhat a fun...</td>\n",
       "    </tr>\n",
       "    <tr>\n",
       "      <th>6543303</th>\n",
       "      <td>We recently leased a new car from here. We had...</td>\n",
       "    </tr>\n",
       "    <tr>\n",
       "      <th>248221</th>\n",
       "      <td>If I could give this place one star I would. D...</td>\n",
       "    </tr>\n",
       "    <tr>\n",
       "      <th>3163591</th>\n",
       "      <td>So I seriously considered trying to impress yo...</td>\n",
       "    </tr>\n",
       "    <tr>\n",
       "      <th>4980874</th>\n",
       "      <td>I went here based off the reviews, and the fac...</td>\n",
       "    </tr>\n",
       "    <tr>\n",
       "      <th>...</th>\n",
       "      <td>...</td>\n",
       "    </tr>\n",
       "    <tr>\n",
       "      <th>34116</th>\n",
       "      <td>There's an older review that suggests going to...</td>\n",
       "    </tr>\n",
       "    <tr>\n",
       "      <th>8319942</th>\n",
       "      <td>Excellent Bestbuy is the best place for all el...</td>\n",
       "    </tr>\n",
       "    <tr>\n",
       "      <th>8378259</th>\n",
       "      <td>This is the only store I know in Austin that s...</td>\n",
       "    </tr>\n",
       "    <tr>\n",
       "      <th>7472430</th>\n",
       "      <td>Ok, so I finally went to see what all the hub-...</td>\n",
       "    </tr>\n",
       "    <tr>\n",
       "      <th>699022</th>\n",
       "      <td>The always work with me on price and outstandi...</td>\n",
       "    </tr>\n",
       "  </tbody>\n",
       "</table>\n",
       "<p>545382 rows × 1 columns</p>\n",
       "</div>"
      ],
      "text/plain": [
       "                                                      text\n",
       "5636821  2017's Yelp 100 Challenge 18/100\\n\\nWhat a fun...\n",
       "6543303  We recently leased a new car from here. We had...\n",
       "248221   If I could give this place one star I would. D...\n",
       "3163591  So I seriously considered trying to impress yo...\n",
       "4980874  I went here based off the reviews, and the fac...\n",
       "...                                                    ...\n",
       "34116    There's an older review that suggests going to...\n",
       "8319942  Excellent Bestbuy is the best place for all el...\n",
       "8378259  This is the only store I know in Austin that s...\n",
       "7472430  Ok, so I finally went to see what all the hub-...\n",
       "699022   The always work with me on price and outstandi...\n",
       "\n",
       "[545382 rows x 1 columns]"
      ]
     },
     "execution_count": 118,
     "metadata": {},
     "output_type": "execute_result"
    }
   ],
   "source": [
    "## add column for review length\n",
    "\n",
    "pd.DataFrame(X_train_balanced).text"
   ]
  },
  {
   "cell_type": "code",
   "execution_count": null,
   "metadata": {},
   "outputs": [],
   "source": [
    "X_train_df['review length'] = len(X_train_df.text)"
   ]
  },
  {
   "cell_type": "code",
   "execution_count": 82,
   "metadata": {},
   "outputs": [],
   "source": [
    "## old code"
   ]
  },
  {
   "cell_type": "code",
   "execution_count": 496,
   "metadata": {},
   "outputs": [
    {
     "data": {
      "text/plain": [
       "340864"
      ]
     },
     "execution_count": 496,
     "metadata": {},
     "output_type": "execute_result"
    }
   ],
   "source": [
    "# get 200k dataframe of balanced funny/not funny reviews\n",
    "\n",
    "len(reviews_df[reviews_df.funny >= 3])"
   ]
  },
  {
   "cell_type": "code",
   "execution_count": 497,
   "metadata": {},
   "outputs": [],
   "source": [
    "funny_df = reviews_df[reviews_df.funny >= 3].sample(n=100000, random_state=1)\n",
    "not_funny_df = reviews_df[reviews_df.funny < 3].sample(n=100000, random_state=1)"
   ]
  },
  {
   "cell_type": "code",
   "execution_count": 498,
   "metadata": {},
   "outputs": [],
   "source": [
    "# save datasets to csv\n",
    "\n",
    "funny_df.to_csv('funny.csv')\n",
    "not_funny_df.to_csv('notfunny.csv')"
   ]
  },
  {
   "cell_type": "code",
   "execution_count": 3,
   "metadata": {},
   "outputs": [
    {
     "data": {
      "text/plain": [
       "(200000, 10)"
      ]
     },
     "execution_count": 3,
     "metadata": {},
     "output_type": "execute_result"
    }
   ],
   "source": [
    "# read in and concatenate\n",
    "\n",
    "funny_df = pd.read_csv('funny.csv')\n",
    "not_funny_df = pd.read_csv('notfunny.csv')\n",
    "\n",
    "df = pd.concat([funny_df, not_funny_df]).drop_duplicates('review_id')\n",
    "df.shape"
   ]
  },
  {
   "cell_type": "code",
   "execution_count": 4,
   "metadata": {},
   "outputs": [],
   "source": [
    "df = df.drop(['Unnamed: 0'], axis = 1)"
   ]
  },
  {
   "cell_type": "code",
   "execution_count": 5,
   "metadata": {
    "scrolled": true
   },
   "outputs": [],
   "source": [
    "df = df.reset_index(drop=True)"
   ]
  },
  {
   "cell_type": "code",
   "execution_count": 6,
   "metadata": {},
   "outputs": [
    {
     "data": {
      "text/plain": [
       "0         A scavenger hunt was hosted by the Paramount r...\n",
       "1         The Pretty Kitty has 20 locations throughout t...\n",
       "2         After a very productive business meeting this ...\n",
       "3         I called in advance to be sure that they had t...\n",
       "4         Eastern Standard reminds me of that scene in S...\n",
       "                                ...                        \n",
       "199995    Very mediocre korean food but great if you're ...\n",
       "199996    Horrible, I sat at the drive up ordering thing...\n",
       "199997    COULDN'T BE HAPPIER!  I just got my second tat...\n",
       "199998    Pizza that's a commodity. They make a certain ...\n",
       "199999    Very consistent the best coffee good sandwiche...\n",
       "Name: text, Length: 200000, dtype: object"
      ]
     },
     "execution_count": 6,
     "metadata": {},
     "output_type": "execute_result"
    }
   ],
   "source": [
    "df.text"
   ]
  },
  {
   "cell_type": "code",
   "execution_count": 7,
   "metadata": {},
   "outputs": [
    {
     "data": {
      "text/html": [
       "<div>\n",
       "<style scoped>\n",
       "    .dataframe tbody tr th:only-of-type {\n",
       "        vertical-align: middle;\n",
       "    }\n",
       "\n",
       "    .dataframe tbody tr th {\n",
       "        vertical-align: top;\n",
       "    }\n",
       "\n",
       "    .dataframe thead th {\n",
       "        text-align: right;\n",
       "    }\n",
       "</style>\n",
       "<table border=\"1\" class=\"dataframe\">\n",
       "  <thead>\n",
       "    <tr style=\"text-align: right;\">\n",
       "      <th></th>\n",
       "      <th>review_id</th>\n",
       "      <th>user_id</th>\n",
       "      <th>business_id</th>\n",
       "      <th>stars</th>\n",
       "      <th>useful</th>\n",
       "      <th>funny</th>\n",
       "      <th>cool</th>\n",
       "      <th>text</th>\n",
       "      <th>date</th>\n",
       "    </tr>\n",
       "  </thead>\n",
       "  <tbody>\n",
       "    <tr>\n",
       "      <th>0</th>\n",
       "      <td>DEECPhn5tNBKbuaOeIcd2w</td>\n",
       "      <td>CwBh8Fmr07jFYBKZ2p6Mqg</td>\n",
       "      <td>iNsMwBxFXcP7QvB3994mgA</td>\n",
       "      <td>5.0</td>\n",
       "      <td>3</td>\n",
       "      <td>4</td>\n",
       "      <td>4</td>\n",
       "      <td>A scavenger hunt was hosted by the Paramount r...</td>\n",
       "      <td>2009-07-31 02:33:55</td>\n",
       "    </tr>\n",
       "    <tr>\n",
       "      <th>1</th>\n",
       "      <td>Ja7ZM1i_gYFXmxrkJPEPlA</td>\n",
       "      <td>ncIHRw4Vx3Wh9mZhLZxB7g</td>\n",
       "      <td>dgprzdonZcF7PPt-hkUkag</td>\n",
       "      <td>5.0</td>\n",
       "      <td>15</td>\n",
       "      <td>3</td>\n",
       "      <td>6</td>\n",
       "      <td>The Pretty Kitty has 20 locations throughout t...</td>\n",
       "      <td>2015-08-04 00:01:50</td>\n",
       "    </tr>\n",
       "    <tr>\n",
       "      <th>2</th>\n",
       "      <td>9E8ZAppLWtL0oJYRbFmOFQ</td>\n",
       "      <td>mdP18-vCtV9nu8DT2Bk6lA</td>\n",
       "      <td>gYuTx4cB_5UutuWIGusmUQ</td>\n",
       "      <td>5.0</td>\n",
       "      <td>14</td>\n",
       "      <td>6</td>\n",
       "      <td>9</td>\n",
       "      <td>After a very productive business meeting this ...</td>\n",
       "      <td>2018-10-15 13:49:54</td>\n",
       "    </tr>\n",
       "    <tr>\n",
       "      <th>3</th>\n",
       "      <td>MHBTWs3E8bKR80SOpcelWw</td>\n",
       "      <td>fV4Y0rKuJaahlNfjCH3vfw</td>\n",
       "      <td>ZM3Y7pPuKu67Q_FOLqGx7A</td>\n",
       "      <td>4.0</td>\n",
       "      <td>1</td>\n",
       "      <td>4</td>\n",
       "      <td>0</td>\n",
       "      <td>I called in advance to be sure that they had t...</td>\n",
       "      <td>2012-08-25 01:39:58</td>\n",
       "    </tr>\n",
       "    <tr>\n",
       "      <th>4</th>\n",
       "      <td>EcvcH3hHuzlXqG79nIag0w</td>\n",
       "      <td>ys3M-lvO7wCYkhCbqSVCfA</td>\n",
       "      <td>p8ohzzGvGRCHnJKnyO7exA</td>\n",
       "      <td>4.0</td>\n",
       "      <td>0</td>\n",
       "      <td>4</td>\n",
       "      <td>0</td>\n",
       "      <td>Eastern Standard reminds me of that scene in S...</td>\n",
       "      <td>2014-11-08 23:22:35</td>\n",
       "    </tr>\n",
       "  </tbody>\n",
       "</table>\n",
       "</div>"
      ],
      "text/plain": [
       "                review_id                 user_id             business_id  \\\n",
       "0  DEECPhn5tNBKbuaOeIcd2w  CwBh8Fmr07jFYBKZ2p6Mqg  iNsMwBxFXcP7QvB3994mgA   \n",
       "1  Ja7ZM1i_gYFXmxrkJPEPlA  ncIHRw4Vx3Wh9mZhLZxB7g  dgprzdonZcF7PPt-hkUkag   \n",
       "2  9E8ZAppLWtL0oJYRbFmOFQ  mdP18-vCtV9nu8DT2Bk6lA  gYuTx4cB_5UutuWIGusmUQ   \n",
       "3  MHBTWs3E8bKR80SOpcelWw  fV4Y0rKuJaahlNfjCH3vfw  ZM3Y7pPuKu67Q_FOLqGx7A   \n",
       "4  EcvcH3hHuzlXqG79nIag0w  ys3M-lvO7wCYkhCbqSVCfA  p8ohzzGvGRCHnJKnyO7exA   \n",
       "\n",
       "   stars  useful  funny  cool  \\\n",
       "0    5.0       3      4     4   \n",
       "1    5.0      15      3     6   \n",
       "2    5.0      14      6     9   \n",
       "3    4.0       1      4     0   \n",
       "4    4.0       0      4     0   \n",
       "\n",
       "                                                text                 date  \n",
       "0  A scavenger hunt was hosted by the Paramount r...  2009-07-31 02:33:55  \n",
       "1  The Pretty Kitty has 20 locations throughout t...  2015-08-04 00:01:50  \n",
       "2  After a very productive business meeting this ...  2018-10-15 13:49:54  \n",
       "3  I called in advance to be sure that they had t...  2012-08-25 01:39:58  \n",
       "4  Eastern Standard reminds me of that scene in S...  2014-11-08 23:22:35  "
      ]
     },
     "execution_count": 7,
     "metadata": {},
     "output_type": "execute_result"
    }
   ],
   "source": [
    "df.head()"
   ]
  },
  {
   "cell_type": "code",
   "execution_count": 509,
   "metadata": {},
   "outputs": [
    {
     "data": {
      "text/plain": [
       "610"
      ]
     },
     "execution_count": 509,
     "metadata": {},
     "output_type": "execute_result"
    }
   ],
   "source": [
    "max(df.funny)"
   ]
  },
  {
   "cell_type": "code",
   "execution_count": 512,
   "metadata": {},
   "outputs": [
    {
     "data": {
      "text/plain": [
       "199999"
      ]
     },
     "execution_count": 512,
     "metadata": {},
     "output_type": "execute_result"
    }
   ],
   "source": [
    "len(df[df.funny != 610])"
   ]
  },
  {
   "cell_type": "code",
   "execution_count": 528,
   "metadata": {},
   "outputs": [
    {
     "data": {
      "text/plain": [
       "100000"
      ]
     },
     "execution_count": 528,
     "metadata": {},
     "output_type": "execute_result"
    }
   ],
   "source": [
    "len(df[df.funny < 3])"
   ]
  },
  {
   "cell_type": "code",
   "execution_count": 567,
   "metadata": {},
   "outputs": [
    {
     "data": {
      "text/plain": [
       "'Let\\'s say I marry a nice lass. Soon, she\\'s showing the bump and nine months later, we\\'re in Dave\\'s Fresh Pasta and she looks at me and says \"It\\'s time.\" I try to keep my cool but I freak out and we rush to the hospital. I\\'ve got the video camera (which I think is creepy, but her mom wants all the magic recorded) and my scrubs, she\\'s in a gurney on her back flawlessly executing on all the Lamaze training we\\'ve gone through. The docs and nurses are hovered around her and she\\'s at the point of sweating where her hair is all pasted to her wincing face. And then, everything goes quiet except for one nurse who gasps, \"Oh my...\"\\n\\nAnd the doc turns around to show me my baby Dave\\'s Cuban Sandwich. Everyone\\'s embarassed, she\\'s looking at me with the \"I\\'m so sorry\" face, and I\\'m in a little shock but you know what? I\\'m not mad. With the crusty chewy bread, thick slices of pork loin, ham, fresh pickles, swiss and that amazing chipotle aioli, I know how irresistable it can be.\\n\\nAbsolutely, undeniably five stars.\\n\\nSample everything. Always three cheeses, two olive oils and at least one kind of marinated olive out on the pasta counter. There isn\\'t a low quality item in this joint.'"
      ]
     },
     "execution_count": 567,
     "metadata": {},
     "output_type": "execute_result"
    }
   ],
   "source": [
    "# get review with 3 funny votes\n",
    "df[df.funny == 100].iloc[1].text"
   ]
  },
  {
   "cell_type": "code",
   "execution_count": 554,
   "metadata": {},
   "outputs": [
    {
     "data": {
      "text/plain": [
       "'Although there may be plenty of tourists, the large array of shops and restaurants make it a pleasurable place to spend your time here. Not pleasurable if you are driving though because you probably won\\'t find parking here. The cobblestone streets are cool, but I got lost here! Thank goodness I had my Iphone, and used the GPS. The square often attracts activists, street dwellers, goth subcultures, street performers, conservatives, tourists you name it! They have it.\\n\\nA cool thing to do is to check out \"The Garage\". It\\'s a small shopping mall that used to be a parking garage.\\n\\nI\\'m not a fan of the national chains in the square though like Urban Outfitters (See my review and find out why) and corporate banks like Bank of America. I would rather support the small locally-run businesses with unique styles. It\\'s one of the reasons why I dislike gentrification.\\n\\nBecause of high rent, the small, independent mom & pop stores suffer, and it changes the culturally heterogeneous character of the neighborhood. This is the reason why I have to give the place 3.5 stars.'"
      ]
     },
     "execution_count": 554,
     "metadata": {},
     "output_type": "execute_result"
    }
   ],
   "source": [
    "df[df.funny == 2].iloc[15].text"
   ]
  },
  {
   "cell_type": "code",
   "execution_count": 562,
   "metadata": {},
   "outputs": [
    {
     "data": {
      "image/png": "[encoded data removed]",
      "text/plain": [
       "<Figure size 576x432 with 1 Axes>"
      ]
     },
     "metadata": {},
     "output_type": "display_data"
    }
   ],
   "source": [
    "# Histogram of funny column to show class imbalances\n",
    "\n",
    "fig, ax = plt.subplots(figsize = (8,6))\n",
    "\n",
    "ax.hist(df[df.funny < 50].funny, bins = 20, color = 'skyblue')\n",
    "ax.set_title('Distribution of Funny Votes')\n",
    "ax.set_xlabel('# votes')\n",
    "ax.set_ylabel('frequency')\n",
    "plt.savefig('funnyhist.png')"
   ]
  },
  {
   "cell_type": "code",
   "execution_count": 55,
   "metadata": {},
   "outputs": [
    {
     "data": {
      "image/png": "[encoded data removed]",
      "text/plain": [
       "<Figure size 432x288 with 1 Axes>"
      ]
     },
     "metadata": {
      "needs_background": "light"
     },
     "output_type": "display_data"
    }
   ],
   "source": [
    "# Barchart of funny vs not funny\n",
    "\n",
    "fig, ax = plt.subplots()\n"
   ]
  },
  {
   "cell_type": "code",
   "execution_count": 41,
   "metadata": {},
   "outputs": [
    {
     "data": {
      "text/plain": [
       "610"
      ]
     },
     "execution_count": 41,
     "metadata": {},
     "output_type": "execute_result"
    }
   ],
   "source": [
    "max(df.funny)"
   ]
  },
  {
   "cell_type": "code",
   "execution_count": 30,
   "metadata": {},
   "outputs": [
    {
     "data": {
      "text/plain": [
       "\"I loved everything about this place. I've only been once but I keep meaning to go back as it was so great (just a bit out of my way). \\n\\nI went with a fairly large group so we'd all ordered something different (back when it was $6 for everything, it looks like they've changed that now). At the time I got the chickpea fries, which were delicious but watch out for the fiber because I had to sit out of an entire board game. The board game selection was great, and I love that they serve mead (though I didn't get any at 12 pm haha).  The molten lava chocolate cake was so, so good. Seriously.\\n\\nThe real topping to the experience (other than the great service and the fact that they put lemons in their complimentary ice water) was that they were playing Siouxsie and the Banshees in the background! That + board games + good food + mead = I'm a fan forever.\""
      ]
     },
     "execution_count": 30,
     "metadata": {},
     "output_type": "execute_result"
    }
   ],
   "source": [
    "(reviews[0]['text'])"
   ]
  },
  {
   "cell_type": "markdown",
   "metadata": {},
   "source": [
    "## Text Processing Pipeline ##"
   ]
  },
  {
   "cell_type": "code",
   "execution_count": 7,
   "metadata": {},
   "outputs": [],
   "source": [
    "# create new df of just text and label\n",
    "\n",
    "new_df = pd.concat([df.text, df.funny], axis=1)\n"
   ]
  },
  {
   "cell_type": "code",
   "execution_count": 8,
   "metadata": {},
   "outputs": [],
   "source": [
    "new_df['funny or not'] = (new_df.funny >= 3).astype(int)\n"
   ]
  },
  {
   "cell_type": "code",
   "execution_count": 9,
   "metadata": {},
   "outputs": [],
   "source": [
    "new_df = new_df.drop(columns ='funny')\n"
   ]
  },
  {
   "cell_type": "code",
   "execution_count": 10,
   "metadata": {},
   "outputs": [
    {
     "data": {
      "text/html": [
       "<div>\n",
       "<style scoped>\n",
       "    .dataframe tbody tr th:only-of-type {\n",
       "        vertical-align: middle;\n",
       "    }\n",
       "\n",
       "    .dataframe tbody tr th {\n",
       "        vertical-align: top;\n",
       "    }\n",
       "\n",
       "    .dataframe thead th {\n",
       "        text-align: right;\n",
       "    }\n",
       "</style>\n",
       "<table border=\"1\" class=\"dataframe\">\n",
       "  <thead>\n",
       "    <tr style=\"text-align: right;\">\n",
       "      <th></th>\n",
       "      <th>text</th>\n",
       "      <th>funny or not</th>\n",
       "    </tr>\n",
       "  </thead>\n",
       "  <tbody>\n",
       "    <tr>\n",
       "      <th>0</th>\n",
       "      <td>A scavenger hunt was hosted by the Paramount r...</td>\n",
       "      <td>1</td>\n",
       "    </tr>\n",
       "    <tr>\n",
       "      <th>1</th>\n",
       "      <td>The Pretty Kitty has 20 locations throughout t...</td>\n",
       "      <td>1</td>\n",
       "    </tr>\n",
       "    <tr>\n",
       "      <th>2</th>\n",
       "      <td>After a very productive business meeting this ...</td>\n",
       "      <td>1</td>\n",
       "    </tr>\n",
       "    <tr>\n",
       "      <th>3</th>\n",
       "      <td>I called in advance to be sure that they had t...</td>\n",
       "      <td>1</td>\n",
       "    </tr>\n",
       "    <tr>\n",
       "      <th>4</th>\n",
       "      <td>Eastern Standard reminds me of that scene in S...</td>\n",
       "      <td>1</td>\n",
       "    </tr>\n",
       "  </tbody>\n",
       "</table>\n",
       "</div>"
      ],
      "text/plain": [
       "                                                text  funny or not\n",
       "0  A scavenger hunt was hosted by the Paramount r...             1\n",
       "1  The Pretty Kitty has 20 locations throughout t...             1\n",
       "2  After a very productive business meeting this ...             1\n",
       "3  I called in advance to be sure that they had t...             1\n",
       "4  Eastern Standard reminds me of that scene in S...             1"
      ]
     },
     "execution_count": 10,
     "metadata": {},
     "output_type": "execute_result"
    }
   ],
   "source": [
    "new_df.head()\n"
   ]
  },
  {
   "cell_type": "code",
   "execution_count": 13,
   "metadata": {},
   "outputs": [],
   "source": [
    "# save to csv\n",
    "\n",
    "new_df.sample(n=20, random_state=1).to_csv('example_data.csv')"
   ]
  },
  {
   "cell_type": "code",
   "execution_count": 15,
   "metadata": {},
   "outputs": [],
   "source": [
    "# create toy df for faster processing\n"
   ]
  },
  {
   "cell_type": "code",
   "execution_count": 48,
   "metadata": {},
   "outputs": [],
   "source": [
    "toy_funny = funny_df.sample(n=10000, random_state=1)\n",
    "toy_notfunny = not_funny_df.sample(n=10000, random_state=1)\n",
    "\n",
    "toy_df = pd.concat([toy_funny, toy_notfunny]).drop_duplicates('review_id')\n",
    "toy_df = toy_df.drop(['Unnamed: 0'], axis = 1)\n"
   ]
  },
  {
   "cell_type": "code",
   "execution_count": 51,
   "metadata": {
    "scrolled": true
   },
   "outputs": [
    {
     "data": {
      "text/plain": [
       "43660     4\n",
       "87278     3\n",
       "14317     3\n",
       "81932     3\n",
       "95321    21\n",
       "         ..\n",
       "59828     0\n",
       "47957     0\n",
       "42429     0\n",
       "76505     0\n",
       "49578     0\n",
       "Name: funny, Length: 20000, dtype: int64"
      ]
     },
     "execution_count": 51,
     "metadata": {},
     "output_type": "execute_result"
    }
   ],
   "source": [
    "toy_df.funny"
   ]
  },
  {
   "cell_type": "code",
   "execution_count": 52,
   "metadata": {},
   "outputs": [],
   "source": [
    "toy = pd.concat([toy_df.text, toy_df.funny], axis=1)\n",
    "\n",
    "toy['funny or not'] = (toy.funny >= 3).astype(int)\n",
    "toy = toy.drop(columns ='funny')\n"
   ]
  },
  {
   "cell_type": "code",
   "execution_count": null,
   "metadata": {},
   "outputs": [],
   "source": [
    "# gensim library for word vectors - come back if time\n"
   ]
  },
  {
   "cell_type": "code",
   "execution_count": 254,
   "metadata": {},
   "outputs": [],
   "source": [
    "# Tokenization (don't filter stopwords or punctuation as these may contribute to humor)\n",
    "\n",
    "from nltk.tokenize import word_tokenize\n",
    "from nltk.corpus import stopwords\n",
    "\n",
    "#tokens = review_text.map(word_tokenize)\n",
    "\n",
    "#tokenized = [word_tokenize(review_text.lower()) for review in review_text]\n",
    "\n",
    "# lowercase and tokenize\n",
    "toy_df['tokens'] = toy_df['text'].str.lower().map(word_tokenize)\n"
   ]
  },
  {
   "cell_type": "code",
   "execution_count": 175,
   "metadata": {},
   "outputs": [
    {
     "data": {
      "text/plain": [
       "pandas.core.frame.DataFrame"
      ]
     },
     "execution_count": 175,
     "metadata": {},
     "output_type": "execute_result"
    }
   ],
   "source": [
    "type(toy_df)\n"
   ]
  },
  {
   "cell_type": "code",
   "execution_count": 676,
   "metadata": {},
   "outputs": [],
   "source": [
    "# stemming/lemmatization\n",
    "\n",
    "from nltk.stem.porter import PorterStemmer\n",
    "from nltk.stem.snowball import SnowballStemmer\n",
    "from nltk.stem.wordnet import WordNetLemmatizer\n",
    "\n",
    "porter = PorterStemmer()\n",
    "snowball = SnowballStemmer('english')\n",
    "wordnet = WordNetLemmatizer()\n",
    "\n",
    "# docs_porter = [[porter.stem(word) for word in words]\n",
    "#                for doc in toy_tokens]\n",
    "# docs_snowball = [[snowball.stem(word) for word in words]\n",
    "#                  for doc in toy_tokens]\n",
    "# docs_wordnet = [[wordnet.lemmatize(word) for word in words]\n",
    "#                 for doc in toy_tokens]\n",
    "\n",
    "# tokens_porter = [list(map(porter.stem, doc)) for doc in toy_df['tokens']]\n",
    "\n",
    "# tokens_snowball = [list(map(snowball.stem, doc)) for doc in toy_df['tokens']]\n",
    "\n",
    "# tokens_wordnet = [list(map(wordnet.lemmatize, doc)) for doc in toy_df['tokens']]\n"
   ]
  },
  {
   "cell_type": "code",
   "execution_count": 191,
   "metadata": {},
   "outputs": [
    {
     "data": {
      "text/plain": [
       "list"
      ]
     },
     "execution_count": 191,
     "metadata": {},
     "output_type": "execute_result"
    }
   ],
   "source": [
    "# stem/lemmatize within dataframe\n",
    "\n",
    "type(tokens_porter)\n"
   ]
  },
  {
   "cell_type": "code",
   "execution_count": 194,
   "metadata": {
    "scrolled": true
   },
   "outputs": [
    {
     "data": {
      "text/plain": [
       "186"
      ]
     },
     "execution_count": 194,
     "metadata": {},
     "output_type": "execute_result"
    }
   ],
   "source": [
    "len(tokens_wordnet[0])\n"
   ]
  },
  {
   "cell_type": "code",
   "execution_count": 195,
   "metadata": {},
   "outputs": [
    {
     "name": "stdout",
     "output_type": "stream",
     "text": [
      "            word           porter         snowball       lemmatizer\n",
      "       scavenger          scaveng          scaveng        scavenger\n",
      "             was               wa              was               wa\n",
      "          hosted             host             host           hosted\n",
      "        recently           recent           recent         recently\n",
      "            plus              plu             plus             plus\n",
      "         running              run              run          running\n",
      "             was               wa              was               wa\n",
      "         totally            total            total          totally\n",
      "        watching            watch            watch         watching\n",
      "      afterwards        afterward        afterward       afterwards\n",
      "          lovely             love             love           lovely\n",
      "         sitting              sit              sit          sitting\n",
      "        charming            charm            charm         charming\n",
      "        marveled           marvel           marvel         marveled\n",
      "         awesome           awesom           awesom          awesome\n",
      "            many             mani             mani             many\n",
      "          people            peopl            peopl           people\n",
      "      appreciate          appreci          appreci       appreciate\n",
      "      structures         structur         structur        structure\n",
      "            this              thi             this             this\n",
      "     resemblance          resembl          resembl      resemblance\n",
      "            used              use              use             used\n",
      "          during             dure             dure           during\n",
      "       thrilling           thrill           thrill        thrilling\n",
      "           every            everi            everi            every\n",
      "         another            anoth            anoth          another\n",
      "       mezzanine         mezzanin         mezzanin        mezzanine\n",
      "     opportunity         opportun         opportun      opportunity\n",
      "          admire            admir            admir           admire\n",
      "         ceiling             ceil             ceil          ceiling\n",
      "         finally            final            final          finally\n",
      "          thanks            thank            thank           thanks\n",
      "      investment           invest           invest       investment\n",
      "         keeping             keep             keep          keeping\n",
      "           alive             aliv             aliv            alive\n",
      "         fitting              fit              fit          fitting\n",
      "         royalty          royalti          royalti          royalty\n"
     ]
    }
   ],
   "source": [
    "## Print the stemmed and lemmatized words from the first review for each method\n",
    "print(\"%16s %16s %16s %16s\" % (\"word\", \"porter\", \"snowball\", \"lemmatizer\"))\n",
    "\n",
    "for i in range(min(len(tokens_porter[0]), len(tokens_snowball[0]), len(tokens_wordnet[0]))):\n",
    "    p, s, w = tokens_porter[0][i], tokens_snowball[0][i], tokens_wordnet[0][i]\n",
    "    if len(set((p, s, w))) != 1:\n",
    "        print(\"%16s %16s %16s %16s\" % (toy_df['tokens'][0][i], p, s, w))\n"
   ]
  },
  {
   "cell_type": "code",
   "execution_count": 673,
   "metadata": {},
   "outputs": [],
   "source": [
    "# bag of words, max features 3000\n",
    "# TF-IDF\n",
    "# will go with lemmatizer to preserve as much of the original word as possible\n",
    "\n",
    "from sklearn.feature_extraction.text import TfidfVectorizer\n",
    "\n",
    "def remove_accents(input_str):\n",
    "    nfkd_form = unicodedata.normalize('NFKD', input_str)\n",
    "    only_ascii = nfkd_form.encode('ASCII', 'ignore')\n",
    "    return only_ascii.decode()\n",
    "\n",
    "def tokenize(doc):\n",
    "    '''\n",
    "    INPUT: string\n",
    "    OUTPUT: list of strings\n",
    "\n",
    "    Remove accents, tokenize, and lemmatize the document.\n",
    "    '''\n",
    "    doc = remove_accents(doc)\n",
    "    return [wordnet.lemmatize(word) for word in word_tokenize(doc)]\n",
    "\n",
    "\n",
    "#tfidfvect = TfidfVectorizer(tokenizer=tokenize)\n",
    "\n",
    "# features\n",
    "#tfidf_vectorized = tfidfvect.fit_transform(toy_df.text)\n",
    "\n"
   ]
  },
  {
   "cell_type": "code",
   "execution_count": null,
   "metadata": {},
   "outputs": [],
   "source": [
    "# latent semantic analysis - capstone 3\n"
   ]
  },
  {
   "cell_type": "markdown",
   "metadata": {},
   "source": [
    "## TF-IDF Vectorization / EDA ##"
   ]
  },
  {
   "cell_type": "code",
   "execution_count": 83,
   "metadata": {},
   "outputs": [],
   "source": [
    "# baseline models on top of TF-IDF\n",
    "\n",
    "# train models on toy dataset of 20k\n",
    "\n",
    "#X_train, X_test, y_train, y_test = train_test_split(new_df['text'], new_df['funny or not'], test_size=0.2, random_state=0)\n"
   ]
  },
  {
   "cell_type": "code",
   "execution_count": 92,
   "metadata": {},
   "outputs": [],
   "source": [
    "# vectorize train data/transform test data\n",
    "\n",
    "tfidfvect = TfidfVectorizer(max_features = 3000, \n",
    "                            sublinear_tf=True, \n",
    "                            min_df=5, norm='l2', \n",
    "                            encoding='latin-1') \n",
    "                            #ngram_range=(1, 3))\n",
    "\n",
    "# try max features 3000, 10000 etc. to see if improving\n",
    "# n-grams: 1, 2, 3\n",
    "# stopwords \n",
    "# stemming, lemma etc."
   ]
  },
  {
   "cell_type": "code",
   "execution_count": 122,
   "metadata": {},
   "outputs": [],
   "source": [
    "X_train_tfidf = tfidfvect.fit_transform(X_train_balanced)\n",
    "X_test_tfidf = tfidfvect.transform(X_test)\n",
    "\n",
    "# get vocab\n",
    "words = tfidfvect.get_feature_names()"
   ]
  },
  {
   "cell_type": "code",
   "execution_count": 123,
   "metadata": {},
   "outputs": [
    {
     "data": {
      "text/plain": [
       "((545382, 3000), (1727081, 3000))"
      ]
     },
     "execution_count": 123,
     "metadata": {},
     "output_type": "execute_result"
    }
   ],
   "source": [
    "X_train_tfidf.shape, X_test_tfidf.shape\n"
   ]
  },
  {
   "cell_type": "code",
   "execution_count": 137,
   "metadata": {},
   "outputs": [
    {
     "data": {
      "text/plain": [
       "<545382x3000 sparse matrix of type '<class 'numpy.float64'>'\n",
       "\twith 44849205 stored elements in Compressed Sparse Row format>"
      ]
     },
     "execution_count": 137,
     "metadata": {},
     "output_type": "execute_result"
    }
   ],
   "source": [
    "X_train_tfidf"
   ]
  },
  {
   "cell_type": "code",
   "execution_count": 136,
   "metadata": {},
   "outputs": [
    {
     "data": {
      "text/plain": [
       "{'yelp': 2984,\n",
       " '100': 3,\n",
       " 'challenge': 462,\n",
       " '18': 11,\n",
       " 'what': 2905,\n",
       " 'fun': 1097,\n",
       " 'place': 1942,\n",
       " 'to': 2682,\n",
       " 'spend': 2450,\n",
       " 'any': 125,\n",
       " 'night': 1733,\n",
       " 'my': 1698,\n",
       " 'friend': 1083,\n",
       " 'and': 115,\n",
       " 'had': 1198,\n",
       " 'by': 400,\n",
       " 'this': 2652,\n",
       " 'location': 1524,\n",
       " 'several': 2314,\n",
       " 'times': 2675,\n",
       " 'finally': 1015,\n",
       " 'one': 1794,\n",
       " 'we': 2880,\n",
       " 'couldn': 638,\n",
       " 'agree': 81,\n",
       " 'on': 1792,\n",
       " 'do': 795,\n",
       " 'so': 2402,\n",
       " 'decided': 724,\n",
       " 'stop': 2514,\n",
       " 'in': 1335,\n",
       " 'grab': 1162,\n",
       " 'bite': 292,\n",
       " 'upon': 2791,\n",
       " 'entering': 892,\n",
       " 'you': 2993,\n",
       " 'are': 155,\n",
       " 'greeted': 1174,\n",
       " 'waitress': 2849,\n",
       " 'who': 2917,\n",
       " 'says': 2250,\n",
       " 'the': 2634,\n",
       " 'seat': 2271,\n",
       " 'yourself': 2996,\n",
       " 'anywhere': 132,\n",
       " 'did': 759,\n",
       " 'at': 179,\n",
       " 'of': 1773,\n",
       " 'many': 1579,\n",
       " 'tables': 2575,\n",
       " 'located': 1523,\n",
       " 'just': 1406,\n",
       " 'above': 40,\n",
       " 'right': 2180,\n",
       " 'stage': 2472,\n",
       " 'they': 2644,\n",
       " 'have': 1229,\n",
       " 'karaoke': 1408,\n",
       " 'full': 1095,\n",
       " 'bar': 222,\n",
       " 'kitchen': 1427,\n",
       " 'drinks': 833,\n",
       " 'amazing': 105,\n",
       " 'food': 1054,\n",
       " 'hit': 1277,\n",
       " 'or': 1810,\n",
       " 'miss': 1659,\n",
       " 'ordered': 1813,\n",
       " 'which': 2912,\n",
       " 'included': 1338,\n",
       " 'cheese': 485,\n",
       " 'sticks': 2505,\n",
       " 'with': 2937,\n",
       " 'buffalo': 376,\n",
       " 'wings': 2932,\n",
       " 'chips': 506,\n",
       " 'spinach': 2456,\n",
       " 'dip': 774,\n",
       " 'were': 2901,\n",
       " 'pretty': 2012,\n",
       " 'tasty': 2600,\n",
       " 'although': 102,\n",
       " 'not': 1751,\n",
       " 'like': 1495,\n",
       " 'asked': 171,\n",
       " 'maybe': 1597,\n",
       " 'mild': 1642,\n",
       " 'sauce': 2240,\n",
       " 'phenomenal': 1914,\n",
       " 'was': 2868,\n",
       " 'flavorless': 1037,\n",
       " 'ranch': 2077,\n",
       " 'for': 1057,\n",
       " 'dipping': 775,\n",
       " 'seemed': 2283,\n",
       " 'it': 1381,\n",
       " 'may': 1596,\n",
       " 'been': 257,\n",
       " 'frozen': 1090,\n",
       " 'as': 167,\n",
       " 'when': 2908,\n",
       " 'trying': 2751,\n",
       " 'wing': 2931,\n",
       " 'something': 2412,\n",
       " 'hard': 1220,\n",
       " 'moved': 1683,\n",
       " 'side': 2350,\n",
       " 'our': 1825,\n",
       " 'entrees': 899,\n",
       " 'burger': 384,\n",
       " 'got': 1158,\n",
       " 'pizza': 1940,\n",
       " 'ate': 180,\n",
       " 'few': 1005,\n",
       " 'slices': 2382,\n",
       " 'but': 394,\n",
       " 'really': 2097,\n",
       " 'without': 2939,\n",
       " 'flavor': 1034,\n",
       " 'said': 2216,\n",
       " 'his': 1275,\n",
       " 'strawberry': 2524,\n",
       " 'margarita': 1581,\n",
       " 'best': 273,\n",
       " 'ever': 915,\n",
       " 'along': 97,\n",
       " 'he': 1232,\n",
       " 'all': 91,\n",
       " 'definitely': 731,\n",
       " 'enjoyed': 887,\n",
       " 'atmosphere': 183,\n",
       " 'great': 1170,\n",
       " 'left': 1472,\n",
       " '15': 8,\n",
       " 'tip': 2677,\n",
       " 'dj': 794,\n",
       " 'awesome': 199,\n",
       " 'will': 2924,\n",
       " 'be': 243,\n",
       " 'back': 204,\n",
       " 'try': 2750,\n",
       " 'find': 1016,\n",
       " 'menu': 1627,\n",
       " 'recommend': 2109,\n",
       " 'recently': 2107,\n",
       " 'new': 1727,\n",
       " 'car': 425,\n",
       " 'from': 1087,\n",
       " 'here': 1257,\n",
       " 'experience': 939,\n",
       " 'never': 1726,\n",
       " 'bought': 334,\n",
       " 'help': 1251,\n",
       " 'parents': 1862,\n",
       " 'husband': 1316,\n",
       " 'either': 867,\n",
       " 'needed': 1718,\n",
       " 'get': 1124,\n",
       " 'him': 1269,\n",
       " 'liked': 1496,\n",
       " 'went': 2900,\n",
       " 'because': 252,\n",
       " 'purchased': 2055,\n",
       " 'years': 2981,\n",
       " 'ago': 80,\n",
       " 'away': 198,\n",
       " 'could': 637,\n",
       " 'want': 2860,\n",
       " 'business': 391,\n",
       " 'spent': 2452,\n",
       " 'time': 2673,\n",
       " 'know': 1430,\n",
       " 'us': 2797,\n",
       " 'knew': 1428,\n",
       " 'quick': 2066,\n",
       " 'wanted': 2861,\n",
       " 'lease': 1465,\n",
       " 'whole': 2918,\n",
       " 'process': 2030,\n",
       " 'including': 1340,\n",
       " 'test': 2622,\n",
       " 'drive': 834,\n",
       " 'would': 2964,\n",
       " 'say': 2248,\n",
       " 'about': 39,\n",
       " 'hours': 1303,\n",
       " 'being': 266,\n",
       " 'first': 1025,\n",
       " 'doing': 802,\n",
       " 'two': 2764,\n",
       " 'made': 1556,\n",
       " 'easy': 855,\n",
       " 'only': 1799,\n",
       " 'thing': 2647,\n",
       " 'ask': 170,\n",
       " 'lower': 1546,\n",
       " 'rate': 2083,\n",
       " 'that': 2632,\n",
       " 'has': 1223,\n",
       " 'nothing': 1756,\n",
       " 'them': 2637,\n",
       " 'anyone': 127,\n",
       " 'service': 2304,\n",
       " 'yet': 2988,\n",
       " 'am': 104,\n",
       " 'hoping': 1294,\n",
       " 'is': 1375,\n",
       " 'good': 1153,\n",
       " 'if': 1323,\n",
       " 'give': 1134,\n",
       " 'star': 2480,\n",
       " 'go': 1143,\n",
       " 'near': 1711,\n",
       " 'came': 418,\n",
       " 'heard': 1240,\n",
       " 'asian': 168,\n",
       " 'thick': 2645,\n",
       " 'straight': 2521,\n",
       " 'hair': 1201,\n",
       " 'very': 2822,\n",
       " 'strong': 2529,\n",
       " 'healthy': 1238,\n",
       " 'now': 1759,\n",
       " 'after': 73,\n",
       " 'mess': 1629,\n",
       " 'hold': 1279,\n",
       " 'saw': 2247,\n",
       " 'joe': 1395,\n",
       " 'joke': 1400,\n",
       " 'rude': 2204,\n",
       " 'phone': 1916,\n",
       " 'person': 1907,\n",
       " 'def': 730,\n",
       " 'push': 2057,\n",
       " 'buy': 398,\n",
       " 'their': 2636,\n",
       " 'products': 2033,\n",
       " 'your': 2995,\n",
       " 'work': 2950,\n",
       " 'putting': 2060,\n",
       " 'some': 2409,\n",
       " 'setting': 2311,\n",
       " 'ready': 2093,\n",
       " 'much': 1689,\n",
       " 'longer': 1528,\n",
       " 'than': 2628,\n",
       " 'usual': 2802,\n",
       " 'wasn': 2870,\n",
       " 'taking': 2584,\n",
       " 'half': 1203,\n",
       " 'working': 2954,\n",
       " 'me': 1600,\n",
       " 'other': 1822,\n",
       " 'cutting': 698,\n",
       " 'someone': 2411,\n",
       " 'else': 870,\n",
       " 'salon': 2223,\n",
       " 'should': 2337,\n",
       " 'complete': 587,\n",
       " 'lie': 1489,\n",
       " 'called': 412,\n",
       " 'come': 566,\n",
       " 'most': 1677,\n",
       " 'people': 1897,\n",
       " 'don': 805,\n",
       " 'how': 1305,\n",
       " 'style': 2538,\n",
       " 'true': 2745,\n",
       " 'friends': 1085,\n",
       " 'sister': 2366,\n",
       " 'showed': 2341,\n",
       " 'looked': 1530,\n",
       " 'exactly': 923,\n",
       " 'before': 260,\n",
       " 'falling': 966,\n",
       " 'flat': 1033,\n",
       " 'again': 76,\n",
       " 'no': 1737,\n",
       " 'returned': 2167,\n",
       " 'call': 411,\n",
       " 'thinking': 2650,\n",
       " 'sound': 2425,\n",
       " 'instead': 1361,\n",
       " 've': 2811,\n",
       " 'things': 2648,\n",
       " 'might': 1640,\n",
       " 'adventure': 68,\n",
       " 'long': 1527,\n",
       " 'idea': 1321,\n",
       " 'understand': 2778,\n",
       " 'english': 884,\n",
       " 'speak': 2441,\n",
       " 'well': 2899,\n",
       " 'worried': 2958,\n",
       " 'stylist': 2539,\n",
       " 'understanding': 2779,\n",
       " 'then': 2640,\n",
       " 'seriously': 2298,\n",
       " 'considered': 603,\n",
       " 'movie': 1684,\n",
       " 'lost': 1534,\n",
       " 'interest': 1363,\n",
       " 'need': 1717,\n",
       " 'out': 1827,\n",
       " 'restaurants': 2161,\n",
       " 'll': 1516,\n",
       " 'list': 1505,\n",
       " 'seven': 2313,\n",
       " 'reasons': 2101,\n",
       " 'why': 2919,\n",
       " 'hill': 1268,\n",
       " 'country': 641,\n",
       " 'worth': 2962,\n",
       " 'crowded': 675,\n",
       " 'sit': 2367,\n",
       " 'next': 1729,\n",
       " 'start': 2483,\n",
       " 'nachos': 1701,\n",
       " '10': 2,\n",
       " '90': 35,\n",
       " 'ticket': 2669,\n",
       " '75': 33,\n",
       " '25': 19,\n",
       " 'tuesday': 2753,\n",
       " 'movies': 1685,\n",
       " 'lot': 1535,\n",
       " 'bigger': 283,\n",
       " 'looks': 1532,\n",
       " 'outside': 1829,\n",
       " 'also': 100,\n",
       " 'system': 2572,\n",
       " 'can': 420,\n",
       " 'wonder': 2943,\n",
       " 'gone': 1151,\n",
       " 'missed': 1660,\n",
       " 'regarding': 2120,\n",
       " 'app': 139,\n",
       " 'see': 2280,\n",
       " 'eating': 858,\n",
       " 'drinking': 832,\n",
       " 'wine': 2929,\n",
       " 'comfy': 570,\n",
       " 'chairs': 461,\n",
       " 'makes': 1566,\n",
       " 'happens': 1217,\n",
       " 'turn': 2756,\n",
       " 'into': 1370,\n",
       " 'father': 983,\n",
       " 'probably': 2026,\n",
       " 'meant': 1606,\n",
       " 'fit': 1027,\n",
       " 'bill': 286,\n",
       " 'nicely': 1731,\n",
       " 'based': 229,\n",
       " 'off': 1774,\n",
       " 'reviews': 2171,\n",
       " 'fact': 956,\n",
       " 'places': 1944,\n",
       " 'open': 1801,\n",
       " 'sunday': 2554,\n",
       " 'terrible': 2620,\n",
       " 'there': 2641,\n",
       " 'everywhere': 921,\n",
       " 'absolutely': 42,\n",
       " 'standards': 2477,\n",
       " 'over': 1832,\n",
       " 'station': 2491,\n",
       " 'covered': 649,\n",
       " 'down': 817,\n",
       " 'dirty': 778,\n",
       " 'gross': 1180,\n",
       " 'ran': 2076,\n",
       " 'point': 1967,\n",
       " 'already': 98,\n",
       " 'suppose': 2559,\n",
       " 'tell': 2608,\n",
       " 'cut': 695,\n",
       " 'takes': 2583,\n",
       " 'cell': 452,\n",
       " 'starts': 2486,\n",
       " 'head': 1233,\n",
       " 'minutes': 1657,\n",
       " 'later': 1454,\n",
       " 'done': 806,\n",
       " 'forget': 1060,\n",
       " 'lack': 1438,\n",
       " 'friendly': 1084,\n",
       " 'avoid': 196,\n",
       " 'basic': 231,\n",
       " 'step': 2500,\n",
       " 'report': 2147,\n",
       " 'health': 1237,\n",
       " 'board': 311,\n",
       " 'review': 2169,\n",
       " 'scene': 2252,\n",
       " 'stopped': 2515,\n",
       " 'heading': 1235,\n",
       " 'up': 2788,\n",
       " 'room': 2197,\n",
       " 'last': 1451,\n",
       " 'friday': 1080,\n",
       " 'still': 2507,\n",
       " 'lounge': 1538,\n",
       " 'area': 156,\n",
       " 'bottles': 332,\n",
       " 'calling': 413,\n",
       " 'name': 1704,\n",
       " 'least': 1466,\n",
       " 'think': 2649,\n",
       " 'restaurant': 2160,\n",
       " 'plaza': 1957,\n",
       " 'part': 1868,\n",
       " 'beautiful': 248,\n",
       " 'crowd': 674,\n",
       " 'everything': 920,\n",
       " 'cocktails': 552,\n",
       " 'doubt': 813,\n",
       " 'spot': 2461,\n",
       " 'older': 1788,\n",
       " 'take': 2580,\n",
       " 'dates': 709,\n",
       " 'hopes': 1293,\n",
       " 'giving': 1137,\n",
       " 'life': 1490,\n",
       " 'small': 2387,\n",
       " 'price': 2015,\n",
       " 'low': 1545,\n",
       " 'apparently': 140,\n",
       " 'where': 2910,\n",
       " 'guys': 1194,\n",
       " 'girls': 1133,\n",
       " 'uh': 2772,\n",
       " 'ok': 1785,\n",
       " 're': 2089,\n",
       " 'staying': 2494,\n",
       " 'hotel': 1300,\n",
       " 'dinner': 773,\n",
       " 'whether': 2911,\n",
       " 'wife': 2921,\n",
       " 'law': 1458,\n",
       " 'couple': 642,\n",
       " 'boys': 344,\n",
       " 'trip': 2740,\n",
       " 'case': 440,\n",
       " 'nice': 1730,\n",
       " 'account': 50,\n",
       " 'certainly': 457,\n",
       " 'selection': 2287,\n",
       " 'ample': 113,\n",
       " 'opportunity': 1805,\n",
       " 'watching': 2875,\n",
       " 'pick': 1919,\n",
       " 'lines': 1503,\n",
       " 'enough': 889,\n",
       " 'sleep': 2379,\n",
       " 'little': 1511,\n",
       " 'better': 275,\n",
       " 'street': 2525,\n",
       " 'level': 1485,\n",
       " 'both': 328,\n",
       " 'cooked': 621,\n",
       " 'wrong': 2972,\n",
       " 'clearly': 535,\n",
       " 'egg': 864,\n",
       " 'hot': 1299,\n",
       " 'let': 1481,\n",
       " 'door': 810,\n",
       " 'mind': 1648,\n",
       " 'threw': 2659,\n",
       " 'taste': 2595,\n",
       " 'dishes': 787,\n",
       " 'completely': 588,\n",
       " 'chunks': 518,\n",
       " 'throughout': 2662,\n",
       " 'pasta': 1879,\n",
       " 'massive': 1592,\n",
       " 'considering': 604,\n",
       " 'way': 2878,\n",
       " 'home': 1284,\n",
       " 'opening': 1803,\n",
       " 'quality': 2061,\n",
       " 'control': 616,\n",
       " 'walk': 2852,\n",
       " 'her': 1256,\n",
       " 'mass': 1590,\n",
       " 'quite': 2069,\n",
       " 'oyster': 1842,\n",
       " 'house': 1304,\n",
       " 'gave': 1113,\n",
       " 'truly': 2747,\n",
       " 'special': 2443,\n",
       " 'five': 1029,\n",
       " 'history': 1276,\n",
       " 'mixed': 1664,\n",
       " 'meal': 1601,\n",
       " 'superb': 2557,\n",
       " 'locals': 1522,\n",
       " 'memorable': 1621,\n",
       " 'names': 1706,\n",
       " 'stay': 2492,\n",
       " 'close': 540,\n",
       " 'heart': 1242,\n",
       " 'kids': 1418,\n",
       " 'favorite': 987,\n",
       " 'beers': 259,\n",
       " 'evening': 911,\n",
       " 'walked': 2853,\n",
       " 'stuff': 2534,\n",
       " 'counter': 640,\n",
       " 'order': 1812,\n",
       " 'grow': 1185,\n",
       " 'plates': 1952,\n",
       " 'meats': 1609,\n",
       " 'slow': 2385,\n",
       " 'roasted': 2189,\n",
       " 'goodness': 1154,\n",
       " 'sexy': 2315,\n",
       " 'beans': 246,\n",
       " 'cornbread': 628,\n",
       " 'lettuce': 1484,\n",
       " 'blue': 309,\n",
       " 'dressing': 829,\n",
       " 'nearly': 1713,\n",
       " 'felt': 1002,\n",
       " 'thin': 2646,\n",
       " 'sliced': 2381,\n",
       " 'brisket': 359,\n",
       " 'smoking': 2396,\n",
       " 'flour': 1044,\n",
       " 'tortillas': 2708,\n",
       " 'fresh': 1078,\n",
       " 'salsa': 2224,\n",
       " 'those': 2655,\n",
       " 'oh': 1782,\n",
       " 'damn': 703,\n",
       " 'simply': 2361,\n",
       " 'perfection': 1903,\n",
       " 'meat': 1607,\n",
       " 'tender': 2615,\n",
       " 'its': 1385,\n",
       " 'apart': 133,\n",
       " 'mouth': 1681,\n",
       " 'perfect': 1902,\n",
       " 'balance': 214,\n",
       " 'salt': 2225,\n",
       " 'smoke': 2394,\n",
       " 'fat': 982,\n",
       " 'pool': 1976,\n",
       " 'salty': 2227,\n",
       " 'smoked': 2395,\n",
       " 'pork': 1983,\n",
       " 'perfectly': 1904,\n",
       " 'savory': 2246,\n",
       " 'easily': 853,\n",
       " 'eat': 856,\n",
       " 'weight': 2894,\n",
       " 'these': 2643,\n",
       " 'feel': 995,\n",
       " 'going': 1147,\n",
       " 'pass': 1875,\n",
       " 'lovely': 1541,\n",
       " 'kick': 1415,\n",
       " 'fire': 1024,\n",
       " 'tomatoes': 2692,\n",
       " 'peppers': 1900,\n",
       " 'heat': 1244,\n",
       " 'thought': 2657,\n",
       " 'share': 2319,\n",
       " 'pulled': 2051,\n",
       " 'bbq': 241,\n",
       " 'platter': 1953,\n",
       " 'shoulder': 2338,\n",
       " 'plenty': 1964,\n",
       " 'delicious': 733,\n",
       " 'top': 2702,\n",
       " 'slaw': 2378,\n",
       " 'fantastic': 974,\n",
       " 'tangy': 2589,\n",
       " 'sweet': 2568,\n",
       " 'crunchy': 678,\n",
       " 'look': 1529,\n",
       " 'forward': 1068,\n",
       " 'returning': 2168,\n",
       " 'breakfast': 349,\n",
       " 'lunch': 1550,\n",
       " 'future': 1103,\n",
       " 'make': 1565,\n",
       " 'online': 1798,\n",
       " 'http': 1307,\n",
       " 'www': 2975,\n",
       " 'com': 563,\n",
       " 'menus': 1628,\n",
       " 'decide': 723,\n",
       " 'quickly': 2067,\n",
       " 'while': 2913,\n",
       " 'reasonable': 2099,\n",
       " 'charge': 470,\n",
       " '50': 28,\n",
       " 'per': 1901,\n",
       " 'exact': 922,\n",
       " 'change': 465,\n",
       " 'sometimes': 2413,\n",
       " 'ahead': 83,\n",
       " 'community': 576,\n",
       " 'theater': 2635,\n",
       " 'use': 2798,\n",
       " 'serious': 2297,\n",
       " 'far': 975,\n",
       " 'seats': 2274,\n",
       " 'decor': 727,\n",
       " 'second': 2275,\n",
       " 'run': 2207,\n",
       " 'art': 165,\n",
       " 'similar': 2359,\n",
       " 'support': 2558,\n",
       " 'local': 1520,\n",
       " 'more': 1675,\n",
       " 'usually': 2803,\n",
       " 'an': 114,\n",
       " 'event': 912,\n",
       " 'every': 916,\n",
       " 'once': 1793,\n",
       " 'show': 2340,\n",
       " 'random': 2078,\n",
       " 'reason': 2098,\n",
       " 'often': 1781,\n",
       " 'short': 2333,\n",
       " 'pain': 1851,\n",
       " 'neck': 1716,\n",
       " 'literally': 1510,\n",
       " 'comfortable': 569,\n",
       " 'tall': 2588,\n",
       " 'folks': 1050,\n",
       " 'aside': 169,\n",
       " 'picture': 1927,\n",
       " 'staff': 2471,\n",
       " 'popcorn': 1980,\n",
       " 'via': 2824,\n",
       " 'action': 53,\n",
       " 'oregon': 1816,\n",
       " 'gotta': 1159,\n",
       " 'love': 1539,\n",
       " 'ambience': 108,\n",
       " 'dark': 706,\n",
       " 'eyes': 950,\n",
       " 'light': 1491,\n",
       " 'comes': 567,\n",
       " 'clear': 534,\n",
       " 'though': 2656,\n",
       " 'outdoor': 1828,\n",
       " 'patio': 1884,\n",
       " 'fish': 1026,\n",
       " 'attention': 186,\n",
       " 'detail': 757,\n",
       " 'collection': 558,\n",
       " 'attentive': 187,\n",
       " 'helpful': 1253,\n",
       " 'server': 2301,\n",
       " 'gem': 1117,\n",
       " 'simple': 2360,\n",
       " 'vegetarian': 2815,\n",
       " 'options': 1809,\n",
       " 'lots': 1536,\n",
       " 'large': 1449,\n",
       " 'group': 1182,\n",
       " 'range': 2079,\n",
       " 'favourite': 989,\n",
       " 'tasting': 2599,\n",
       " 'shared': 2320,\n",
       " 'date': 708,\n",
       " 'filling': 1013,\n",
       " 'enjoy': 885,\n",
       " 'beer': 258,\n",
       " 'liquor': 1504,\n",
       " 'holy': 1283,\n",
       " 'drink': 831,\n",
       " 'fair': 961,\n",
       " 'authentic': 190,\n",
       " 'balanced': 215,\n",
       " 'extra': 947,\n",
       " 'offers': 1779,\n",
       " 'live': 1512,\n",
       " 'music': 1694,\n",
       " 'bunch': 382,\n",
       " 'nights': 1735,\n",
       " 'experienced': 940,\n",
       " 'different': 765,\n",
       " 'must': 1696,\n",
       " 'visit': 2833,\n",
       " 'reservations': 2153,\n",
       " 'luck': 1547,\n",
       " 'cause': 449,\n",
       " 'own': 1838,\n",
       " 'desserts': 755,\n",
       " 'besides': 272,\n",
       " 'crap': 656,\n",
       " 'guy': 1193,\n",
       " 'worker': 2952,\n",
       " 'such': 2541,\n",
       " 'cool': 626,\n",
       " 'through': 2661,\n",
       " 'another': 122,\n",
       " 'fall': 965,\n",
       " 'told': 2689,\n",
       " 'signed': 2356,\n",
       " 'tried': 2739,\n",
       " 'sell': 2290,\n",
       " 'month': 1672,\n",
       " 'didn': 760,\n",
       " 'receive': 2104,\n",
       " 'internet': 1368,\n",
       " 'lead': 1462,\n",
       " 'incredible': 1341,\n",
       " 'cancel': 421,\n",
       " 'stuck': 2530,\n",
       " 'shops': 2332,\n",
       " 'answered': 124,\n",
       " 'course': 644,\n",
       " '20': 14,\n",
       " 'line': 1502,\n",
       " 'front': 1088,\n",
       " 'daughter': 710,\n",
       " 'im': 1325,\n",
       " 'sure': 2561,\n",
       " 'impressed': 1331,\n",
       " 'levels': 1486,\n",
       " 'week': 2888,\n",
       " 'lets': 1482,\n",
       " 'leave': 1468,\n",
       " 'directly': 777,\n",
       " 'across': 51,\n",
       " 'store': 2517,\n",
       " 'coming': 571,\n",
       " 'atlanta': 182,\n",
       " 'semi': 2292,\n",
       " 'excited': 930,\n",
       " 'visited': 2834,\n",
       " 'nyc': 1765,\n",
       " 'found': 1069,\n",
       " 'even': 910,\n",
       " 'six': 2371,\n",
       " 'register': 2122,\n",
       " 'kinda': 1423,\n",
       " 'mad': 1555,\n",
       " 'item': 1383,\n",
       " 'cross': 673,\n",
       " 'banana': 218,\n",
       " 'wait': 2844,\n",
       " 'clothes': 545,\n",
       " 'thats': 2633,\n",
       " 'cute': 696,\n",
       " 'cheap': 478,\n",
       " 'seen': 2285,\n",
       " 'clothing': 546,\n",
       " 'pieces': 1931,\n",
       " 'same': 2228,\n",
       " 'piece': 1930,\n",
       " 'somehow': 2410,\n",
       " 'mid': 1637,\n",
       " 'prices': 2017,\n",
       " 'getting': 1126,\n",
       " 'sales': 2221,\n",
       " 'biggest': 284,\n",
       " 'stone': 2512,\n",
       " 'three': 2658,\n",
       " '17': 10,\n",
       " 'summer': 2552,\n",
       " 'indoor': 1346,\n",
       " 'always': 103,\n",
       " 'blast': 301,\n",
       " 'play': 1954,\n",
       " 'smaller': 2388,\n",
       " 'walls': 2858,\n",
       " 'main': 1560,\n",
       " 'variety': 2809,\n",
       " 'huge': 1309,\n",
       " 'boulder': 335,\n",
       " 'section': 2278,\n",
       " 'year': 2980,\n",
       " 'old': 1787,\n",
       " 'loves': 1543,\n",
       " 'almost': 95,\n",
       " 'too': 2699,\n",
       " 'especially': 904,\n",
       " 'she': 2322,\n",
       " 'butt': 395,\n",
       " 'yesterday': 2987,\n",
       " 'around': 160,\n",
       " 'fast': 980,\n",
       " 'yogurt': 2991,\n",
       " 'medium': 1612,\n",
       " 'cup': 685,\n",
       " 'espresso': 905,\n",
       " 'put': 2058,\n",
       " 'flavors': 1038,\n",
       " 'gelato': 1116,\n",
       " 'remembered': 2133,\n",
       " 'hidden': 1261,\n",
       " 'south': 2431,\n",
       " 'behind': 265,\n",
       " 'high': 1262,\n",
       " 'signs': 2357,\n",
       " 'specials': 2444,\n",
       " 'decent': 722,\n",
       " 'italian': 1382,\n",
       " 'american': 110,\n",
       " 'fare': 976,\n",
       " 'swear': 2567,\n",
       " 'generally': 1119,\n",
       " 'deal': 716,\n",
       " 'entree': 898,\n",
       " 'bread': 347,\n",
       " 'salad': 2218,\n",
       " 'tiny': 2676,\n",
       " 'regulars': 2126,\n",
       " 'character': 469,\n",
       " 'clientele': 537,\n",
       " 'wall': 2856,\n",
       " 'despite': 753,\n",
       " 'cramped': 655,\n",
       " 'check': 480,\n",
       " 'flying': 1048,\n",
       " 'moving': 1686,\n",
       " 'empty': 877,\n",
       " 'spaces': 2436,\n",
       " 'seems': 2284,\n",
       " 'state': 2488,\n",
       " 'bars': 225,\n",
       " 'mostly': 1678,\n",
       " 'rather': 2084,\n",
       " 'disappointed': 780,\n",
       " 'shit': 2326,\n",
       " 'sandwich': 2232,\n",
       " 'super': 2556,\n",
       " 'opened': 1802,\n",
       " 'man': 1570,\n",
       " 'known': 1434,\n",
       " 'saying': 2249,\n",
       " 'sucked': 2543,\n",
       " 'crust': 679,\n",
       " 'barely': 224,\n",
       " 'thanks': 2631,\n",
       " 'weird': 2895,\n",
       " 'portland': 1986,\n",
       " 'serves': 2303,\n",
       " 'alcohol': 89,\n",
       " 'serve': 2299,\n",
       " 'strip': 2528,\n",
       " 'dive': 792,\n",
       " 'city': 523,\n",
       " 'america': 109,\n",
       " 'gets': 1125,\n",
       " 'stars': 2482,\n",
       " 'absolute': 41,\n",
       " 'worst': 2961,\n",
       " 'remember': 2132,\n",
       " 'credit': 665,\n",
       " 'onion': 1796,\n",
       " 'bring': 356,\n",
       " 'words': 2949,\n",
       " 'describe': 744,\n",
       " 'big': 282,\n",
       " 'men': 1624,\n",
       " 'cocktail': 551,\n",
       " 'inspired': 1359,\n",
       " 'bowling': 338,\n",
       " 'classic': 529,\n",
       " 'private': 2024,\n",
       " 'rooms': 2198,\n",
       " 'ball': 216,\n",
       " 'vintage': 2832,\n",
       " 'types': 2766,\n",
       " 'space': 2435,\n",
       " 'mean': 1603,\n",
       " 'focus': 1049,\n",
       " 'corporate': 630,\n",
       " 'does': 798,\n",
       " 'care': 429,\n",
       " 'beyond': 280,\n",
       " 'expect': 934,\n",
       " 'situation': 2370,\n",
       " 'held': 1248,\n",
       " 'together': 2687,\n",
       " 'points': 1969,\n",
       " 'plus': 1965,\n",
       " 'goes': 1146,\n",
       " 'rest': 2159,\n",
       " 'joint': 1398,\n",
       " 'class': 527,\n",
       " 'wish': 2936,\n",
       " 'target': 2593,\n",
       " 'regular': 2124,\n",
       " 'basis': 234,\n",
       " 'closest': 543,\n",
       " 'nicer': 1732,\n",
       " 'stores': 2518,\n",
       " 'clean': 531,\n",
       " 'stocked': 2510,\n",
       " 'employees': 876,\n",
       " 'former': 1065,\n",
       " 'cafe': 405,\n",
       " 'replaced': 2144,\n",
       " 'starbucks': 2481,\n",
       " 'liking': 1499,\n",
       " 'received': 2105,\n",
       " 'correct': 631,\n",
       " 'goods': 1155,\n",
       " 'pleasant': 1958,\n",
       " 'self': 2289,\n",
       " 'available': 192,\n",
       " 'background': 205,\n",
       " 'quiet': 2068,\n",
       " 'whenever': 2909,\n",
       " 'busy': 393,\n",
       " 'calm': 415,\n",
       " 'important': 1328,\n",
       " 'drunk': 840,\n",
       " 'judge': 1402,\n",
       " 'less': 1479,\n",
       " 'stellar': 2499,\n",
       " 'everyone': 919,\n",
       " 'however': 1306,\n",
       " 'filled': 1012,\n",
       " 'awful': 200,\n",
       " 'plain': 1945,\n",
       " 'mediocre': 1611,\n",
       " 'establishment': 907,\n",
       " 'somewhere': 2415,\n",
       " 'classy': 530,\n",
       " 'mistake': 1662,\n",
       " 'monday': 1670,\n",
       " '30pm': 23,\n",
       " '30': 21,\n",
       " 'manager': 1574,\n",
       " 'customers': 694,\n",
       " 'dining': 772,\n",
       " 'relaxed': 2130,\n",
       " 'dim': 768,\n",
       " 'lighting': 1492,\n",
       " 'doesn': 799,\n",
       " 'begin': 262,\n",
       " 'cover': 648,\n",
       " 'uncomfortable': 2775,\n",
       " 'fan': 971,\n",
       " 'due': 844,\n",
       " 'covid': 650,\n",
       " 'playing': 1956,\n",
       " 'days': 713,\n",
       " 'used': 2799,\n",
       " 'band': 219,\n",
       " 'interesting': 1365,\n",
       " 'mix': 1663,\n",
       " 'sushi': 2566,\n",
       " 'culinary': 683,\n",
       " 'highlight': 1264,\n",
       " 'cake': 407,\n",
       " 'sashimi': 2235,\n",
       " '19': 12,\n",
       " 'spectacular': 2448,\n",
       " 'green': 1172,\n",
       " 'four': 1071,\n",
       " 'day': 712,\n",
       " 'peanut': 1893,\n",
       " 'chopped': 512,\n",
       " 'refreshing': 2117,\n",
       " 'crisp': 670,\n",
       " 'combination': 564,\n",
       " 'cheeseburger': 486,\n",
       " 'expecting': 937,\n",
       " 'ground': 1181,\n",
       " 'steak': 2495,\n",
       " 'patty': 1886,\n",
       " 'outstanding': 1830,\n",
       " 'bland': 300,\n",
       " 'saved': 2244,\n",
       " 'adding': 58,\n",
       " 'veggie': 2816,\n",
       " 'juicy': 1404,\n",
       " 'flavorful': 1036,\n",
       " 'non': 1740,\n",
       " 'tasted': 2596,\n",
       " 'possibly': 1989,\n",
       " 'mushrooms': 1693,\n",
       " 'greens': 1173,\n",
       " 'amount': 112,\n",
       " 'mayo': 1598,\n",
       " 'seasoning': 2270,\n",
       " 'french': 1075,\n",
       " 'fries': 1086,\n",
       " 'crispy': 671,\n",
       " 'oily': 1784,\n",
       " 'overall': 1833,\n",
       " 'original': 1819,\n",
       " 'mood': 1674,\n",
       " 'deep': 729,\n",
       " 'among': 111,\n",
       " 'son': 2416,\n",
       " 'school': 2255,\n",
       " 'explaining': 944,\n",
       " 'explain': 942,\n",
       " ...}"
      ]
     },
     "execution_count": 136,
     "metadata": {},
     "output_type": "execute_result"
    }
   ],
   "source": [
    "vocab_dict = tfidfvect.vocabulary_\n",
    "vocab_dict"
   ]
  },
  {
   "cell_type": "code",
   "execution_count": 86,
   "metadata": {},
   "outputs": [
    {
     "data": {
      "text/plain": [
       "{'zero': 2999,\n",
       " 'yummy': 2998,\n",
       " 'yum': 2997,\n",
       " 'yourself': 2996,\n",
       " 'your own': 2995,\n",
       " 'your': 2994,\n",
       " 'young': 2993,\n",
       " 'you would': 2992,\n",
       " 'you won': 2991,\n",
       " 'you will': 2990,\n",
       " 'you want to': 2989,\n",
       " 'you want': 2988,\n",
       " 'you ve': 2987,\n",
       " 'you to': 2986,\n",
       " 'you the': 2985,\n",
       " 'you should': 2984,\n",
       " 'you re looking': 2983,\n",
       " 'you re in': 2982,\n",
       " 'you re': 2981,\n",
       " 'you need to': 2980,\n",
       " 'you need': 2979,\n",
       " 'you might': 2978,\n",
       " 'you may': 2977,\n",
       " 'you ll': 2976,\n",
       " 'you like': 2975,\n",
       " 'you know': 2974,\n",
       " 'you just': 2973,\n",
       " 'you have to': 2972,\n",
       " 'you have': 2971,\n",
       " 'you go': 2970,\n",
       " 'you get': 2969,\n",
       " 'you feel': 2968,\n",
       " 'you don': 2967,\n",
       " 'you do': 2966,\n",
       " 'you could': 2965,\n",
       " 'you can get': 2964,\n",
       " 'you can': 2963,\n",
       " 'you are': 2962,\n",
       " 'you and': 2961,\n",
       " 'you': 2960,\n",
       " 'yet': 2959,\n",
       " 'yesterday': 2958,\n",
       " 'yes': 2957,\n",
       " 'yelp': 2956,\n",
       " 'years and': 2955,\n",
       " 'years ago': 2954,\n",
       " 'years': 2953,\n",
       " 'year old': 2952,\n",
       " 'year': 2951,\n",
       " 'yeah': 2950}"
      ]
     },
     "execution_count": 86,
     "metadata": {},
     "output_type": "execute_result"
    }
   ],
   "source": [
    "from collections import Counter\n",
    "dict(Counter(vocab_dict).most_common(50))"
   ]
  },
  {
   "cell_type": "code",
   "execution_count": 104,
   "metadata": {},
   "outputs": [],
   "source": [
    "# plot most common words\n",
    "\n",
    "data = dict(Counter(vocab_dict).most_common(30))\n",
    "word_df = pd.DataFrame.from_dict(data, orient='index', columns = ['count'])\n"
   ]
  },
  {
   "cell_type": "code",
   "execution_count": 105,
   "metadata": {},
   "outputs": [
    {
     "data": {
      "text/html": [
       "<div>\n",
       "<style scoped>\n",
       "    .dataframe tbody tr th:only-of-type {\n",
       "        vertical-align: middle;\n",
       "    }\n",
       "\n",
       "    .dataframe tbody tr th {\n",
       "        vertical-align: top;\n",
       "    }\n",
       "\n",
       "    .dataframe thead th {\n",
       "        text-align: right;\n",
       "    }\n",
       "</style>\n",
       "<table border=\"1\" class=\"dataframe\">\n",
       "  <thead>\n",
       "    <tr style=\"text-align: right;\">\n",
       "      <th></th>\n",
       "      <th>count</th>\n",
       "    </tr>\n",
       "  </thead>\n",
       "  <tbody>\n",
       "    <tr>\n",
       "      <th>zero</th>\n",
       "      <td>2999</td>\n",
       "    </tr>\n",
       "    <tr>\n",
       "      <th>yummy</th>\n",
       "      <td>2998</td>\n",
       "    </tr>\n",
       "    <tr>\n",
       "      <th>yum</th>\n",
       "      <td>2997</td>\n",
       "    </tr>\n",
       "    <tr>\n",
       "      <th>yourself</th>\n",
       "      <td>2996</td>\n",
       "    </tr>\n",
       "    <tr>\n",
       "      <th>your own</th>\n",
       "      <td>2995</td>\n",
       "    </tr>\n",
       "    <tr>\n",
       "      <th>your</th>\n",
       "      <td>2994</td>\n",
       "    </tr>\n",
       "    <tr>\n",
       "      <th>young</th>\n",
       "      <td>2993</td>\n",
       "    </tr>\n",
       "    <tr>\n",
       "      <th>you would</th>\n",
       "      <td>2992</td>\n",
       "    </tr>\n",
       "    <tr>\n",
       "      <th>you won</th>\n",
       "      <td>2991</td>\n",
       "    </tr>\n",
       "    <tr>\n",
       "      <th>you will</th>\n",
       "      <td>2990</td>\n",
       "    </tr>\n",
       "    <tr>\n",
       "      <th>you want to</th>\n",
       "      <td>2989</td>\n",
       "    </tr>\n",
       "    <tr>\n",
       "      <th>you want</th>\n",
       "      <td>2988</td>\n",
       "    </tr>\n",
       "    <tr>\n",
       "      <th>you ve</th>\n",
       "      <td>2987</td>\n",
       "    </tr>\n",
       "    <tr>\n",
       "      <th>you to</th>\n",
       "      <td>2986</td>\n",
       "    </tr>\n",
       "    <tr>\n",
       "      <th>you the</th>\n",
       "      <td>2985</td>\n",
       "    </tr>\n",
       "    <tr>\n",
       "      <th>you should</th>\n",
       "      <td>2984</td>\n",
       "    </tr>\n",
       "    <tr>\n",
       "      <th>you re looking</th>\n",
       "      <td>2983</td>\n",
       "    </tr>\n",
       "    <tr>\n",
       "      <th>you re in</th>\n",
       "      <td>2982</td>\n",
       "    </tr>\n",
       "    <tr>\n",
       "      <th>you re</th>\n",
       "      <td>2981</td>\n",
       "    </tr>\n",
       "    <tr>\n",
       "      <th>you need to</th>\n",
       "      <td>2980</td>\n",
       "    </tr>\n",
       "    <tr>\n",
       "      <th>you need</th>\n",
       "      <td>2979</td>\n",
       "    </tr>\n",
       "    <tr>\n",
       "      <th>you might</th>\n",
       "      <td>2978</td>\n",
       "    </tr>\n",
       "    <tr>\n",
       "      <th>you may</th>\n",
       "      <td>2977</td>\n",
       "    </tr>\n",
       "    <tr>\n",
       "      <th>you ll</th>\n",
       "      <td>2976</td>\n",
       "    </tr>\n",
       "    <tr>\n",
       "      <th>you like</th>\n",
       "      <td>2975</td>\n",
       "    </tr>\n",
       "    <tr>\n",
       "      <th>you know</th>\n",
       "      <td>2974</td>\n",
       "    </tr>\n",
       "    <tr>\n",
       "      <th>you just</th>\n",
       "      <td>2973</td>\n",
       "    </tr>\n",
       "    <tr>\n",
       "      <th>you have to</th>\n",
       "      <td>2972</td>\n",
       "    </tr>\n",
       "    <tr>\n",
       "      <th>you have</th>\n",
       "      <td>2971</td>\n",
       "    </tr>\n",
       "    <tr>\n",
       "      <th>you go</th>\n",
       "      <td>2970</td>\n",
       "    </tr>\n",
       "  </tbody>\n",
       "</table>\n",
       "</div>"
      ],
      "text/plain": [
       "                count\n",
       "zero             2999\n",
       "yummy            2998\n",
       "yum              2997\n",
       "yourself         2996\n",
       "your own         2995\n",
       "your             2994\n",
       "young            2993\n",
       "you would        2992\n",
       "you won          2991\n",
       "you will         2990\n",
       "you want to      2989\n",
       "you want         2988\n",
       "you ve           2987\n",
       "you to           2986\n",
       "you the          2985\n",
       "you should       2984\n",
       "you re looking   2983\n",
       "you re in        2982\n",
       "you re           2981\n",
       "you need to      2980\n",
       "you need         2979\n",
       "you might        2978\n",
       "you may          2977\n",
       "you ll           2976\n",
       "you like         2975\n",
       "you know         2974\n",
       "you just         2973\n",
       "you have to      2972\n",
       "you have         2971\n",
       "you go           2970"
      ]
     },
     "execution_count": 105,
     "metadata": {},
     "output_type": "execute_result"
    }
   ],
   "source": [
    "word_df"
   ]
  },
  {
   "cell_type": "code",
   "execution_count": 109,
   "metadata": {
    "scrolled": false
   },
   "outputs": [
    {
     "data": {
      "text/html": [
       "<div>\n",
       "<style scoped>\n",
       "    .dataframe tbody tr th:only-of-type {\n",
       "        vertical-align: middle;\n",
       "    }\n",
       "\n",
       "    .dataframe tbody tr th {\n",
       "        vertical-align: top;\n",
       "    }\n",
       "\n",
       "    .dataframe thead th {\n",
       "        text-align: right;\n",
       "    }\n",
       "</style>\n",
       "<table border=\"1\" class=\"dataframe\">\n",
       "  <thead>\n",
       "    <tr style=\"text-align: right;\">\n",
       "      <th></th>\n",
       "      <th>count</th>\n",
       "    </tr>\n",
       "    <tr>\n",
       "      <th>token</th>\n",
       "      <th></th>\n",
       "    </tr>\n",
       "  </thead>\n",
       "  <tbody>\n",
       "    <tr>\n",
       "      <th>zero</th>\n",
       "      <td>2999</td>\n",
       "    </tr>\n",
       "    <tr>\n",
       "      <th>yummy</th>\n",
       "      <td>2998</td>\n",
       "    </tr>\n",
       "    <tr>\n",
       "      <th>yum</th>\n",
       "      <td>2997</td>\n",
       "    </tr>\n",
       "    <tr>\n",
       "      <th>yourself</th>\n",
       "      <td>2996</td>\n",
       "    </tr>\n",
       "    <tr>\n",
       "      <th>your own</th>\n",
       "      <td>2995</td>\n",
       "    </tr>\n",
       "    <tr>\n",
       "      <th>your</th>\n",
       "      <td>2994</td>\n",
       "    </tr>\n",
       "    <tr>\n",
       "      <th>young</th>\n",
       "      <td>2993</td>\n",
       "    </tr>\n",
       "    <tr>\n",
       "      <th>you would</th>\n",
       "      <td>2992</td>\n",
       "    </tr>\n",
       "    <tr>\n",
       "      <th>you won</th>\n",
       "      <td>2991</td>\n",
       "    </tr>\n",
       "    <tr>\n",
       "      <th>you will</th>\n",
       "      <td>2990</td>\n",
       "    </tr>\n",
       "    <tr>\n",
       "      <th>you want to</th>\n",
       "      <td>2989</td>\n",
       "    </tr>\n",
       "    <tr>\n",
       "      <th>you want</th>\n",
       "      <td>2988</td>\n",
       "    </tr>\n",
       "    <tr>\n",
       "      <th>you ve</th>\n",
       "      <td>2987</td>\n",
       "    </tr>\n",
       "    <tr>\n",
       "      <th>you to</th>\n",
       "      <td>2986</td>\n",
       "    </tr>\n",
       "    <tr>\n",
       "      <th>you the</th>\n",
       "      <td>2985</td>\n",
       "    </tr>\n",
       "    <tr>\n",
       "      <th>you should</th>\n",
       "      <td>2984</td>\n",
       "    </tr>\n",
       "    <tr>\n",
       "      <th>you re looking</th>\n",
       "      <td>2983</td>\n",
       "    </tr>\n",
       "    <tr>\n",
       "      <th>you re in</th>\n",
       "      <td>2982</td>\n",
       "    </tr>\n",
       "    <tr>\n",
       "      <th>you re</th>\n",
       "      <td>2981</td>\n",
       "    </tr>\n",
       "    <tr>\n",
       "      <th>you need to</th>\n",
       "      <td>2980</td>\n",
       "    </tr>\n",
       "    <tr>\n",
       "      <th>you need</th>\n",
       "      <td>2979</td>\n",
       "    </tr>\n",
       "    <tr>\n",
       "      <th>you might</th>\n",
       "      <td>2978</td>\n",
       "    </tr>\n",
       "    <tr>\n",
       "      <th>you may</th>\n",
       "      <td>2977</td>\n",
       "    </tr>\n",
       "    <tr>\n",
       "      <th>you ll</th>\n",
       "      <td>2976</td>\n",
       "    </tr>\n",
       "    <tr>\n",
       "      <th>you like</th>\n",
       "      <td>2975</td>\n",
       "    </tr>\n",
       "    <tr>\n",
       "      <th>you know</th>\n",
       "      <td>2974</td>\n",
       "    </tr>\n",
       "    <tr>\n",
       "      <th>you just</th>\n",
       "      <td>2973</td>\n",
       "    </tr>\n",
       "    <tr>\n",
       "      <th>you have to</th>\n",
       "      <td>2972</td>\n",
       "    </tr>\n",
       "    <tr>\n",
       "      <th>you have</th>\n",
       "      <td>2971</td>\n",
       "    </tr>\n",
       "    <tr>\n",
       "      <th>you go</th>\n",
       "      <td>2970</td>\n",
       "    </tr>\n",
       "  </tbody>\n",
       "</table>\n",
       "</div>"
      ],
      "text/plain": [
       "                count\n",
       "token                \n",
       "zero             2999\n",
       "yummy            2998\n",
       "yum              2997\n",
       "yourself         2996\n",
       "your own         2995\n",
       "your             2994\n",
       "young            2993\n",
       "you would        2992\n",
       "you won          2991\n",
       "you will         2990\n",
       "you want to      2989\n",
       "you want         2988\n",
       "you ve           2987\n",
       "you to           2986\n",
       "you the          2985\n",
       "you should       2984\n",
       "you re looking   2983\n",
       "you re in        2982\n",
       "you re           2981\n",
       "you need to      2980\n",
       "you need         2979\n",
       "you might        2978\n",
       "you may          2977\n",
       "you ll           2976\n",
       "you like         2975\n",
       "you know         2974\n",
       "you just         2973\n",
       "you have to      2972\n",
       "you have         2971\n",
       "you go           2970"
      ]
     },
     "execution_count": 109,
     "metadata": {},
     "output_type": "execute_result"
    }
   ],
   "source": [
    "word_df.reset_index()\n",
    "word_df.index.name = 'token'\n",
    "word_df"
   ]
  },
  {
   "cell_type": "code",
   "execution_count": 115,
   "metadata": {},
   "outputs": [
    {
     "data": {
      "text/plain": [
       "Text(0.5, 1.0, 'Most Common Words/Phrases')"
      ]
     },
     "execution_count": 115,
     "metadata": {},
     "output_type": "execute_result"
    },
    {
     "data": {
      "image/png": "[encoded data removed]",
      "text/plain": [
       "<Figure size 720x576 with 1 Axes>"
      ]
     },
     "metadata": {
      "needs_background": "light"
     },
     "output_type": "display_data"
    }
   ],
   "source": [
    "plt.figure(figsize=(10,8))\n",
    "ax = sns.barplot(x='count', y=word_df.index, data=word_df)\n",
    "ax.set_title(\"Most Common Words/Phrases\")\n",
    "#plt.show()\n",
    "#plt.savefig('mostcommon', bbox_inches='tight')\n",
    "#ax = sns.barplot(x=counts.counts, y=counts.index, data=counts)"
   ]
  },
  {
   "cell_type": "code",
   "execution_count": 116,
   "metadata": {},
   "outputs": [],
   "source": [
    "# correlation for next time"
   ]
  },
  {
   "cell_type": "markdown",
   "metadata": {},
   "source": [
    "## Modeling ##"
   ]
  },
  {
   "cell_type": "code",
   "execution_count": 151,
   "metadata": {},
   "outputs": [
    {
     "name": "stdout",
     "output_type": "stream",
     "text": [
      "README.md              funny_reviews.csv      spark capstone2.ipynb\r\n",
      "Untitled.ipynb         \u001b[34mimgs\u001b[m\u001b[m/                  \u001b[34msrc\u001b[m\u001b[m/\r\n",
      "X_train_balanced.csv   not_funny_reviews.csv  unused.py\r\n",
      "\u001b[34m__pycache__\u001b[m\u001b[m/           notfunny.csv           y_train_balanced.csv\r\n",
      "\u001b[34mdata\u001b[m\u001b[m/                  reviews.ipynb          \u001b[34myelp_dataset\u001b[m\u001b[m/\r\n",
      "funny.csv              roc_curve.py\r\n"
     ]
    }
   ],
   "source": [
    "ls"
   ]
  },
  {
   "cell_type": "code",
   "execution_count": 152,
   "metadata": {},
   "outputs": [],
   "source": [
    "## modeling from py file\n",
    "import sys, importlib\n",
    "#importlib.reload(sys.modules['mymodels'])\n",
    "from src.mymodels import *\n"
   ]
  },
  {
   "cell_type": "code",
   "execution_count": 153,
   "metadata": {},
   "outputs": [],
   "source": [
    "# logistic regression\n",
    "\n",
    "y_pred_lr, y_proba_lr = log_reg_model(X_train_tfidf, X_test_tfidf, y_train_balanced)"
   ]
  },
  {
   "cell_type": "code",
   "execution_count": 154,
   "metadata": {
    "scrolled": true
   },
   "outputs": [],
   "source": [
    "# naive bayes\n",
    "\n",
    "y_pred_nb, y_proba_nb = naive_bayes_model(X_train_tfidf, X_test_tfidf, y_train_balanced)"
   ]
  },
  {
   "cell_type": "code",
   "execution_count": 648,
   "metadata": {},
   "outputs": [],
   "source": [
    "# random forest\n",
    "\n",
    "y_pred_rf, y_proba_rf = random_forest_model(X_train_tfidf, X_test_tfidf, y_train_balanced)"
   ]
  },
  {
   "cell_type": "code",
   "execution_count": 653,
   "metadata": {},
   "outputs": [],
   "source": [
    "# gradient boosting\n",
    "# ran for > 1hr\n",
    "\n",
    "y_pred_gbc, y_proba_gbc = gradient_boosting_model(X_train_tfidf, X_test_tfidf, y_train_balanced)"
   ]
  },
  {
   "cell_type": "code",
   "execution_count": 156,
   "metadata": {},
   "outputs": [],
   "source": [
    "# calculate scores\n",
    "\n",
    "accuracy_scores = []\n",
    "precision_scores = []\n",
    "recall_scores = []\n",
    "\n",
    "y_preds = [y_pred_lr, y_pred_nb]#, y_pred_rf, y_pred_gbc]\n",
    "\n",
    "for y_pred in y_preds:\n",
    "    accuracy = accuracy_score(y_test, y_pred)\n",
    "    accuracy_scores.append(accuracy)\n",
    "    \n",
    "    precision = precision_score(y_test, y_pred)\n",
    "    precision_scores.append(precision)\n",
    "    \n",
    "    recall = recall_score(y_test, y_pred)\n",
    "    recall_scores.append(recall)\n",
    "    \n",
    "# print(\"Accuracy:\", accuracy_score(y_test, y_pred_lr_test))\n",
    "# print(\"Precision:\", precision_score(y_test, y_pred_lr_test))\n",
    "# print(\"Recall:\", recall_score(y_test, y_pred_lr_test))\n"
   ]
  },
  {
   "cell_type": "code",
   "execution_count": 157,
   "metadata": {},
   "outputs": [
    {
     "data": {
      "text/plain": [
       "[0.7508941387230825, 0.703791541913784]"
      ]
     },
     "execution_count": 157,
     "metadata": {},
     "output_type": "execute_result"
    }
   ],
   "source": [
    "accuracy_scores"
   ]
  },
  {
   "cell_type": "code",
   "execution_count": 158,
   "metadata": {},
   "outputs": [
    {
     "data": {
      "text/plain": [
       "[0.108644660294922, 0.09068250507258552]"
      ]
     },
     "execution_count": 158,
     "metadata": {},
     "output_type": "execute_result"
    }
   ],
   "source": [
    "precision_scores"
   ]
  },
  {
   "cell_type": "code",
   "execution_count": 160,
   "metadata": {},
   "outputs": [
    {
     "data": {
      "text/plain": [
       "[0.7371686738151467, 0.7204758482097018]"
      ]
     },
     "execution_count": 160,
     "metadata": {},
     "output_type": "execute_result"
    }
   ],
   "source": [
    "recall_scores"
   ]
  },
  {
   "cell_type": "code",
   "execution_count": null,
   "metadata": {},
   "outputs": [],
   "source": [
    "# calculate confusion matrices for different thresholds\n",
    "# come back to this later\n",
    "\n",
    "def predict(model, X, threshold=0.5):\n",
    "    '''Return prediction of the fitted binary-classifier model model on X using\n",
    "    the specifed `threshold`. NB: class 0 is the positive class'''\n",
    "    return np.where(model.predict_proba(X)[:, 0] > threshold,\n",
    "                    model.classes_[0],\n",
    "                    model.classes_[1])\n",
    "\n",
    "def confusion_matrix(model, X, threshold=0.5):\n",
    "    cf = pd.crosstab(ytest, predict(model, Xtest, threshold))\n",
    "    cf = cf.add(pd.DataFrame([[0,0],[0,0]], columns=['Fraud', 'Not'], index=['Fraud', 'Not']), fill_value=0)\n",
    "    cf.index.name = 'actual'\n",
    "    cf.columns.name = 'predicted'\n",
    "    return cf"
   ]
  },
  {
   "cell_type": "code",
   "execution_count": 147,
   "metadata": {},
   "outputs": [],
   "source": [
    "def plot_ROC(ax, fpr, tpr):\n",
    "    ax.plot([1]+list(fpr), [1]+list(tpr), label=\"ROC\")\n",
    "    ax.plot([0,1],[0,1], 'k', label=\"random\")\n",
    "    ax.set_xlabel('fpr')\n",
    "    ax.set_xlabel('fpr')\n",
    "    ax.set_ylabel('tpr')\n",
    "    ax.set_title('ROC Curve')\n",
    "    ax.legend()"
   ]
  },
  {
   "cell_type": "code",
   "execution_count": 667,
   "metadata": {},
   "outputs": [
    {
     "name": "stdout",
     "output_type": "stream",
     "text": [
      "0.8378488873055842\n",
      "0.7962700897399655\n",
      "0.7751337275144112\n",
      "0.8266901765832771\n"
     ]
    },
    {
     "name": "stderr",
     "output_type": "stream",
     "text": [
      "<ipython-input-667-fb5df8d00f95>:26: MatplotlibDeprecationWarning: savefig() got unexpected keyword argument \"bbox\" which is no longer supported as of 3.3 and will become an error two minor releases later\n",
      "  plt.savefig('roccurves.png', bbox='tight')\n"
     ]
    },
    {
     "data": {
      "image/png": "[encoded data removed]",
      "text/plain": [
       "<Figure size 1152x1152 with 4 Axes>"
      ]
     },
     "metadata": {},
     "output_type": "display_data"
    }
   ],
   "source": [
    "# calculate AUC\n",
    "\n",
    "# ROC curves\n",
    "fig, ((ax0, ax1), (ax2, ax3)) = plt.subplots(2,2, figsize = (16,16))\n",
    "\n",
    "fpr0, tpr0, threshold0 = roc_curve(y_test, y_proba_lr)\n",
    "plot_ROC(ax0, fpr, tpr)\n",
    "ax0.title.set_text('ROC Logistic Regression')\n",
    "print(auc(fpr0, tpr0))\n",
    "\n",
    "fpr1, tpr1, threshold1 = roc_curve(y_test, y_proba_nb)\n",
    "plot_ROC(ax1, fpr1, tpr1)\n",
    "ax1.title.set_text('ROC Naive Bayes')\n",
    "print(auc(fpr1, tpr1))\n",
    "\n",
    "fpr2, tpr2, threshold2 = roc_curve(y_test, y_proba_rf)\n",
    "plot_ROC(ax2, fpr2, tpr2)\n",
    "ax2.title.set_text('ROC Random Forest')\n",
    "print(auc(fpr2, tpr2))\n",
    "\n",
    "fpr3, tpr3, threshold3 = roc_curve(y_test, y_proba_gbc)\n",
    "plot_ROC(ax3, fpr3, tpr3)\n",
    "ax3.title.set_text('ROC Gradient Boosting')\n",
    "print(auc(fpr3, tpr3))\n",
    "\n",
    "plt.savefig('roccurves.png', bbox='tight')"
   ]
  },
  {
   "cell_type": "markdown",
   "metadata": {},
   "source": [
    "### Logistic Regression ###"
   ]
  },
  {
   "cell_type": "code",
   "execution_count": 387,
   "metadata": {},
   "outputs": [
    {
     "name": "stdout",
     "output_type": "stream",
     "text": [
      "[0.76      0.7509375 0.751875  0.751875  0.7559375]\n"
     ]
    }
   ],
   "source": [
    "# Cross validation\n",
    "print(cross_val_score(lr, X_train_tfidf, y_train, cv=5))\n"
   ]
  },
  {
   "cell_type": "code",
   "execution_count": 694,
   "metadata": {},
   "outputs": [
    {
     "data": {
      "text/plain": [
       "array([[15368,  4695],\n",
       "       [ 4947, 14990]])"
      ]
     },
     "execution_count": 694,
     "metadata": {},
     "output_type": "execute_result"
    }
   ],
   "source": [
    "# confusion matrix\n",
    "\n",
    "confusion_matrix(y_test, y_pred_lr)\n",
    "# true positive, false negative\n",
    "# false positive, true negative"
   ]
  },
  {
   "cell_type": "code",
   "execution_count": 143,
   "metadata": {},
   "outputs": [
    {
     "data": {
      "text/plain": [
       "LogisticRegression(max_iter=500, random_state=0)"
      ]
     },
     "execution_count": 143,
     "metadata": {},
     "output_type": "execute_result"
    }
   ],
   "source": [
    "lr = LogisticRegression(random_state=0, max_iter = 500)\n",
    "lr.fit(X_train_tfidf, y_train_balanced)\n"
   ]
  },
  {
   "cell_type": "code",
   "execution_count": 144,
   "metadata": {},
   "outputs": [],
   "source": [
    "y_pred_lr_test = lr.predict(X_test_tfidf)\n",
    "y_proba_lr_test = lr.predict_proba(X_test_tfidf)[:,1]"
   ]
  },
  {
   "cell_type": "code",
   "execution_count": 145,
   "metadata": {},
   "outputs": [
    {
     "name": "stdout",
     "output_type": "stream",
     "text": [
      "Accuracy: 0.7508941387230825\n",
      "Precision: 0.108644660294922\n",
      "Recall: 0.7371686738151467\n"
     ]
    }
   ],
   "source": [
    "print(\"Accuracy:\", accuracy_score(y_test, y_pred_lr_test))\n",
    "print(\"Precision:\", precision_score(y_test, y_pred_lr_test))\n",
    "print(\"Recall:\", recall_score(y_test, y_pred_lr_test))"
   ]
  },
  {
   "cell_type": "code",
   "execution_count": 148,
   "metadata": {},
   "outputs": [
    {
     "name": "stdout",
     "output_type": "stream",
     "text": [
      "0.8211722171368615\n"
     ]
    },
    {
     "data": {
      "image/png": "[encoded data removed]",
      "text/plain": [
       "<Figure size 576x576 with 1 Axes>"
      ]
     },
     "metadata": {
      "needs_background": "light"
     },
     "output_type": "display_data"
    }
   ],
   "source": [
    "fig, ax = plt.subplots(figsize = (8,8))\n",
    "\n",
    "fpr, tpr, threshold = roc_curve(y_test, y_proba_lr_test)\n",
    "plot_ROC(ax, fpr, tpr)\n",
    "print(auc(fpr, tpr))"
   ]
  },
  {
   "cell_type": "code",
   "execution_count": 96,
   "metadata": {},
   "outputs": [
    {
     "data": {
      "text/plain": [
       "array([ 0.74175077, -0.34679478,  0.32653178, ..., -0.26862264,\n",
       "       -0.38449224,  0.86775271])"
      ]
     },
     "execution_count": 96,
     "metadata": {},
     "output_type": "execute_result"
    }
   ],
   "source": [
    "lr.coef_[0]\n"
   ]
  },
  {
   "cell_type": "markdown",
   "metadata": {},
   "source": [
    "## Feature Importance ##"
   ]
  },
  {
   "cell_type": "code",
   "execution_count": 87,
   "metadata": {},
   "outputs": [],
   "source": [
    "# words indices\n",
    "# logistic regression\n",
    "\n",
    "important_tokens = pd.DataFrame(\n",
    "    data=lr.coef_[0],\n",
    "    index=tfidfvect.get_feature_names(),\n",
    "    columns=['coefficient']\n",
    ").sort_values(by='coefficient', ascending=False)\n"
   ]
  },
  {
   "cell_type": "code",
   "execution_count": 112,
   "metadata": {},
   "outputs": [
    {
     "data": {
      "text/html": [
       "<div>\n",
       "<style scoped>\n",
       "    .dataframe tbody tr th:only-of-type {\n",
       "        vertical-align: middle;\n",
       "    }\n",
       "\n",
       "    .dataframe tbody tr th {\n",
       "        vertical-align: top;\n",
       "    }\n",
       "\n",
       "    .dataframe thead th {\n",
       "        text-align: right;\n",
       "    }\n",
       "</style>\n",
       "<table border=\"1\" class=\"dataframe\">\n",
       "  <thead>\n",
       "    <tr style=\"text-align: right;\">\n",
       "      <th></th>\n",
       "      <th>coefficient</th>\n",
       "    </tr>\n",
       "  </thead>\n",
       "  <tbody>\n",
       "    <tr>\n",
       "      <th>at all</th>\n",
       "      <td>4.589777</td>\n",
       "    </tr>\n",
       "    <tr>\n",
       "      <th>she said</th>\n",
       "      <td>3.872458</td>\n",
       "    </tr>\n",
       "    <tr>\n",
       "      <th>thank you</th>\n",
       "      <td>3.872011</td>\n",
       "    </tr>\n",
       "    <tr>\n",
       "      <th>helped</th>\n",
       "      <td>3.747986</td>\n",
       "    </tr>\n",
       "    <tr>\n",
       "      <th>number of</th>\n",
       "      <td>3.539933</td>\n",
       "    </tr>\n",
       "    <tr>\n",
       "      <th>yelp</th>\n",
       "      <td>3.376385</td>\n",
       "    </tr>\n",
       "    <tr>\n",
       "      <th>drunk</th>\n",
       "      <td>3.359805</td>\n",
       "    </tr>\n",
       "    <tr>\n",
       "      <th>huge</th>\n",
       "      <td>3.257651</td>\n",
       "    </tr>\n",
       "    <tr>\n",
       "      <th>yes</th>\n",
       "      <td>3.066148</td>\n",
       "    </tr>\n",
       "    <tr>\n",
       "      <th>may have</th>\n",
       "      <td>2.970519</td>\n",
       "    </tr>\n",
       "    <tr>\n",
       "      <th>you</th>\n",
       "      <td>2.893383</td>\n",
       "    </tr>\n",
       "    <tr>\n",
       "      <th>here and</th>\n",
       "      <td>2.841538</td>\n",
       "    </tr>\n",
       "    <tr>\n",
       "      <th>third</th>\n",
       "      <td>2.792451</td>\n",
       "    </tr>\n",
       "    <tr>\n",
       "      <th>yeah</th>\n",
       "      <td>2.764069</td>\n",
       "    </tr>\n",
       "    <tr>\n",
       "      <th>daughter</th>\n",
       "      <td>2.641165</td>\n",
       "    </tr>\n",
       "    <tr>\n",
       "      <th>dude</th>\n",
       "      <td>2.630525</td>\n",
       "    </tr>\n",
       "    <tr>\n",
       "      <th>meals</th>\n",
       "      <td>2.617329</td>\n",
       "    </tr>\n",
       "    <tr>\n",
       "      <th>have an</th>\n",
       "      <td>2.545589</td>\n",
       "    </tr>\n",
       "    <tr>\n",
       "      <th>creamy</th>\n",
       "      <td>2.532169</td>\n",
       "    </tr>\n",
       "    <tr>\n",
       "      <th>coffee and</th>\n",
       "      <td>2.514939</td>\n",
       "    </tr>\n",
       "    <tr>\n",
       "      <th>offers</th>\n",
       "      <td>2.495468</td>\n",
       "    </tr>\n",
       "    <tr>\n",
       "      <th>high</th>\n",
       "      <td>2.482360</td>\n",
       "    </tr>\n",
       "    <tr>\n",
       "      <th>located</th>\n",
       "      <td>2.417531</td>\n",
       "    </tr>\n",
       "    <tr>\n",
       "      <th>like</th>\n",
       "      <td>2.374135</td>\n",
       "    </tr>\n",
       "    <tr>\n",
       "      <th>eyes</th>\n",
       "      <td>2.320235</td>\n",
       "    </tr>\n",
       "    <tr>\n",
       "      <th>return</th>\n",
       "      <td>2.286342</td>\n",
       "    </tr>\n",
       "    <tr>\n",
       "      <th>going</th>\n",
       "      <td>2.220048</td>\n",
       "    </tr>\n",
       "    <tr>\n",
       "      <th>must</th>\n",
       "      <td>2.147972</td>\n",
       "    </tr>\n",
       "    <tr>\n",
       "      <th>starbucks</th>\n",
       "      <td>2.127180</td>\n",
       "    </tr>\n",
       "    <tr>\n",
       "      <th>of</th>\n",
       "      <td>2.124261</td>\n",
       "    </tr>\n",
       "    <tr>\n",
       "      <th>making</th>\n",
       "      <td>2.111185</td>\n",
       "    </tr>\n",
       "    <tr>\n",
       "      <th>girls</th>\n",
       "      <td>2.110014</td>\n",
       "    </tr>\n",
       "    <tr>\n",
       "      <th>sold</th>\n",
       "      <td>2.095737</td>\n",
       "    </tr>\n",
       "    <tr>\n",
       "      <th>member</th>\n",
       "      <td>2.082260</td>\n",
       "    </tr>\n",
       "    <tr>\n",
       "      <th>sent</th>\n",
       "      <td>2.073733</td>\n",
       "    </tr>\n",
       "    <tr>\n",
       "      <th>won</th>\n",
       "      <td>2.072047</td>\n",
       "    </tr>\n",
       "    <tr>\n",
       "      <th>onto</th>\n",
       "      <td>2.058346</td>\n",
       "    </tr>\n",
       "    <tr>\n",
       "      <th>drinks and</th>\n",
       "      <td>2.046265</td>\n",
       "    </tr>\n",
       "    <tr>\n",
       "      <th>fat</th>\n",
       "      <td>2.040236</td>\n",
       "    </tr>\n",
       "    <tr>\n",
       "      <th>lady</th>\n",
       "      <td>2.011777</td>\n",
       "    </tr>\n",
       "    <tr>\n",
       "      <th>day</th>\n",
       "      <td>1.971882</td>\n",
       "    </tr>\n",
       "    <tr>\n",
       "      <th>your</th>\n",
       "      <td>1.921733</td>\n",
       "    </tr>\n",
       "    <tr>\n",
       "      <th>back and</th>\n",
       "      <td>1.914151</td>\n",
       "    </tr>\n",
       "    <tr>\n",
       "      <th>tips</th>\n",
       "      <td>1.889408</td>\n",
       "    </tr>\n",
       "    <tr>\n",
       "      <th>girl</th>\n",
       "      <td>1.886251</td>\n",
       "    </tr>\n",
       "    <tr>\n",
       "      <th>guy</th>\n",
       "      <td>1.885836</td>\n",
       "    </tr>\n",
       "    <tr>\n",
       "      <th>in it</th>\n",
       "      <td>1.880564</td>\n",
       "    </tr>\n",
       "    <tr>\n",
       "      <th>give it</th>\n",
       "      <td>1.868154</td>\n",
       "    </tr>\n",
       "    <tr>\n",
       "      <th>selection</th>\n",
       "      <td>1.852207</td>\n",
       "    </tr>\n",
       "    <tr>\n",
       "      <th>total</th>\n",
       "      <td>1.850908</td>\n",
       "    </tr>\n",
       "  </tbody>\n",
       "</table>\n",
       "</div>"
      ],
      "text/plain": [
       "            coefficient\n",
       "at all         4.589777\n",
       "she said       3.872458\n",
       "thank you      3.872011\n",
       "helped         3.747986\n",
       "number of      3.539933\n",
       "yelp           3.376385\n",
       "drunk          3.359805\n",
       "huge           3.257651\n",
       "yes            3.066148\n",
       "may have       2.970519\n",
       "you            2.893383\n",
       "here and       2.841538\n",
       "third          2.792451\n",
       "yeah           2.764069\n",
       "daughter       2.641165\n",
       "dude           2.630525\n",
       "meals          2.617329\n",
       "have an        2.545589\n",
       "creamy         2.532169\n",
       "coffee and     2.514939\n",
       "offers         2.495468\n",
       "high           2.482360\n",
       "located        2.417531\n",
       "like           2.374135\n",
       "eyes           2.320235\n",
       "return         2.286342\n",
       "going          2.220048\n",
       "must           2.147972\n",
       "starbucks      2.127180\n",
       "of             2.124261\n",
       "making         2.111185\n",
       "girls          2.110014\n",
       "sold           2.095737\n",
       "member         2.082260\n",
       "sent           2.073733\n",
       "won            2.072047\n",
       "onto           2.058346\n",
       "drinks and     2.046265\n",
       "fat            2.040236\n",
       "lady           2.011777\n",
       "day            1.971882\n",
       "your           1.921733\n",
       "back and       1.914151\n",
       "tips           1.889408\n",
       "girl           1.886251\n",
       "guy            1.885836\n",
       "in it          1.880564\n",
       "give it        1.868154\n",
       "selection      1.852207\n",
       "total          1.850908"
      ]
     },
     "execution_count": 112,
     "metadata": {},
     "output_type": "execute_result"
    }
   ],
   "source": [
    "important_tokens[:50]"
   ]
  },
  {
   "cell_type": "code",
   "execution_count": 117,
   "metadata": {},
   "outputs": [
    {
     "data": {
      "image/png": "[encoded data removed]",
      "text/plain": [
       "<Figure size 1008x720 with 1 Axes>"
      ]
     },
     "metadata": {
      "needs_background": "light"
     },
     "output_type": "display_data"
    }
   ],
   "source": [
    "important_tokens[:30].sort_values(by='coefficient').plot(kind='barh', figsize = (14,10), color = 'limegreen')\n",
    "plt.title('Logistic Regression Feature Importance')\n",
    "plt.savefig('featureimportance.png', bbox_inches='tight')"
   ]
  },
  {
   "cell_type": "markdown",
   "metadata": {},
   "source": [
    "### Random Forest ###"
   ]
  },
  {
   "cell_type": "code",
   "execution_count": 689,
   "metadata": {},
   "outputs": [
    {
     "data": {
      "text/plain": [
       "array([[14564,  5499],\n",
       "       [ 6221, 13716]])"
      ]
     },
     "execution_count": 689,
     "metadata": {},
     "output_type": "execute_result"
    }
   ],
   "source": [
    "confusion_matrix(y_test, y_pred_rf)\n"
   ]
  },
  {
   "cell_type": "markdown",
   "metadata": {},
   "source": [
    "### Gradient Boosted Logistic Regression ###"
   ]
  },
  {
   "cell_type": "code",
   "execution_count": 688,
   "metadata": {},
   "outputs": [
    {
     "data": {
      "text/plain": [
       "array([[15141,  4922],\n",
       "       [ 5250, 14687]])"
      ]
     },
     "execution_count": 688,
     "metadata": {},
     "output_type": "execute_result"
    }
   ],
   "source": [
    "# confusion matrix\n",
    "\n",
    "confusion_matrix(y_test, y_pred_gbc)\n"
   ]
  },
  {
   "cell_type": "markdown",
   "metadata": {},
   "source": [
    "### Naive Bayes ###"
   ]
  },
  {
   "cell_type": "code",
   "execution_count": 690,
   "metadata": {},
   "outputs": [
    {
     "data": {
      "text/plain": [
       "array([[13874,  6189],\n",
       "       [ 4920, 15017]])"
      ]
     },
     "execution_count": 690,
     "metadata": {},
     "output_type": "execute_result"
    }
   ],
   "source": [
    "confusion_matrix(y_test, y_pred_nb)"
   ]
  },
  {
   "cell_type": "markdown",
   "metadata": {},
   "source": [
    "## Unsupervised Learning ##"
   ]
  },
  {
   "cell_type": "code",
   "execution_count": 1,
   "metadata": {},
   "outputs": [],
   "source": [
    "# NMF - topic modeling to find latent"
   ]
  },
  {
   "cell_type": "code",
   "execution_count": 2,
   "metadata": {},
   "outputs": [],
   "source": [
    "# LDA"
   ]
  },
  {
   "cell_type": "markdown",
   "metadata": {},
   "source": [
    "## Deep Learning ##"
   ]
  },
  {
   "cell_type": "code",
   "execution_count": 311,
   "metadata": {},
   "outputs": [],
   "source": [
    "## Neural Nets ##"
   ]
  },
  {
   "cell_type": "code",
   "execution_count": 10,
   "metadata": {},
   "outputs": [],
   "source": [
    "# Feedforward Networks/Multi-layer Perceptrons on top of BOW representation\n",
    "# 25 epochs, batch size 50?\n",
    "# build word vectors using gensim, fit on top of that\n",
    "\n",
    "import tensorflow as tf\n",
    "from tensorflow.keras import layers\n",
    "keras = tf.keras\n",
    "\n",
    "from tensorflow.keras.models import Sequential\n",
    "from tensorflow.keras.layers import Dense, Dropout, Activation\n",
    "from tensorflow.keras.optimizers import SGD"
   ]
  },
  {
   "cell_type": "code",
   "execution_count": null,
   "metadata": {},
   "outputs": [],
   "source": [
    "nn = Sequential()\n",
    "\n",
    "n_samples, n_feats = X_train.shape\n",
    "\n",
    "denselayer = Dense(units=1,\n",
    "                input_dim=n_feats,\n",
    "                kernel_initializer='uniform',\n",
    "                activation='sigmoid')\n",
    "\n",
    "nn.add(denselayer)\n",
    "\n",
    "nn.compile(loss='log',\n",
    "           optimizer='sgd',\n",
    "           metrics=[Precision(), Recall(), 'accuracy'])\n",
    "\n",
    "nn.add(Activation(tf.nn.relu)) #vs sigmoid?\n",
    "\n",
    "nn.add(.Dropout(rate=0.5))"
   ]
  },
  {
   "cell_type": "code",
   "execution_count": null,
   "metadata": {},
   "outputs": [],
   "source": [
    "nn.fit(x_train, y_train, epochs=10, batch_size=32)"
   ]
  },
  {
   "cell_type": "markdown",
   "metadata": {},
   "source": [
    "## LSTM ##"
   ]
  },
  {
   "cell_type": "code",
   "execution_count": 162,
   "metadata": {},
   "outputs": [
    {
     "data": {
      "text/html": [
       "<div>\n",
       "<style scoped>\n",
       "    .dataframe tbody tr th:only-of-type {\n",
       "        vertical-align: middle;\n",
       "    }\n",
       "\n",
       "    .dataframe tbody tr th {\n",
       "        vertical-align: top;\n",
       "    }\n",
       "\n",
       "    .dataframe thead th {\n",
       "        text-align: right;\n",
       "    }\n",
       "</style>\n",
       "<table border=\"1\" class=\"dataframe\">\n",
       "  <thead>\n",
       "    <tr style=\"text-align: right;\">\n",
       "      <th></th>\n",
       "      <th>text</th>\n",
       "    </tr>\n",
       "  </thead>\n",
       "  <tbody>\n",
       "    <tr>\n",
       "      <th>0</th>\n",
       "      <td>2017's Yelp 100 Challenge 18/100\\n\\nWhat a fun...</td>\n",
       "    </tr>\n",
       "    <tr>\n",
       "      <th>1</th>\n",
       "      <td>We recently leased a new car from here. We had...</td>\n",
       "    </tr>\n",
       "    <tr>\n",
       "      <th>2</th>\n",
       "      <td>If I could give this place one star I would. D...</td>\n",
       "    </tr>\n",
       "    <tr>\n",
       "      <th>3</th>\n",
       "      <td>So I seriously considered trying to impress yo...</td>\n",
       "    </tr>\n",
       "    <tr>\n",
       "      <th>4</th>\n",
       "      <td>I went here based off the reviews, and the fac...</td>\n",
       "    </tr>\n",
       "    <tr>\n",
       "      <th>...</th>\n",
       "      <td>...</td>\n",
       "    </tr>\n",
       "    <tr>\n",
       "      <th>545377</th>\n",
       "      <td>There's an older review that suggests going to...</td>\n",
       "    </tr>\n",
       "    <tr>\n",
       "      <th>545378</th>\n",
       "      <td>Excellent Bestbuy is the best place for all el...</td>\n",
       "    </tr>\n",
       "    <tr>\n",
       "      <th>545379</th>\n",
       "      <td>This is the only store I know in Austin that s...</td>\n",
       "    </tr>\n",
       "    <tr>\n",
       "      <th>545380</th>\n",
       "      <td>Ok, so I finally went to see what all the hub-...</td>\n",
       "    </tr>\n",
       "    <tr>\n",
       "      <th>545381</th>\n",
       "      <td>The always work with me on price and outstandi...</td>\n",
       "    </tr>\n",
       "  </tbody>\n",
       "</table>\n",
       "<p>545382 rows × 1 columns</p>\n",
       "</div>"
      ],
      "text/plain": [
       "                                                     text\n",
       "0       2017's Yelp 100 Challenge 18/100\\n\\nWhat a fun...\n",
       "1       We recently leased a new car from here. We had...\n",
       "2       If I could give this place one star I would. D...\n",
       "3       So I seriously considered trying to impress yo...\n",
       "4       I went here based off the reviews, and the fac...\n",
       "...                                                   ...\n",
       "545377  There's an older review that suggests going to...\n",
       "545378  Excellent Bestbuy is the best place for all el...\n",
       "545379  This is the only store I know in Austin that s...\n",
       "545380  Ok, so I finally went to see what all the hub-...\n",
       "545381  The always work with me on price and outstandi...\n",
       "\n",
       "[545382 rows x 1 columns]"
      ]
     },
     "execution_count": 162,
     "metadata": {},
     "output_type": "execute_result"
    }
   ],
   "source": [
    "# create dfs\n",
    "\n",
    "X_train_balanced_df = X_train_balanced_df.drop(['Unnamed: 0'], axis = 1)\n",
    "y_train_balanced_df = y_train_balanced_df.drop(['Unnamed: 0'], axis = 1)"
   ]
  },
  {
   "cell_type": "code",
   "execution_count": 173,
   "metadata": {},
   "outputs": [
    {
     "data": {
      "text/plain": [
       "array([\"I love the driftwood. Whenever I come here I always feel like Don Draper on a secret rendezvous to meet my mistress who will be wearing sunglasses inside and smoking cigarettes with one of those fancy long holders. \\n\\nI know that really I'm meeting my fat, old buddies but hey, a guy can dream....\"],\n",
       "      dtype=object)"
      ]
     },
     "execution_count": 173,
     "metadata": {},
     "output_type": "execute_result"
    }
   ],
   "source": [
    "(X_train_balanced_df[X_train_balanced_df.index == 100].values[0])"
   ]
  },
  {
   "cell_type": "code",
   "execution_count": 168,
   "metadata": {},
   "outputs": [
    {
     "data": {
      "text/plain": [
       "array([1])"
      ]
     },
     "execution_count": 168,
     "metadata": {},
     "output_type": "execute_result"
    }
   ],
   "source": [
    "y_train_balanced_df[y_train_balanced_df.index == 100].values[0]"
   ]
  },
  {
   "cell_type": "code",
   "execution_count": 244,
   "metadata": {},
   "outputs": [],
   "source": [
    "# function to print reviews and funny rating\n",
    "\n",
    "def print_review(index):\n",
    "    review_text = X_train_balanced_df.values[index]\n",
    "    funny_or_not = y_train_balanced_df.values[index]\n",
    "    if len(review_text) > 0:\n",
    "        print(review_text)\n",
    "        print('Funny or not:', funny_or_not)"
   ]
  },
  {
   "cell_type": "code",
   "execution_count": 245,
   "metadata": {},
   "outputs": [
    {
     "name": "stdout",
     "output_type": "stream",
     "text": [
      "[\"I love the driftwood. Whenever I come here I always feel like Don Draper on a secret rendezvous to meet my mistress who will be wearing sunglasses inside and smoking cigarettes with one of those fancy long holders. \\n\\nI know that really I'm meeting my fat, old buddies but hey, a guy can dream....\"]\n",
      "Funny or not: [1]\n"
     ]
    }
   ],
   "source": [
    "print_review(100)"
   ]
  },
  {
   "cell_type": "code",
   "execution_count": 246,
   "metadata": {},
   "outputs": [
    {
     "name": "stdout",
     "output_type": "stream",
     "text": [
      "['2017\\'s Yelp 100 Challenge 18/100\\n\\nWhat a fun place to spend any night! My friend and I had driven by this location several times and finally one night we couldn\\'t agree on what to do, so we decided to stop in to grab a bite. Upon entering you are greeted by a waitress who says in the cutest accent: \"seat yourself anywhere\", and we did at one of the many tables located just above and to the right of the stage. They have karaoke, a full bar and a full kitchen! The drinks? A-1! The karaoke? Amazing! The food? Hit or miss. We ordered the sampler which included cheese sticks with marinara, buffalo wings, and colorful chips with spinach dip. The wings were pretty tasty, although not buffalo like we asked, had maybe a mild sauce. The cheese sticks were phenomenal, the spinach dip was flavorless and the ranch for dipping seemed like it may have been partially frozen, as in when I was trying to dip my wing it hit something hard- we moved the ranch to the side.\\n\\nFor our entrees, my friend ordered a burger, and I got the Caribbean cheesesteak pizza. I ate a few slices, but it was really without flavor and my friend said his burger was so-so. For drinks, I ordered a strawberry margarita which was the best I\\'d ever had, along with a Heineken, and he ordered a yuengling. All in all we definitely enjoyed the atmosphere, our waitress was great (we left a $15 tip) and the dj was awesome! Will definitely be back and will try to find what we like on the menu, definitely recommend!']\n",
      "Funny or not: [1]\n"
     ]
    }
   ],
   "source": [
    "print_review(0)"
   ]
  },
  {
   "cell_type": "markdown",
   "metadata": {},
   "source": [
    "### Texting Processing ##"
   ]
  },
  {
   "cell_type": "code",
   "execution_count": 284,
   "metadata": {},
   "outputs": [],
   "source": [
    "import re\n",
    "\n",
    "REPLACE_BY_SPACE_RE = re.compile('[/{}\\[\\]\\|@]')\n",
    "BAD_SYMBOLS_RE = re.compile('[^0-9a-z #+_]')"
   ]
  },
  {
   "cell_type": "code",
   "execution_count": 282,
   "metadata": {},
   "outputs": [],
   "source": [
    "## function for cleaning text\n",
    "\n",
    "def clean_text(text):\n",
    "    \"\"\"\n",
    "        text: a string\n",
    "        \n",
    "        return: modified initial string\n",
    "    \"\"\"\n",
    "    # text = text.lower() # lowercase text\n",
    "    text = REPLACE_BY_SPACE_RE.sub(' ', text) # replace REPLACE_BY_SPACE_RE symbols by space in text. substitute the matched string in REPLACE_BY_SPACE_RE with space.\n",
    "    # text = BAD_SYMBOLS_RE.sub('', text) # remove symbols which are in BAD_SYMBOLS_RE from text. substitute the matched string in BAD_SYMBOLS_RE with nothing. \n",
    "    text = text.replace('\\n', ' ')\n",
    "    # text = re.sub(r'\\W+', '', text)\n",
    "    # text = ' '.join(word for word in text.split() if word not in STOPWORDS) # remove stopwords from text\n",
    "    return text"
   ]
  },
  {
   "cell_type": "code",
   "execution_count": 286,
   "metadata": {},
   "outputs": [],
   "source": [
    "X_train_balanced_df.text = X_train_balanced_df.text.apply(clean_text)"
   ]
  },
  {
   "cell_type": "code",
   "execution_count": 294,
   "metadata": {},
   "outputs": [
    {
     "name": "stdout",
     "output_type": "stream",
     "text": [
      "['2017\\'s Yelp 100 Challenge 18 100  What a fun place to spend any night! My friend and I had driven by this location several times and finally one night we couldn\\'t agree on what to do, so we decided to stop in to grab a bite. Upon entering you are greeted by a waitress who says in the cutest accent: \"seat yourself anywhere\", and we did at one of the many tables located just above and to the right of the stage. They have karaoke, a full bar and a full kitchen! The drinks? A-1! The karaoke? Amazing! The food? Hit or miss. We ordered the sampler which included cheese sticks with marinara, buffalo wings, and colorful chips with spinach dip. The wings were pretty tasty, although not buffalo like we asked, had maybe a mild sauce. The cheese sticks were phenomenal, the spinach dip was flavorless and the ranch for dipping seemed like it may have been partially frozen, as in when I was trying to dip my wing it hit something hard- we moved the ranch to the side.  For our entrees, my friend ordered a burger, and I got the Caribbean cheesesteak pizza. I ate a few slices, but it was really without flavor and my friend said his burger was so-so. For drinks, I ordered a strawberry margarita which was the best I\\'d ever had, along with a Heineken, and he ordered a yuengling. All in all we definitely enjoyed the atmosphere, our waitress was great (we left a $15 tip) and the dj was awesome! Will definitely be back and will try to find what we like on the menu, definitely recommend!']\n",
      "Funny or not: [1]\n"
     ]
    }
   ],
   "source": [
    "print_review(0)\n",
    "# can't get rid of \\ ?"
   ]
  },
  {
   "cell_type": "markdown",
   "metadata": {},
   "source": [
    "### Vectorization ##"
   ]
  },
  {
   "cell_type": "code",
   "execution_count": 296,
   "metadata": {},
   "outputs": [
    {
     "data": {
      "text/plain": [
       "0         2017's Yelp 100 Challenge 18 100  What a fun p...\n",
       "1         We recently leased a new car from here. We had...\n",
       "2         If I could give this place one star I would. D...\n",
       "3         So I seriously considered trying to impress yo...\n",
       "4         I went here based off the reviews, and the fac...\n",
       "                                ...                        \n",
       "545377    There's an older review that suggests going to...\n",
       "545378    Excellent Bestbuy is the best place for all el...\n",
       "545379    This is the only store I know in Austin that s...\n",
       "545380    Ok, so I finally went to see what all the hub-...\n",
       "545381    The always work with me on price and outstandi...\n",
       "Name: text, Length: 545382, dtype: object"
      ]
     },
     "execution_count": 296,
     "metadata": {},
     "output_type": "execute_result"
    }
   ],
   "source": [
    "X_train_balanced_df.text"
   ]
  },
  {
   "cell_type": "code",
   "execution_count": 299,
   "metadata": {},
   "outputs": [
    {
     "name": "stdout",
     "output_type": "stream",
     "text": [
      "Found 273088 unique tokens.\n"
     ]
    }
   ],
   "source": [
    "# The maximum number of words to be used. (most frequent)\n",
    "MAX_NB_WORDS = 50000\n",
    "\n",
    "# Max number of words in each complaint.\n",
    "MAX_SEQUENCE_LENGTH = 250\n",
    "\n",
    "# This is fixed\n",
    "EMBEDDING_DIM = 100\n",
    "tokenizer = Tokenizer(num_words=MAX_NB_WORDS, filters='!\"#$%&()*+,-./:;<=>?@[\\]^_`{|}~', lower=True)\n",
    "tokenizer.fit_on_texts(X_train_balanced_df.text.values)\n",
    "word_index = tokenizer.word_index\n",
    "print('Found %s unique tokens.' % len(word_index))"
   ]
  },
  {
   "cell_type": "code",
   "execution_count": 306,
   "metadata": {},
   "outputs": [
    {
     "name": "stdout",
     "output_type": "stream",
     "text": [
      "Shape of data tensor: (545382, 250)\n"
     ]
    }
   ],
   "source": [
    "X = tokenizer.texts_to_sequences(X_train_balanced_df.text.values)\n",
    "X = pad_sequences(X, maxlen=MAX_SEQUENCE_LENGTH)\n",
    "print('Shape of data tensor:', X.shape)"
   ]
  },
  {
   "cell_type": "code",
   "execution_count": 308,
   "metadata": {},
   "outputs": [
    {
     "name": "stdout",
     "output_type": "stream",
     "text": [
      "Shape of label tensor: (545382, 1)\n"
     ]
    }
   ],
   "source": [
    "y = y_train_balanced_df.values\n",
    "print('Shape of label tensor:', y.shape)"
   ]
  },
  {
   "cell_type": "markdown",
   "metadata": {},
   "source": [
    "### Model"
   ]
  },
  {
   "cell_type": "code",
   "execution_count": 324,
   "metadata": {},
   "outputs": [
    {
     "name": "stdout",
     "output_type": "stream",
     "text": [
      "(490843, 250) (490843, 1)\n",
      "(54539, 250) (54539, 1)\n"
     ]
    }
   ],
   "source": [
    "# train test split \n",
    "\n",
    "X_train, X_test, y_train, y_test = train_test_split(X, y, test_size = 0.10, random_state = 42)\n",
    "print(X_train.shape, y_train.shape)\n",
    "print(X_test.shape, y_test.shape)"
   ]
  },
  {
   "cell_type": "code",
   "execution_count": 325,
   "metadata": {},
   "outputs": [
    {
     "name": "stdout",
     "output_type": "stream",
     "text": [
      "Epoch 1/5\n",
      "6903/6903 [==============================] - 2333s 332ms/step - loss: 0.5658 - accuracy: 0.7146 - precision: 0.7100 - recall: 0.7259 - val_loss: 0.5427 - val_accuracy: 0.7379 - val_precision: 0.7489 - val_recall: 0.7169\n",
      "Epoch 2/5\n",
      "6903/6903 [==============================] - 2290s 332ms/step - loss: 0.5065 - accuracy: 0.7563 - precision: 0.7562 - recall: 0.7556 - val_loss: 0.5032 - val_accuracy: 0.7542 - val_precision: 0.7369 - val_recall: 0.7917\n",
      "Epoch 3/5\n",
      "6903/6903 [==============================] - 2261s 328ms/step - loss: 0.4680 - accuracy: 0.7786 - precision: 0.7817 - recall: 0.7742 - val_loss: 0.5045 - val_accuracy: 0.7539 - val_precision: 0.7641 - val_recall: 0.7353\n",
      "Epoch 4/5\n",
      "6903/6903 [==============================] - 2259s 327ms/step - loss: 0.4351 - accuracy: 0.7973 - precision: 0.8049 - recall: 0.7838 - val_loss: 0.5220 - val_accuracy: 0.7485 - val_precision: 0.7699 - val_recall: 0.7097\n",
      "Epoch 5/5\n",
      "6903/6903 [==============================] - 2253s 326ms/step - loss: 0.4013 - accuracy: 0.8166 - precision: 0.8280 - recall: 0.7999 - val_loss: 0.5391 - val_accuracy: 0.7444 - val_precision: 0.7604 - val_recall: 0.7146\n"
     ]
    }
   ],
   "source": [
    "model = Sequential()\n",
    "model.add(Embedding(MAX_NB_WORDS, EMBEDDING_DIM, input_length=X.shape[1]))\n",
    "model.add(SpatialDropout1D(0.2))\n",
    "model.add(LSTM(100, dropout=0.2, recurrent_dropout=0.2))\n",
    "model.add(Dense(1, activation='sigmoid'))\n",
    "model.compile(loss='binary_crossentropy', optimizer='adam', metrics=['accuracy', keras.metrics.Precision(name='precision'),\n",
    "      keras.metrics.Recall(name='recall')])\n",
    "\n",
    "epochs = 5\n",
    "batch_size = 64\n",
    "\n",
    "history = model.fit(X_train, y_train, \n",
    "                    epochs=epochs, \n",
    "                    batch_size=batch_size,\n",
    "                    validation_split=0.1,\n",
    "                    callbacks=[EarlyStopping(monitor='val_loss', patience=3, min_delta=0.0001)])"
   ]
  },
  {
   "cell_type": "code",
   "execution_count": 356,
   "metadata": {},
   "outputs": [],
   "source": [
    "# ## evaluate model\n",
    "\n",
    "# accr = model.evaluate(X_test, y_test)\n",
    "# print('Test set\\n  Loss: {:0.3f}\\n  Accuracy: {:0.3f}'.format(accr[0],accr[1]))"
   ]
  },
  {
   "cell_type": "code",
   "execution_count": 359,
   "metadata": {},
   "outputs": [],
   "source": [
    "# save the model to disk\n",
    "model.save(\"LTSM1.h5\")\n",
    "# filename = 'first_LSTM.sav'\n",
    "# pickle.dump(model, open(filename, 'wb'))"
   ]
  },
  {
   "cell_type": "code",
   "execution_count": 360,
   "metadata": {},
   "outputs": [
    {
     "name": "stdout",
     "output_type": "stream",
     "text": [
      "Original model: <tensorflow.python.keras.engine.sequential.Sequential object at 0x7f8bf1bb06d0>\n"
     ]
    }
   ],
   "source": [
    "print(\"Original model:\", model)"
   ]
  },
  {
   "cell_type": "code",
   "execution_count": 345,
   "metadata": {},
   "outputs": [
    {
     "name": "stdout",
     "output_type": "stream",
     "text": [
      "Average review length: 157.9063683803279\n"
     ]
    }
   ],
   "source": [
    "## calculate average review length\n",
    "\n",
    "def get_avg_length():\n",
    "    total_words = 0\n",
    "    for i in range(len(X_train_balanced_df)):\n",
    "        total_words += len(X_train_balanced_df.text[i].split())\n",
    "    return total_words / len(X_train_balanced_df)\n",
    "\n",
    "print('Average review length:', get_avg_length())"
   ]
  },
  {
   "cell_type": "code",
   "execution_count": 346,
   "metadata": {
    "scrolled": true
   },
   "outputs": [
    {
     "name": "stdout",
     "output_type": "stream",
     "text": [
      "Found 273088 unique tokens.\n",
      "Shape of data tensor: (545382, 150)\n",
      "Shape of label tensor: (545382, 1)\n",
      "(490843, 150) (490843, 1)\n",
      "(54539, 150) (54539, 1)\n"
     ]
    }
   ],
   "source": [
    "# 2nd model\n",
    "\n",
    "# adjust sequence length based on average review length\n",
    "\n",
    "# The maximum number of words to be used. (most frequent)\n",
    "MAX_NB_WORDS = 50000\n",
    "\n",
    "# Max number of words in each complaint.\n",
    "MAX_SEQUENCE_LENGTH = 150\n",
    "\n",
    "# This is fixed\n",
    "EMBEDDING_DIM = 100\n",
    "tokenizer = Tokenizer(num_words=MAX_NB_WORDS, filters='!\"#$%&()*+,-./:;<=>?@[\\]^_`{|}~', lower=True)\n",
    "tokenizer.fit_on_texts(X_train_balanced_df.text.values)\n",
    "word_index = tokenizer.word_index\n",
    "print('Found %s unique tokens.' % len(word_index))\n",
    "\n",
    "X = tokenizer.texts_to_sequences(X_train_balanced_df.text.values)\n",
    "X = pad_sequences(X, maxlen=MAX_SEQUENCE_LENGTH)\n",
    "print('Shape of data tensor:', X.shape)\n",
    "\n",
    "y = y_train_balanced_df.values\n",
    "print('Shape of label tensor:', y.shape)\n",
    "\n",
    "# train test split \n",
    "\n",
    "X_train, X_test, y_train, y_test = train_test_split(X,y, test_size = 0.10, random_state = 42)\n",
    "print(X_train.shape, y_train.shape)\n",
    "print(X_test.shape, y_test.shape)"
   ]
  },
  {
   "cell_type": "code",
   "execution_count": 347,
   "metadata": {},
   "outputs": [
    {
     "name": "stdout",
     "output_type": "stream",
     "text": [
      "Epoch 1/5\n",
      "6903/6903 [==============================] - 1887s 273ms/step - loss: 0.5544 - accuracy: 0.7217 - precision: 0.7152 - recall: 0.7397 - val_loss: 0.5219 - val_accuracy: 0.7438 - val_precision: 0.7258 - val_recall: 0.7848\n",
      "Epoch 2/5\n",
      "6903/6903 [==============================] - 1833s 266ms/step - loss: 0.5057 - accuracy: 0.7502 - precision: 0.7470 - recall: 0.7571 - val_loss: 0.5166 - val_accuracy: 0.7473 - val_precision: 0.7330 - val_recall: 0.7791\n",
      "Epoch 3/5\n",
      "6903/6903 [==============================] - 1702s 247ms/step - loss: 0.4797 - accuracy: 0.7683 - precision: 0.7694 - recall: 0.7667 - val_loss: 0.5821 - val_accuracy: 0.7012 - val_precision: 0.6591 - val_recall: 0.8354\n",
      "Epoch 4/5\n",
      "6903/6903 [==============================] - 1798s 260ms/step - loss: 0.4649 - accuracy: 0.7770 - precision: 0.7801 - recall: 0.7716 - val_loss: 0.5285 - val_accuracy: 0.7416 - val_precision: 0.7579 - val_recall: 0.7110\n",
      "Epoch 5/5\n",
      "6903/6903 [==============================] - 1714s 248ms/step - loss: 0.4305 - accuracy: 0.7976 - precision: 0.8029 - recall: 0.7883 - val_loss: 0.5548 - val_accuracy: 0.7308 - val_precision: 0.7561 - val_recall: 0.6823\n"
     ]
    }
   ],
   "source": [
    "model2 = Sequential()\n",
    "model2.add(Embedding(MAX_NB_WORDS, EMBEDDING_DIM, input_length=X.shape[1]))\n",
    "model2.add(SpatialDropout1D(0.2))\n",
    "model2.add(LSTM(100, dropout=0.2, recurrent_dropout=0.2))\n",
    "model2.add(Dense(1, activation='sigmoid'))\n",
    "model2.compile(loss='binary_crossentropy', optimizer='adam', metrics=['accuracy', keras.metrics.Precision(name='precision'),\n",
    "      keras.metrics.Recall(name='recall')])\n",
    "\n",
    "epochs = 5\n",
    "batch_size = 64\n",
    "\n",
    "history = model2.fit(X_train, y_train, \n",
    "                    epochs=epochs, \n",
    "                    batch_size=batch_size,\n",
    "                    validation_split=0.1,\n",
    "                    callbacks=[EarlyStopping(monitor='val_loss', patience=3, min_delta=0.0001)])"
   ]
  },
  {
   "cell_type": "code",
   "execution_count": 350,
   "metadata": {},
   "outputs": [
    {
     "name": "stdout",
     "output_type": "stream",
     "text": [
      "1705/1705 [==============================] - 45s 26ms/step - loss: 0.5535 - accuracy: 0.7322 - precision: 0.7549 - recall: 0.6883\n",
      "Test set\n",
      "  Loss: 0.554\n",
      "  Accuracy: 0.732\n"
     ]
    }
   ],
   "source": [
    "## evaluate model\n",
    "\n",
    "accr = model2.evaluate(X_test, y_test)\n",
    "print('Test set\\n  Loss: {:0.3f}\\n  Accuracy: {:0.3f}'.format(accr[0],accr[1]))"
   ]
  },
  {
   "cell_type": "code",
   "execution_count": 361,
   "metadata": {},
   "outputs": [],
   "source": [
    "# save model\n",
    "\n",
    "model2.save(\"LTSM2.h5\")"
   ]
  },
  {
   "cell_type": "code",
   "execution_count": 353,
   "metadata": {},
   "outputs": [
    {
     "data": {
      "image/png": "[encoded data removed]",
      "text/plain": [
       "<Figure size 432x288 with 1 Axes>"
      ]
     },
     "metadata": {
      "needs_background": "light"
     },
     "output_type": "display_data"
    }
   ],
   "source": [
    "# plot loss\n",
    "\n",
    "plt.title('Loss')\n",
    "plt.plot(history.history['loss'], label='train')\n",
    "plt.plot(history.history['val_loss'], label='test')\n",
    "plt.ylabel('loss')\n",
    "plt.xlabel('epoch')\n",
    "plt.legend()\n",
    "plt.show();"
   ]
  },
  {
   "cell_type": "code",
   "execution_count": 354,
   "metadata": {},
   "outputs": [
    {
     "ename": "KeyError",
     "evalue": "'acc'",
     "output_type": "error",
     "traceback": [
      "\u001b[0;31m---------------------------------------------------------------------------\u001b[0m",
      "\u001b[0;31mKeyError\u001b[0m                                  Traceback (most recent call last)",
      "\u001b[0;32m<ipython-input-354-fe0e33e2cea4>\u001b[0m in \u001b[0;36m<module>\u001b[0;34m\u001b[0m\n\u001b[1;32m      2\u001b[0m \u001b[0;34m\u001b[0m\u001b[0m\n\u001b[1;32m      3\u001b[0m \u001b[0mplt\u001b[0m\u001b[0;34m.\u001b[0m\u001b[0mtitle\u001b[0m\u001b[0;34m(\u001b[0m\u001b[0;34m'Accuracy'\u001b[0m\u001b[0;34m)\u001b[0m\u001b[0;34m\u001b[0m\u001b[0;34m\u001b[0m\u001b[0m\n\u001b[0;32m----> 4\u001b[0;31m \u001b[0mplt\u001b[0m\u001b[0;34m.\u001b[0m\u001b[0mplot\u001b[0m\u001b[0;34m(\u001b[0m\u001b[0mhistory\u001b[0m\u001b[0;34m.\u001b[0m\u001b[0mhistory\u001b[0m\u001b[0;34m[\u001b[0m\u001b[0;34m'acc'\u001b[0m\u001b[0;34m]\u001b[0m\u001b[0;34m,\u001b[0m \u001b[0mlabel\u001b[0m\u001b[0;34m=\u001b[0m\u001b[0;34m'train'\u001b[0m\u001b[0;34m)\u001b[0m\u001b[0;34m\u001b[0m\u001b[0;34m\u001b[0m\u001b[0m\n\u001b[0m\u001b[1;32m      5\u001b[0m \u001b[0mplt\u001b[0m\u001b[0;34m.\u001b[0m\u001b[0mplot\u001b[0m\u001b[0;34m(\u001b[0m\u001b[0mhistory\u001b[0m\u001b[0;34m.\u001b[0m\u001b[0mhistory\u001b[0m\u001b[0;34m[\u001b[0m\u001b[0;34m'val_acc'\u001b[0m\u001b[0;34m]\u001b[0m\u001b[0;34m,\u001b[0m \u001b[0mlabel\u001b[0m\u001b[0;34m=\u001b[0m\u001b[0;34m'test'\u001b[0m\u001b[0;34m)\u001b[0m\u001b[0;34m\u001b[0m\u001b[0;34m\u001b[0m\u001b[0m\n\u001b[1;32m      6\u001b[0m \u001b[0mplt\u001b[0m\u001b[0;34m.\u001b[0m\u001b[0mylabel\u001b[0m\u001b[0;34m(\u001b[0m\u001b[0;34m'accuracy'\u001b[0m\u001b[0;34m)\u001b[0m\u001b[0;34m\u001b[0m\u001b[0;34m\u001b[0m\u001b[0m\n",
      "\u001b[0;31mKeyError\u001b[0m: 'acc'"
     ]
    },
    {
     "data": {
      "image/png": "[encoded data removed]",
      "text/plain": [
       "<Figure size 432x288 with 1 Axes>"
      ]
     },
     "metadata": {
      "needs_background": "light"
     },
     "output_type": "display_data"
    }
   ],
   "source": [
    "# plot accuracy\n",
    "\n",
    "plt.title('Accuracy')\n",
    "plt.plot(history.history['acc'], label='train')\n",
    "plt.plot(history.history['val_acc'], label='test')\n",
    "plt.ylabel('accuracy')\n",
    "plt.xlabel('epoch')\n",
    "plt.legend()\n",
    "plt.show();"
   ]
  },
  {
   "cell_type": "code",
   "execution_count": 9,
   "metadata": {},
   "outputs": [],
   "source": [
    "# first on word count vectorization\n",
    "import tensorflow as tf\n",
    "keras = tf.keras\n",
    "from scipy import stats\n",
    "import numpy as np\n",
    "import matplotlib.pyplot as plt\n",
    "from sklearn.model_selection import train_test_split\n",
    "\n",
    "import pandas as pd\n",
    "\n",
    "%matplotlib inline"
   ]
  },
  {
   "cell_type": "code",
   "execution_count": null,
   "metadata": {},
   "outputs": [],
   "source": [
    "# model 3: 20% of the data\n",
    "\n"
   ]
  },
  {
   "cell_type": "markdown",
   "metadata": {},
   "source": [
    "## Transfer Learning ##"
   ]
  },
  {
   "cell_type": "code",
   "execution_count": 4,
   "metadata": {},
   "outputs": [],
   "source": [
    "# BERT"
   ]
  },
  {
   "cell_type": "code",
   "execution_count": null,
   "metadata": {},
   "outputs": [],
   "source": []
  }
 ],
 "metadata": {
  "kernelspec": {
   "display_name": "Python 3",
   "language": "python",
   "name": "python3"
  },
  "language_info": {
   "codemirror_mode": {
    "name": "ipython",
    "version": 3
   },
   "file_extension": ".py",
   "mimetype": "text/x-python",
   "name": "python",
   "nbconvert_exporter": "python",
   "pygments_lexer": "ipython3",
   "version": "3.8.8"
  }
 },
 "nbformat": 4,
 "nbformat_minor": 4
}
