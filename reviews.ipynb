{
 "cells": [
  {
   "cell_type": "code",
   "execution_count": 300,
   "metadata": {},
   "outputs": [],
   "source": [
    "import pandas as pd\n",
    "import numpy as np\n",
    "import matplotlib.pyplot as plt\n",
    "import seaborn as sns\n",
    "\n",
    "import string\n",
    "import unicodedata\n",
    "\n",
    "import json\n",
    "import nltk\n",
    "\n",
    "from nltk.tokenize import sent_tokenize\n",
    "from nltk.tokenize import word_tokenize\n",
    "from nltk.corpus import stopwords\n",
    "from nltk.stem.porter import PorterStemmer\n",
    "from nltk.stem.snowball import SnowballStemmer\n",
    "from nltk.util import ngrams\n",
    "from nltk import pos_tag\n",
    "from nltk import RegexpParser\n",
    "\n",
    "from sklearn.model_selection import train_test_split, KFold\n",
    "from sklearn.preprocessing import StandardScaler\n",
    "from sklearn.feature_extraction.text import CountVectorizer, TfidfVectorizer\n",
    "from sklearn.linear_model import LogisticRegression, SGDClassifier\n",
    "from sklearn.ensemble import RandomForestClassifier, GradientBoostingClassifier\n",
    "from sklearn.metrics import confusion_matrix, precision_score, recall_score, accuracy_score, roc_curve, auc"
   ]
  },
  {
   "cell_type": "code",
   "execution_count": 6,
   "metadata": {},
   "outputs": [
    {
     "name": "stdout",
     "output_type": "stream",
     "text": [
      "\u001b[34mdataset-examples\u001b[m\u001b[m      spark capstone2.ipynb \u001b[34myelp_dataset\u001b[m\u001b[m\r\n",
      "sarc_09-12.csv        viewing data.ipynb\r\n"
     ]
    }
   ],
   "source": [
    "! ls"
   ]
  },
  {
   "cell_type": "markdown",
   "metadata": {},
   "source": [
    "## Load and convert data ##"
   ]
  },
  {
   "cell_type": "code",
   "execution_count": 7,
   "metadata": {},
   "outputs": [],
   "source": [
    "# read in Yelp Reviews\n",
    "  \n",
    "data = [json.loads(line) for line in open('yelp_dataset/yelp_academic_dataset_review.json', 'r')]"
   ]
  },
  {
   "cell_type": "code",
   "execution_count": 91,
   "metadata": {},
   "outputs": [],
   "source": [
    "reviews_df = pd.DataFrame(data)"
   ]
  },
  {
   "cell_type": "code",
   "execution_count": 92,
   "metadata": {},
   "outputs": [
    {
     "data": {
      "text/html": [
       "<div>\n",
       "<style scoped>\n",
       "    .dataframe tbody tr th:only-of-type {\n",
       "        vertical-align: middle;\n",
       "    }\n",
       "\n",
       "    .dataframe tbody tr th {\n",
       "        vertical-align: top;\n",
       "    }\n",
       "\n",
       "    .dataframe thead th {\n",
       "        text-align: right;\n",
       "    }\n",
       "</style>\n",
       "<table border=\"1\" class=\"dataframe\">\n",
       "  <thead>\n",
       "    <tr style=\"text-align: right;\">\n",
       "      <th></th>\n",
       "      <th>review_id</th>\n",
       "      <th>user_id</th>\n",
       "      <th>business_id</th>\n",
       "      <th>stars</th>\n",
       "      <th>useful</th>\n",
       "      <th>funny</th>\n",
       "      <th>cool</th>\n",
       "      <th>text</th>\n",
       "      <th>date</th>\n",
       "    </tr>\n",
       "  </thead>\n",
       "  <tbody>\n",
       "    <tr>\n",
       "      <th>0</th>\n",
       "      <td>lWC-xP3rd6obsecCYsGZRg</td>\n",
       "      <td>ak0TdVmGKo4pwqdJSTLwWw</td>\n",
       "      <td>buF9druCkbuXLX526sGELQ</td>\n",
       "      <td>4.0</td>\n",
       "      <td>3</td>\n",
       "      <td>1</td>\n",
       "      <td>1</td>\n",
       "      <td>Apparently Prides Osteria had a rough summer a...</td>\n",
       "      <td>2014-10-11 03:34:02</td>\n",
       "    </tr>\n",
       "    <tr>\n",
       "      <th>1</th>\n",
       "      <td>8bFej1QE5LXp4O05qjGqXA</td>\n",
       "      <td>YoVfDbnISlW0f7abNQACIg</td>\n",
       "      <td>RA4V8pr014UyUbDvI-LW2A</td>\n",
       "      <td>4.0</td>\n",
       "      <td>1</td>\n",
       "      <td>0</td>\n",
       "      <td>0</td>\n",
       "      <td>This store is pretty good. Not as great as Wal...</td>\n",
       "      <td>2015-07-03 20:38:25</td>\n",
       "    </tr>\n",
       "    <tr>\n",
       "      <th>2</th>\n",
       "      <td>NDhkzczKjLshODbqDoNLSg</td>\n",
       "      <td>eC5evKn1TWDyHCyQAwguUw</td>\n",
       "      <td>_sS2LBIGNT5NQb6PD1Vtjw</td>\n",
       "      <td>5.0</td>\n",
       "      <td>0</td>\n",
       "      <td>0</td>\n",
       "      <td>0</td>\n",
       "      <td>I called WVM on the recommendation of a couple...</td>\n",
       "      <td>2013-05-28 20:38:06</td>\n",
       "    </tr>\n",
       "    <tr>\n",
       "      <th>3</th>\n",
       "      <td>T5fAqjjFooT4V0OeZyuk1w</td>\n",
       "      <td>SFQ1jcnGguO0LYWnbbftAA</td>\n",
       "      <td>0AzLzHfOJgL7ROwhdww2ew</td>\n",
       "      <td>2.0</td>\n",
       "      <td>1</td>\n",
       "      <td>1</td>\n",
       "      <td>1</td>\n",
       "      <td>I've stayed at many Marriott and Renaissance M...</td>\n",
       "      <td>2010-01-08 02:29:15</td>\n",
       "    </tr>\n",
       "    <tr>\n",
       "      <th>4</th>\n",
       "      <td>sjm_uUcQVxab_EeLCqsYLg</td>\n",
       "      <td>0kA0PAJ8QFMeveQWHFqz2A</td>\n",
       "      <td>8zehGz9jnxPqXtOc7KaJxA</td>\n",
       "      <td>4.0</td>\n",
       "      <td>0</td>\n",
       "      <td>0</td>\n",
       "      <td>0</td>\n",
       "      <td>The food is always great here. The service fro...</td>\n",
       "      <td>2011-07-28 18:05:01</td>\n",
       "    </tr>\n",
       "  </tbody>\n",
       "</table>\n",
       "</div>"
      ],
      "text/plain": [
       "                review_id                 user_id             business_id  \\\n",
       "0  lWC-xP3rd6obsecCYsGZRg  ak0TdVmGKo4pwqdJSTLwWw  buF9druCkbuXLX526sGELQ   \n",
       "1  8bFej1QE5LXp4O05qjGqXA  YoVfDbnISlW0f7abNQACIg  RA4V8pr014UyUbDvI-LW2A   \n",
       "2  NDhkzczKjLshODbqDoNLSg  eC5evKn1TWDyHCyQAwguUw  _sS2LBIGNT5NQb6PD1Vtjw   \n",
       "3  T5fAqjjFooT4V0OeZyuk1w  SFQ1jcnGguO0LYWnbbftAA  0AzLzHfOJgL7ROwhdww2ew   \n",
       "4  sjm_uUcQVxab_EeLCqsYLg  0kA0PAJ8QFMeveQWHFqz2A  8zehGz9jnxPqXtOc7KaJxA   \n",
       "\n",
       "   stars  useful  funny  cool  \\\n",
       "0    4.0       3      1     1   \n",
       "1    4.0       1      0     0   \n",
       "2    5.0       0      0     0   \n",
       "3    2.0       1      1     1   \n",
       "4    4.0       0      0     0   \n",
       "\n",
       "                                                text                 date  \n",
       "0  Apparently Prides Osteria had a rough summer a...  2014-10-11 03:34:02  \n",
       "1  This store is pretty good. Not as great as Wal...  2015-07-03 20:38:25  \n",
       "2  I called WVM on the recommendation of a couple...  2013-05-28 20:38:06  \n",
       "3  I've stayed at many Marriott and Renaissance M...  2010-01-08 02:29:15  \n",
       "4  The food is always great here. The service fro...  2011-07-28 18:05:01  "
      ]
     },
     "execution_count": 92,
     "metadata": {},
     "output_type": "execute_result"
    }
   ],
   "source": [
    "reviews_df.head()"
   ]
  },
  {
   "cell_type": "code",
   "execution_count": 93,
   "metadata": {},
   "outputs": [
    {
     "data": {
      "text/plain": [
       "8635403"
      ]
     },
     "execution_count": 93,
     "metadata": {},
     "output_type": "execute_result"
    }
   ],
   "source": [
    "len(reviews_df)"
   ]
  },
  {
   "cell_type": "code",
   "execution_count": 95,
   "metadata": {},
   "outputs": [
    {
     "data": {
      "text/plain": [
       "340864"
      ]
     },
     "execution_count": 95,
     "metadata": {},
     "output_type": "execute_result"
    }
   ],
   "source": [
    "# get 200k toy dataframe of balanced funny/not funny reviews\n",
    "\n",
    "len(reviews_df[reviews_df.funny >= 3])"
   ]
  },
  {
   "cell_type": "code",
   "execution_count": 97,
   "metadata": {},
   "outputs": [],
   "source": [
    "funny_df = reviews_df[reviews_df.funny >= 3].sample(n=100000, random_state=1)\n",
    "not_funny_df = reviews_df[reviews_df.funny == 0].sample(n=100000, random_state=1)"
   ]
  },
  {
   "cell_type": "code",
   "execution_count": 98,
   "metadata": {},
   "outputs": [],
   "source": [
    "# save toy datasets to csv\n",
    "\n",
    "funny_df.to_csv('funny.csv')\n",
    "not_funny_df.to_csv('notfunny.csv')"
   ]
  },
  {
   "cell_type": "code",
   "execution_count": 3,
   "metadata": {},
   "outputs": [
    {
     "data": {
      "text/plain": [
       "(200000, 10)"
      ]
     },
     "execution_count": 3,
     "metadata": {},
     "output_type": "execute_result"
    }
   ],
   "source": [
    "# read in and concatenate\n",
    "\n",
    "funny_df = pd.read_csv('funny.csv')\n",
    "not_funny_df = pd.read_csv('notfunny.csv')\n",
    "\n",
    "df = pd.concat([funny_df, not_funny_df]).drop_duplicates('review_id')\n",
    "df.shape"
   ]
  },
  {
   "cell_type": "code",
   "execution_count": 4,
   "metadata": {},
   "outputs": [],
   "source": [
    "df = df.drop(['Unnamed: 0'], axis = 1)"
   ]
  },
  {
   "cell_type": "code",
   "execution_count": 5,
   "metadata": {
    "scrolled": true
   },
   "outputs": [],
   "source": [
    "df = df.reset_index(drop=True)"
   ]
  },
  {
   "cell_type": "code",
   "execution_count": 6,
   "metadata": {},
   "outputs": [
    {
     "data": {
      "text/plain": [
       "0         A scavenger hunt was hosted by the Paramount r...\n",
       "1         The Pretty Kitty has 20 locations throughout t...\n",
       "2         After a very productive business meeting this ...\n",
       "3         I called in advance to be sure that they had t...\n",
       "4         Eastern Standard reminds me of that scene in S...\n",
       "                                ...                        \n",
       "199995    This restaurant is AMAZING! The food, the serv...\n",
       "199996    Look. If you want a place that is decent with ...\n",
       "199997    Newsflash: A nearly once-in-a-lifetime event i...\n",
       "199998    Nick Dew deserves 5 stars! One of the best wai...\n",
       "199999    Very clean facility very nice staff listen to ...\n",
       "Name: text, Length: 200000, dtype: object"
      ]
     },
     "execution_count": 6,
     "metadata": {},
     "output_type": "execute_result"
    }
   ],
   "source": [
    "df.text"
   ]
  },
  {
   "cell_type": "code",
   "execution_count": 7,
   "metadata": {},
   "outputs": [
    {
     "data": {
      "text/html": [
       "<div>\n",
       "<style scoped>\n",
       "    .dataframe tbody tr th:only-of-type {\n",
       "        vertical-align: middle;\n",
       "    }\n",
       "\n",
       "    .dataframe tbody tr th {\n",
       "        vertical-align: top;\n",
       "    }\n",
       "\n",
       "    .dataframe thead th {\n",
       "        text-align: right;\n",
       "    }\n",
       "</style>\n",
       "<table border=\"1\" class=\"dataframe\">\n",
       "  <thead>\n",
       "    <tr style=\"text-align: right;\">\n",
       "      <th></th>\n",
       "      <th>review_id</th>\n",
       "      <th>user_id</th>\n",
       "      <th>business_id</th>\n",
       "      <th>stars</th>\n",
       "      <th>useful</th>\n",
       "      <th>funny</th>\n",
       "      <th>cool</th>\n",
       "      <th>text</th>\n",
       "      <th>date</th>\n",
       "    </tr>\n",
       "  </thead>\n",
       "  <tbody>\n",
       "    <tr>\n",
       "      <th>0</th>\n",
       "      <td>DEECPhn5tNBKbuaOeIcd2w</td>\n",
       "      <td>CwBh8Fmr07jFYBKZ2p6Mqg</td>\n",
       "      <td>iNsMwBxFXcP7QvB3994mgA</td>\n",
       "      <td>5.0</td>\n",
       "      <td>3</td>\n",
       "      <td>4</td>\n",
       "      <td>4</td>\n",
       "      <td>A scavenger hunt was hosted by the Paramount r...</td>\n",
       "      <td>2009-07-31 02:33:55</td>\n",
       "    </tr>\n",
       "    <tr>\n",
       "      <th>1</th>\n",
       "      <td>Ja7ZM1i_gYFXmxrkJPEPlA</td>\n",
       "      <td>ncIHRw4Vx3Wh9mZhLZxB7g</td>\n",
       "      <td>dgprzdonZcF7PPt-hkUkag</td>\n",
       "      <td>5.0</td>\n",
       "      <td>15</td>\n",
       "      <td>3</td>\n",
       "      <td>6</td>\n",
       "      <td>The Pretty Kitty has 20 locations throughout t...</td>\n",
       "      <td>2015-08-04 00:01:50</td>\n",
       "    </tr>\n",
       "    <tr>\n",
       "      <th>2</th>\n",
       "      <td>9E8ZAppLWtL0oJYRbFmOFQ</td>\n",
       "      <td>mdP18-vCtV9nu8DT2Bk6lA</td>\n",
       "      <td>gYuTx4cB_5UutuWIGusmUQ</td>\n",
       "      <td>5.0</td>\n",
       "      <td>14</td>\n",
       "      <td>6</td>\n",
       "      <td>9</td>\n",
       "      <td>After a very productive business meeting this ...</td>\n",
       "      <td>2018-10-15 13:49:54</td>\n",
       "    </tr>\n",
       "    <tr>\n",
       "      <th>3</th>\n",
       "      <td>MHBTWs3E8bKR80SOpcelWw</td>\n",
       "      <td>fV4Y0rKuJaahlNfjCH3vfw</td>\n",
       "      <td>ZM3Y7pPuKu67Q_FOLqGx7A</td>\n",
       "      <td>4.0</td>\n",
       "      <td>1</td>\n",
       "      <td>4</td>\n",
       "      <td>0</td>\n",
       "      <td>I called in advance to be sure that they had t...</td>\n",
       "      <td>2012-08-25 01:39:58</td>\n",
       "    </tr>\n",
       "    <tr>\n",
       "      <th>4</th>\n",
       "      <td>EcvcH3hHuzlXqG79nIag0w</td>\n",
       "      <td>ys3M-lvO7wCYkhCbqSVCfA</td>\n",
       "      <td>p8ohzzGvGRCHnJKnyO7exA</td>\n",
       "      <td>4.0</td>\n",
       "      <td>0</td>\n",
       "      <td>4</td>\n",
       "      <td>0</td>\n",
       "      <td>Eastern Standard reminds me of that scene in S...</td>\n",
       "      <td>2014-11-08 23:22:35</td>\n",
       "    </tr>\n",
       "  </tbody>\n",
       "</table>\n",
       "</div>"
      ],
      "text/plain": [
       "                review_id                 user_id             business_id  \\\n",
       "0  DEECPhn5tNBKbuaOeIcd2w  CwBh8Fmr07jFYBKZ2p6Mqg  iNsMwBxFXcP7QvB3994mgA   \n",
       "1  Ja7ZM1i_gYFXmxrkJPEPlA  ncIHRw4Vx3Wh9mZhLZxB7g  dgprzdonZcF7PPt-hkUkag   \n",
       "2  9E8ZAppLWtL0oJYRbFmOFQ  mdP18-vCtV9nu8DT2Bk6lA  gYuTx4cB_5UutuWIGusmUQ   \n",
       "3  MHBTWs3E8bKR80SOpcelWw  fV4Y0rKuJaahlNfjCH3vfw  ZM3Y7pPuKu67Q_FOLqGx7A   \n",
       "4  EcvcH3hHuzlXqG79nIag0w  ys3M-lvO7wCYkhCbqSVCfA  p8ohzzGvGRCHnJKnyO7exA   \n",
       "\n",
       "   stars  useful  funny  cool  \\\n",
       "0    5.0       3      4     4   \n",
       "1    5.0      15      3     6   \n",
       "2    5.0      14      6     9   \n",
       "3    4.0       1      4     0   \n",
       "4    4.0       0      4     0   \n",
       "\n",
       "                                                text                 date  \n",
       "0  A scavenger hunt was hosted by the Paramount r...  2009-07-31 02:33:55  \n",
       "1  The Pretty Kitty has 20 locations throughout t...  2015-08-04 00:01:50  \n",
       "2  After a very productive business meeting this ...  2018-10-15 13:49:54  \n",
       "3  I called in advance to be sure that they had t...  2012-08-25 01:39:58  \n",
       "4  Eastern Standard reminds me of that scene in S...  2014-11-08 23:22:35  "
      ]
     },
     "execution_count": 7,
     "metadata": {},
     "output_type": "execute_result"
    }
   ],
   "source": [
    "df.head()"
   ]
  },
  {
   "cell_type": "code",
   "execution_count": 69,
   "metadata": {},
   "outputs": [
    {
     "name": "stdout",
     "output_type": "stream",
     "text": [
      "{'review_id': 'lWC-xP3rd6obsecCYsGZRg', 'user_id': 'ak0TdVmGKo4pwqdJSTLwWw', 'business_id': 'buF9druCkbuXLX526sGELQ', 'stars': 4.0, 'useful': 3, 'funny': 1, 'cool': 1, 'text': \"Apparently Prides Osteria had a rough summer as evidenced by the almost empty dining room at 6:30 on a Friday night. However new blood in the kitchen seems to have revitalized the food from other customers recent visits. Waitstaff was warm but unobtrusive. By 8 pm or so when we left the bar was full and the dining room was much more lively than it had been. Perhaps Beverly residents prefer a later seating. \\n\\nAfter reading the mixed reviews of late I was a little tentative over our choice but luckily there was nothing to worry about in the food department. We started with the fried dough, burrata and prosciutto which were all lovely. Then although they don't offer half portions of pasta we each ordered the entree size and split them. We chose the tagliatelle bolognese and a four cheese filled pasta in a creamy sauce with bacon, asparagus and grana frita. Both were very good. We split a secondi which was the special Berkshire pork secreto, which was described as a pork skirt steak with garlic potato purée and romanesco broccoli (incorrectly described as a romanesco sauce). Some tables received bread before the meal but for some reason we did not. \\n\\nManagement also seems capable for when the tenants in the apartment above began playing basketball she intervened and also comped the tables a dessert. We ordered the apple dumpling with gelato and it was also quite tasty. Portions are not huge which I particularly like because I prefer to order courses. If you are someone who orders just a meal you may leave hungry depending on you appetite. Dining room was mostly younger crowd while the bar was definitely the over 40 set. Would recommend that the naysayers return to see the improvement although I personally don't know the former glory to be able to compare. Easy access to downtown Salem without the crowds on this month of October.\", 'date': '2014-10-11 03:34:02'}\n",
      "\n",
      "Total reviews: 8635403\n",
      "Funny reviews: 340864\n",
      "Normal reviews: 8294539\n"
     ]
    }
   ],
   "source": [
    "## another way without using dataframe\n",
    "\n",
    "## We define a review as funny if it has at least 3 funny votes\n",
    "\n",
    "total = 0\n",
    "num_funny = 0\n",
    "funny_threshold = 3\n",
    "\n",
    "with open('yelp_dataset/yelp_academic_dataset_review.json') as f:\n",
    "    for line in f:\n",
    "        total += 1\n",
    "        reviews = json.loads(line)\n",
    "        if total == 1:\n",
    "            # Let's print the very first review, just to see what it looks like\n",
    "            print(reviews)\n",
    "        if reviews['funny'] >= funny_threshold:\n",
    "            num_funny += 1\n",
    "            \n",
    "print('\\nTotal reviews: %d\\nFunny reviews: %d\\nNormal reviews: %d' % (total, num_funny, total - num_funny))"
   ]
  },
  {
   "cell_type": "code",
   "execution_count": 33,
   "metadata": {},
   "outputs": [
    {
     "data": {
      "text/plain": [
       "(array([1.98908e+05, 8.81000e+02, 1.44000e+02, 3.90000e+01, 1.20000e+01,\n",
       "        5.00000e+00, 3.00000e+00, 6.00000e+00, 0.00000e+00, 0.00000e+00,\n",
       "        0.00000e+00, 0.00000e+00, 0.00000e+00, 0.00000e+00, 0.00000e+00,\n",
       "        0.00000e+00, 0.00000e+00, 1.00000e+00, 0.00000e+00, 1.00000e+00]),\n",
       " array([  0. ,  30.5,  61. ,  91.5, 122. , 152.5, 183. , 213.5, 244. ,\n",
       "        274.5, 305. , 335.5, 366. , 396.5, 427. , 457.5, 488. , 518.5,\n",
       "        549. , 579.5, 610. ]),\n",
       " <BarContainer object of 20 artists>)"
      ]
     },
     "execution_count": 33,
     "metadata": {},
     "output_type": "execute_result"
    },
    {
     "data": {
      "image/png": "[encoded data removed]",
      "text/plain": [
       "<Figure size 432x288 with 1 Axes>"
      ]
     },
     "metadata": {
      "needs_background": "light"
     },
     "output_type": "display_data"
    }
   ],
   "source": [
    "# Histogram of funny column to show class imbalances\n",
    "\n",
    "fig, ax = plt.subplots(figsize = (6,4))\n",
    "\n",
    "ax.hist(df.funny, bins = 20)"
   ]
  },
  {
   "cell_type": "code",
   "execution_count": 55,
   "metadata": {},
   "outputs": [
    {
     "data": {
      "image/png": "[encoded data removed]",
      "text/plain": [
       "<Figure size 432x288 with 1 Axes>"
      ]
     },
     "metadata": {
      "needs_background": "light"
     },
     "output_type": "display_data"
    }
   ],
   "source": [
    "# Barchart of funny vs not funny\n",
    "\n",
    "fig, ax = plt.subplots()\n"
   ]
  },
  {
   "cell_type": "code",
   "execution_count": 41,
   "metadata": {},
   "outputs": [
    {
     "data": {
      "text/plain": [
       "610"
      ]
     },
     "execution_count": 41,
     "metadata": {},
     "output_type": "execute_result"
    }
   ],
   "source": [
    "max(df.funny)"
   ]
  },
  {
   "cell_type": "code",
   "execution_count": 22,
   "metadata": {},
   "outputs": [],
   "source": [
    "## change count to more if time\n",
    "\n",
    "funny = []\n",
    "not_funny = []\n",
    "\n",
    "count = 100000\n",
    "funny_threshold = 3\n",
    "raw_data_path = 'yelp_dataset/yelp_academic_dataset_review.json'\n",
    "\n",
    "with open(raw_data_path) as file:\n",
    "    for line in file:\n",
    "        # Break when we've created a balanced dataset with count reviews in each category\n",
    "        if len(funny) == count and len(not_funny) == count:\n",
    "            break\n",
    "                    \n",
    "        sample = {}\n",
    "        reviews = json.loads(line)\n",
    "        sample['text'] = reviews['text']\n",
    "                    \n",
    "        if reviews['funny'] >= funny_threshold and len(funny) < count:\n",
    "            sample['label'] = 1\n",
    "            funny.append(sample)\n",
    "        elif reviews['funny'] < funny_threshold and len(not_funny) < count:\n",
    "            sample['label'] = 0\n",
    "            not_funny.append(sample)\n",
    "                    "
   ]
  },
  {
   "cell_type": "code",
   "execution_count": 23,
   "metadata": {},
   "outputs": [],
   "source": [
    "reviews = funny + not_funny"
   ]
  },
  {
   "cell_type": "code",
   "execution_count": 31,
   "metadata": {},
   "outputs": [
    {
     "data": {
      "text/plain": [
       "200000"
      ]
     },
     "execution_count": 31,
     "metadata": {},
     "output_type": "execute_result"
    }
   ],
   "source": [
    "len(reviews)"
   ]
  },
  {
   "cell_type": "code",
   "execution_count": 30,
   "metadata": {},
   "outputs": [
    {
     "data": {
      "text/plain": [
       "\"I loved everything about this place. I've only been once but I keep meaning to go back as it was so great (just a bit out of my way). \\n\\nI went with a fairly large group so we'd all ordered something different (back when it was $6 for everything, it looks like they've changed that now). At the time I got the chickpea fries, which were delicious but watch out for the fiber because I had to sit out of an entire board game. The board game selection was great, and I love that they serve mead (though I didn't get any at 12 pm haha).  The molten lava chocolate cake was so, so good. Seriously.\\n\\nThe real topping to the experience (other than the great service and the fact that they put lemons in their complimentary ice water) was that they were playing Siouxsie and the Banshees in the background! That + board games + good food + mead = I'm a fan forever.\""
      ]
     },
     "execution_count": 30,
     "metadata": {},
     "output_type": "execute_result"
    }
   ],
   "source": [
    "(reviews[0]['text'])"
   ]
  },
  {
   "cell_type": "markdown",
   "metadata": {},
   "source": [
    "## Text Processing Pipeline ##"
   ]
  },
  {
   "cell_type": "code",
   "execution_count": 9,
   "metadata": {},
   "outputs": [],
   "source": [
    "# create new df of just text and label\n",
    "\n",
    "new_df = pd.concat([df.text, df.funny], axis=1)"
   ]
  },
  {
   "cell_type": "code",
   "execution_count": 10,
   "metadata": {},
   "outputs": [],
   "source": [
    "new_df['funny or not'] = (new_df.funny >= 3).astype(int)"
   ]
  },
  {
   "cell_type": "code",
   "execution_count": 11,
   "metadata": {},
   "outputs": [],
   "source": [
    "new_df = new_df.drop(columns ='funny')"
   ]
  },
  {
   "cell_type": "code",
   "execution_count": 176,
   "metadata": {},
   "outputs": [
    {
     "data": {
      "text/html": [
       "<div>\n",
       "<style scoped>\n",
       "    .dataframe tbody tr th:only-of-type {\n",
       "        vertical-align: middle;\n",
       "    }\n",
       "\n",
       "    .dataframe tbody tr th {\n",
       "        vertical-align: top;\n",
       "    }\n",
       "\n",
       "    .dataframe thead th {\n",
       "        text-align: right;\n",
       "    }\n",
       "</style>\n",
       "<table border=\"1\" class=\"dataframe\">\n",
       "  <thead>\n",
       "    <tr style=\"text-align: right;\">\n",
       "      <th></th>\n",
       "      <th>text</th>\n",
       "      <th>funny or not</th>\n",
       "    </tr>\n",
       "  </thead>\n",
       "  <tbody>\n",
       "    <tr>\n",
       "      <th>0</th>\n",
       "      <td>A scavenger hunt was hosted by the Paramount r...</td>\n",
       "      <td>1</td>\n",
       "    </tr>\n",
       "    <tr>\n",
       "      <th>1</th>\n",
       "      <td>The Pretty Kitty has 20 locations throughout t...</td>\n",
       "      <td>1</td>\n",
       "    </tr>\n",
       "    <tr>\n",
       "      <th>2</th>\n",
       "      <td>After a very productive business meeting this ...</td>\n",
       "      <td>1</td>\n",
       "    </tr>\n",
       "    <tr>\n",
       "      <th>3</th>\n",
       "      <td>I called in advance to be sure that they had t...</td>\n",
       "      <td>1</td>\n",
       "    </tr>\n",
       "    <tr>\n",
       "      <th>4</th>\n",
       "      <td>Eastern Standard reminds me of that scene in S...</td>\n",
       "      <td>1</td>\n",
       "    </tr>\n",
       "    <tr>\n",
       "      <th>...</th>\n",
       "      <td>...</td>\n",
       "      <td>...</td>\n",
       "    </tr>\n",
       "    <tr>\n",
       "      <th>199995</th>\n",
       "      <td>This restaurant is AMAZING! The food, the serv...</td>\n",
       "      <td>0</td>\n",
       "    </tr>\n",
       "    <tr>\n",
       "      <th>199996</th>\n",
       "      <td>Look. If you want a place that is decent with ...</td>\n",
       "      <td>0</td>\n",
       "    </tr>\n",
       "    <tr>\n",
       "      <th>199997</th>\n",
       "      <td>Newsflash: A nearly once-in-a-lifetime event i...</td>\n",
       "      <td>0</td>\n",
       "    </tr>\n",
       "    <tr>\n",
       "      <th>199998</th>\n",
       "      <td>Nick Dew deserves 5 stars! One of the best wai...</td>\n",
       "      <td>0</td>\n",
       "    </tr>\n",
       "    <tr>\n",
       "      <th>199999</th>\n",
       "      <td>Very clean facility very nice staff listen to ...</td>\n",
       "      <td>0</td>\n",
       "    </tr>\n",
       "  </tbody>\n",
       "</table>\n",
       "<p>200000 rows × 2 columns</p>\n",
       "</div>"
      ],
      "text/plain": [
       "                                                     text  funny or not\n",
       "0       A scavenger hunt was hosted by the Paramount r...             1\n",
       "1       The Pretty Kitty has 20 locations throughout t...             1\n",
       "2       After a very productive business meeting this ...             1\n",
       "3       I called in advance to be sure that they had t...             1\n",
       "4       Eastern Standard reminds me of that scene in S...             1\n",
       "...                                                   ...           ...\n",
       "199995  This restaurant is AMAZING! The food, the serv...             0\n",
       "199996  Look. If you want a place that is decent with ...             0\n",
       "199997  Newsflash: A nearly once-in-a-lifetime event i...             0\n",
       "199998  Nick Dew deserves 5 stars! One of the best wai...             0\n",
       "199999  Very clean facility very nice staff listen to ...             0\n",
       "\n",
       "[200000 rows x 2 columns]"
      ]
     },
     "execution_count": 176,
     "metadata": {},
     "output_type": "execute_result"
    }
   ],
   "source": [
    "new_df"
   ]
  },
  {
   "cell_type": "markdown",
   "metadata": {},
   "source": [
    "## EDA ##\n"
   ]
  },
  {
   "cell_type": "code",
   "execution_count": null,
   "metadata": {},
   "outputs": [],
   "source": [
    "# Distribution of review lengths\n",
    "\n",
    "fig, ax = plt.subplots()\n",
    "ax.hist()"
   ]
  },
  {
   "cell_type": "code",
   "execution_count": 95,
   "metadata": {},
   "outputs": [],
   "source": [
    "# normalize data and remove accents\n",
    "\n",
    "def remove_accents(input_str):\n",
    "    nfkd_form = unicodedata.normalize('NFKD', input_str)\n",
    "    only_ascii = nfkd_form.encode('ASCII', 'ignore')\n",
    "    return only_ascii.decode()"
   ]
  },
  {
   "cell_type": "code",
   "execution_count": 97,
   "metadata": {},
   "outputs": [],
   "source": [
    "review_text = new_df.text"
   ]
  },
  {
   "cell_type": "code",
   "execution_count": 123,
   "metadata": {},
   "outputs": [
    {
     "data": {
      "text/plain": [
       "\"A scavenger hunt was hosted by the Paramount recently. Plus 1.5 million stars. I almost ate pavement running around downtown Austin to win that thing with my team, and even though we didn't even get third, it was totally worth it. Watching the Big Lebowski afterwards on their lovely screen, sitting in their charming wooden seats, I marveled at what an awesome town Austin is and how many people appreciate events like that and structures like the Paramount. \\n\\nThis place bears a close resemblance to the old Broadway theaters where I used to dork out during my undergrad (theater minor).  It's a thrilling comfort every time I come here; I haven't found another such place. The mezzanine seats way on high still offer a great view of the screen, and an opportunity to admire the ceiling details. I finally saw Casablanca for the first time, thanks to the Paramount and their investment on keeping classics alive. What a fitting place to take in cinema royalty.\""
      ]
     },
     "execution_count": 123,
     "metadata": {},
     "output_type": "execute_result"
    }
   ],
   "source": [
    "review_text[0]"
   ]
  },
  {
   "cell_type": "code",
   "execution_count": 15,
   "metadata": {},
   "outputs": [],
   "source": [
    "# create toy df for faster processing\n",
    "\n",
    "funny_df = pd.read_csv('funny.csv')\n",
    "not_funny_df = pd.read_csv('notfunny.csv')\n",
    "\n",
    "df = pd.concat([funny_df, not_funny_df]).drop_duplicates('review_id')"
   ]
  },
  {
   "cell_type": "code",
   "execution_count": 48,
   "metadata": {},
   "outputs": [],
   "source": [
    "toy_funny = funny_df.sample(n=10000, random_state=1)\n",
    "toy_notfunny = not_funny_df.sample(n=10000, random_state=1)\n",
    "\n",
    "toy_df = pd.concat([toy_funny, toy_notfunny]).drop_duplicates('review_id')\n",
    "toy_df = toy_df.drop(['Unnamed: 0'], axis = 1)"
   ]
  },
  {
   "cell_type": "code",
   "execution_count": 51,
   "metadata": {
    "scrolled": true
   },
   "outputs": [
    {
     "data": {
      "text/plain": [
       "43660     4\n",
       "87278     3\n",
       "14317     3\n",
       "81932     3\n",
       "95321    21\n",
       "         ..\n",
       "59828     0\n",
       "47957     0\n",
       "42429     0\n",
       "76505     0\n",
       "49578     0\n",
       "Name: funny, Length: 20000, dtype: int64"
      ]
     },
     "execution_count": 51,
     "metadata": {},
     "output_type": "execute_result"
    }
   ],
   "source": [
    "toy_df.funny"
   ]
  },
  {
   "cell_type": "code",
   "execution_count": 52,
   "metadata": {},
   "outputs": [],
   "source": [
    "toy = pd.concat([toy_df.text, toy_df.funny], axis=1)\n",
    "\n",
    "toy['funny or not'] = (toy.funny >= 3).astype(int)\n",
    "toy = toy.drop(columns ='funny')"
   ]
  },
  {
   "cell_type": "code",
   "execution_count": 55,
   "metadata": {},
   "outputs": [
    {
     "data": {
      "text/html": [
       "<div>\n",
       "<style scoped>\n",
       "    .dataframe tbody tr th:only-of-type {\n",
       "        vertical-align: middle;\n",
       "    }\n",
       "\n",
       "    .dataframe tbody tr th {\n",
       "        vertical-align: top;\n",
       "    }\n",
       "\n",
       "    .dataframe thead th {\n",
       "        text-align: right;\n",
       "    }\n",
       "</style>\n",
       "<table border=\"1\" class=\"dataframe\">\n",
       "  <thead>\n",
       "    <tr style=\"text-align: right;\">\n",
       "      <th></th>\n",
       "      <th>text</th>\n",
       "      <th>funny or not</th>\n",
       "    </tr>\n",
       "  </thead>\n",
       "  <tbody>\n",
       "    <tr>\n",
       "      <th>59828</th>\n",
       "      <td>Great local spot! Ribs were really tasty. Can'...</td>\n",
       "      <td>0</td>\n",
       "    </tr>\n",
       "    <tr>\n",
       "      <th>47957</th>\n",
       "      <td>We hired Jessica Cain with Savvy Sisters / Cha...</td>\n",
       "      <td>0</td>\n",
       "    </tr>\n",
       "    <tr>\n",
       "      <th>42429</th>\n",
       "      <td>I arrived on a saturday at exactly 5pm not kno...</td>\n",
       "      <td>0</td>\n",
       "    </tr>\n",
       "    <tr>\n",
       "      <th>76505</th>\n",
       "      <td>We just had a lovely breakfast and fantastic l...</td>\n",
       "      <td>0</td>\n",
       "    </tr>\n",
       "    <tr>\n",
       "      <th>49578</th>\n",
       "      <td>I've been to this Kwik Kar a few times to have...</td>\n",
       "      <td>0</td>\n",
       "    </tr>\n",
       "  </tbody>\n",
       "</table>\n",
       "</div>"
      ],
      "text/plain": [
       "                                                    text  funny or not\n",
       "59828  Great local spot! Ribs were really tasty. Can'...             0\n",
       "47957  We hired Jessica Cain with Savvy Sisters / Cha...             0\n",
       "42429  I arrived on a saturday at exactly 5pm not kno...             0\n",
       "76505  We just had a lovely breakfast and fantastic l...             0\n",
       "49578  I've been to this Kwik Kar a few times to have...             0"
      ]
     },
     "execution_count": 55,
     "metadata": {},
     "output_type": "execute_result"
    }
   ],
   "source": [
    "toy.tail()"
   ]
  },
  {
   "cell_type": "code",
   "execution_count": 56,
   "metadata": {},
   "outputs": [
    {
     "data": {
      "text/html": [
       "<div>\n",
       "<style scoped>\n",
       "    .dataframe tbody tr th:only-of-type {\n",
       "        vertical-align: middle;\n",
       "    }\n",
       "\n",
       "    .dataframe tbody tr th {\n",
       "        vertical-align: top;\n",
       "    }\n",
       "\n",
       "    .dataframe thead th {\n",
       "        text-align: right;\n",
       "    }\n",
       "</style>\n",
       "<table border=\"1\" class=\"dataframe\">\n",
       "  <thead>\n",
       "    <tr style=\"text-align: right;\">\n",
       "      <th></th>\n",
       "      <th>text</th>\n",
       "      <th>funny or not</th>\n",
       "    </tr>\n",
       "  </thead>\n",
       "  <tbody>\n",
       "    <tr>\n",
       "      <th>43660</th>\n",
       "      <td>I have this lunch pass deal where I can litera...</td>\n",
       "      <td>1</td>\n",
       "    </tr>\n",
       "    <tr>\n",
       "      <th>87278</th>\n",
       "      <td>NO USE OF GLOVES or HAIR NETS---- gross!\\nThey...</td>\n",
       "      <td>1</td>\n",
       "    </tr>\n",
       "    <tr>\n",
       "      <th>14317</th>\n",
       "      <td>OK srsly. FIX THE DOOR! It's freaking winter p...</td>\n",
       "      <td>1</td>\n",
       "    </tr>\n",
       "    <tr>\n",
       "      <th>81932</th>\n",
       "      <td>When asked what I will miss the most about Ohi...</td>\n",
       "      <td>1</td>\n",
       "    </tr>\n",
       "    <tr>\n",
       "      <th>95321</th>\n",
       "      <td>Yes, it's a bit of a tourist trap, and yes, th...</td>\n",
       "      <td>1</td>\n",
       "    </tr>\n",
       "    <tr>\n",
       "      <th>...</th>\n",
       "      <td>...</td>\n",
       "      <td>...</td>\n",
       "    </tr>\n",
       "    <tr>\n",
       "      <th>59828</th>\n",
       "      <td>Vivian, the owner, saw my previous review and ...</td>\n",
       "      <td>1</td>\n",
       "    </tr>\n",
       "    <tr>\n",
       "      <th>47957</th>\n",
       "      <td>Way to bone yourself out of a good review.\\n\\n...</td>\n",
       "      <td>1</td>\n",
       "    </tr>\n",
       "    <tr>\n",
       "      <th>42429</th>\n",
       "      <td>This is my first time traveling from Seattle t...</td>\n",
       "      <td>1</td>\n",
       "    </tr>\n",
       "    <tr>\n",
       "      <th>76505</th>\n",
       "      <td>Overpriced fake fine dining that takes the \"el...</td>\n",
       "      <td>1</td>\n",
       "    </tr>\n",
       "    <tr>\n",
       "      <th>49578</th>\n",
       "      <td>I have been going to the local for about 2 yea...</td>\n",
       "      <td>1</td>\n",
       "    </tr>\n",
       "  </tbody>\n",
       "</table>\n",
       "<p>10000 rows × 2 columns</p>\n",
       "</div>"
      ],
      "text/plain": [
       "                                                    text  funny or not\n",
       "43660  I have this lunch pass deal where I can litera...             1\n",
       "87278  NO USE OF GLOVES or HAIR NETS---- gross!\\nThey...             1\n",
       "14317  OK srsly. FIX THE DOOR! It's freaking winter p...             1\n",
       "81932  When asked what I will miss the most about Ohi...             1\n",
       "95321  Yes, it's a bit of a tourist trap, and yes, th...             1\n",
       "...                                                  ...           ...\n",
       "59828  Vivian, the owner, saw my previous review and ...             1\n",
       "47957  Way to bone yourself out of a good review.\\n\\n...             1\n",
       "42429  This is my first time traveling from Seattle t...             1\n",
       "76505  Overpriced fake fine dining that takes the \"el...             1\n",
       "49578  I have been going to the local for about 2 yea...             1\n",
       "\n",
       "[10000 rows x 2 columns]"
      ]
     },
     "execution_count": 56,
     "metadata": {},
     "output_type": "execute_result"
    }
   ],
   "source": [
    "toy[toy['funny or not'] == 1]"
   ]
  },
  {
   "cell_type": "code",
   "execution_count": null,
   "metadata": {},
   "outputs": [],
   "source": [
    "# gensim library for word vectors - come back if time"
   ]
  },
  {
   "cell_type": "code",
   "execution_count": 18,
   "metadata": {},
   "outputs": [],
   "source": [
    "toy2 = toy.copy()"
   ]
  },
  {
   "cell_type": "code",
   "execution_count": 19,
   "metadata": {},
   "outputs": [
    {
     "ename": "NameError",
     "evalue": "name 'review_text' is not defined",
     "output_type": "error",
     "traceback": [
      "\u001b[0;31m---------------------------------------------------------------------------\u001b[0m",
      "\u001b[0;31mNameError\u001b[0m                                 Traceback (most recent call last)",
      "\u001b[0;32m<ipython-input-19-86320d7e5572>\u001b[0m in \u001b[0;36m<module>\u001b[0;34m\u001b[0m\n\u001b[0;32m----> 1\u001b[0;31m \u001b[0mtoy_df\u001b[0m\u001b[0;34m[\u001b[0m\u001b[0;34m'text'\u001b[0m\u001b[0;34m]\u001b[0m \u001b[0;34m=\u001b[0m \u001b[0mreview_text\u001b[0m\u001b[0;34m.\u001b[0m\u001b[0mmap\u001b[0m\u001b[0;34m(\u001b[0m\u001b[0mremove_accents\u001b[0m\u001b[0;34m)\u001b[0m\u001b[0;34m\u001b[0m\u001b[0;34m\u001b[0m\u001b[0m\n\u001b[0m",
      "\u001b[0;31mNameError\u001b[0m: name 'review_text' is not defined"
     ]
    }
   ],
   "source": [
    "toy2['text'] = review_text.map(remove_accents)"
   ]
  },
  {
   "cell_type": "code",
   "execution_count": 111,
   "metadata": {},
   "outputs": [],
   "source": [
    "# create a single class that does text processing"
   ]
  },
  {
   "cell_type": "code",
   "execution_count": 254,
   "metadata": {},
   "outputs": [],
   "source": [
    "# Tokenization (don't filter stopwords or punctuation as these may contribute to humor)\n",
    "\n",
    "from nltk.tokenize import word_tokenize\n",
    "from nltk.corpus import stopwords\n",
    "\n",
    "#tokens = review_text.map(word_tokenize)\n",
    "\n",
    "#tokenized = [word_tokenize(review_text.lower()) for review in review_text]\n",
    "\n",
    "# lowercase and tokenize\n",
    "toy_df['tokens'] = toy_df['text'].str.lower().map(word_tokenize)"
   ]
  },
  {
   "cell_type": "code",
   "execution_count": 175,
   "metadata": {},
   "outputs": [
    {
     "data": {
      "text/plain": [
       "pandas.core.frame.DataFrame"
      ]
     },
     "execution_count": 175,
     "metadata": {},
     "output_type": "execute_result"
    }
   ],
   "source": [
    "type(toy_df)"
   ]
  },
  {
   "cell_type": "code",
   "execution_count": 189,
   "metadata": {},
   "outputs": [],
   "source": [
    "# stemming/lemmatization\n",
    "\n",
    "from nltk.stem.porter import PorterStemmer\n",
    "from nltk.stem.snowball import SnowballStemmer\n",
    "from nltk.stem.wordnet import WordNetLemmatizer\n",
    "\n",
    "porter = PorterStemmer()\n",
    "snowball = SnowballStemmer('english')\n",
    "wordnet = WordNetLemmatizer()\n",
    "\n",
    "# docs_porter = [[porter.stem(word) for word in words]\n",
    "#                for doc in toy_tokens]\n",
    "# docs_snowball = [[snowball.stem(word) for word in words]\n",
    "#                  for doc in toy_tokens]\n",
    "# docs_wordnet = [[wordnet.lemmatize(word) for word in words]\n",
    "#                 for doc in toy_tokens]\n",
    "\n",
    "tokens_porter = [list(map(porter.stem, doc)) for doc in toy_df['tokens']]\n",
    "\n",
    "tokens_snowball = [list(map(snowball.stem, doc)) for doc in toy_df['tokens']]\n",
    "\n",
    "tokens_wordnet = [list(map(wordnet.lemmatize, doc)) for doc in toy_df['tokens']]\n"
   ]
  },
  {
   "cell_type": "code",
   "execution_count": 191,
   "metadata": {},
   "outputs": [
    {
     "data": {
      "text/plain": [
       "list"
      ]
     },
     "execution_count": 191,
     "metadata": {},
     "output_type": "execute_result"
    }
   ],
   "source": [
    "# stem/lemmatize within dataframe\n",
    "\n",
    "type(tokens_porter)"
   ]
  },
  {
   "cell_type": "code",
   "execution_count": 194,
   "metadata": {
    "scrolled": true
   },
   "outputs": [
    {
     "data": {
      "text/plain": [
       "186"
      ]
     },
     "execution_count": 194,
     "metadata": {},
     "output_type": "execute_result"
    }
   ],
   "source": [
    "len(tokens_wordnet[0])"
   ]
  },
  {
   "cell_type": "code",
   "execution_count": 195,
   "metadata": {},
   "outputs": [
    {
     "name": "stdout",
     "output_type": "stream",
     "text": [
      "            word           porter         snowball       lemmatizer\n",
      "       scavenger          scaveng          scaveng        scavenger\n",
      "             was               wa              was               wa\n",
      "          hosted             host             host           hosted\n",
      "        recently           recent           recent         recently\n",
      "            plus              plu             plus             plus\n",
      "         running              run              run          running\n",
      "             was               wa              was               wa\n",
      "         totally            total            total          totally\n",
      "        watching            watch            watch         watching\n",
      "      afterwards        afterward        afterward       afterwards\n",
      "          lovely             love             love           lovely\n",
      "         sitting              sit              sit          sitting\n",
      "        charming            charm            charm         charming\n",
      "        marveled           marvel           marvel         marveled\n",
      "         awesome           awesom           awesom          awesome\n",
      "            many             mani             mani             many\n",
      "          people            peopl            peopl           people\n",
      "      appreciate          appreci          appreci       appreciate\n",
      "      structures         structur         structur        structure\n",
      "            this              thi             this             this\n",
      "     resemblance          resembl          resembl      resemblance\n",
      "            used              use              use             used\n",
      "          during             dure             dure           during\n",
      "       thrilling           thrill           thrill        thrilling\n",
      "           every            everi            everi            every\n",
      "         another            anoth            anoth          another\n",
      "       mezzanine         mezzanin         mezzanin        mezzanine\n",
      "     opportunity         opportun         opportun      opportunity\n",
      "          admire            admir            admir           admire\n",
      "         ceiling             ceil             ceil          ceiling\n",
      "         finally            final            final          finally\n",
      "          thanks            thank            thank           thanks\n",
      "      investment           invest           invest       investment\n",
      "         keeping             keep             keep          keeping\n",
      "           alive             aliv             aliv            alive\n",
      "         fitting              fit              fit          fitting\n",
      "         royalty          royalti          royalti          royalty\n"
     ]
    }
   ],
   "source": [
    "## Print the stemmed and lemmatized words from the first review for each method\n",
    "print(\"%16s %16s %16s %16s\" % (\"word\", \"porter\", \"snowball\", \"lemmatizer\"))\n",
    "\n",
    "for i in range(min(len(tokens_porter[0]), len(tokens_snowball[0]), len(tokens_wordnet[0]))):\n",
    "    p, s, w = tokens_porter[0][i], tokens_snowball[0][i], tokens_wordnet[0][i]\n",
    "    if len(set((p, s, w))) != 1:\n",
    "        print(\"%16s %16s %16s %16s\" % (toy_df['tokens'][0][i], p, s, w))\n"
   ]
  },
  {
   "cell_type": "markdown",
   "metadata": {},
   "source": [
    "## TF-IDF Vectorization ##"
   ]
  },
  {
   "cell_type": "code",
   "execution_count": 200,
   "metadata": {},
   "outputs": [],
   "source": [
    "# bag of words, max features 500\n",
    "# TF-IDF\n",
    "# will go with lemmatizer to preserve as much of the original word as possible\n",
    "\n",
    "from sklearn.feature_extraction.text import TfidfVectorizer\n",
    "\n",
    "def tokenize(doc):\n",
    "    '''\n",
    "    INPUT: string\n",
    "    OUTPUT: list of strings\n",
    "\n",
    "    Remove accents, tokenize, and lemmatize the document.\n",
    "    '''\n",
    "    doc = remove_accents(doc)\n",
    "    return [wordnet.lemmatize(word) for word in word_tokenize(doc.lower())]\n",
    "\n",
    "\n",
    "tfidfvect = TfidfVectorizer(tokenizer=tokenize)\n",
    "\n",
    "# features\n",
    "tfidf_vectorized = tfidfvect.fit_transform(toy_df.text)"
   ]
  },
  {
   "cell_type": "code",
   "execution_count": 218,
   "metadata": {},
   "outputs": [
    {
     "data": {
      "text/plain": [
       "<5000x32912 sparse matrix of type '<class 'numpy.float64'>'\n",
       "\twith 641428 stored elements in Compressed Sparse Row format>"
      ]
     },
     "execution_count": 218,
     "metadata": {},
     "output_type": "execute_result"
    }
   ],
   "source": [
    "tfidf_vectorized"
   ]
  },
  {
   "cell_type": "code",
   "execution_count": 206,
   "metadata": {},
   "outputs": [],
   "source": [
    "words_tfidf = tfidfvect.get_feature_names()"
   ]
  },
  {
   "cell_type": "code",
   "execution_count": 212,
   "metadata": {},
   "outputs": [
    {
     "data": {
      "text/plain": [
       "['!',\n",
       " '#',\n",
       " '$',\n",
       " '%',\n",
       " '&',\n",
       " \"'\",\n",
       " \"''\",\n",
       " \"'03\",\n",
       " \"'08\",\n",
       " \"'33\",\n",
       " \"'40s\",\n",
       " \"'50\",\n",
       " \"'50s\",\n",
       " \"'67-'83\",\n",
       " \"'70s\",\n",
       " \"'75\",\n",
       " \"'80\",\n",
       " \"'80s\",\n",
       " \"'90s\",\n",
       " \"'97\",\n",
       " \"'actually\",\n",
       " \"'aged\",\n",
       " \"'air-bag\",\n",
       " \"'allowed\",\n",
       " \"'almost-corporate\",\n",
       " \"'amazing\",\n",
       " \"'ambiance\",\n",
       " \"'app\",\n",
       " \"'ass-ertive\",\n",
       " \"'assertive\",\n",
       " \"'austin\",\n",
       " \"'average\",\n",
       " \"'awesome\",\n",
       " \"'badonkadonk\",\n",
       " \"'bam\",\n",
       " \"'banker\",\n",
       " \"'best\",\n",
       " \"'blank\",\n",
       " \"'blast\",\n",
       " \"'blood\",\n",
       " \"'blown\",\n",
       " \"'boring\",\n",
       " \"'boujee\",\n",
       " \"'bout\",\n",
       " \"'boy\",\n",
       " \"'brasserie\",\n",
       " \"'bread\",\n",
       " \"'bro\",\n",
       " \"'buck\",\n",
       " \"'build\",\n",
       " \"'burbs\",\n",
       " \"'burnt\",\n",
       " \"'but\",\n",
       " \"'cause\",\n",
       " \"'check\",\n",
       " \"'cheese\",\n",
       " \"'chocolate\",\n",
       " \"'classic\",\n",
       " \"'cleaning\",\n",
       " \"'coffee\",\n",
       " \"'concept\",\n",
       " \"'conservative\",\n",
       " \"'cosby\",\n",
       " \"'could\",\n",
       " \"'couve\",\n",
       " \"'cove\",\n",
       " \"'crispy\",\n",
       " \"'crusting\",\n",
       " \"'ctj\",\n",
       " \"'curds\",\n",
       " \"'cuse\",\n",
       " \"'d\",\n",
       " \"'daycation\",\n",
       " \"'deep\",\n",
       " \"'designer\",\n",
       " \"'desperation\",\n",
       " \"'did\",\n",
       " \"'dine\",\n",
       " \"'earthy\",\n",
       " \"'electric\",\n",
       " \"'elevator\",\n",
       " \"'em\",\n",
       " \"'etta\",\n",
       " \"'every\",\n",
       " \"'excellent\",\n",
       " \"'exceptional\",\n",
       " \"'fad\",\n",
       " \"'famous\",\n",
       " \"'favourite\",\n",
       " \"'fine\",\n",
       " \"'floatin\",\n",
       " \"'foodie\",\n",
       " \"'for\",\n",
       " \"'franky\",\n",
       " \"'fridgerated\",\n",
       " \"'fried\",\n",
       " \"'future\",\n",
       " \"'garage\",\n",
       " \"'go\",\n",
       " \"'good\",\n",
       " \"'great\",\n",
       " \"'guy\",\n",
       " \"'hey\",\n",
       " \"'hi\",\n",
       " \"'high\",\n",
       " \"'hipster\",\n",
       " \"'holy\",\n",
       " \"'hood\",\n",
       " \"'host\",\n",
       " \"'hot\",\n",
       " \"'hotel\",\n",
       " \"'house\",\n",
       " \"'how\",\n",
       " \"'huaso\",\n",
       " \"'iciest\",\n",
       " \"'if\",\n",
       " \"'internet\",\n",
       " \"'is\",\n",
       " \"'it\",\n",
       " \"'italian\",\n",
       " \"'japanese\",\n",
       " \"'john\",\n",
       " \"'just\",\n",
       " \"'keep\",\n",
       " \"'library\",\n",
       " \"'likor\",\n",
       " \"'little\",\n",
       " \"'ll\",\n",
       " \"'lobstery\",\n",
       " \"'local\",\n",
       " \"'love\",\n",
       " \"'m\",\n",
       " \"'magic\",\n",
       " \"'magical\",\n",
       " \"'mailed\",\n",
       " \"'make\",\n",
       " \"'management\",\n",
       " \"'market\",\n",
       " \"'maybe\",\n",
       " \"'meat\",\n",
       " \"'meaty\",\n",
       " \"'mecca\",\n",
       " \"'mumble\",\n",
       " \"'my\",\n",
       " \"'nanner\",\n",
       " \"'new\",\n",
       " \"'nilla\",\n",
       " \"'no\",\n",
       " \"'normal\",\n",
       " \"'not\",\n",
       " \"'not-so-fresh\",\n",
       " \"'nough\",\n",
       " \"'now\",\n",
       " \"'nuff\",\n",
       " \"'oh\",\n",
       " \"'ohana\",\n",
       " \"'ok\",\n",
       " \"'oklahoma\",\n",
       " \"'oldest\",\n",
       " \"'omelet\",\n",
       " \"'one\",\n",
       " \"'only\",\n",
       " \"'outfitters\",\n",
       " \"'parents\",\n",
       " \"'park\",\n",
       " \"'parking\",\n",
       " \"'past\",\n",
       " \"'peanut\",\n",
       " \"'phew\",\n",
       " \"'pho\",\n",
       " \"'placemats\",\n",
       " \"'prepare\",\n",
       " \"'price\",\n",
       " \"'re\",\n",
       " \"'real\",\n",
       " \"'really\",\n",
       " \"'reggae\",\n",
       " \"'reggie\",\n",
       " \"'regular\",\n",
       " \"'regulars\",\n",
       " \"'rents\",\n",
       " \"'reserved\",\n",
       " \"'residual\",\n",
       " \"'resizing\",\n",
       " \"'resort\",\n",
       " \"'restaurant\",\n",
       " \"'river\",\n",
       " \"'round\",\n",
       " \"'s\",\n",
       " \"'scene\",\n",
       " \"'secret\",\n",
       " \"'seek\",\n",
       " \"'serenity\",\n",
       " \"'sex\",\n",
       " \"'side\",\n",
       " \"'sit\",\n",
       " \"'slight\",\n",
       " \"'small\",\n",
       " \"'smell\",\n",
       " \"'so\",\n",
       " \"'special\",\n",
       " \"'specials\",\n",
       " \"'spensive\",\n",
       " \"'splain\",\n",
       " \"'stache\",\n",
       " \"'strict\",\n",
       " \"'studypod\",\n",
       " \"'suggestion\",\n",
       " \"'t\",\n",
       " \"'tasting\",\n",
       " \"'tea\",\n",
       " \"'tenders\",\n",
       " \"'that\",\n",
       " \"'the\",\n",
       " \"'there\",\n",
       " \"'things\",\n",
       " \"'this\",\n",
       " \"'til\",\n",
       " \"'till\",\n",
       " \"'to\",\n",
       " \"'too\",\n",
       " \"'toonies\",\n",
       " \"'townies\",\n",
       " \"'tres\",\n",
       " \"'trespotz\",\n",
       " \"'try\",\n",
       " \"'tude\",\n",
       " \"'two\",\n",
       " \"'uncover\",\n",
       " \"'until\",\n",
       " \"'ve\",\n",
       " \"'vegan\",\n",
       " \"'vegetarian/vegan\",\n",
       " \"'was\",\n",
       " \"'we\",\n",
       " \"'well\",\n",
       " \"'went\",\n",
       " \"'west\",\n",
       " \"'what\",\n",
       " \"'where\",\n",
       " \"'white\",\n",
       " \"'who\",\n",
       " \"'wine\",\n",
       " \"'working\",\n",
       " \"'wow\",\n",
       " \"'yah\",\n",
       " \"'yes\",\n",
       " \"'yo\",\n",
       " \"'you\",\n",
       " \"'you're-my-best-friend-ever\",\n",
       " \"'young\",\n",
       " \"'za\",\n",
       " '(',\n",
       " ')',\n",
       " '*',\n",
       " '+',\n",
       " '++',\n",
       " '+++',\n",
       " '+++++++',\n",
       " '+1',\n",
       " '+1/-1',\n",
       " '+14',\n",
       " '+3',\n",
       " '+a',\n",
       " '+about',\n",
       " '+check',\n",
       " '+cool',\n",
       " '+d',\n",
       " '+hai',\n",
       " '+helps',\n",
       " '+improves',\n",
       " '+lobster',\n",
       " '+magnesium',\n",
       " '+my',\n",
       " '+pain',\n",
       " '+read',\n",
       " '+really',\n",
       " '+service',\n",
       " '+the',\n",
       " '+total',\n",
       " '+you',\n",
       " ',',\n",
       " '-',\n",
       " '--',\n",
       " '-/',\n",
       " '-1',\n",
       " '-12:00am',\n",
       " '-15',\n",
       " '-2',\n",
       " '-20',\n",
       " '-30',\n",
       " '-5',\n",
       " '-50',\n",
       " '-8am',\n",
       " '-_-',\n",
       " '-___-',\n",
       " '-a',\n",
       " '-affordable',\n",
       " '-after',\n",
       " '-airquotes-',\n",
       " '-all',\n",
       " '-amazing',\n",
       " '-an',\n",
       " '-and',\n",
       " '-arson',\n",
       " '-as',\n",
       " '-asparagus',\n",
       " '-avatar',\n",
       " '-avecado',\n",
       " '-b52s',\n",
       " '-bacon',\n",
       " '-baked',\n",
       " '-banh',\n",
       " '-bat',\n",
       " '-because',\n",
       " '-bifsteak',\n",
       " '-blue',\n",
       " '-bone',\n",
       " '-both',\n",
       " '-bring',\n",
       " '-brisket',\n",
       " '-buddha',\n",
       " '-burnt',\n",
       " '-but',\n",
       " '-calamari',\n",
       " '-cashew',\n",
       " '-ch',\n",
       " '-cheese',\n",
       " '-cheeses',\n",
       " '-chill',\n",
       " '-clean',\n",
       " '-cocktails',\n",
       " '-corn',\n",
       " '-corpse',\n",
       " '-crabcake',\n",
       " '-customize',\n",
       " '-d',\n",
       " '-dan',\n",
       " '-deep',\n",
       " '-depasquale',\n",
       " '-desserts',\n",
       " '-diff',\n",
       " '-dig',\n",
       " '-diverse',\n",
       " '-do',\n",
       " '-double',\n",
       " '-employee',\n",
       " '-enter',\n",
       " '-everyone',\n",
       " '-excellent',\n",
       " '-expensive',\n",
       " '-extremely',\n",
       " '-fairly',\n",
       " '-fajitas',\n",
       " '-fields',\n",
       " '-fish',\n",
       " '-food',\n",
       " '-for',\n",
       " '-free',\n",
       " '-fried',\n",
       " '-friendly',\n",
       " '-gaucamole',\n",
       " '-get',\n",
       " '-ginormous',\n",
       " '-glowsticks',\n",
       " '-go',\n",
       " '-good',\n",
       " '-got',\n",
       " '-great',\n",
       " '-hama',\n",
       " '-hardly',\n",
       " '-holy',\n",
       " '-hotate',\n",
       " '-i',\n",
       " '-if',\n",
       " '-inducing',\n",
       " '-install',\n",
       " '-isk',\n",
       " '-it',\n",
       " '-ive',\n",
       " '-jeff',\n",
       " '-jicama',\n",
       " '-just',\n",
       " '-karaage',\n",
       " '-knowing-of-car-stuff-self',\n",
       " '-laid-back',\n",
       " '-link',\n",
       " '-live',\n",
       " '-lobster',\n",
       " '-loud',\n",
       " '-m',\n",
       " '-maguro',\n",
       " '-make',\n",
       " '-margaritas',\n",
       " '-max',\n",
       " '-mediterranean',\n",
       " '-middle',\n",
       " '-mother',\n",
       " '-much',\n",
       " '-ninjin',\n",
       " '-no',\n",
       " '-nobody',\n",
       " '-nopales',\n",
       " '-not',\n",
       " '-nothing',\n",
       " '-oh',\n",
       " '-on',\n",
       " '-once',\n",
       " '-one',\n",
       " '-order',\n",
       " '-other',\n",
       " '-p',\n",
       " '-p.',\n",
       " '-pandora',\n",
       " '-paragina',\n",
       " '-parking',\n",
       " '-pho',\n",
       " '-pork',\n",
       " '-pre-cut',\n",
       " '-pricey',\n",
       " '-produce',\n",
       " '-rebecca',\n",
       " '-rent',\n",
       " '-result-',\n",
       " '-roast',\n",
       " '-rode',\n",
       " '-sadly',\n",
       " '-salmon',\n",
       " '-salty',\n",
       " '-scary',\n",
       " '-send',\n",
       " '-server',\n",
       " '-service',\n",
       " '-shan',\n",
       " '-shishito',\n",
       " '-shrimp',\n",
       " '-simply',\n",
       " '-since',\n",
       " '-sliding',\n",
       " '-slug',\n",
       " '-space/ambiance',\n",
       " '-specifically',\n",
       " '-spoiler',\n",
       " '-staff',\n",
       " '-start',\n",
       " '-stay',\n",
       " '-steak',\n",
       " '-stellar',\n",
       " '-sticky',\n",
       " '-strong',\n",
       " '-surly',\n",
       " '-sweet',\n",
       " '-take',\n",
       " '-tasteless',\n",
       " '-tasting',\n",
       " '-tempting',\n",
       " '-that',\n",
       " '-the',\n",
       " '-their',\n",
       " '-themed',\n",
       " '-there',\n",
       " '-they',\n",
       " '-this',\n",
       " '-too',\n",
       " '-totally',\n",
       " '-towner',\n",
       " '-traumatized',\n",
       " '-truffle',\n",
       " '-trust',\n",
       " '-type',\n",
       " '-uber',\n",
       " '-under',\n",
       " '-unisex',\n",
       " '-unless',\n",
       " '-urban',\n",
       " '-usagi',\n",
       " '-vengeance',\n",
       " '-volume',\n",
       " '-which',\n",
       " '-wonton',\n",
       " '-wood',\n",
       " '-would',\n",
       " '-y',\n",
       " '-yellow',\n",
       " '-you',\n",
       " '.',\n",
       " '..',\n",
       " '...',\n",
       " '....',\n",
       " '.....',\n",
       " '......',\n",
       " '.......',\n",
       " '........',\n",
       " '.........',\n",
       " '..........',\n",
       " '...........',\n",
       " '............',\n",
       " '..............',\n",
       " '.................',\n",
       " '.004693',\n",
       " '.02',\n",
       " '.10',\n",
       " '.2',\n",
       " '.20',\n",
       " '.25',\n",
       " '.30',\n",
       " '.39/lb',\n",
       " '.45',\n",
       " '.49',\n",
       " '.5',\n",
       " '.50',\n",
       " '.5lb',\n",
       " '.60/lb',\n",
       " '.7',\n",
       " '.75',\n",
       " '.80',\n",
       " '.85',\n",
       " '.99',\n",
       " '.and',\n",
       " '.as',\n",
       " '.at',\n",
       " '.com',\n",
       " '.i',\n",
       " '.noise',\n",
       " '.our',\n",
       " '.the',\n",
       " '/',\n",
       " '//albertamainst.org/who-we-are/supporter/',\n",
       " '//alliancetheatre.org/',\n",
       " '//bit.ly/2jwjdo4',\n",
       " '//data.whicdn.com/images/6953435/tumblr_lg89ewt3us1qc9ba8o1_500_thumb.jpg',\n",
       " '//eatplaylaugh.org/2013/06/30/weekend-in-review/',\n",
       " '//en.wikipedia.org/wiki/kava',\n",
       " '//friendsofriverplacetrail.com/',\n",
       " '//is.gd/hvfjb6',\n",
       " '//pbs.twimg.com/profile_images/489219312893181952/wh_lsv_3_400x400.jpeg',\n",
       " '//secure.oxfamamerica.org/site/spageserver',\n",
       " '//tastychomps.blogspot.com/2009/09/new-orleans-cajun-seafood-pine-hills.html',\n",
       " '//traditionalchristianity.files.wordpress.com/2012/06/seurat-a-sunday-afternoon-on-the-island-of-la-grande-jatte.jpg',\n",
       " '//www.alcoholaficionados.com/',\n",
       " '//www.audubonportland.org/local-birding/swiftwatch',\n",
       " '//www.austinymca.org/free_pass.php',\n",
       " '//www.bostonappliance.net/products/electrolux/eifls60jiw.html',\n",
       " '//www.bostonappliance.net/products/electrolux/eimgd60jiw.html',\n",
       " '//www.cupcakejones.net/menu.html',\n",
       " '//www.ghoulgallery.com/scarecrow.htm',\n",
       " '//www.ifc.com/portlandia',\n",
       " '//www.juicelandaustin.com/menu-juices',\n",
       " '//www.lonesomespizza.com/west/menu.html',\n",
       " '//www.mdjonline.com/news/driving-range-entertainment-venue-eyed-for-smyrna-area/article_d367ee86-3da2-11e6-a4ca-4b69d93fd369.html',\n",
       " '//www.oregonhumane.org',\n",
       " '//www.oregonlive.com/portland/index.ssf/2010/08/portland_lemonade_stand_runs_i.html',\n",
       " '//www.patriotledger.com/archive/x410021444',\n",
       " '//www.pickathon.com/info.php',\n",
       " '//www.sadhanastudios.com/freeclass.htm',\n",
       " '//www.thecrossingsaustin.com/workshops/daypass.php',\n",
       " '//www.trimet.org/maps/railsystem.htm',\n",
       " '//www.wweek.com/portland/article-21961-the_secret_of_yummy_garden.html',\n",
       " '//www.yelp.ca/biz/bruce-eyewear-vancouver',\n",
       " '//www.yelp.ca/biz/dog-haus-pasadena',\n",
       " '//www.yelp.ca/biz/jonker-street-restaurant-vancouver',\n",
       " '//www.yelp.ca/biz/logitech-canada-mississauga',\n",
       " '//www.yelp.ca/biz/silk-road-aromatherapy-and-tea-company-victoria',\n",
       " '//www.yelp.ca/biz_photos/a7ybnjsjusg5anfdm9zmyg',\n",
       " '//www.yelp.ca/biz_photos/gduw6mpguuzbqnhpa_9qda',\n",
       " '//www.yelp.ca/biz_photos/okwmffl3q-brh9ohaiqalq',\n",
       " '//www.yelp.ca/biz_photos/sweet-art-bakery-north-vancouver',\n",
       " '//www.yelp.com/biz/alcohol-aficionados-dranksgiving-uye-austin',\n",
       " '//www.yelp.com/biz/boo-to-you-parade-orlando',\n",
       " '//www.yelp.com/biz/hallow-wishes-nighttime-spectacular-orlando',\n",
       " '//www.yelp.com/biz/john-f-kennedy-hyannis-museum-hyannis',\n",
       " '//www.yelp.com/biz/longhorn-steakhouse-orlando-3',\n",
       " '//www.yelp.com/biz/m-restaurant-and-bar-columbus',\n",
       " '//www.yelp.com/biz/micheles-chocolate-truffles-clackamas',\n",
       " '//www.yelp.com/biz/osteens-restaurant-saint-augustine',\n",
       " '//www.yelp.com/biz/portland-japanese-garden-portland-2',\n",
       " '//www.yelp.com/biz/rogue-ales-public-house-portland',\n",
       " '//www.yelp.com/biz/villains-mix-and-mingle-live-on-stage-orlando',\n",
       " '//www.yelp.com/biz/washington-park-portland',\n",
       " '//www.yelp.com/biz_photos/beaches-restaurant-and-bar-vancouver-2',\n",
       " '//www.yelp.com/biz_photos/mcmenamins-pubs-portland-3',\n",
       " '//www.yelp.com/biz_photos/ox-portland',\n",
       " '//www.yelp.com/collection/3oo1cec6shsewk5zznlw8q',\n",
       " '//www.yelp.com/user_details_review_search',\n",
       " '//www.youtube.com/watch',\n",
       " '/________________',\n",
       " '/airquotes',\n",
       " '/awol',\n",
       " '/bar',\n",
       " '/debit',\n",
       " '/giggle',\n",
       " '/local',\n",
       " '/sarcasm',\n",
       " '0',\n",
       " '0.',\n",
       " '0.001',\n",
       " '0.40',\n",
       " '0.45',\n",
       " '0.5',\n",
       " '0.50',\n",
       " '0.60',\n",
       " '0.75',\n",
       " '0.85',\n",
       " '0.99',\n",
       " '01-23-2014',\n",
       " '01/17/08',\n",
       " '01/23/16',\n",
       " '01/27/08',\n",
       " '01/29/2008',\n",
       " '02',\n",
       " '02138',\n",
       " '03',\n",
       " '07',\n",
       " '07/19',\n",
       " '08/27/16',\n",
       " '09/10',\n",
       " '1',\n",
       " '1,000',\n",
       " '1,000+',\n",
       " '1,000,389',\n",
       " '1,000.00',\n",
       " '1,100',\n",
       " '1,160',\n",
       " '1,2',\n",
       " '1,200',\n",
       " '1,300',\n",
       " '1,417',\n",
       " '1,500',\n",
       " '1,700',\n",
       " '1,850',\n",
       " '1-10',\n",
       " '1-10.',\n",
       " '1-2',\n",
       " '1-5',\n",
       " '1-bite',\n",
       " '1-star',\n",
       " '1-topping',\n",
       " '1.',\n",
       " '1.00',\n",
       " '1.00/donut',\n",
       " '1.10',\n",
       " '1.19',\n",
       " '1.2',\n",
       " '1.20-',\n",
       " '1.25',\n",
       " '1.25-',\n",
       " '1.35',\n",
       " '1.35/l',\n",
       " '1.49',\n",
       " '1.5',\n",
       " '1.5-2',\n",
       " '1.50',\n",
       " '1.50/l',\n",
       " '1.59',\n",
       " '1.5l',\n",
       " '1.60',\n",
       " '1.7',\n",
       " '1.75',\n",
       " '1.8',\n",
       " '1.85',\n",
       " '1.9',\n",
       " '1.95',\n",
       " '1.99',\n",
       " '1.99/lb',\n",
       " '1.like/recommend',\n",
       " '1/10',\n",
       " '1/10th',\n",
       " '1/12/2018',\n",
       " '1/13',\n",
       " '1/17',\n",
       " '1/2',\n",
       " '1/2-acre',\n",
       " '1/2/16',\n",
       " '1/20',\n",
       " '1/27',\n",
       " '1/3',\n",
       " '1/3rd',\n",
       " '1/4',\n",
       " '1/4lb',\n",
       " '1/4th',\n",
       " '1/5',\n",
       " '1/5/2018',\n",
       " '1/6',\n",
       " '1/8',\n",
       " '10',\n",
       " '10+',\n",
       " '10,000',\n",
       " '10,000th',\n",
       " '10-',\n",
       " '10-11',\n",
       " '10-12',\n",
       " '10-13',\n",
       " '10-15',\n",
       " '10-15min',\n",
       " '10-15ppl',\n",
       " '10-16-17.',\n",
       " '10-30',\n",
       " '10-45',\n",
       " '10-5',\n",
       " '10-5pm',\n",
       " '10-day',\n",
       " '10-gallon',\n",
       " '10-minute',\n",
       " '10-pc',\n",
       " '10-second',\n",
       " '10-something',\n",
       " '10-year',\n",
       " '10-year-old',\n",
       " '10.',\n",
       " '10.00',\n",
       " '10.25',\n",
       " '10.50',\n",
       " '10/10',\n",
       " '10/2/15-',\n",
       " '10/2014',\n",
       " '10/6/15',\n",
       " '10/day',\n",
       " '10/lb',\n",
       " '10/month',\n",
       " '10/person/hour',\n",
       " '100',\n",
       " '100+',\n",
       " '100,000',\n",
       " '100-',\n",
       " '100.',\n",
       " '100.00',\n",
       " '100.30',\n",
       " '100/mo',\n",
       " '100/night',\n",
       " '1000',\n",
       " '1000-1099',\n",
       " '10000',\n",
       " '1000x',\n",
       " '100th',\n",
       " '100x',\n",
       " '101',\n",
       " '101.',\n",
       " '1010.',\n",
       " '10180',\n",
       " '102',\n",
       " '1029',\n",
       " '1030',\n",
       " '1030th',\n",
       " '103rd',\n",
       " '104',\n",
       " '105',\n",
       " '1053',\n",
       " '106',\n",
       " '106/2017',\n",
       " '107',\n",
       " '108',\n",
       " '108.',\n",
       " '109',\n",
       " '1099',\n",
       " '10:00',\n",
       " '10:00.',\n",
       " '10:00pm',\n",
       " '10:10am',\n",
       " '10:15',\n",
       " '10:15am',\n",
       " '10:15pm',\n",
       " '10:25',\n",
       " '10:30',\n",
       " '10:30.',\n",
       " '10:30am',\n",
       " '10:30amish',\n",
       " '10:30ish',\n",
       " '10:30pm',\n",
       " '10:40',\n",
       " '10:45',\n",
       " '10:45.',\n",
       " '10:50',\n",
       " '10:57',\n",
       " '10am',\n",
       " '10inch',\n",
       " '10ish',\n",
       " '10k',\n",
       " '10min',\n",
       " '10mins',\n",
       " '10minutes',\n",
       " '10oz',\n",
       " '10pm',\n",
       " '10th',\n",
       " '10x',\n",
       " '11',\n",
       " '11-',\n",
       " '11-12',\n",
       " '11-15-17',\n",
       " '11-3',\n",
       " '11-9-17',\n",
       " '11-month',\n",
       " '11.',\n",
       " '11.25',\n",
       " '11.30',\n",
       " '11.50',\n",
       " '11.75',\n",
       " '11.95',\n",
       " '11.95+tax',\n",
       " '11.95.',\n",
       " '11.99',\n",
       " '11/03/2020',\n",
       " '11/12/11-',\n",
       " '11/2013',\n",
       " '11/24/14',\n",
       " '11/9/19',\n",
       " '11/glass',\n",
       " '110',\n",
       " '1100',\n",
       " '1111th',\n",
       " '112',\n",
       " '11276',\n",
       " '113',\n",
       " '1130',\n",
       " '114',\n",
       " '115',\n",
       " '1150th',\n",
       " '116,000',\n",
       " '117',\n",
       " '118',\n",
       " '119',\n",
       " '1199',\n",
       " '11:00',\n",
       " '11:11pm',\n",
       " '11:15',\n",
       " '11:15am',\n",
       " '11:20',\n",
       " '11:25',\n",
       " '11:30',\n",
       " '11:30-1:30.',\n",
       " '11:30.',\n",
       " '11:30am',\n",
       " '11:30pm',\n",
       " '11:45',\n",
       " '11:48',\n",
       " '11:59',\n",
       " '11a',\n",
       " '11am',\n",
       " '11am-10pm',\n",
       " '11am-11pm',\n",
       " '11pm',\n",
       " '11pm-1am',\n",
       " '11th',\n",
       " '12',\n",
       " '12+',\n",
       " '12-',\n",
       " '12-14',\n",
       " '12-15',\n",
       " '12-30',\n",
       " '12-4',\n",
       " '12-5',\n",
       " '12-packs',\n",
       " '12-per-box',\n",
       " '12-roll',\n",
       " '12-top',\n",
       " '12.',\n",
       " '12.00',\n",
       " '12.25',\n",
       " '12.5',\n",
       " '12.50',\n",
       " '12.50-',\n",
       " '12.95',\n",
       " '12.99',\n",
       " '12/18',\n",
       " '12/23/2017',\n",
       " '12/24',\n",
       " '12/27',\n",
       " '12/28/09',\n",
       " '12/365',\n",
       " '120',\n",
       " '120+',\n",
       " '120-year-old',\n",
       " '1200',\n",
       " '120k',\n",
       " '122.',\n",
       " '1230',\n",
       " '12432543',\n",
       " '125',\n",
       " '125+',\n",
       " '125.00',\n",
       " '126/2012',\n",
       " '12:00',\n",
       " '12:00.',\n",
       " '12:10hrs',\n",
       " '12:15',\n",
       " '12:30',\n",
       " '12:30am',\n",
       " '12:30pm',\n",
       " '12:45',\n",
       " '12:45.',\n",
       " '12:45pm',\n",
       " '12:50pm',\n",
       " '12am',\n",
       " '12amp',\n",
       " '12ish',\n",
       " '12oz',\n",
       " '12pm',\n",
       " '12th',\n",
       " '13',\n",
       " '13-',\n",
       " '13-14',\n",
       " '13-something',\n",
       " '13.',\n",
       " '13.00',\n",
       " '13.43',\n",
       " '13.50',\n",
       " '13.75',\n",
       " '13.95',\n",
       " '13/adult',\n",
       " '130',\n",
       " '13000',\n",
       " '131',\n",
       " '135',\n",
       " '136,00',\n",
       " '136.00',\n",
       " '1369',\n",
       " '137',\n",
       " '13th',\n",
       " '13x',\n",
       " '14',\n",
       " '14-year-old',\n",
       " '14.00',\n",
       " '14.50',\n",
       " '14.95',\n",
       " '14.99',\n",
       " '140',\n",
       " '1400',\n",
       " '145',\n",
       " '149.',\n",
       " '15',\n",
       " '15+',\n",
       " '15+minutes',\n",
       " '15-',\n",
       " '15-17',\n",
       " '15-20',\n",
       " '15-20minutes',\n",
       " '15-25',\n",
       " '15-30',\n",
       " '15-31',\n",
       " '15-31st',\n",
       " '15-32',\n",
       " '15-35min',\n",
       " '15-minute',\n",
       " '15.',\n",
       " '15.00',\n",
       " '15.45',\n",
       " '15.95',\n",
       " '15/5',\n",
       " '15/class',\n",
       " '150',\n",
       " '150+',\n",
       " '150-acre',\n",
       " '150/100',\n",
       " '1500',\n",
       " '1500ish',\n",
       " '151',\n",
       " '152',\n",
       " '152m',\n",
       " '1546',\n",
       " '156',\n",
       " '1580th',\n",
       " '1585',\n",
       " '15f',\n",
       " '15ft',\n",
       " '15ish',\n",
       " '15min',\n",
       " '15minutes',\n",
       " '15mph',\n",
       " '15th',\n",
       " '16',\n",
       " '16-17',\n",
       " '16-4=12',\n",
       " '16.',\n",
       " '16.00',\n",
       " '16.99',\n",
       " '160',\n",
       " '161.35',\n",
       " '164th',\n",
       " '165',\n",
       " '1694',\n",
       " '16hr',\n",
       " '16k',\n",
       " '16oz',\n",
       " '16th',\n",
       " '16th-nw',\n",
       " '17',\n",
       " '17,000',\n",
       " '17.',\n",
       " '17.5',\n",
       " '17/92',\n",
       " '170',\n",
       " '170/mo',\n",
       " '1700',\n",
       " '171',\n",
       " '1735',\n",
       " '175',\n",
       " '1766',\n",
       " '178',\n",
       " '17th',\n",
       " '18',\n",
       " '18+',\n",
       " ...]"
      ]
     },
     "execution_count": 212,
     "metadata": {},
     "output_type": "execute_result"
    }
   ],
   "source": [
    "words_tfidf"
   ]
  },
  {
   "cell_type": "code",
   "execution_count": 216,
   "metadata": {},
   "outputs": [
    {
     "data": {
      "text/plain": [
       "0.0"
      ]
     },
     "execution_count": 216,
     "metadata": {},
     "output_type": "execute_result"
    }
   ],
   "source": [
    "tfidf_vectorized[0, words_tfidf.index('blast')]"
   ]
  },
  {
   "cell_type": "code",
   "execution_count": 1,
   "metadata": {},
   "outputs": [],
   "source": [
    "# N-grams\n",
    "# bi-grams and tri-grams\n"
   ]
  },
  {
   "cell_type": "code",
   "execution_count": null,
   "metadata": {},
   "outputs": [],
   "source": [
    "# latent semantic analysis - capstone 3\n"
   ]
  },
  {
   "cell_type": "markdown",
   "metadata": {},
   "source": [
    "## Exploratory Data Analysis ##"
   ]
  },
  {
   "cell_type": "code",
   "execution_count": null,
   "metadata": {},
   "outputs": [],
   "source": []
  },
  {
   "cell_type": "markdown",
   "metadata": {},
   "source": [
    "## Modeling ##"
   ]
  },
  {
   "cell_type": "code",
   "execution_count": 22,
   "metadata": {},
   "outputs": [],
   "source": [
    "# baseline model on top of bag-of-words\n",
    "\n",
    "# split into train and test sets\n",
    "\n",
    "from sklearn.model_selection import train_test_split\n",
    "\n",
    "def split_data(X, y, test_size=0.2):\n",
    "    '''Performs a train-test split on the X and y data, returning:\n",
    "    X_train, X_test, y_train, y_test in that order.\n",
    "    default split should be 80%-20%\n",
    "    '''\n",
    "    X_train, X_test, y_train, y_test = train_test_split(X, y, test_size=test_size)\n",
    "    return X_train, X_test, y_train, y_test\n"
   ]
  },
  {
   "cell_type": "code",
   "execution_count": 57,
   "metadata": {},
   "outputs": [],
   "source": [
    "X_train, X_test, y_train, y_test = split_data(toy['text'], toy['funny or not'], test_size = 0.2)"
   ]
  },
  {
   "cell_type": "code",
   "execution_count": 213,
   "metadata": {},
   "outputs": [],
   "source": [
    "tfidf = TfidfVectorizer(max_features = 3000, sublinear_tf=True, min_df=5, norm='l2', encoding='latin-1', ngram_range=(1, 2))\n",
    "#features = tfidf.fit_transform(toy_df.text).toarray()\n",
    "\n",
    "# try max features 3000, 10000 etc. to see if improving\n",
    "# n-grams: 1, 2, 3\n",
    "# stopwords \n",
    "# stemming, lemma etc.\n",
    "\n",
    "# tfidf_vect = TfidfVectorizer(tokenizer=tokenize)\n",
    "\n"
   ]
  },
  {
   "cell_type": "code",
   "execution_count": 215,
   "metadata": {
    "scrolled": false
   },
   "outputs": [],
   "source": [
    "## look at n-grams by counting length of each 'word'"
   ]
  },
  {
   "cell_type": "code",
   "execution_count": 216,
   "metadata": {},
   "outputs": [],
   "source": [
    "X_train_tfidf = tfidf.fit_transform(X_train)"
   ]
  },
  {
   "cell_type": "code",
   "execution_count": 217,
   "metadata": {},
   "outputs": [],
   "source": [
    "X_test_tfidf = tfidf.transform(X_test)"
   ]
  },
  {
   "cell_type": "code",
   "execution_count": 270,
   "metadata": {},
   "outputs": [
    {
     "data": {
      "text/plain": [
       "((16000, 3000), (4000, 3000))"
      ]
     },
     "execution_count": 270,
     "metadata": {},
     "output_type": "execute_result"
    }
   ],
   "source": [
    "X_train_tfidf.shape, X_test_tfidf.shape"
   ]
  },
  {
   "cell_type": "code",
   "execution_count": 219,
   "metadata": {},
   "outputs": [],
   "source": [
    "words = tfidf.get_feature_names()\n",
    "\n",
    "# list of vocabulary/features"
   ]
  },
  {
   "cell_type": "code",
   "execution_count": 263,
   "metadata": {},
   "outputs": [
    {
     "data": {
      "text/plain": [
       "3000"
      ]
     },
     "execution_count": 263,
     "metadata": {},
     "output_type": "execute_result"
    }
   ],
   "source": [
    "len(words)"
   ]
  },
  {
   "cell_type": "markdown",
   "metadata": {},
   "source": [
    "### Logistic Regression ###"
   ]
  },
  {
   "cell_type": "code",
   "execution_count": 338,
   "metadata": {},
   "outputs": [],
   "source": [
    "# logistic regression\n",
    "# toy data\n",
    "\n",
    "from sklearn.linear_model import LogisticRegression, LogisticRegressionCV\n",
    "from sklearn.model_selection import GridSearchCV, cross_val_score, cross_val_predict\n",
    "from sklearn.metrics import accuracy_score\n",
    "\n",
    "lr = LogisticRegression(random_state=0)\n",
    "lr.fit(X_train_tfidf, y_train)\n",
    "y_pred = lr.predict(X_test_tfidf)\n",
    "y_proba = lr.predict_proba(X_test_tfidf)[:,1]\n"
   ]
  },
  {
   "cell_type": "code",
   "execution_count": 339,
   "metadata": {},
   "outputs": [
    {
     "data": {
      "text/plain": [
       "0.804625"
      ]
     },
     "execution_count": 339,
     "metadata": {},
     "output_type": "execute_result"
    }
   ],
   "source": [
    "lr.score(X_train_tfidf, y_train)"
   ]
  },
  {
   "cell_type": "code",
   "execution_count": 340,
   "metadata": {},
   "outputs": [
    {
     "name": "stdout",
     "output_type": "stream",
     "text": [
      "Accuracy: 0.74675\n",
      "Precision: 0.7442326980942828\n",
      "Recall: 0.7468545546049321\n"
     ]
    }
   ],
   "source": [
    "print(\"Accuracy:\", accuracy_score(y_test, y_pred))\n",
    "print(\"Precision:\", precision_score(y_test, y_pred))\n",
    "print(\"Recall:\",recall_score(y_test, y_pred))"
   ]
  },
  {
   "cell_type": "code",
   "execution_count": 159,
   "metadata": {},
   "outputs": [
    {
     "data": {
      "text/plain": [
       "4000"
      ]
     },
     "execution_count": 159,
     "metadata": {},
     "output_type": "execute_result"
    }
   ],
   "source": [
    "len(y_proba)"
   ]
  },
  {
   "cell_type": "code",
   "execution_count": 212,
   "metadata": {},
   "outputs": [
    {
     "name": "stdout",
     "output_type": "stream",
     "text": [
      "[0.76209224 0.75642228 0.75098444]\n"
     ]
    }
   ],
   "source": [
    "# Cross validation\n",
    "print(cross_val_score(lr, X_train_tfidf, y_train, cv=3))"
   ]
  },
  {
   "cell_type": "code",
   "execution_count": 334,
   "metadata": {},
   "outputs": [
    {
     "data": {
      "text/plain": [
       "array([[1503,  510],\n",
       "       [ 503, 1484]])"
      ]
     },
     "execution_count": 334,
     "metadata": {},
     "output_type": "execute_result"
    }
   ],
   "source": [
    "# confusion matrix\n",
    "\n",
    "conf_mat = confusion_matrix(y_test, y_pred)\n",
    "conf_mat\n",
    "# true positive, false negative\n",
    "# false positive, true negative"
   ]
  },
  {
   "cell_type": "code",
   "execution_count": 333,
   "metadata": {},
   "outputs": [
    {
     "name": "stdout",
     "output_type": "stream",
     "text": [
      "0.8229735206312466\n"
     ]
    },
    {
     "data": {
      "image/png": "[encoded data removed]",
      "text/plain": [
       "<Figure size 576x576 with 1 Axes>"
      ]
     },
     "metadata": {
      "needs_background": "light"
     },
     "output_type": "display_data"
    }
   ],
   "source": [
    "# ROC curve\n",
    "fig, ax = plt.subplots(figsize = (8,8))\n",
    "\n",
    "fpr, tpr, threshold = roc_curve(y_test, y_proba)\n",
    "plot_ROC(ax, fpr, tpr)\n",
    "print(auc(fpr, tpr))"
   ]
  },
  {
   "cell_type": "code",
   "execution_count": 177,
   "metadata": {},
   "outputs": [],
   "source": [
    "## run logistic regression on full dataset\n",
    "\n",
    "X_train_full, X_test_full, y_train_full, y_test_full = train_test_split(new_df['text'], new_df['funny or not'], test_size=0.2)"
   ]
  },
  {
   "cell_type": "code",
   "execution_count": 255,
   "metadata": {},
   "outputs": [],
   "source": [
    "# vectorize train data/transform test data\n",
    "\n",
    "tfidfvect = TfidfVectorizer(max_features = 3000, sublinear_tf=True, min_df=5, norm='l2', encoding='latin-1', ngram_range=(1, 2))\n",
    "X_train_full_tfidf = tfidfvect.fit_transform(X_train_full)\n",
    "X_test_full_tfidf = tfidfvect.transform(X_test_full)\n",
    "\n",
    "# get vocab\n",
    "words_full = tfidfvect.get_feature_names()\n"
   ]
  },
  {
   "cell_type": "code",
   "execution_count": 256,
   "metadata": {},
   "outputs": [
    {
     "data": {
      "text/plain": [
       "3000"
      ]
     },
     "execution_count": 256,
     "metadata": {},
     "output_type": "execute_result"
    }
   ],
   "source": [
    "len(words_full)"
   ]
  },
  {
   "cell_type": "code",
   "execution_count": 257,
   "metadata": {},
   "outputs": [
    {
     "data": {
      "text/plain": [
       "(160000, 3000)"
      ]
     },
     "execution_count": 257,
     "metadata": {},
     "output_type": "execute_result"
    }
   ],
   "source": [
    "X_train_full_tfidf.shape"
   ]
  },
  {
   "cell_type": "code",
   "execution_count": 258,
   "metadata": {},
   "outputs": [],
   "source": [
    "lr_full = LogisticRegression(random_state=0, max_iter=500)\n",
    "lr_full.fit(X_train_full_tfidf, y_train_full)\n",
    "y_predfull = lr_full.predict(X_test_full_tfidf)\n",
    "y_probafull = lr_full.predict_proba(X_test_full_tfidf)[:,1]\n"
   ]
  },
  {
   "cell_type": "code",
   "execution_count": 299,
   "metadata": {},
   "outputs": [
    {
     "name": "stdout",
     "output_type": "stream",
     "text": [
      "Accuracy: 0.760825\n",
      "Precision: 0.7664084794129638\n",
      "Recall: 0.7511361933776157\n"
     ]
    }
   ],
   "source": [
    "print(\"Accuracy:\", accuracy_score(y_test_full, y_predfull))\n",
    "print(\"Precision:\", precision_score(y_test_full, y_predfull))\n",
    "print(\"Recall:\",recall_score(y_test_full, y_predfull))"
   ]
  },
  {
   "cell_type": "code",
   "execution_count": 134,
   "metadata": {},
   "outputs": [],
   "source": [
    "def plot_ROC(ax, fpr, tpr):\n",
    "    ax.plot([1]+list(fpr), [1]+list(tpr), label=\"ROC\")\n",
    "    ax.plot([0,1],[0,1], 'k', label=\"random\")\n",
    "    ax.set_xlabel('fpr')\n",
    "    ax.set_xlabel('fpr')\n",
    "    ax.set_ylabel('tpr')\n",
    "    ax.set_title('ROC Curve')\n",
    "    ax.legend()"
   ]
  },
  {
   "cell_type": "code",
   "execution_count": 331,
   "metadata": {},
   "outputs": [
    {
     "name": "stdout",
     "output_type": "stream",
     "text": [
      "0.8395027177423442\n"
     ]
    },
    {
     "data": {
      "image/png": "[encoded data removed]",
      "text/plain": [
       "<Figure size 576x576 with 1 Axes>"
      ]
     },
     "metadata": {
      "needs_background": "light"
     },
     "output_type": "display_data"
    }
   ],
   "source": [
    "fig, ax = plt.subplots(figsize = (8,8))\n",
    "\n",
    "fpr, tpr, threshold = roc_curve(y_test_full, y_probafull)\n",
    "plot_ROC(ax, fpr, tpr)\n",
    "print(auc(fpr, tpr))"
   ]
  },
  {
   "cell_type": "code",
   "execution_count": 148,
   "metadata": {},
   "outputs": [
    {
     "data": {
      "text/plain": [
       "0.750624687656172"
      ]
     },
     "execution_count": 148,
     "metadata": {},
     "output_type": "execute_result"
    }
   ],
   "source": [
    "conf_mat[0][0]/(conf_mat[0][0] + conf_mat[1][0]) # precision"
   ]
  },
  {
   "cell_type": "markdown",
   "metadata": {},
   "source": [
    "### Random Forest ###"
   ]
  },
  {
   "cell_type": "code",
   "execution_count": 290,
   "metadata": {},
   "outputs": [],
   "source": [
    "from sklearn.ensemble import RandomForestClassifier\n",
    "from sklearn.metrics import log_loss, make_scorer\n",
    "from sklearn.model_selection import cross_val_score, train_test_split, GridSearchCV\n",
    "\n",
    "rf = RandomForestClassifier(n_estimators = 1000, max_depth = 30, max_features = 'auto', random_state=0) # play around with diff depths\n",
    "# the more trees the better\n",
    "\n",
    "rf.fit(X_train_tfidf, y_train)\n",
    "y_pred_rf = rf.predict(X_test_tfidf)\n",
    "y_proba_rf = rf.predict_proba(X_test_tfidf)[:,1]\n",
    "\n",
    "#precisions = cross_val_score(rf, features, labels, scoring='precision', cv=5)\n"
   ]
  },
  {
   "cell_type": "code",
   "execution_count": 291,
   "metadata": {},
   "outputs": [
    {
     "name": "stdout",
     "output_type": "stream",
     "text": [
      "log loss = 0.5502932163493237\n",
      "accuracy = 0.733\n"
     ]
    }
   ],
   "source": [
    "print(f\"log loss = {log_loss(y_test, y_proba_rf)}\")\n",
    "print(f\"accuracy = {rf.score(X_test_tfidf, y_test)}\")"
   ]
  },
  {
   "cell_type": "code",
   "execution_count": 292,
   "metadata": {},
   "outputs": [
    {
     "name": "stdout",
     "output_type": "stream",
     "text": [
      "Accuracy: 0.733\n",
      "Precision: 0.7312531454453951\n",
      "Recall: 0.7312531454453951\n"
     ]
    }
   ],
   "source": [
    "print(\"Accuracy:\", accuracy_score(y_test, y_pred_rf))\n",
    "print(\"Precision:\", precision_score(y_test, y_pred_rf))\n",
    "print(\"Recall:\", recall_score(y_test, y_pred_rf))"
   ]
  },
  {
   "cell_type": "code",
   "execution_count": 294,
   "metadata": {},
   "outputs": [
    {
     "data": {
      "text/plain": [
       "array([[1479,  534],\n",
       "       [ 534, 1453]])"
      ]
     },
     "execution_count": 294,
     "metadata": {},
     "output_type": "execute_result"
    }
   ],
   "source": [
    "conf_mat = confusion_matrix(y_test, y_pred_rf)\n",
    "conf_mat"
   ]
  },
  {
   "cell_type": "code",
   "execution_count": 330,
   "metadata": {},
   "outputs": [
    {
     "name": "stdout",
     "output_type": "stream",
     "text": [
      "0.8020451364070131\n"
     ]
    },
    {
     "data": {
      "image/png": "[encoded data removed]",
      "text/plain": [
       "<Figure size 576x576 with 1 Axes>"
      ]
     },
     "metadata": {
      "needs_background": "light"
     },
     "output_type": "display_data"
    }
   ],
   "source": [
    "fig, ax = plt.subplots(figsize = (8,8))\n",
    "\n",
    "fpr, tpr, threshold = roc_curve(y_test, y_proba_rf)\n",
    "plot_ROC(ax, fpr, tpr)\n",
    "print(auc(fpr, tpr))"
   ]
  },
  {
   "cell_type": "markdown",
   "metadata": {},
   "source": [
    "### Gradient Boosted Logistic Regression ###"
   ]
  },
  {
   "cell_type": "code",
   "execution_count": null,
   "metadata": {},
   "outputs": [],
   "source": [
    "from sklearn.ensemble import GradientBoostingClassifier\n",
    "# massive predictive power, but complex/hard to interpret\n",
    "\n",
    "# Varying the tree depth rate\n",
    "N_ESTIMATORS = 1000\n",
    "N_FOLDS = 10\n",
    "\n",
    "TREE_DEPTHS = [1, 3, 5, 7, 9]\n",
    "N_TREE_DEPTHS = len(tree_depths)\n",
    "\n",
    "test_scores = np.zeros((N_FOLDS, N_TREE_DEPTHS, N_ESTIMATORS))\n",
    "\n",
    "folds = KFold(n_splits=N_FOLDS, shuffle=True, random_state=1)\n",
    "\n",
    "for k, (train_idxs, test_idxs) in enumerate(folds.split(X)):\n",
    "    X_train, y_train = X[train_idxs, :], y[train_idxs]\n",
    "    X_test, y_test = X[test_idxs, :], y[test_idxs]\n",
    "\n",
    "    models = [GradientBoostingRegressor(n_estimators=N_ESTIMATORS,\n",
    "                                        max_depth=td, learning_rate=0.01, subsample=0.5,\n",
    "                                        random_state=1)\n",
    "              for td in tree_depths]\n",
    "    for model in models:\n",
    "        model.fit(X_train, y_train)\n",
    "        \n",
    "    for i, model in enumerate(models):\n",
    "        for j, y_pred in enumerate(model.staged_predict(X_test)):\n",
    "            test_scores[k, i, j] = model.loss_(y_test, y_pred)\n",
    "        \n",
    "mean_test_scores = np.mean(test_scores, axis=0)\n",
    "os.system('say \"your program has finished\"')"
   ]
  },
  {
   "cell_type": "code",
   "execution_count": 311,
   "metadata": {},
   "outputs": [],
   "source": [
    "N_ESTIMATORS = 100\n",
    "\n",
    "gbc = GradientBoostingClassifier(learning_rate=1.0, # trade-off with n_estimators\n",
    "                                 n_estimators=N_ESTIMATORS, # boosting stages to perform, more usually better\n",
    "                                 max_depth=3, # tune for performance \n",
    "                                 max_features='auto',\n",
    "                                 random_state=0\n",
    "                                 ) \n",
    "# loss = 'deviance', which is for logistic regression with probabilistic outputs\n",
    "# 'exponential' = Adaboost algo"
   ]
  },
  {
   "cell_type": "code",
   "execution_count": 316,
   "metadata": {},
   "outputs": [],
   "source": [
    "gbc.fit(X_train_tfidf, y_train)\n",
    "y_pred_gbc = gbc.predict(X_test_tfidf)\n",
    "y_proba_gbc = gbc.predict_proba(X_test_tfidf)[:,1]\n"
   ]
  },
  {
   "cell_type": "code",
   "execution_count": 317,
   "metadata": {},
   "outputs": [
    {
     "name": "stdout",
     "output_type": "stream",
     "text": [
      "Accuracy: 0.698\n",
      "Precision: 0.6970156803237229\n",
      "Recall: 0.6935078007045797\n"
     ]
    }
   ],
   "source": [
    "print(\"Accuracy:\", accuracy_score(y_test, y_pred_gbc))\n",
    "print(\"Precision:\", precision_score(y_test, y_pred_gbc))\n",
    "print(\"Recall:\",recall_score(y_test, y_pred_gbc))"
   ]
  },
  {
   "cell_type": "code",
   "execution_count": 322,
   "metadata": {},
   "outputs": [],
   "source": [
    "# # make predictions?\n",
    "# y_proba_gbc_pred = gbc.predict_proba(X_train_tfidf)"
   ]
  },
  {
   "cell_type": "code",
   "execution_count": 325,
   "metadata": {},
   "outputs": [
    {
     "data": {
      "text/plain": [
       "array([[1414,  599],\n",
       "       [ 609, 1378]])"
      ]
     },
     "execution_count": 325,
     "metadata": {},
     "output_type": "execute_result"
    }
   ],
   "source": [
    "# confusion matrix\n",
    "\n",
    "conf_mat = confusion_matrix(y_test, y_pred_gbc)\n",
    "conf_mat\n"
   ]
  },
  {
   "cell_type": "code",
   "execution_count": 326,
   "metadata": {},
   "outputs": [
    {
     "data": {
      "text/plain": [
       "0.698961937716263"
      ]
     },
     "execution_count": 326,
     "metadata": {},
     "output_type": "execute_result"
    }
   ],
   "source": [
    "conf_mat[0][0]/(conf_mat[0][0] + conf_mat[1][0]) # precision"
   ]
  },
  {
   "cell_type": "code",
   "execution_count": 335,
   "metadata": {},
   "outputs": [
    {
     "name": "stdout",
     "output_type": "stream",
     "text": [
      "0.7625643433435062\n"
     ]
    },
    {
     "data": {
      "image/png": "[encoded data removed]",
      "text/plain": [
       "<Figure size 576x576 with 1 Axes>"
      ]
     },
     "metadata": {
      "needs_background": "light"
     },
     "output_type": "display_data"
    }
   ],
   "source": [
    "# ROC curve\n",
    "fig, ax = plt.subplots(figsize = (8,8))\n",
    "\n",
    "fpr, tpr, threshold = roc_curve(y_test, y_proba_gbc)\n",
    "plot_ROC(ax, fpr, tpr)\n",
    "print(auc(fpr, tpr))"
   ]
  },
  {
   "cell_type": "markdown",
   "metadata": {},
   "source": [
    "### SGD Logistic Regression ###"
   ]
  },
  {
   "cell_type": "code",
   "execution_count": 345,
   "metadata": {},
   "outputs": [],
   "source": [
    "sgd_lr = SGDClassifier(loss=\"log\", penalty=\"l2\", max_iter=100)\n",
    "sgd_lr.fit(X_train_tfidf, y_train)\n",
    "y_pred_sgd = gbc.predict(X_test_tfidf)\n",
    "y_proba_sgd = gbc.predict_proba(X_test_tfidf)[:,1]"
   ]
  },
  {
   "cell_type": "code",
   "execution_count": 346,
   "metadata": {},
   "outputs": [
    {
     "name": "stdout",
     "output_type": "stream",
     "text": [
      "Accuracy: 0.698\n",
      "Precision: 0.6970156803237229\n",
      "Recall: 0.6935078007045797\n"
     ]
    }
   ],
   "source": [
    "print(\"Accuracy:\", accuracy_score(y_test, y_pred_sgd))\n",
    "print(\"Precision:\", precision_score(y_test, y_pred_sgd))\n",
    "print(\"Recall:\",recall_score(y_test, y_pred_sgd))"
   ]
  },
  {
   "cell_type": "markdown",
   "metadata": {},
   "source": [
    "## Deep Learning ##"
   ]
  },
  {
   "cell_type": "code",
   "execution_count": 347,
   "metadata": {},
   "outputs": [
    {
     "ename": "ModuleNotFoundError",
     "evalue": "No module named 'tensorflow'",
     "output_type": "error",
     "traceback": [
      "\u001b[0;31m---------------------------------------------------------------------------\u001b[0m",
      "\u001b[0;31mModuleNotFoundError\u001b[0m                       Traceback (most recent call last)",
      "\u001b[0;32m<ipython-input-347-0c279502ad9e>\u001b[0m in \u001b[0;36m<module>\u001b[0;34m\u001b[0m\n\u001b[1;32m      3\u001b[0m \u001b[0;34m\u001b[0m\u001b[0m\n\u001b[1;32m      4\u001b[0m \u001b[0;31m# need keras\u001b[0m\u001b[0;34m\u001b[0m\u001b[0;34m\u001b[0m\u001b[0;34m\u001b[0m\u001b[0m\n\u001b[0;32m----> 5\u001b[0;31m \u001b[0;32mimport\u001b[0m \u001b[0mtensorflow\u001b[0m \u001b[0;32mas\u001b[0m \u001b[0mtf\u001b[0m\u001b[0;34m\u001b[0m\u001b[0;34m\u001b[0m\u001b[0m\n\u001b[0m\u001b[1;32m      6\u001b[0m \u001b[0;32mfrom\u001b[0m \u001b[0mtensorflow\u001b[0m\u001b[0;34m.\u001b[0m\u001b[0mkeras\u001b[0m \u001b[0;32mimport\u001b[0m \u001b[0mlayers\u001b[0m\u001b[0;34m\u001b[0m\u001b[0;34m\u001b[0m\u001b[0m\n",
      "\u001b[0;31mModuleNotFoundError\u001b[0m: No module named 'tensorflow'"
     ]
    }
   ],
   "source": [
    "# Feedforward Networks/Multi-layer Perceptrons on top of BOW representation\n",
    "# 25 epochs, batch size 50?\n",
    "\n",
    "# need keras\n",
    "import tensorflow as tf\n",
    "from tensorflow.keras import layers\n",
    "keras = tf.keras\n",
    "\n",
    "from tensorflow.keras.models import Sequential\n",
    "from tensorflow.keras.layers import Dense, Dropout, Activation\n",
    "from tensorflow.keras.optimizers import SGD"
   ]
  },
  {
   "cell_type": "code",
   "execution_count": null,
   "metadata": {},
   "outputs": [],
   "source": [
    "nn = Sequential()\n",
    "\n",
    "n_samples, n_feats = X_train.shape\n",
    "\n",
    "denselayer = Dense(units=1,\n",
    "                input_dim=n_feats,\n",
    "                kernel_initializer='uniform',\n",
    "                activation='sigmoid')\n",
    "\n",
    "nn.add(denselayer)\n",
    "\n",
    "nn.compile(loss='log',\n",
    "           optimizer='sgd',\n",
    "           metrics=['accuracy'])\n",
    "\n",
    "nn.add(Activation(tf.nn.relu)) #vs sigmoid?"
   ]
  },
  {
   "cell_type": "code",
   "execution_count": null,
   "metadata": {},
   "outputs": [],
   "source": [
    "nn.fit(x_train, y_train, epochs=10, batch_size=32)"
   ]
  },
  {
   "cell_type": "code",
   "execution_count": null,
   "metadata": {},
   "outputs": [],
   "source": [
    "# Convolutional Network?"
   ]
  }
 ],
 "metadata": {
  "kernelspec": {
   "display_name": "Python 3",
   "language": "python",
   "name": "python3"
  },
  "language_info": {
   "codemirror_mode": {
    "name": "ipython",
    "version": 3
   },
   "file_extension": ".py",
   "mimetype": "text/x-python",
   "name": "python",
   "nbconvert_exporter": "python",
   "pygments_lexer": "ipython3",
   "version": "3.8.5"
  }
 },
 "nbformat": 4,
 "nbformat_minor": 4
}
